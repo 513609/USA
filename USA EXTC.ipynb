{
 "cells": [
  {
   "cell_type": "markdown",
   "id": "341789a2",
   "metadata": {},
   "source": [
    "Data Loading & Preprocessing"
   ]
  },
  {
   "cell_type": "code",
   "execution_count": 1,
   "id": "8e9d7905",
   "metadata": {},
   "outputs": [
    {
     "name": "stderr",
     "output_type": "stream",
     "text": [
      "C:\\Users\\Jop Brouwer\\AppData\\Local\\Temp\\ipykernel_26836\\594605928.py:29: DtypeWarning: Columns (15) have mixed types. Specify dtype option on import or set low_memory=False.\n",
      "  df_surprise = pd.read_csv('US_economic_releases_events.csv')\n"
     ]
    },
    {
     "name": "stdout",
     "output_type": "stream",
     "text": [
      "Start Date: 1997-09-10 00:01:00, End Date: 2024-12-19 16:00:00\n"
     ]
    }
   ],
   "source": [
    "# load the ES_part_x files up to number 11 into df_es\n",
    "import numpy as np\n",
    "import pandas as pd\n",
    "df_es = pd.DataFrame()\n",
    "\n",
    "for i in range(1, 12):\n",
    "    file_name = f'ES_part_{i}.csv'\n",
    "    try:\n",
    "        df_part = pd.read_csv(file_name)\n",
    "        df_es = pd.concat([df_es, df_part], ignore_index=True)\n",
    "    except FileNotFoundError:\n",
    "        print(f\"File {file_name} not found. Skipping.\")\n",
    "\n",
    "\n",
    "# set Date column to datetime\n",
    "df_es['Date'] = pd.to_datetime(df_es['Date'], errors='coerce')\n",
    "\n",
    "# set Date as index and combine date with Time column so that it is a datetime index\n",
    "df_es['DateTime'] = pd.to_datetime(df_es['Date'].astype(str) + ' ' + df_es['Time'], errors='coerce')\n",
    "df_es.set_index('DateTime', inplace=True)\n",
    "# drop the original Date and Time columns\n",
    "df_es.drop(columns=['Date', 'Time'], inplace=True)\n",
    "# sort the index\n",
    "df_es.sort_index(inplace=True)\n",
    "\n",
    "\n",
    "# Surprise Dataframe\n",
    "# Load the Surprise dataset\n",
    "df_surprise = pd.read_csv('US_economic_releases_events.csv')\n",
    "\n",
    "df_surprise.drop(columns=['S', 'Month', 'Surv(A)', 'Surv(H)', 'Surv(L)', 'Flag', 'Country/Region', 'Day', 'C', 'Category','Subcategory', 'Period', 'Actual'], inplace=True)\n",
    "# Drop rows where surprise is NaN or -- (indicating no surprise)\n",
    "df_surprise.dropna(subset=['Surprise'], inplace=True)\n",
    "df_surprise = df_surprise[df_surprise['Surprise'] != '--']\n",
    "# remove surprise values that are NaN or 0\n",
    "df_surprise = df_surprise[df_surprise['Surprise'].notna() & (df_surprise['Surprise'] != 0)]\n",
    "# Change surprise column to numeric, coercing errors\n",
    "df_surprise['Surprise'] = pd.to_numeric(df_surprise['Surprise'], errors='coerce')\n",
    "\n",
    "# Drop rows where Time is NaN\n",
    "df_surprise.dropna(subset=['Time'], inplace=True)\n",
    "\n",
    "# Convert Unnamed: 0 column to datetime\n",
    "df_surprise['Unnamed: 0'] = pd.to_datetime(df_surprise['Unnamed: 0'], errors='coerce')\n",
    "# Combine datetime column with Time column and set as index\n",
    "df_surprise['DateTime'] = pd.to_datetime(df_surprise['Unnamed: 0'].astype(str) + ' ' + df_surprise['Time'], errors='coerce')\n",
    "df_surprise.set_index('DateTime', inplace=True)\n",
    "# Drop the original Unnamed: 0 and Time columns\n",
    "df_surprise.drop(columns=['Unnamed: 0', 'Time'], inplace=True)\n",
    "# Sort the index\n",
    "df_surprise.sort_index(inplace=True)\n",
    "\n",
    "# remove surprise values that are NaN or 0\n",
    "df_surprise = df_surprise[df_surprise['Surprise'].notna() & (df_surprise['Surprise'] != 0)]\n",
    "\n",
    "# Wincorsizing to get results between 0.5% and 99.5% percentile for Surprise values\n",
    "\n",
    "lower_bound = df_surprise['Surprise'].quantile(0.005)\n",
    "upper_bound = df_surprise['Surprise'].quantile(0.995)\n",
    "\n",
    "df_surprise = df_surprise[(df_surprise['Surprise'] >= lower_bound) & (df_surprise['Surprise'] <= upper_bound)]\n",
    "\n",
    "\n",
    "# Combining the 2 dataframes on the index\n",
    "# outer join the two DataFrames on the index\n",
    "df_combined = pd.merge(df_es, df_surprise, left_index=True, right_index=True, how='outer', suffixes=('_es', '_surprise'))\n",
    "\n",
    "# remove all rows with NaN values in Open Close / Volume - Do not take out volume, can be 0 (not necessarily a mistake)\n",
    "df_combined.dropna(subset=['Open', 'Close'], inplace=True)\n",
    "\n",
    "# Adding a column called 'Volume_L1' which is the Volume shifted by 1 day - which is the volume of the previous minute matched up with the current minute\n",
    "df_combined['Volume_L1'] = df_combined['Volume'].shift(1)\n",
    "\n",
    "# Now we create the technical explanatory variables based on literature\n",
    "\n",
    "def create_technical_features(df):\n",
    "    \"\"\"\n",
    "    Creates all technical features for a dataframe containing price/volume data\n",
    "    and three return columns (Return, Return_half, Return_double)\n",
    "    \"\"\"\n",
    "    # 1. Original Features\n",
    "    df_combined['Volume'] = df_combined['Volume']\n",
    "    df_combined['Price'] = df_combined['Open']\n",
    "\n",
    "    # 2. Simple Moving Averages (now includes all required windows)\n",
    "    ma_windows = [5, 10, 15, 20, 50, 100, 200]  # Added missing windows for crossovers\n",
    "    for window in ma_windows:\n",
    "        df[f'SMA{window}'] = df['Close'].rolling(window).mean() \n",
    "\n",
    "    # 3. Moving Average Crossovers (now all SMAs exist)\n",
    "    for window in [5, 10, 15, 20, 50, 100, 200]:\n",
    "        # No more need for existence check since we created all SMAs\n",
    "        df[f'SMA{window}Cross'] = (df['Close'] > df[f'SMA{window}']).astype(int) # 1 for above SMA, 0 for below\n",
    "\n",
    "    # 4. Consecutive Price Trends\n",
    "    trend_periods = [10, 15, 50]\n",
    "    for period in trend_periods:\n",
    "        df[f'UpDown{period}'] = np.sign(df['Close'].pct_change(period)) # 1 for up, -1 for down, NaN for no change\n",
    "\n",
    "    # Ensure we keep the original return columns\n",
    "    return_cols = ['Return', 'Return_half', 'Return_double']\n",
    "    for col in return_cols:\n",
    "        if col in df.columns:\n",
    "            df[col] = df[col]  # Maintain existing returns\n",
    "\n",
    "    return df\n",
    "\n",
    "# Example usage:\n",
    "# df_combined must contain: 'volume', 'close' columns plus the 3 return columns\n",
    "df_combined = create_technical_features(df_combined)\n",
    "\n",
    "import datetime\n",
    "import pandas as pd\n",
    "import pandas_datareader as pdr\n",
    "\n",
    "# --- 1. Set Start and End Dates, matches up with last date of df_combined ---\n",
    "start = df_combined.index.min() # Get the first date from df_combined\n",
    "end = df_combined.index.max()  # Get the last date from df_combined\n",
    "\n",
    "# print start and end\n",
    "print(f\"Start Date: {start}, End Date: {end}\")\n",
    "\n",
    "# --- 2. Get GDP Growth Data ---\n",
    "gdp_gr = pdr.DataReader('A191RL1Q225SBEA', 'fred', start, end)\n",
    "\n",
    "# Create gdp_gr_ml dataframe\n",
    "gdp_gr_ml = gdp_gr.reset_index()\n",
    "gdp_gr_ml.rename(columns={'A191RL1Q225SBEA': 'gdp_gr'}, inplace=True)\n",
    "gdp_gr_ml['DateTime'] = pd.to_datetime(gdp_gr_ml['DATE']) + pd.Timedelta(hours=23, minutes=59)\n",
    "gdp_gr_ml = gdp_gr_ml[['DateTime', 'gdp_gr']]\n",
    "\n",
    "# --- 3. Get VIX Data ---\n",
    "vix = pdr.DataReader('VIXCLS', 'fred', start, end)\n",
    "\n",
    "# Create vix_ml dataframe\n",
    "vix_ml = vix.reset_index()\n",
    "vix_ml.rename(columns={'VIXCLS': 'VIX'}, inplace=True)\n",
    "vix_ml['DateTime'] = pd.to_datetime(vix_ml['DATE']) + pd.Timedelta(hours=23, minutes=59)\n",
    "vix_ml = vix_ml[['DateTime', 'VIX']]\n",
    "\n",
    "# for both datasets set 'DateTime' as index and then drop columns\n",
    "gdp_gr_ml.set_index('DateTime', inplace=True)\n",
    "vix_ml.set_index('DateTime', inplace=True)\n",
    "# make sure sorted on datetime\n",
    "gdp_gr_ml.sort_index(inplace=True)\n",
    "vix_ml.sort_index(inplace=True)\n",
    "\n",
    "# Combine with Final Dataframe\n",
    "\n",
    "# Merge the last known GDP growth merge on index\n",
    "df_combined = pd.merge_asof(\n",
    "    df_combined,\n",
    "    gdp_gr_ml,\n",
    "    on='DateTime',\n",
    "    direction='backward'\n",
    ")\n",
    "\n",
    "# Merge the last known VIX\n",
    "df_combined = pd.merge_asof(\n",
    "    df_combined,\n",
    "    vix_ml,\n",
    "    on='DateTime',\n",
    "    direction='backward'\n",
    ")\n",
    "\n",
    "# Rename the merged columns to last_gdp_gr and last_vix\n",
    "df_combined = df_combined.rename(columns={\n",
    "    'gdp_gr': 'last_gdp_gr',\n",
    "    'VIX': 'last_vix'\n",
    "})\n",
    "\n",
    "# Set DateTime column as Index\n",
    "df_combined.set_index('DateTime', inplace=True)"
   ]
  },
  {
   "cell_type": "markdown",
   "id": "b81ec145",
   "metadata": {},
   "source": [
    "Creating Target column and Forward Return column for performance calculation"
   ]
  },
  {
   "cell_type": "code",
   "execution_count": 2,
   "id": "006081f0",
   "metadata": {},
   "outputs": [],
   "source": [
    "import pandas as pd\n",
    "import numpy as np\n",
    "\n",
    "# Assume 'df_combined' is your existing DataFrame with an 'Open' column\n",
    "# and a DateTime index.\n",
    "\n",
    "# --- Configuration ---\n",
    "# This value represents the base holding period. If your data is in minutes,\n",
    "# this would be 20 minutes.\n",
    "holding_period = 20 \n",
    "\n",
    "# Define the horizons to loop through.\n",
    "horizons = ['', '_half', '_double']\n",
    "\n",
    "# --- Main Loop to Generate All Columns ---\n",
    "for h in horizons:\n",
    "    # 1. Determine the calculation period and descriptive minute value\n",
    "    if h == '_half':\n",
    "        period = holding_period // 2\n",
    "        minutes = holding_period // 2\n",
    "    elif h == '_double':\n",
    "        period = holding_period * 2\n",
    "        minutes = holding_period * 2\n",
    "    else: # h == ''\n",
    "        period = holding_period\n",
    "        minutes = holding_period\n",
    "\n",
    "    # 2. Define the new, descriptive column names\n",
    "    return_col_name = f'Forward Return ({minutes} min)'\n",
    "    target_col_name = f'Target Signal ({minutes} min)'\n",
    "\n",
    "    # 3. Calculate the base forward return for the current horizon\n",
    "    # This calculates the return based on the 'Open' price, just like the original\n",
    "    # script did. It then shifts the future value back to the current row.\n",
    "    base_return = df_combined['Close'].pct_change(periods=period).shift(-period)\n",
    "\n",
    "    # 4. Create the Forward Return column\n",
    "    # This is the actual future return, used for performance calculation.\n",
    "    df_combined[return_col_name] = base_return\n",
    "    \n",
    "    # 5. Create the categorical \"Target Signal\" column\n",
    "    # This is the target variable (y) the model will learn to predict.\n",
    "    # 0 = Hold, 1 = Buy (positive future return), 2 = Sell (negative future return)\n",
    "    cond_buy = df_combined[return_col_name] > 0\n",
    "    cond_sell = df_combined[return_col_name] < 0\n",
    "\n",
    "    df_combined[target_col_name] = 0  # Default to Hold\n",
    "    df_combined.loc[cond_buy, target_col_name] = 1\n",
    "    df_combined.loc[cond_sell, target_col_name] = 2"
   ]
  },
  {
   "cell_type": "markdown",
   "id": "def2bb00",
   "metadata": {},
   "source": [
    "Create feature column for each Ticker"
   ]
  },
  {
   "cell_type": "code",
   "execution_count": 3,
   "id": "412ed680",
   "metadata": {},
   "outputs": [
    {
     "name": "stdout",
     "output_type": "stream",
     "text": [
      "Step 1: Filtering for rows with surprise events...\n",
      "Found 23068 rows with surprise events to pivot.\n",
      "\n",
      "Step 2: Pivoting the data...\n",
      "Pivoting complete.\n",
      "\n",
      "--- Event DataFrame Sample ---\n",
      "Ticker               ACNFCOMF Index_Surprise  ADP CHNG Index_Surprise  \\\n",
      "DateTime                                                                \n",
      "1997-12-23 07:30:00                      0.0                      0.0   \n",
      "1998-03-26 07:30:00                      0.0                      0.0   \n",
      "1998-04-30 07:30:00                      0.0                      0.0   \n",
      "1998-06-01 09:00:00                      0.0                      0.0   \n",
      "1998-06-02 09:00:00                      0.0                      0.0   \n",
      "\n",
      "Ticker               AHE MOM% Index_Surprise  AHE YOY% Index_Surprise  \\\n",
      "DateTime                                                                \n",
      "1997-12-23 07:30:00                      0.0                      0.0   \n",
      "1998-03-26 07:30:00                      0.0                      0.0   \n",
      "1998-04-30 07:30:00                      0.0                      0.0   \n",
      "1998-06-01 09:00:00                      0.0                      0.0   \n",
      "1998-06-02 09:00:00                      0.0                      0.0   \n",
      "\n",
      "Ticker               AMSPPACE Index_Surprise  AWH TOTL Index_Surprise  \\\n",
      "DateTime                                                                \n",
      "1997-12-23 07:30:00                      0.0                      0.0   \n",
      "1998-03-26 07:30:00                      0.0                      0.0   \n",
      "1998-04-30 07:30:00                      0.0                      0.0   \n",
      "1998-06-01 09:00:00                      0.0                      0.0   \n",
      "1998-06-02 09:00:00                      0.0                      0.0   \n",
      "\n",
      "Ticker               CFNAI Index_Surprise  CGNOXAI% Index_Surprise  \\\n",
      "DateTime                                                             \n",
      "1997-12-23 07:30:00                   0.0                      0.0   \n",
      "1998-03-26 07:30:00                   0.0                      0.0   \n",
      "1998-04-30 07:30:00                   0.0                      0.0   \n",
      "1998-06-01 09:00:00                   0.0                      0.0   \n",
      "1998-06-02 09:00:00                   0.0                      0.0   \n",
      "\n",
      "Ticker               CGSHXAI% Index_Surprise  CHPMINDX Index_Surprise  ...  \\\n",
      "DateTime                                                               ...   \n",
      "1997-12-23 07:30:00                      0.0                      0.0  ...   \n",
      "1998-03-26 07:30:00                      0.0                      0.0  ...   \n",
      "1998-04-30 07:30:00                      0.0                      0.0  ...   \n",
      "1998-06-01 09:00:00                      0.0                      0.0  ...   \n",
      "1998-06-02 09:00:00                      0.0                      0.0  ...   \n",
      "\n",
      "Ticker               USMMMNCH Index_Surprise  USPHTMOM Index_Surprise  \\\n",
      "DateTime                                                                \n",
      "1997-12-23 07:30:00                      0.0                      0.0   \n",
      "1998-03-26 07:30:00                      0.0                      0.0   \n",
      "1998-04-30 07:30:00                      0.0                      0.0   \n",
      "1998-06-01 09:00:00                      0.0                      0.0   \n",
      "1998-06-02 09:00:00                      0.0                      0.0   \n",
      "\n",
      "Ticker               USPHTYOY Index_Surprise  USTBTOT Index_Surprise  \\\n",
      "DateTime                                                               \n",
      "1997-12-23 07:30:00                      0.0                     0.0   \n",
      "1998-03-26 07:30:00                      0.0                     0.0   \n",
      "1998-04-30 07:30:00                      0.0                     0.0   \n",
      "1998-06-01 09:00:00                      0.0                     0.0   \n",
      "1998-06-02 09:00:00                      0.0                     0.0   \n",
      "\n",
      "Ticker               USTGTTCB Index_Surprise  USUDMAER Index_Surprise  \\\n",
      "DateTime                                                                \n",
      "1997-12-23 07:30:00                      0.0                      0.0   \n",
      "1998-03-26 07:30:00                      0.0                      0.0   \n",
      "1998-04-30 07:30:00                      0.0                      0.0   \n",
      "1998-06-01 09:00:00                      0.0                      0.0   \n",
      "1998-06-02 09:00:00                      0.0                      0.0   \n",
      "\n",
      "Ticker               USURTOT Index_Surprise  USWHMANS Index_Surprise  \\\n",
      "DateTime                                                               \n",
      "1997-12-23 07:30:00                     0.0                      0.0   \n",
      "1998-03-26 07:30:00                     0.0                      0.0   \n",
      "1998-04-30 07:30:00                     0.0                      0.0   \n",
      "1998-06-01 09:00:00                     0.0                      0.0   \n",
      "1998-06-02 09:00:00                     0.0                      0.0   \n",
      "\n",
      "Ticker               USWHTOT Index_Surprise  VNCCCMOM Index_Surprise  \n",
      "DateTime                                                              \n",
      "1997-12-23 07:30:00                     0.0                      0.0  \n",
      "1998-03-26 07:30:00                     0.0                      0.0  \n",
      "1998-04-30 07:30:00                     0.0                      0.0  \n",
      "1998-06-01 09:00:00                     0.0                      0.0  \n",
      "1998-06-02 09:00:00                     0.0                      0.0  \n",
      "\n",
      "[5 rows x 161 columns]\n",
      "\n",
      "Shape of the new event DataFrame: (10038, 161)\n",
      "Number of rows matches the number of events, and number of columns matches unique tickers.\n"
     ]
    }
   ],
   "source": [
    "import pandas as pd\n",
    "import numpy as np\n",
    "\n",
    "# This script assumes 'df_combined' is an existing DataFrame with a DateTimeIndex\n",
    "# and columns 'Ticker' and 'Surprise'.\n",
    "\n",
    "# --- 1. Filter for Event Rows Only ---\n",
    "# First, create a smaller dataframe that only contains rows where a surprise occurred.\n",
    "# This makes the pivot operation much more efficient.\n",
    "print(\"Step 1: Filtering for rows with surprise events...\")\n",
    "surprise_events_only = df_combined[df_combined['Surprise'].notna()].copy()\n",
    "print(f\"Found {len(surprise_events_only)} rows with surprise events to pivot.\")\n",
    "\n",
    "\n",
    "# --- 2. Pivot the Filtered Data ---\n",
    "# Now, we pivot this smaller dataframe.\n",
    "# - The index of the new dataframe will be the original DateTimeIndex.\n",
    "# - New columns will be created from the unique values in the 'Ticker' column.\n",
    "# - The values for these new columns will be taken from the 'Surprise' column.\n",
    "# - `fill_value=0` is critical: it ensures that for any given event row, all ticker\n",
    "#   columns that were NOT part of that event are filled with 0.\n",
    "print(\"\\nStep 2: Pivoting the data...\")\n",
    "event_df = surprise_events_only.pivot_table(\n",
    "    index=surprise_events_only.index,\n",
    "    columns='Ticker',\n",
    "    values='Surprise',\n",
    "    fill_value=0\n",
    ")\n",
    "\n",
    "# Optional: Add a suffix to the new column names for clarity\n",
    "event_df = event_df.add_suffix('_Surprise')\n",
    "print(\"Pivoting complete.\")\n",
    "\n",
    "\n",
    "# --- 3. Verify the Result ---\n",
    "print(\"\\n--- Event DataFrame Sample ---\")\n",
    "print(event_df.head())\n",
    "\n",
    "print(f\"\\nShape of the new event DataFrame: {event_df.shape}\")\n",
    "print(f\"Number of rows matches the number of events, and number of columns matches unique tickers.\")\n",
    "\n",
    "# The `event_df` is now ready. It only contains rows from event times,\n",
    "# and each ticker has its own column filled with either the surprise value or 0.\n"
   ]
  },
  {
   "cell_type": "code",
   "execution_count": 4,
   "id": "959f0dce",
   "metadata": {},
   "outputs": [
    {
     "name": "stdout",
     "output_type": "stream",
     "text": [
      "Join complete.\n",
      "\n",
      "--- Final ML-Ready DataFrame ---\n",
      "                     ACNFCOMF Index_Surprise  ADP CHNG Index_Surprise  \\\n",
      "DateTime                                                                \n",
      "1997-12-23 07:30:00                      0.0                      0.0   \n",
      "1998-03-26 07:30:00                      0.0                      0.0   \n",
      "1998-04-30 07:30:00                      0.0                      0.0   \n",
      "1998-06-01 09:00:00                      0.0                      0.0   \n",
      "1998-06-02 09:00:00                      0.0                      0.0   \n",
      "\n",
      "                     AHE MOM% Index_Surprise  AHE YOY% Index_Surprise  \\\n",
      "DateTime                                                                \n",
      "1997-12-23 07:30:00                      0.0                      0.0   \n",
      "1998-03-26 07:30:00                      0.0                      0.0   \n",
      "1998-04-30 07:30:00                      0.0                      0.0   \n",
      "1998-06-01 09:00:00                      0.0                      0.0   \n",
      "1998-06-02 09:00:00                      0.0                      0.0   \n",
      "\n",
      "                     AMSPPACE Index_Surprise  AWH TOTL Index_Surprise  \\\n",
      "DateTime                                                                \n",
      "1997-12-23 07:30:00                      0.0                      0.0   \n",
      "1998-03-26 07:30:00                      0.0                      0.0   \n",
      "1998-04-30 07:30:00                      0.0                      0.0   \n",
      "1998-06-01 09:00:00                      0.0                      0.0   \n",
      "1998-06-02 09:00:00                      0.0                      0.0   \n",
      "\n",
      "                     CFNAI Index_Surprise  CGNOXAI% Index_Surprise  \\\n",
      "DateTime                                                             \n",
      "1997-12-23 07:30:00                   0.0                      0.0   \n",
      "1998-03-26 07:30:00                   0.0                      0.0   \n",
      "1998-04-30 07:30:00                   0.0                      0.0   \n",
      "1998-06-01 09:00:00                   0.0                      0.0   \n",
      "1998-06-02 09:00:00                   0.0                      0.0   \n",
      "\n",
      "                     CGSHXAI% Index_Surprise  CHPMINDX Index_Surprise  ...  \\\n",
      "DateTime                                                               ...   \n",
      "1997-12-23 07:30:00                      0.0                      0.0  ...   \n",
      "1998-03-26 07:30:00                      0.0                      0.0  ...   \n",
      "1998-04-30 07:30:00                      0.0                      0.0  ...   \n",
      "1998-06-01 09:00:00                      0.0                      0.0  ...   \n",
      "1998-06-02 09:00:00                      0.0                      0.0  ...   \n",
      "\n",
      "                           R  Volume_L1  Surprise  Std Dev  \\\n",
      "DateTime                                                     \n",
      "1997-12-23 07:30:00  96.2963        0.0     -2.98     0.07   \n",
      "1998-03-26 07:30:00  96.2963        0.0     -2.52     0.08   \n",
      "1998-04-30 07:30:00  96.2963        0.0      2.22     0.36   \n",
      "1998-06-01 09:00:00  94.8148        0.0     -1.88     0.77   \n",
      "1998-06-02 09:00:00  88.1481        0.0      3.69    13.02   \n",
      "\n",
      "                     Forward Return (20 min)  Target Signal (20 min)  \\\n",
      "DateTime                                                               \n",
      "1997-12-23 07:30:00                 0.000000                       0   \n",
      "1998-03-26 07:30:00                -0.000457                       2   \n",
      "1998-04-30 07:30:00                 0.012548                       1   \n",
      "1998-06-01 09:00:00                 0.003439                       1   \n",
      "1998-06-02 09:00:00                 0.000454                       1   \n",
      "\n",
      "                     Forward Return (10 min)  Target Signal (10 min)  \\\n",
      "DateTime                                                               \n",
      "1997-12-23 07:30:00                 0.000261                       1   \n",
      "1998-03-26 07:30:00                 0.001571                       1   \n",
      "1998-04-30 07:30:00                 0.009807                       1   \n",
      "1998-06-01 09:00:00                 0.003206                       1   \n",
      "1998-06-02 09:00:00                 0.000454                       1   \n",
      "\n",
      "                     Forward Return (40 min)  Target Signal (40 min)  \n",
      "DateTime                                                              \n",
      "1997-12-23 07:30:00                -0.000261                       2  \n",
      "1998-03-26 07:30:00                -0.000229                       2  \n",
      "1998-04-30 07:30:00                 0.013235                       1  \n",
      "1998-06-01 09:00:00                 0.003206                       1  \n",
      "1998-06-02 09:00:00                -0.001594                       2  \n",
      "\n",
      "[5 rows x 190 columns]\n",
      "\n",
      "Shape of the final DataFrame: (23068, 190)\n",
      "The number of rows (23068) should match the number of surprise events.\n",
      "\n",
      "Final columns available for the model:\n",
      "['ACNFCOMF Index_Surprise', 'ADP CHNG Index_Surprise', 'AHE MOM% Index_Surprise', 'AHE YOY% Index_Surprise', 'AMSPPACE Index_Surprise', 'AWH TOTL Index_Surprise', 'CFNAI Index_Surprise', 'CGNOXAI% Index_Surprise', 'CGSHXAI% Index_Surprise', 'CHPMINDX Index_Surprise', 'CICRTOT Index_Surprise', 'CNSTTMOM Index_Surprise', 'COMFCOMF Index_Surprise', 'CONCCONF Index_Surprise', 'CONSCURR Index_Surprise', 'CONSEXP Index_Surprise', 'CONSP5MD Index_Surprise', 'CONSPXMD Index_Surprise', 'CONSSENT Index_Surprise', 'COSTNFR% Index_Surprise', 'CPI CHNG Index_Surprise', 'CPI XYOY Index_Surprise', 'CPI YOY Index_Surprise', 'CPTICHNG Index_Surprise', 'CPUPAXFE Index_Surprise', 'CPUPXCHG Index_Surprise', 'CPURNSA Index_Surprise', 'DFEDGBA Index_Surprise', 'DGNOCHNG Index_Surprise', 'DGNOXTCH Index_Surprise', 'DOTDLTMD Index_Surprise', 'DOTDY0MD Index_Surprise', 'DOTDY1MD Index_Surprise', 'DOTDY2MD Index_Surprise', 'DSERGBCC Index_Surprise', 'ECI SA% Index_Surprise', 'ECONUSIB Index_Surprise', 'EHSLSL Index_Surprise', 'EMPRGBCI Index_Surprise', 'ETSLMOM Index_Surprise', 'ETSLTOTL Index_Surprise', 'EXP1CMOM Index_Surprise', 'EXP1CYOY Index_Surprise', 'FDDSSD Index_Surprise', 'FDEBTY Index_Surprise', 'FDIDFDMO Index_Surprise', 'FDIDSGMO Index_Surprise', 'FDIDSGUM Index_Surprise', 'FDIUFDYO Index_Surprise', 'FDIUSGUY Index_Surprise', 'FDIUSGYO Index_Surprise', 'FDTR Index_Surprise', 'FDTRFTRL Index_Surprise', 'FRNTTNET Index_Surprise', 'FRNTTOTL Index_Surprise', 'GDP CQOQ Index_Surprise', 'GDP DCHG Index_Surprise', 'GDP PIQQ Index_Surprise', 'GDPCPCEC Index_Surprise', 'GDPCTOT% Index_Surprise', 'HPI PURQ Index_Surprise', 'HPI QOQ% Index_Surprise', 'HPIMMOM% Index_Surprise', 'IMP1CHNG Index_Surprise', 'IMP1XPM% Index_Surprise', 'IMP1YOY% Index_Surprise', 'INJCJC Index_Surprise', 'INJCSP Index_Surprise', 'IP CHNG Index_Surprise', 'IPMGCHNG Index_Surprise', 'IRRBIOER Index_Surprise', 'JOLTTOTL Index_Surprise', 'KCLSSACI Index_Surprise', 'LEI CHNG Index_Surprise', 'LHWANWPA Index_Surprise', 'LMCILMCC Index_Surprise', 'MAPMINDX Index_Surprise', 'MBAVCHNG Index_Surprise', 'MBRXYOY Index_Surprise', 'MBRXYOYW Index_Surprise', 'MPMIUSCA Index_Surprise', 'MPMIUSMA Index_Surprise', 'MPMIUSSA Index_Surprise', 'MTIBCHNG Index_Surprise', 'MWINCHNG Index_Surprise', 'MWSLCHNG Index_Surprise', 'NAPMEMPL Index_Surprise', 'NAPMNEMP Index_Surprise', 'NAPMNEWO Index_Surprise', 'NAPMNMAN Index_Surprise', 'NAPMNMI Index_Surprise', 'NAPMNNO Index_Surprise', 'NAPMNPRC Index_Surprise', 'NAPMPMI Index_Surprise', 'NAPMPRIC Index_Surprise', 'NFP CPYC Index_Surprise', 'NFP PCH Index_Surprise', 'NFP TCH Index_Surprise', 'NHCHATCH Index_Surprise', 'NHCHSTCH Index_Surprise', 'NHSLCHNG Index_Surprise', 'NHSLTOT Index_Surprise', 'NHSPATOT Index_Surprise', 'NHSPSTOT Index_Surprise', 'NYBLCNBA Index_Surprise', 'NYCNM1IR Index_Surprise', 'NYPMCURR Index_Surprise', 'OUTFGAF Index_Surprise', 'PCE CHNC Index_Surprise', 'PCE CMOM Index_Surprise', 'PCE CRCH Index_Surprise', 'PCE CYOY Index_Surprise', 'PCE DEFM Index_Surprise', 'PCE DEFY Index_Surprise', 'PHUCTOT Index_Surprise', 'PITLCHNG Index_Surprise', 'PNMARADI Index_Surprise', 'PPI CHNG Index_Surprise', 'PPI XYOY Index_Surprise', 'PPI YOY Index_Surprise', 'PRODNFR% Index_Surprise', 'PRUSTOT Index_Surprise', 'PXFECHNG Index_Surprise', 'RCHSINDX Index_Surprise', 'REALRAWE Index_Surprise', 'REALYRAE Index_Surprise', 'RSRSTMOM Index_Surprise', 'RSTAMOM Index_Surprise', 'RSTAXAG% Index_Surprise', 'RSTAXAGM Index_Surprise', 'RSTAXMOM Index_Surprise', 'RTSDCHNG Index_Surprise', 'RTSDXCHG Index_Surprise', 'SAARDTOT Index_Surprise', 'SAARTOTL Index_Surprise', 'SBOITOTL Index_Surprise', 'SPCS20 Index_Surprise', 'SPCS20SM Index_Surprise', 'SPCS20Y% Index_Surprise', 'SPCSUSA Index_Surprise', 'SPCSUSAY Index_Surprise', 'SPCSUSQS Index_Surprise', 'TMNOCHNG Index_Surprise', 'TMNOXTM% Index_Surprise', 'TREFAMSP Index_Surprise', 'TREFPACE Index_Surprise', 'USCABAL Index_Surprise', 'USEMNCHG Index_Surprise', 'USHBMIDX Index_Surprise', 'USHETOT% Index_Surprise', 'USHEYOY Index_Surprise', 'USMMMNCH Index_Surprise', 'USPHTMOM Index_Surprise', 'USPHTYOY Index_Surprise', 'USTBTOT Index_Surprise', 'USTGTTCB Index_Surprise', 'USUDMAER Index_Surprise', 'USURTOT Index_Surprise', 'USWHMANS Index_Surprise', 'USWHTOT Index_Surprise', 'VNCCCMOM Index_Surprise', 'SMA5', 'SMA10', 'SMA15', 'SMA20', 'SMA50', 'SMA100', 'SMA200', 'SMA5Cross', 'SMA10Cross', 'SMA15Cross', 'SMA20Cross', 'SMA50Cross', 'SMA100Cross', 'SMA200Cross', 'UpDown10', 'UpDown15', 'UpDown50', 'last_gdp_gr', 'last_vix', 'R', 'Volume_L1', 'Surprise', 'Std Dev', 'Forward Return (20 min)', 'Target Signal (20 min)', 'Forward Return (10 min)', 'Target Signal (10 min)', 'Forward Return (40 min)', 'Target Signal (40 min)']\n"
     ]
    }
   ],
   "source": [
    "# Step 2: Selecting feature and target columns from df_combined\n",
    "# all columns with 'SMA' at start or 'UpDown' and 'Last_GDP_GR' and 'Last_VIX' at the end and\n",
    "feature_columns = [col for col in df_combined.columns if col.startswith('SMA') or col.startswith('UpDown') or col in ['last_gdp_gr', 'last_vix']]\n",
    "columns_to_join = feature_columns\n",
    "\n",
    "# also include the 'R' and 'Volume_L1' and 'Surprise' columns\n",
    "columns_to_join += ['R', 'Volume_L1', 'Surprise', 'Std Dev']\n",
    "\n",
    "# also include the return columns\n",
    "list = [\n",
    "    'Forward Return (20 min)',\n",
    "    'Target Signal (20 min)',\n",
    "    'Forward Return (10 min)',\n",
    "    'Target Signal (10 min)',\n",
    "    'Forward Return (40 min)',\n",
    "    'Target Signal (40 min)'\n",
    "]\n",
    "\n",
    "columns_to_join += list\n",
    "\n",
    "features_and_target_from_combined = df_combined[columns_to_join]\n",
    "\n",
    "ml_df = event_df.join(features_and_target_from_combined, how='inner')\n",
    "\n",
    "# Clean up any potential NaNs that might arise from the join, just in case.\n",
    "ml_df.fillna(0, inplace=True)\n",
    "\n",
    "print(\"Join complete.\")\n",
    "\n",
    "\n",
    "# --- 4. Verify the Final DataFrame ---\n",
    "print(\"\\n--- Final ML-Ready DataFrame ---\")\n",
    "print(ml_df.head())\n",
    "\n",
    "print(f\"\\nShape of the final DataFrame: {ml_df.shape}\")\n",
    "print(f\"The number of rows ({ml_df.shape[0]}) should match the number of surprise events.\")\n",
    "print(\"\\nFinal columns available for the model:\")\n",
    "print(ml_df.columns.tolist())\n",
    "\n",
    "# The `ml_df` DataFrame is now complete and ready to be split into X (all columns except Target)\n",
    "# and y (the Target column) to be fed into your XGBoost model."
   ]
  },
  {
   "cell_type": "code",
   "execution_count": 8,
   "id": "dadb030e",
   "metadata": {},
   "outputs": [
    {
     "data": {
      "text/html": [
       "<div>\n",
       "<style scoped>\n",
       "    .dataframe tbody tr th:only-of-type {\n",
       "        vertical-align: middle;\n",
       "    }\n",
       "\n",
       "    .dataframe tbody tr th {\n",
       "        vertical-align: top;\n",
       "    }\n",
       "\n",
       "    .dataframe thead th {\n",
       "        text-align: right;\n",
       "    }\n",
       "</style>\n",
       "<table border=\"1\" class=\"dataframe\">\n",
       "  <thead>\n",
       "    <tr style=\"text-align: right;\">\n",
       "      <th></th>\n",
       "      <th>DateTime</th>\n",
       "      <th>ACNFCOMF Index_Surprise</th>\n",
       "      <th>ADP CHNG Index_Surprise</th>\n",
       "      <th>AHE MOM% Index_Surprise</th>\n",
       "      <th>AHE YOY% Index_Surprise</th>\n",
       "      <th>AMSPPACE Index_Surprise</th>\n",
       "      <th>AWH TOTL Index_Surprise</th>\n",
       "      <th>CFNAI Index_Surprise</th>\n",
       "      <th>CGNOXAI% Index_Surprise</th>\n",
       "      <th>CGSHXAI% Index_Surprise</th>\n",
       "      <th>...</th>\n",
       "      <th>R</th>\n",
       "      <th>Volume_L1</th>\n",
       "      <th>Surprise</th>\n",
       "      <th>Std Dev</th>\n",
       "      <th>Forward Return (20 min)</th>\n",
       "      <th>Target Signal (20 min)</th>\n",
       "      <th>Forward Return (10 min)</th>\n",
       "      <th>Target Signal (10 min)</th>\n",
       "      <th>Forward Return (40 min)</th>\n",
       "      <th>Target Signal (40 min)</th>\n",
       "    </tr>\n",
       "  </thead>\n",
       "  <tbody>\n",
       "    <tr>\n",
       "      <th>0</th>\n",
       "      <td>1997-12-23 07:30:00</td>\n",
       "      <td>0.0</td>\n",
       "      <td>0.0</td>\n",
       "      <td>0.0</td>\n",
       "      <td>0.0</td>\n",
       "      <td>0.0</td>\n",
       "      <td>0.0</td>\n",
       "      <td>0.0</td>\n",
       "      <td>0.0</td>\n",
       "      <td>0.0</td>\n",
       "      <td>...</td>\n",
       "      <td>96.296300</td>\n",
       "      <td>0.0</td>\n",
       "      <td>-2.98</td>\n",
       "      <td>0.07</td>\n",
       "      <td>0.000000</td>\n",
       "      <td>0</td>\n",
       "      <td>0.000261</td>\n",
       "      <td>1</td>\n",
       "      <td>-0.000261</td>\n",
       "      <td>2</td>\n",
       "    </tr>\n",
       "    <tr>\n",
       "      <th>1</th>\n",
       "      <td>1998-03-26 07:30:00</td>\n",
       "      <td>0.0</td>\n",
       "      <td>0.0</td>\n",
       "      <td>0.0</td>\n",
       "      <td>0.0</td>\n",
       "      <td>0.0</td>\n",
       "      <td>0.0</td>\n",
       "      <td>0.0</td>\n",
       "      <td>0.0</td>\n",
       "      <td>0.0</td>\n",
       "      <td>...</td>\n",
       "      <td>96.296300</td>\n",
       "      <td>0.0</td>\n",
       "      <td>-2.52</td>\n",
       "      <td>0.08</td>\n",
       "      <td>-0.000457</td>\n",
       "      <td>2</td>\n",
       "      <td>0.001571</td>\n",
       "      <td>1</td>\n",
       "      <td>-0.000229</td>\n",
       "      <td>2</td>\n",
       "    </tr>\n",
       "    <tr>\n",
       "      <th>2</th>\n",
       "      <td>1998-04-30 07:30:00</td>\n",
       "      <td>0.0</td>\n",
       "      <td>0.0</td>\n",
       "      <td>0.0</td>\n",
       "      <td>0.0</td>\n",
       "      <td>0.0</td>\n",
       "      <td>0.0</td>\n",
       "      <td>0.0</td>\n",
       "      <td>0.0</td>\n",
       "      <td>0.0</td>\n",
       "      <td>...</td>\n",
       "      <td>96.296300</td>\n",
       "      <td>0.0</td>\n",
       "      <td>2.22</td>\n",
       "      <td>0.36</td>\n",
       "      <td>0.012548</td>\n",
       "      <td>1</td>\n",
       "      <td>0.009807</td>\n",
       "      <td>1</td>\n",
       "      <td>0.013235</td>\n",
       "      <td>1</td>\n",
       "    </tr>\n",
       "    <tr>\n",
       "      <th>3</th>\n",
       "      <td>1998-06-01 09:00:00</td>\n",
       "      <td>0.0</td>\n",
       "      <td>0.0</td>\n",
       "      <td>0.0</td>\n",
       "      <td>0.0</td>\n",
       "      <td>0.0</td>\n",
       "      <td>0.0</td>\n",
       "      <td>0.0</td>\n",
       "      <td>0.0</td>\n",
       "      <td>0.0</td>\n",
       "      <td>...</td>\n",
       "      <td>94.814800</td>\n",
       "      <td>0.0</td>\n",
       "      <td>-1.88</td>\n",
       "      <td>0.77</td>\n",
       "      <td>0.003439</td>\n",
       "      <td>1</td>\n",
       "      <td>0.003206</td>\n",
       "      <td>1</td>\n",
       "      <td>0.003206</td>\n",
       "      <td>1</td>\n",
       "    </tr>\n",
       "    <tr>\n",
       "      <th>4</th>\n",
       "      <td>1998-06-02 09:00:00</td>\n",
       "      <td>0.0</td>\n",
       "      <td>0.0</td>\n",
       "      <td>0.0</td>\n",
       "      <td>0.0</td>\n",
       "      <td>0.0</td>\n",
       "      <td>0.0</td>\n",
       "      <td>0.0</td>\n",
       "      <td>0.0</td>\n",
       "      <td>0.0</td>\n",
       "      <td>...</td>\n",
       "      <td>88.148100</td>\n",
       "      <td>0.0</td>\n",
       "      <td>3.69</td>\n",
       "      <td>13.02</td>\n",
       "      <td>0.000454</td>\n",
       "      <td>1</td>\n",
       "      <td>0.000454</td>\n",
       "      <td>1</td>\n",
       "      <td>-0.001594</td>\n",
       "      <td>2</td>\n",
       "    </tr>\n",
       "    <tr>\n",
       "      <th>...</th>\n",
       "      <td>...</td>\n",
       "      <td>...</td>\n",
       "      <td>...</td>\n",
       "      <td>...</td>\n",
       "      <td>...</td>\n",
       "      <td>...</td>\n",
       "      <td>...</td>\n",
       "      <td>...</td>\n",
       "      <td>...</td>\n",
       "      <td>...</td>\n",
       "      <td>...</td>\n",
       "      <td>...</td>\n",
       "      <td>...</td>\n",
       "      <td>...</td>\n",
       "      <td>...</td>\n",
       "      <td>...</td>\n",
       "      <td>...</td>\n",
       "      <td>...</td>\n",
       "      <td>...</td>\n",
       "      <td>...</td>\n",
       "      <td>...</td>\n",
       "    </tr>\n",
       "    <tr>\n",
       "      <th>23063</th>\n",
       "      <td>2024-12-18 07:30:00</td>\n",
       "      <td>0.0</td>\n",
       "      <td>0.0</td>\n",
       "      <td>0.0</td>\n",
       "      <td>0.0</td>\n",
       "      <td>0.0</td>\n",
       "      <td>0.0</td>\n",
       "      <td>0.0</td>\n",
       "      <td>0.0</td>\n",
       "      <td>0.0</td>\n",
       "      <td>...</td>\n",
       "      <td>61.185200</td>\n",
       "      <td>131.0</td>\n",
       "      <td>3.38</td>\n",
       "      <td>22.21</td>\n",
       "      <td>-0.001505</td>\n",
       "      <td>2</td>\n",
       "      <td>-0.000325</td>\n",
       "      <td>2</td>\n",
       "      <td>-0.002970</td>\n",
       "      <td>2</td>\n",
       "    </tr>\n",
       "    <tr>\n",
       "      <th>23064</th>\n",
       "      <td>2024-12-18 07:30:00</td>\n",
       "      <td>0.0</td>\n",
       "      <td>0.0</td>\n",
       "      <td>0.0</td>\n",
       "      <td>0.0</td>\n",
       "      <td>0.0</td>\n",
       "      <td>0.0</td>\n",
       "      <td>0.0</td>\n",
       "      <td>0.0</td>\n",
       "      <td>0.0</td>\n",
       "      <td>...</td>\n",
       "      <td>31.851900</td>\n",
       "      <td>131.0</td>\n",
       "      <td>2.87</td>\n",
       "      <td>1.78</td>\n",
       "      <td>-0.001668</td>\n",
       "      <td>2</td>\n",
       "      <td>-0.000488</td>\n",
       "      <td>2</td>\n",
       "      <td>-0.003010</td>\n",
       "      <td>2</td>\n",
       "    </tr>\n",
       "    <tr>\n",
       "      <th>23065</th>\n",
       "      <td>2024-12-18 07:30:00</td>\n",
       "      <td>0.0</td>\n",
       "      <td>0.0</td>\n",
       "      <td>0.0</td>\n",
       "      <td>0.0</td>\n",
       "      <td>0.0</td>\n",
       "      <td>0.0</td>\n",
       "      <td>0.0</td>\n",
       "      <td>0.0</td>\n",
       "      <td>0.0</td>\n",
       "      <td>...</td>\n",
       "      <td>71.111100</td>\n",
       "      <td>131.0</td>\n",
       "      <td>-3.84</td>\n",
       "      <td>6.22</td>\n",
       "      <td>-0.001546</td>\n",
       "      <td>2</td>\n",
       "      <td>-0.000529</td>\n",
       "      <td>2</td>\n",
       "      <td>-0.002847</td>\n",
       "      <td>2</td>\n",
       "    </tr>\n",
       "    <tr>\n",
       "      <th>23066</th>\n",
       "      <td>2024-12-18 13:00:00</td>\n",
       "      <td>0.0</td>\n",
       "      <td>0.0</td>\n",
       "      <td>0.0</td>\n",
       "      <td>0.0</td>\n",
       "      <td>0.0</td>\n",
       "      <td>0.0</td>\n",
       "      <td>0.0</td>\n",
       "      <td>0.0</td>\n",
       "      <td>0.0</td>\n",
       "      <td>...</td>\n",
       "      <td>2.222220</td>\n",
       "      <td>1239.0</td>\n",
       "      <td>2.03</td>\n",
       "      <td>0.12</td>\n",
       "      <td>-0.008963</td>\n",
       "      <td>2</td>\n",
       "      <td>-0.006478</td>\n",
       "      <td>2</td>\n",
       "      <td>-0.010023</td>\n",
       "      <td>2</td>\n",
       "    </tr>\n",
       "    <tr>\n",
       "      <th>23067</th>\n",
       "      <td>2024-12-18 13:00:00</td>\n",
       "      <td>0.0</td>\n",
       "      <td>0.0</td>\n",
       "      <td>0.0</td>\n",
       "      <td>0.0</td>\n",
       "      <td>0.0</td>\n",
       "      <td>0.0</td>\n",
       "      <td>0.0</td>\n",
       "      <td>0.0</td>\n",
       "      <td>0.0</td>\n",
       "      <td>...</td>\n",
       "      <td>0.740741</td>\n",
       "      <td>801.0</td>\n",
       "      <td>2.35</td>\n",
       "      <td>0.11</td>\n",
       "      <td>-0.008475</td>\n",
       "      <td>2</td>\n",
       "      <td>-0.007171</td>\n",
       "      <td>2</td>\n",
       "      <td>-0.009493</td>\n",
       "      <td>2</td>\n",
       "    </tr>\n",
       "  </tbody>\n",
       "</table>\n",
       "<p>23068 rows × 191 columns</p>\n",
       "</div>"
      ],
      "text/plain": [
       "                 DateTime  ACNFCOMF Index_Surprise  ADP CHNG Index_Surprise  \\\n",
       "0     1997-12-23 07:30:00                      0.0                      0.0   \n",
       "1     1998-03-26 07:30:00                      0.0                      0.0   \n",
       "2     1998-04-30 07:30:00                      0.0                      0.0   \n",
       "3     1998-06-01 09:00:00                      0.0                      0.0   \n",
       "4     1998-06-02 09:00:00                      0.0                      0.0   \n",
       "...                   ...                      ...                      ...   \n",
       "23063 2024-12-18 07:30:00                      0.0                      0.0   \n",
       "23064 2024-12-18 07:30:00                      0.0                      0.0   \n",
       "23065 2024-12-18 07:30:00                      0.0                      0.0   \n",
       "23066 2024-12-18 13:00:00                      0.0                      0.0   \n",
       "23067 2024-12-18 13:00:00                      0.0                      0.0   \n",
       "\n",
       "       AHE MOM% Index_Surprise  AHE YOY% Index_Surprise  \\\n",
       "0                          0.0                      0.0   \n",
       "1                          0.0                      0.0   \n",
       "2                          0.0                      0.0   \n",
       "3                          0.0                      0.0   \n",
       "4                          0.0                      0.0   \n",
       "...                        ...                      ...   \n",
       "23063                      0.0                      0.0   \n",
       "23064                      0.0                      0.0   \n",
       "23065                      0.0                      0.0   \n",
       "23066                      0.0                      0.0   \n",
       "23067                      0.0                      0.0   \n",
       "\n",
       "       AMSPPACE Index_Surprise  AWH TOTL Index_Surprise  CFNAI Index_Surprise  \\\n",
       "0                          0.0                      0.0                   0.0   \n",
       "1                          0.0                      0.0                   0.0   \n",
       "2                          0.0                      0.0                   0.0   \n",
       "3                          0.0                      0.0                   0.0   \n",
       "4                          0.0                      0.0                   0.0   \n",
       "...                        ...                      ...                   ...   \n",
       "23063                      0.0                      0.0                   0.0   \n",
       "23064                      0.0                      0.0                   0.0   \n",
       "23065                      0.0                      0.0                   0.0   \n",
       "23066                      0.0                      0.0                   0.0   \n",
       "23067                      0.0                      0.0                   0.0   \n",
       "\n",
       "       CGNOXAI% Index_Surprise  CGSHXAI% Index_Surprise  ...          R  \\\n",
       "0                          0.0                      0.0  ...  96.296300   \n",
       "1                          0.0                      0.0  ...  96.296300   \n",
       "2                          0.0                      0.0  ...  96.296300   \n",
       "3                          0.0                      0.0  ...  94.814800   \n",
       "4                          0.0                      0.0  ...  88.148100   \n",
       "...                        ...                      ...  ...        ...   \n",
       "23063                      0.0                      0.0  ...  61.185200   \n",
       "23064                      0.0                      0.0  ...  31.851900   \n",
       "23065                      0.0                      0.0  ...  71.111100   \n",
       "23066                      0.0                      0.0  ...   2.222220   \n",
       "23067                      0.0                      0.0  ...   0.740741   \n",
       "\n",
       "       Volume_L1  Surprise  Std Dev  Forward Return (20 min)  \\\n",
       "0            0.0     -2.98     0.07                 0.000000   \n",
       "1            0.0     -2.52     0.08                -0.000457   \n",
       "2            0.0      2.22     0.36                 0.012548   \n",
       "3            0.0     -1.88     0.77                 0.003439   \n",
       "4            0.0      3.69    13.02                 0.000454   \n",
       "...          ...       ...      ...                      ...   \n",
       "23063      131.0      3.38    22.21                -0.001505   \n",
       "23064      131.0      2.87     1.78                -0.001668   \n",
       "23065      131.0     -3.84     6.22                -0.001546   \n",
       "23066     1239.0      2.03     0.12                -0.008963   \n",
       "23067      801.0      2.35     0.11                -0.008475   \n",
       "\n",
       "       Target Signal (20 min)  Forward Return (10 min)  \\\n",
       "0                           0                 0.000261   \n",
       "1                           2                 0.001571   \n",
       "2                           1                 0.009807   \n",
       "3                           1                 0.003206   \n",
       "4                           1                 0.000454   \n",
       "...                       ...                      ...   \n",
       "23063                       2                -0.000325   \n",
       "23064                       2                -0.000488   \n",
       "23065                       2                -0.000529   \n",
       "23066                       2                -0.006478   \n",
       "23067                       2                -0.007171   \n",
       "\n",
       "       Target Signal (10 min)  Forward Return (40 min)  Target Signal (40 min)  \n",
       "0                           1                -0.000261                       2  \n",
       "1                           1                -0.000229                       2  \n",
       "2                           1                 0.013235                       1  \n",
       "3                           1                 0.003206                       1  \n",
       "4                           1                -0.001594                       2  \n",
       "...                       ...                      ...                     ...  \n",
       "23063                       2                -0.002970                       2  \n",
       "23064                       2                -0.003010                       2  \n",
       "23065                       2                -0.002847                       2  \n",
       "23066                       2                -0.010023                       2  \n",
       "23067                       2                -0.009493                       2  \n",
       "\n",
       "[23068 rows x 191 columns]"
      ]
     },
     "execution_count": 8,
     "metadata": {},
     "output_type": "execute_result"
    }
   ],
   "source": [
    "# rename ml_df to df_ml\n",
    "df_ml = ml_df\n",
    "\n",
    "# adjust df_ml so that index, DateTime, become a single column\n",
    "df_ml.reset_index(inplace=True)\n",
    "\n",
    "df_ml"
   ]
  },
  {
   "cell_type": "code",
   "execution_count": 9,
   "id": "b3a78dbe",
   "metadata": {},
   "outputs": [
    {
     "name": "stdout",
     "output_type": "stream",
     "text": [
      "Feature Columns: ['ACNFCOMF Index_Surprise', 'ADP CHNG Index_Surprise', 'AHE MOM% Index_Surprise', 'AHE YOY% Index_Surprise', 'AMSPPACE Index_Surprise', 'AWH TOTL Index_Surprise', 'CFNAI Index_Surprise', 'CGNOXAI% Index_Surprise', 'CGSHXAI% Index_Surprise', 'CHPMINDX Index_Surprise', 'CICRTOT Index_Surprise', 'CNSTTMOM Index_Surprise', 'COMFCOMF Index_Surprise', 'CONCCONF Index_Surprise', 'CONSCURR Index_Surprise', 'CONSEXP Index_Surprise', 'CONSP5MD Index_Surprise', 'CONSPXMD Index_Surprise', 'CONSSENT Index_Surprise', 'COSTNFR% Index_Surprise', 'CPI CHNG Index_Surprise', 'CPI XYOY Index_Surprise', 'CPI YOY Index_Surprise', 'CPTICHNG Index_Surprise', 'CPUPAXFE Index_Surprise', 'CPUPXCHG Index_Surprise', 'CPURNSA Index_Surprise', 'DFEDGBA Index_Surprise', 'DGNOCHNG Index_Surprise', 'DGNOXTCH Index_Surprise', 'DOTDLTMD Index_Surprise', 'DOTDY0MD Index_Surprise', 'DOTDY1MD Index_Surprise', 'DOTDY2MD Index_Surprise', 'DSERGBCC Index_Surprise', 'ECI SA% Index_Surprise', 'ECONUSIB Index_Surprise', 'EHSLSL Index_Surprise', 'EMPRGBCI Index_Surprise', 'ETSLMOM Index_Surprise', 'ETSLTOTL Index_Surprise', 'EXP1CMOM Index_Surprise', 'EXP1CYOY Index_Surprise', 'FDDSSD Index_Surprise', 'FDEBTY Index_Surprise', 'FDIDFDMO Index_Surprise', 'FDIDSGMO Index_Surprise', 'FDIDSGUM Index_Surprise', 'FDIUFDYO Index_Surprise', 'FDIUSGUY Index_Surprise', 'FDIUSGYO Index_Surprise', 'FDTR Index_Surprise', 'FDTRFTRL Index_Surprise', 'FRNTTNET Index_Surprise', 'FRNTTOTL Index_Surprise', 'GDP CQOQ Index_Surprise', 'GDP DCHG Index_Surprise', 'GDP PIQQ Index_Surprise', 'GDPCPCEC Index_Surprise', 'GDPCTOT% Index_Surprise', 'HPI PURQ Index_Surprise', 'HPI QOQ% Index_Surprise', 'HPIMMOM% Index_Surprise', 'IMP1CHNG Index_Surprise', 'IMP1XPM% Index_Surprise', 'IMP1YOY% Index_Surprise', 'INJCJC Index_Surprise', 'INJCSP Index_Surprise', 'IP CHNG Index_Surprise', 'IPMGCHNG Index_Surprise', 'IRRBIOER Index_Surprise', 'JOLTTOTL Index_Surprise', 'KCLSSACI Index_Surprise', 'LEI CHNG Index_Surprise', 'LHWANWPA Index_Surprise', 'LMCILMCC Index_Surprise', 'MAPMINDX Index_Surprise', 'MBAVCHNG Index_Surprise', 'MBRXYOY Index_Surprise', 'MBRXYOYW Index_Surprise', 'MPMIUSCA Index_Surprise', 'MPMIUSMA Index_Surprise', 'MPMIUSSA Index_Surprise', 'MTIBCHNG Index_Surprise', 'MWINCHNG Index_Surprise', 'MWSLCHNG Index_Surprise', 'NAPMEMPL Index_Surprise', 'NAPMNEMP Index_Surprise', 'NAPMNEWO Index_Surprise', 'NAPMNMAN Index_Surprise', 'NAPMNMI Index_Surprise', 'NAPMNNO Index_Surprise', 'NAPMNPRC Index_Surprise', 'NAPMPMI Index_Surprise', 'NAPMPRIC Index_Surprise', 'NFP CPYC Index_Surprise', 'NFP PCH Index_Surprise', 'NFP TCH Index_Surprise', 'NHCHATCH Index_Surprise', 'NHCHSTCH Index_Surprise', 'NHSLCHNG Index_Surprise', 'NHSLTOT Index_Surprise', 'NHSPATOT Index_Surprise', 'NHSPSTOT Index_Surprise', 'NYBLCNBA Index_Surprise', 'NYCNM1IR Index_Surprise', 'NYPMCURR Index_Surprise', 'OUTFGAF Index_Surprise', 'PCE CHNC Index_Surprise', 'PCE CMOM Index_Surprise', 'PCE CRCH Index_Surprise', 'PCE CYOY Index_Surprise', 'PCE DEFM Index_Surprise', 'PCE DEFY Index_Surprise', 'PHUCTOT Index_Surprise', 'PITLCHNG Index_Surprise', 'PNMARADI Index_Surprise', 'PPI CHNG Index_Surprise', 'PPI XYOY Index_Surprise', 'PPI YOY Index_Surprise', 'PRODNFR% Index_Surprise', 'PRUSTOT Index_Surprise', 'PXFECHNG Index_Surprise', 'RCHSINDX Index_Surprise', 'REALRAWE Index_Surprise', 'REALYRAE Index_Surprise', 'RSRSTMOM Index_Surprise', 'RSTAMOM Index_Surprise', 'RSTAXAG% Index_Surprise', 'RSTAXAGM Index_Surprise', 'RSTAXMOM Index_Surprise', 'RTSDCHNG Index_Surprise', 'RTSDXCHG Index_Surprise', 'SAARDTOT Index_Surprise', 'SAARTOTL Index_Surprise', 'SBOITOTL Index_Surprise', 'SPCS20 Index_Surprise', 'SPCS20SM Index_Surprise', 'SPCS20Y% Index_Surprise', 'SPCSUSA Index_Surprise', 'SPCSUSAY Index_Surprise', 'SPCSUSQS Index_Surprise', 'TMNOCHNG Index_Surprise', 'TMNOXTM% Index_Surprise', 'TREFAMSP Index_Surprise', 'TREFPACE Index_Surprise', 'USCABAL Index_Surprise', 'USEMNCHG Index_Surprise', 'USHBMIDX Index_Surprise', 'USHETOT% Index_Surprise', 'USHEYOY Index_Surprise', 'USMMMNCH Index_Surprise', 'USPHTMOM Index_Surprise', 'USPHTYOY Index_Surprise', 'USTBTOT Index_Surprise', 'USTGTTCB Index_Surprise', 'USUDMAER Index_Surprise', 'USURTOT Index_Surprise', 'USWHMANS Index_Surprise', 'USWHTOT Index_Surprise', 'VNCCCMOM Index_Surprise', 'SMA5', 'SMA10', 'SMA15', 'SMA20', 'SMA50', 'SMA100', 'SMA200', 'SMA5Cross', 'SMA10Cross', 'SMA15Cross', 'SMA20Cross', 'SMA50Cross', 'SMA100Cross', 'SMA200Cross', 'UpDown10', 'UpDown15', 'UpDown50', 'last_gdp_gr', 'last_vix', 'R', 'Volume_L1', 'Std Dev']\n",
      "Number of Features: 183\n",
      "\n",
      "Evaluating Horizon:  (20 min) for period starting 2006-01-28\n",
      "WARNING:tensorflow:From c:\\Users\\Jop Brouwer\\AppData\\Local\\Programs\\Python\\Python311\\Lib\\site-packages\\keras\\src\\layers\\rnn\\lstm.py:148: The name tf.executing_eagerly_outside_functions is deprecated. Please use tf.compat.v1.executing_eagerly_outside_functions instead.\n",
      "\n",
      "WARNING:tensorflow:From c:\\Users\\Jop Brouwer\\AppData\\Local\\Programs\\Python\\Python311\\Lib\\site-packages\\keras\\src\\optimizers\\__init__.py:309: The name tf.train.Optimizer is deprecated. Please use tf.compat.v1.train.Optimizer instead.\n",
      "\n",
      "WARNING:tensorflow:From c:\\Users\\Jop Brouwer\\AppData\\Local\\Programs\\Python\\Python311\\Lib\\site-packages\\keras\\src\\utils\\tf_utils.py:492: The name tf.ragged.RaggedTensorValue is deprecated. Please use tf.compat.v1.ragged.RaggedTensorValue instead.\n",
      "\n",
      "WARNING:tensorflow:From c:\\Users\\Jop Brouwer\\AppData\\Local\\Programs\\Python\\Python311\\Lib\\site-packages\\keras\\src\\engine\\base_layer_utils.py:384: The name tf.executing_eagerly_outside_functions is deprecated. Please use tf.compat.v1.executing_eagerly_outside_functions instead.\n",
      "\n",
      "126/126 [==============================] - 0s 821us/step\n",
      "23/23 [==============================] - 0s 818us/step\n"
     ]
    },
    {
     "name": "stderr",
     "output_type": "stream",
     "text": [
      "C:\\Users\\Jop Brouwer\\AppData\\Local\\Temp\\ipykernel_26836\\1458596948.py:215: DeprecationWarning: DataFrameGroupBy.apply operated on the grouping columns. This behavior is deprecated, and in a future version of pandas the grouping columns will be excluded from the operation. Either pass `include_groups=False` to exclude the groupings or explicitly select the grouping columns after groupby to silence this warning.\n",
      "  val_returns = val_trade_df.groupby('DateTime').apply(\n"
     ]
    },
    {
     "name": "stdout",
     "output_type": "stream",
     "text": [
      "\n",
      "Evaluating Horizon:  (10 min) for period starting 2006-01-28\n",
      "126/126 [==============================] - 0s 849us/step\n",
      "23/23 [==============================] - 0s 864us/step\n"
     ]
    },
    {
     "name": "stderr",
     "output_type": "stream",
     "text": [
      "C:\\Users\\Jop Brouwer\\AppData\\Local\\Temp\\ipykernel_26836\\1458596948.py:215: DeprecationWarning: DataFrameGroupBy.apply operated on the grouping columns. This behavior is deprecated, and in a future version of pandas the grouping columns will be excluded from the operation. Either pass `include_groups=False` to exclude the groupings or explicitly select the grouping columns after groupby to silence this warning.\n",
      "  val_returns = val_trade_df.groupby('DateTime').apply(\n"
     ]
    },
    {
     "name": "stdout",
     "output_type": "stream",
     "text": [
      "\n",
      "Evaluating Horizon:  (40 min) for period starting 2006-01-28\n",
      "126/126 [==============================] - 0s 1ms/step\n",
      "23/23 [==============================] - 0s 909us/step\n",
      "\n",
      "--- Testing best model for period ending 2008-01-29 ---\n",
      "Best Horizon Found:  (40 min)\n",
      "25/25 [==============================] - 0s 917us/step\n"
     ]
    },
    {
     "name": "stderr",
     "output_type": "stream",
     "text": [
      "C:\\Users\\Jop Brouwer\\AppData\\Local\\Temp\\ipykernel_26836\\1458596948.py:215: DeprecationWarning: DataFrameGroupBy.apply operated on the grouping columns. This behavior is deprecated, and in a future version of pandas the grouping columns will be excluded from the operation. Either pass `include_groups=False` to exclude the groupings or explicitly select the grouping columns after groupby to silence this warning.\n",
      "  val_returns = val_trade_df.groupby('DateTime').apply(\n",
      "C:\\Users\\Jop Brouwer\\AppData\\Local\\Temp\\ipykernel_26836\\1458596948.py:248: DeprecationWarning: DataFrameGroupBy.apply operated on the grouping columns. This behavior is deprecated, and in a future version of pandas the grouping columns will be excluded from the operation. Either pass `include_groups=False` to exclude the groupings or explicitly select the grouping columns after groupby to silence this warning.\n",
      "  grouped_returns = test_trade_df.groupby('DateTime').apply(\n"
     ]
    },
    {
     "name": "stdout",
     "output_type": "stream",
     "text": [
      "\n",
      "Evaluating Horizon:  (20 min) for period starting 2007-01-28\n",
      "149/149 [==============================] - 0s 819us/step\n",
      "24/24 [==============================] - 0s 892us/step\n"
     ]
    },
    {
     "name": "stderr",
     "output_type": "stream",
     "text": [
      "C:\\Users\\Jop Brouwer\\AppData\\Local\\Temp\\ipykernel_26836\\1458596948.py:215: DeprecationWarning: DataFrameGroupBy.apply operated on the grouping columns. This behavior is deprecated, and in a future version of pandas the grouping columns will be excluded from the operation. Either pass `include_groups=False` to exclude the groupings or explicitly select the grouping columns after groupby to silence this warning.\n",
      "  val_returns = val_trade_df.groupby('DateTime').apply(\n"
     ]
    },
    {
     "name": "stdout",
     "output_type": "stream",
     "text": [
      "\n",
      "Evaluating Horizon:  (10 min) for period starting 2007-01-28\n",
      "149/149 [==============================] - 0s 826us/step\n",
      "24/24 [==============================] - 0s 883us/step\n"
     ]
    },
    {
     "name": "stderr",
     "output_type": "stream",
     "text": [
      "C:\\Users\\Jop Brouwer\\AppData\\Local\\Temp\\ipykernel_26836\\1458596948.py:215: DeprecationWarning: DataFrameGroupBy.apply operated on the grouping columns. This behavior is deprecated, and in a future version of pandas the grouping columns will be excluded from the operation. Either pass `include_groups=False` to exclude the groupings or explicitly select the grouping columns after groupby to silence this warning.\n",
      "  val_returns = val_trade_df.groupby('DateTime').apply(\n"
     ]
    },
    {
     "name": "stdout",
     "output_type": "stream",
     "text": [
      "\n",
      "Evaluating Horizon:  (40 min) for period starting 2007-01-28\n",
      "149/149 [==============================] - 0s 801us/step\n",
      "24/24 [==============================] - 0s 826us/step\n",
      "\n",
      "--- Testing best model for period ending 2009-01-29 ---\n",
      "Best Horizon Found:  (40 min)\n",
      "27/27 [==============================] - 0s 846us/step\n"
     ]
    },
    {
     "name": "stderr",
     "output_type": "stream",
     "text": [
      "C:\\Users\\Jop Brouwer\\AppData\\Local\\Temp\\ipykernel_26836\\1458596948.py:215: DeprecationWarning: DataFrameGroupBy.apply operated on the grouping columns. This behavior is deprecated, and in a future version of pandas the grouping columns will be excluded from the operation. Either pass `include_groups=False` to exclude the groupings or explicitly select the grouping columns after groupby to silence this warning.\n",
      "  val_returns = val_trade_df.groupby('DateTime').apply(\n",
      "C:\\Users\\Jop Brouwer\\AppData\\Local\\Temp\\ipykernel_26836\\1458596948.py:248: DeprecationWarning: DataFrameGroupBy.apply operated on the grouping columns. This behavior is deprecated, and in a future version of pandas the grouping columns will be excluded from the operation. Either pass `include_groups=False` to exclude the groupings or explicitly select the grouping columns after groupby to silence this warning.\n",
      "  grouped_returns = test_trade_df.groupby('DateTime').apply(\n"
     ]
    },
    {
     "name": "stdout",
     "output_type": "stream",
     "text": [
      "\n",
      "Evaluating Horizon:  (20 min) for period starting 2008-01-28\n",
      "172/172 [==============================] - 0s 817us/step\n",
      "27/27 [==============================] - 0s 831us/step\n"
     ]
    },
    {
     "name": "stderr",
     "output_type": "stream",
     "text": [
      "C:\\Users\\Jop Brouwer\\AppData\\Local\\Temp\\ipykernel_26836\\1458596948.py:215: DeprecationWarning: DataFrameGroupBy.apply operated on the grouping columns. This behavior is deprecated, and in a future version of pandas the grouping columns will be excluded from the operation. Either pass `include_groups=False` to exclude the groupings or explicitly select the grouping columns after groupby to silence this warning.\n",
      "  val_returns = val_trade_df.groupby('DateTime').apply(\n"
     ]
    },
    {
     "name": "stdout",
     "output_type": "stream",
     "text": [
      "\n",
      "Evaluating Horizon:  (10 min) for period starting 2008-01-28\n",
      "172/172 [==============================] - 0s 795us/step\n",
      "27/27 [==============================] - 0s 885us/step\n"
     ]
    },
    {
     "name": "stderr",
     "output_type": "stream",
     "text": [
      "C:\\Users\\Jop Brouwer\\AppData\\Local\\Temp\\ipykernel_26836\\1458596948.py:215: DeprecationWarning: DataFrameGroupBy.apply operated on the grouping columns. This behavior is deprecated, and in a future version of pandas the grouping columns will be excluded from the operation. Either pass `include_groups=False` to exclude the groupings or explicitly select the grouping columns after groupby to silence this warning.\n",
      "  val_returns = val_trade_df.groupby('DateTime').apply(\n"
     ]
    },
    {
     "name": "stdout",
     "output_type": "stream",
     "text": [
      "\n",
      "Evaluating Horizon:  (40 min) for period starting 2008-01-28\n",
      "172/172 [==============================] - 0s 800us/step\n",
      "27/27 [==============================] - 0s 846us/step\n",
      "\n",
      "--- Testing best model for period ending 2010-01-29 ---\n",
      "Best Horizon Found:  (40 min)\n",
      "29/29 [==============================] - 0s 857us/step\n"
     ]
    },
    {
     "name": "stderr",
     "output_type": "stream",
     "text": [
      "C:\\Users\\Jop Brouwer\\AppData\\Local\\Temp\\ipykernel_26836\\1458596948.py:215: DeprecationWarning: DataFrameGroupBy.apply operated on the grouping columns. This behavior is deprecated, and in a future version of pandas the grouping columns will be excluded from the operation. Either pass `include_groups=False` to exclude the groupings or explicitly select the grouping columns after groupby to silence this warning.\n",
      "  val_returns = val_trade_df.groupby('DateTime').apply(\n",
      "C:\\Users\\Jop Brouwer\\AppData\\Local\\Temp\\ipykernel_26836\\1458596948.py:248: DeprecationWarning: DataFrameGroupBy.apply operated on the grouping columns. This behavior is deprecated, and in a future version of pandas the grouping columns will be excluded from the operation. Either pass `include_groups=False` to exclude the groupings or explicitly select the grouping columns after groupby to silence this warning.\n",
      "  grouped_returns = test_trade_df.groupby('DateTime').apply(\n"
     ]
    },
    {
     "name": "stdout",
     "output_type": "stream",
     "text": [
      "\n",
      "Evaluating Horizon:  (20 min) for period starting 2009-01-28\n",
      "199/199 [==============================] - 0s 1ms/step\n",
      "29/29 [==============================] - 0s 827us/step\n"
     ]
    },
    {
     "name": "stderr",
     "output_type": "stream",
     "text": [
      "C:\\Users\\Jop Brouwer\\AppData\\Local\\Temp\\ipykernel_26836\\1458596948.py:215: DeprecationWarning: DataFrameGroupBy.apply operated on the grouping columns. This behavior is deprecated, and in a future version of pandas the grouping columns will be excluded from the operation. Either pass `include_groups=False` to exclude the groupings or explicitly select the grouping columns after groupby to silence this warning.\n",
      "  val_returns = val_trade_df.groupby('DateTime').apply(\n"
     ]
    },
    {
     "name": "stdout",
     "output_type": "stream",
     "text": [
      "\n",
      "Evaluating Horizon:  (10 min) for period starting 2009-01-28\n",
      "199/199 [==============================] - 0s 807us/step\n",
      "29/29 [==============================] - 0s 857us/step\n"
     ]
    },
    {
     "name": "stderr",
     "output_type": "stream",
     "text": [
      "C:\\Users\\Jop Brouwer\\AppData\\Local\\Temp\\ipykernel_26836\\1458596948.py:215: DeprecationWarning: DataFrameGroupBy.apply operated on the grouping columns. This behavior is deprecated, and in a future version of pandas the grouping columns will be excluded from the operation. Either pass `include_groups=False` to exclude the groupings or explicitly select the grouping columns after groupby to silence this warning.\n",
      "  val_returns = val_trade_df.groupby('DateTime').apply(\n"
     ]
    },
    {
     "name": "stdout",
     "output_type": "stream",
     "text": [
      "\n",
      "Evaluating Horizon:  (40 min) for period starting 2009-01-28\n",
      "199/199 [==============================] - 0s 802us/step\n",
      "29/29 [==============================] - 0s 821us/step\n",
      "\n",
      "--- Testing best model for period ending 2011-01-29 ---\n",
      "Best Horizon Found:  (40 min)\n",
      "30/30 [==============================] - 0s 828us/step\n"
     ]
    },
    {
     "name": "stderr",
     "output_type": "stream",
     "text": [
      "C:\\Users\\Jop Brouwer\\AppData\\Local\\Temp\\ipykernel_26836\\1458596948.py:215: DeprecationWarning: DataFrameGroupBy.apply operated on the grouping columns. This behavior is deprecated, and in a future version of pandas the grouping columns will be excluded from the operation. Either pass `include_groups=False` to exclude the groupings or explicitly select the grouping columns after groupby to silence this warning.\n",
      "  val_returns = val_trade_df.groupby('DateTime').apply(\n",
      "C:\\Users\\Jop Brouwer\\AppData\\Local\\Temp\\ipykernel_26836\\1458596948.py:248: DeprecationWarning: DataFrameGroupBy.apply operated on the grouping columns. This behavior is deprecated, and in a future version of pandas the grouping columns will be excluded from the operation. Either pass `include_groups=False` to exclude the groupings or explicitly select the grouping columns after groupby to silence this warning.\n",
      "  grouped_returns = test_trade_df.groupby('DateTime').apply(\n"
     ]
    },
    {
     "name": "stdout",
     "output_type": "stream",
     "text": [
      "\n",
      "Evaluating Horizon:  (20 min) for period starting 2010-01-28\n",
      "227/227 [==============================] - 0s 786us/step\n",
      "30/30 [==============================] - 0s 828us/step\n"
     ]
    },
    {
     "name": "stderr",
     "output_type": "stream",
     "text": [
      "C:\\Users\\Jop Brouwer\\AppData\\Local\\Temp\\ipykernel_26836\\1458596948.py:215: DeprecationWarning: DataFrameGroupBy.apply operated on the grouping columns. This behavior is deprecated, and in a future version of pandas the grouping columns will be excluded from the operation. Either pass `include_groups=False` to exclude the groupings or explicitly select the grouping columns after groupby to silence this warning.\n",
      "  val_returns = val_trade_df.groupby('DateTime').apply(\n"
     ]
    },
    {
     "name": "stdout",
     "output_type": "stream",
     "text": [
      "\n",
      "Evaluating Horizon:  (10 min) for period starting 2010-01-28\n",
      "227/227 [==============================] - 0s 786us/step\n",
      "30/30 [==============================] - 0s 862us/step\n"
     ]
    },
    {
     "name": "stderr",
     "output_type": "stream",
     "text": [
      "C:\\Users\\Jop Brouwer\\AppData\\Local\\Temp\\ipykernel_26836\\1458596948.py:215: DeprecationWarning: DataFrameGroupBy.apply operated on the grouping columns. This behavior is deprecated, and in a future version of pandas the grouping columns will be excluded from the operation. Either pass `include_groups=False` to exclude the groupings or explicitly select the grouping columns after groupby to silence this warning.\n",
      "  val_returns = val_trade_df.groupby('DateTime').apply(\n"
     ]
    },
    {
     "name": "stdout",
     "output_type": "stream",
     "text": [
      "\n",
      "Evaluating Horizon:  (40 min) for period starting 2010-01-28\n",
      "227/227 [==============================] - 1s 818us/step\n",
      "30/30 [==============================] - 0s 828us/step\n",
      "\n",
      "--- Testing best model for period ending 2012-01-29 ---\n",
      "Best Horizon Found:  (20 min)\n",
      "31/31 [==============================] - 0s 833us/step\n"
     ]
    },
    {
     "name": "stderr",
     "output_type": "stream",
     "text": [
      "C:\\Users\\Jop Brouwer\\AppData\\Local\\Temp\\ipykernel_26836\\1458596948.py:215: DeprecationWarning: DataFrameGroupBy.apply operated on the grouping columns. This behavior is deprecated, and in a future version of pandas the grouping columns will be excluded from the operation. Either pass `include_groups=False` to exclude the groupings or explicitly select the grouping columns after groupby to silence this warning.\n",
      "  val_returns = val_trade_df.groupby('DateTime').apply(\n",
      "C:\\Users\\Jop Brouwer\\AppData\\Local\\Temp\\ipykernel_26836\\1458596948.py:248: DeprecationWarning: DataFrameGroupBy.apply operated on the grouping columns. This behavior is deprecated, and in a future version of pandas the grouping columns will be excluded from the operation. Either pass `include_groups=False` to exclude the groupings or explicitly select the grouping columns after groupby to silence this warning.\n",
      "  grouped_returns = test_trade_df.groupby('DateTime').apply(\n"
     ]
    },
    {
     "name": "stdout",
     "output_type": "stream",
     "text": [
      "\n",
      "Evaluating Horizon:  (20 min) for period starting 2011-01-28\n",
      "257/257 [==============================] - 1s 952us/step\n",
      "31/31 [==============================] - 0s 808us/step\n"
     ]
    },
    {
     "name": "stderr",
     "output_type": "stream",
     "text": [
      "C:\\Users\\Jop Brouwer\\AppData\\Local\\Temp\\ipykernel_26836\\1458596948.py:215: DeprecationWarning: DataFrameGroupBy.apply operated on the grouping columns. This behavior is deprecated, and in a future version of pandas the grouping columns will be excluded from the operation. Either pass `include_groups=False` to exclude the groupings or explicitly select the grouping columns after groupby to silence this warning.\n",
      "  val_returns = val_trade_df.groupby('DateTime').apply(\n"
     ]
    },
    {
     "name": "stdout",
     "output_type": "stream",
     "text": [
      "\n",
      "Evaluating Horizon:  (10 min) for period starting 2011-01-28\n",
      "257/257 [==============================] - 0s 807us/step\n",
      "31/31 [==============================] - 0s 800us/step\n"
     ]
    },
    {
     "name": "stderr",
     "output_type": "stream",
     "text": [
      "C:\\Users\\Jop Brouwer\\AppData\\Local\\Temp\\ipykernel_26836\\1458596948.py:215: DeprecationWarning: DataFrameGroupBy.apply operated on the grouping columns. This behavior is deprecated, and in a future version of pandas the grouping columns will be excluded from the operation. Either pass `include_groups=False` to exclude the groupings or explicitly select the grouping columns after groupby to silence this warning.\n",
      "  val_returns = val_trade_df.groupby('DateTime').apply(\n"
     ]
    },
    {
     "name": "stdout",
     "output_type": "stream",
     "text": [
      "\n",
      "Evaluating Horizon:  (40 min) for period starting 2011-01-28\n",
      "257/257 [==============================] - 0s 791us/step\n",
      "31/31 [==============================] - 0s 833us/step\n",
      "\n",
      "--- Testing best model for period ending 2013-01-29 ---\n",
      "Best Horizon Found:  (10 min)\n",
      "31/31 [==============================] - 0s 833us/step\n"
     ]
    },
    {
     "name": "stderr",
     "output_type": "stream",
     "text": [
      "C:\\Users\\Jop Brouwer\\AppData\\Local\\Temp\\ipykernel_26836\\1458596948.py:215: DeprecationWarning: DataFrameGroupBy.apply operated on the grouping columns. This behavior is deprecated, and in a future version of pandas the grouping columns will be excluded from the operation. Either pass `include_groups=False` to exclude the groupings or explicitly select the grouping columns after groupby to silence this warning.\n",
      "  val_returns = val_trade_df.groupby('DateTime').apply(\n",
      "C:\\Users\\Jop Brouwer\\AppData\\Local\\Temp\\ipykernel_26836\\1458596948.py:248: DeprecationWarning: DataFrameGroupBy.apply operated on the grouping columns. This behavior is deprecated, and in a future version of pandas the grouping columns will be excluded from the operation. Either pass `include_groups=False` to exclude the groupings or explicitly select the grouping columns after groupby to silence this warning.\n",
      "  grouped_returns = test_trade_df.groupby('DateTime').apply(\n"
     ]
    },
    {
     "name": "stdout",
     "output_type": "stream",
     "text": [
      "\n",
      "Evaluating Horizon:  (20 min) for period starting 2012-01-28\n",
      "287/287 [==============================] - 1s 811us/step\n",
      "31/31 [==============================] - 0s 800us/step\n"
     ]
    },
    {
     "name": "stderr",
     "output_type": "stream",
     "text": [
      "C:\\Users\\Jop Brouwer\\AppData\\Local\\Temp\\ipykernel_26836\\1458596948.py:215: DeprecationWarning: DataFrameGroupBy.apply operated on the grouping columns. This behavior is deprecated, and in a future version of pandas the grouping columns will be excluded from the operation. Either pass `include_groups=False` to exclude the groupings or explicitly select the grouping columns after groupby to silence this warning.\n",
      "  val_returns = val_trade_df.groupby('DateTime').apply(\n"
     ]
    },
    {
     "name": "stdout",
     "output_type": "stream",
     "text": [
      "\n",
      "Evaluating Horizon:  (10 min) for period starting 2012-01-28\n",
      "287/287 [==============================] - 1s 819us/step\n",
      "31/31 [==============================] - 0s 833us/step\n",
      "\n",
      "Evaluating Horizon:  (40 min) for period starting 2012-01-28\n"
     ]
    },
    {
     "name": "stderr",
     "output_type": "stream",
     "text": [
      "C:\\Users\\Jop Brouwer\\AppData\\Local\\Temp\\ipykernel_26836\\1458596948.py:215: DeprecationWarning: DataFrameGroupBy.apply operated on the grouping columns. This behavior is deprecated, and in a future version of pandas the grouping columns will be excluded from the operation. Either pass `include_groups=False` to exclude the groupings or explicitly select the grouping columns after groupby to silence this warning.\n",
      "  val_returns = val_trade_df.groupby('DateTime').apply(\n"
     ]
    },
    {
     "name": "stdout",
     "output_type": "stream",
     "text": [
      "287/287 [==============================] - 0s 815us/step\n",
      "31/31 [==============================] - 0s 833us/step\n",
      "\n",
      "--- Testing best model for period ending 2014-01-29 ---\n",
      "Best Horizon Found:  (10 min)\n",
      "32/32 [==============================] - 0s 1ms/step\n"
     ]
    },
    {
     "name": "stderr",
     "output_type": "stream",
     "text": [
      "C:\\Users\\Jop Brouwer\\AppData\\Local\\Temp\\ipykernel_26836\\1458596948.py:215: DeprecationWarning: DataFrameGroupBy.apply operated on the grouping columns. This behavior is deprecated, and in a future version of pandas the grouping columns will be excluded from the operation. Either pass `include_groups=False` to exclude the groupings or explicitly select the grouping columns after groupby to silence this warning.\n",
      "  val_returns = val_trade_df.groupby('DateTime').apply(\n",
      "C:\\Users\\Jop Brouwer\\AppData\\Local\\Temp\\ipykernel_26836\\1458596948.py:248: DeprecationWarning: DataFrameGroupBy.apply operated on the grouping columns. This behavior is deprecated, and in a future version of pandas the grouping columns will be excluded from the operation. Either pass `include_groups=False` to exclude the groupings or explicitly select the grouping columns after groupby to silence this warning.\n",
      "  grouped_returns = test_trade_df.groupby('DateTime').apply(\n"
     ]
    },
    {
     "name": "stdout",
     "output_type": "stream",
     "text": [
      "\n",
      "Evaluating Horizon:  (20 min) for period starting 2013-01-28\n",
      "318/318 [==============================] - 1s 805us/step\n",
      "32/32 [==============================] - 0s 823us/step\n"
     ]
    },
    {
     "name": "stderr",
     "output_type": "stream",
     "text": [
      "C:\\Users\\Jop Brouwer\\AppData\\Local\\Temp\\ipykernel_26836\\1458596948.py:215: DeprecationWarning: DataFrameGroupBy.apply operated on the grouping columns. This behavior is deprecated, and in a future version of pandas the grouping columns will be excluded from the operation. Either pass `include_groups=False` to exclude the groupings or explicitly select the grouping columns after groupby to silence this warning.\n",
      "  val_returns = val_trade_df.groupby('DateTime').apply(\n"
     ]
    },
    {
     "name": "stdout",
     "output_type": "stream",
     "text": [
      "\n",
      "Evaluating Horizon:  (10 min) for period starting 2013-01-28\n",
      "318/318 [==============================] - 1s 806us/step\n",
      "32/32 [==============================] - 0s 806us/step\n"
     ]
    },
    {
     "name": "stderr",
     "output_type": "stream",
     "text": [
      "C:\\Users\\Jop Brouwer\\AppData\\Local\\Temp\\ipykernel_26836\\1458596948.py:215: DeprecationWarning: DataFrameGroupBy.apply operated on the grouping columns. This behavior is deprecated, and in a future version of pandas the grouping columns will be excluded from the operation. Either pass `include_groups=False` to exclude the groupings or explicitly select the grouping columns after groupby to silence this warning.\n",
      "  val_returns = val_trade_df.groupby('DateTime').apply(\n"
     ]
    },
    {
     "name": "stdout",
     "output_type": "stream",
     "text": [
      "\n",
      "Evaluating Horizon:  (40 min) for period starting 2013-01-28\n",
      "318/318 [==============================] - 1s 793us/step\n",
      "32/32 [==============================] - 0s 2ms/step\n",
      "\n",
      "--- Testing best model for period ending 2015-01-29 ---\n",
      "Best Horizon Found:  (20 min)\n",
      "32/32 [==============================] - 0s 839us/step\n"
     ]
    },
    {
     "name": "stderr",
     "output_type": "stream",
     "text": [
      "C:\\Users\\Jop Brouwer\\AppData\\Local\\Temp\\ipykernel_26836\\1458596948.py:215: DeprecationWarning: DataFrameGroupBy.apply operated on the grouping columns. This behavior is deprecated, and in a future version of pandas the grouping columns will be excluded from the operation. Either pass `include_groups=False` to exclude the groupings or explicitly select the grouping columns after groupby to silence this warning.\n",
      "  val_returns = val_trade_df.groupby('DateTime').apply(\n",
      "C:\\Users\\Jop Brouwer\\AppData\\Local\\Temp\\ipykernel_26836\\1458596948.py:248: DeprecationWarning: DataFrameGroupBy.apply operated on the grouping columns. This behavior is deprecated, and in a future version of pandas the grouping columns will be excluded from the operation. Either pass `include_groups=False` to exclude the groupings or explicitly select the grouping columns after groupby to silence this warning.\n",
      "  grouped_returns = test_trade_df.groupby('DateTime').apply(\n"
     ]
    },
    {
     "name": "stdout",
     "output_type": "stream",
     "text": [
      "\n",
      "Evaluating Horizon:  (20 min) for period starting 2014-01-28\n",
      "349/349 [==============================] - 1s 850us/step\n",
      "32/32 [==============================] - 0s 1ms/step\n"
     ]
    },
    {
     "name": "stderr",
     "output_type": "stream",
     "text": [
      "C:\\Users\\Jop Brouwer\\AppData\\Local\\Temp\\ipykernel_26836\\1458596948.py:215: DeprecationWarning: DataFrameGroupBy.apply operated on the grouping columns. This behavior is deprecated, and in a future version of pandas the grouping columns will be excluded from the operation. Either pass `include_groups=False` to exclude the groupings or explicitly select the grouping columns after groupby to silence this warning.\n",
      "  val_returns = val_trade_df.groupby('DateTime').apply(\n"
     ]
    },
    {
     "name": "stdout",
     "output_type": "stream",
     "text": [
      "\n",
      "Evaluating Horizon:  (10 min) for period starting 2014-01-28\n",
      "349/349 [==============================] - 1s 863us/step\n",
      "32/32 [==============================] - 0s 839us/step\n"
     ]
    },
    {
     "name": "stderr",
     "output_type": "stream",
     "text": [
      "C:\\Users\\Jop Brouwer\\AppData\\Local\\Temp\\ipykernel_26836\\1458596948.py:215: DeprecationWarning: DataFrameGroupBy.apply operated on the grouping columns. This behavior is deprecated, and in a future version of pandas the grouping columns will be excluded from the operation. Either pass `include_groups=False` to exclude the groupings or explicitly select the grouping columns after groupby to silence this warning.\n",
      "  val_returns = val_trade_df.groupby('DateTime').apply(\n"
     ]
    },
    {
     "name": "stdout",
     "output_type": "stream",
     "text": [
      "\n",
      "Evaluating Horizon:  (40 min) for period starting 2014-01-28\n",
      "349/349 [==============================] - 1s 979us/step\n",
      "32/32 [==============================] - 0s 903us/step\n",
      "\n",
      "--- Testing best model for period ending 2016-01-29 ---\n",
      "Best Horizon Found:  (10 min)\n",
      "33/33 [==============================] - 0s 906us/step\n"
     ]
    },
    {
     "name": "stderr",
     "output_type": "stream",
     "text": [
      "C:\\Users\\Jop Brouwer\\AppData\\Local\\Temp\\ipykernel_26836\\1458596948.py:215: DeprecationWarning: DataFrameGroupBy.apply operated on the grouping columns. This behavior is deprecated, and in a future version of pandas the grouping columns will be excluded from the operation. Either pass `include_groups=False` to exclude the groupings or explicitly select the grouping columns after groupby to silence this warning.\n",
      "  val_returns = val_trade_df.groupby('DateTime').apply(\n",
      "C:\\Users\\Jop Brouwer\\AppData\\Local\\Temp\\ipykernel_26836\\1458596948.py:248: DeprecationWarning: DataFrameGroupBy.apply operated on the grouping columns. This behavior is deprecated, and in a future version of pandas the grouping columns will be excluded from the operation. Either pass `include_groups=False` to exclude the groupings or explicitly select the grouping columns after groupby to silence this warning.\n",
      "  grouped_returns = test_trade_df.groupby('DateTime').apply(\n"
     ]
    },
    {
     "name": "stdout",
     "output_type": "stream",
     "text": [
      "\n",
      "Evaluating Horizon:  (20 min) for period starting 2015-01-28\n",
      "381/381 [==============================] - 1s 817us/step\n",
      "33/33 [==============================] - 0s 875us/step\n"
     ]
    },
    {
     "name": "stderr",
     "output_type": "stream",
     "text": [
      "C:\\Users\\Jop Brouwer\\AppData\\Local\\Temp\\ipykernel_26836\\1458596948.py:215: DeprecationWarning: DataFrameGroupBy.apply operated on the grouping columns. This behavior is deprecated, and in a future version of pandas the grouping columns will be excluded from the operation. Either pass `include_groups=False` to exclude the groupings or explicitly select the grouping columns after groupby to silence this warning.\n",
      "  val_returns = val_trade_df.groupby('DateTime').apply(\n"
     ]
    },
    {
     "name": "stdout",
     "output_type": "stream",
     "text": [
      "\n",
      "Evaluating Horizon:  (10 min) for period starting 2015-01-28\n",
      "381/381 [==============================] - 1s 820us/step\n",
      "33/33 [==============================] - 0s 813us/step\n"
     ]
    },
    {
     "name": "stderr",
     "output_type": "stream",
     "text": [
      "C:\\Users\\Jop Brouwer\\AppData\\Local\\Temp\\ipykernel_26836\\1458596948.py:215: DeprecationWarning: DataFrameGroupBy.apply operated on the grouping columns. This behavior is deprecated, and in a future version of pandas the grouping columns will be excluded from the operation. Either pass `include_groups=False` to exclude the groupings or explicitly select the grouping columns after groupby to silence this warning.\n",
      "  val_returns = val_trade_df.groupby('DateTime').apply(\n"
     ]
    },
    {
     "name": "stdout",
     "output_type": "stream",
     "text": [
      "\n",
      "Evaluating Horizon:  (40 min) for period starting 2015-01-28\n",
      "381/381 [==============================] - 1s 1ms/step\n",
      "33/33 [==============================] - 0s 981us/step\n",
      "\n",
      "--- Testing best model for period ending 2017-01-29 ---\n",
      "Best Horizon Found:  (40 min)\n",
      "33/33 [==============================] - 0s 906us/step\n"
     ]
    },
    {
     "name": "stderr",
     "output_type": "stream",
     "text": [
      "C:\\Users\\Jop Brouwer\\AppData\\Local\\Temp\\ipykernel_26836\\1458596948.py:215: DeprecationWarning: DataFrameGroupBy.apply operated on the grouping columns. This behavior is deprecated, and in a future version of pandas the grouping columns will be excluded from the operation. Either pass `include_groups=False` to exclude the groupings or explicitly select the grouping columns after groupby to silence this warning.\n",
      "  val_returns = val_trade_df.groupby('DateTime').apply(\n",
      "C:\\Users\\Jop Brouwer\\AppData\\Local\\Temp\\ipykernel_26836\\1458596948.py:248: DeprecationWarning: DataFrameGroupBy.apply operated on the grouping columns. This behavior is deprecated, and in a future version of pandas the grouping columns will be excluded from the operation. Either pass `include_groups=False` to exclude the groupings or explicitly select the grouping columns after groupby to silence this warning.\n",
      "  grouped_returns = test_trade_df.groupby('DateTime').apply(\n"
     ]
    },
    {
     "name": "stdout",
     "output_type": "stream",
     "text": [
      "\n",
      "Evaluating Horizon:  (20 min) for period starting 2016-01-28\n",
      "414/414 [==============================] - 1s 800us/step\n",
      "33/33 [==============================] - 0s 1ms/step\n"
     ]
    },
    {
     "name": "stderr",
     "output_type": "stream",
     "text": [
      "C:\\Users\\Jop Brouwer\\AppData\\Local\\Temp\\ipykernel_26836\\1458596948.py:215: DeprecationWarning: DataFrameGroupBy.apply operated on the grouping columns. This behavior is deprecated, and in a future version of pandas the grouping columns will be excluded from the operation. Either pass `include_groups=False` to exclude the groupings or explicitly select the grouping columns after groupby to silence this warning.\n",
      "  val_returns = val_trade_df.groupby('DateTime').apply(\n"
     ]
    },
    {
     "name": "stdout",
     "output_type": "stream",
     "text": [
      "\n",
      "Evaluating Horizon:  (10 min) for period starting 2016-01-28\n",
      "414/414 [==============================] - 1s 988us/step\n",
      "33/33 [==============================] - 0s 844us/step\n"
     ]
    },
    {
     "name": "stderr",
     "output_type": "stream",
     "text": [
      "C:\\Users\\Jop Brouwer\\AppData\\Local\\Temp\\ipykernel_26836\\1458596948.py:215: DeprecationWarning: DataFrameGroupBy.apply operated on the grouping columns. This behavior is deprecated, and in a future version of pandas the grouping columns will be excluded from the operation. Either pass `include_groups=False` to exclude the groupings or explicitly select the grouping columns after groupby to silence this warning.\n",
      "  val_returns = val_trade_df.groupby('DateTime').apply(\n"
     ]
    },
    {
     "name": "stdout",
     "output_type": "stream",
     "text": [
      "\n",
      "Evaluating Horizon:  (40 min) for period starting 2016-01-28\n",
      "414/414 [==============================] - 1s 848us/step\n",
      "33/33 [==============================] - 0s 938us/step\n",
      "\n",
      "--- Testing best model for period ending 2018-01-29 ---\n",
      "Best Horizon Found:  (10 min)\n",
      "32/32 [==============================] - 0s 871us/step\n"
     ]
    },
    {
     "name": "stderr",
     "output_type": "stream",
     "text": [
      "C:\\Users\\Jop Brouwer\\AppData\\Local\\Temp\\ipykernel_26836\\1458596948.py:215: DeprecationWarning: DataFrameGroupBy.apply operated on the grouping columns. This behavior is deprecated, and in a future version of pandas the grouping columns will be excluded from the operation. Either pass `include_groups=False` to exclude the groupings or explicitly select the grouping columns after groupby to silence this warning.\n",
      "  val_returns = val_trade_df.groupby('DateTime').apply(\n",
      "C:\\Users\\Jop Brouwer\\AppData\\Local\\Temp\\ipykernel_26836\\1458596948.py:248: DeprecationWarning: DataFrameGroupBy.apply operated on the grouping columns. This behavior is deprecated, and in a future version of pandas the grouping columns will be excluded from the operation. Either pass `include_groups=False` to exclude the groupings or explicitly select the grouping columns after groupby to silence this warning.\n",
      "  grouped_returns = test_trade_df.groupby('DateTime').apply(\n"
     ]
    },
    {
     "name": "stdout",
     "output_type": "stream",
     "text": [
      "\n",
      "Evaluating Horizon:  (20 min) for period starting 2017-01-28\n",
      "447/447 [==============================] - 1s 809us/step\n",
      "32/32 [==============================] - 0s 1000us/step\n"
     ]
    },
    {
     "name": "stderr",
     "output_type": "stream",
     "text": [
      "C:\\Users\\Jop Brouwer\\AppData\\Local\\Temp\\ipykernel_26836\\1458596948.py:215: DeprecationWarning: DataFrameGroupBy.apply operated on the grouping columns. This behavior is deprecated, and in a future version of pandas the grouping columns will be excluded from the operation. Either pass `include_groups=False` to exclude the groupings or explicitly select the grouping columns after groupby to silence this warning.\n",
      "  val_returns = val_trade_df.groupby('DateTime').apply(\n"
     ]
    },
    {
     "name": "stdout",
     "output_type": "stream",
     "text": [
      "\n",
      "Evaluating Horizon:  (10 min) for period starting 2017-01-28\n",
      "447/447 [==============================] - 1s 812us/step\n",
      "32/32 [==============================] - 0s 876us/step\n"
     ]
    },
    {
     "name": "stderr",
     "output_type": "stream",
     "text": [
      "C:\\Users\\Jop Brouwer\\AppData\\Local\\Temp\\ipykernel_26836\\1458596948.py:215: DeprecationWarning: DataFrameGroupBy.apply operated on the grouping columns. This behavior is deprecated, and in a future version of pandas the grouping columns will be excluded from the operation. Either pass `include_groups=False` to exclude the groupings or explicitly select the grouping columns after groupby to silence this warning.\n",
      "  val_returns = val_trade_df.groupby('DateTime').apply(\n"
     ]
    },
    {
     "name": "stdout",
     "output_type": "stream",
     "text": [
      "\n",
      "Evaluating Horizon:  (40 min) for period starting 2017-01-28\n",
      "447/447 [==============================] - 1s 794us/step\n",
      "32/32 [==============================] - 0s 774us/step\n",
      "\n",
      "--- Testing best model for period ending 2019-01-29 ---\n",
      "Best Horizon Found:  (20 min)\n",
      "30/30 [==============================] - 0s 828us/step\n"
     ]
    },
    {
     "name": "stderr",
     "output_type": "stream",
     "text": [
      "C:\\Users\\Jop Brouwer\\AppData\\Local\\Temp\\ipykernel_26836\\1458596948.py:215: DeprecationWarning: DataFrameGroupBy.apply operated on the grouping columns. This behavior is deprecated, and in a future version of pandas the grouping columns will be excluded from the operation. Either pass `include_groups=False` to exclude the groupings or explicitly select the grouping columns after groupby to silence this warning.\n",
      "  val_returns = val_trade_df.groupby('DateTime').apply(\n",
      "C:\\Users\\Jop Brouwer\\AppData\\Local\\Temp\\ipykernel_26836\\1458596948.py:248: DeprecationWarning: DataFrameGroupBy.apply operated on the grouping columns. This behavior is deprecated, and in a future version of pandas the grouping columns will be excluded from the operation. Either pass `include_groups=False` to exclude the groupings or explicitly select the grouping columns after groupby to silence this warning.\n",
      "  grouped_returns = test_trade_df.groupby('DateTime').apply(\n"
     ]
    },
    {
     "name": "stdout",
     "output_type": "stream",
     "text": [
      "\n",
      "Evaluating Horizon:  (20 min) for period starting 2018-01-28\n",
      "478/478 [==============================] - 1s 953us/step\n",
      "30/30 [==============================] - 0s 862us/step\n"
     ]
    },
    {
     "name": "stderr",
     "output_type": "stream",
     "text": [
      "C:\\Users\\Jop Brouwer\\AppData\\Local\\Temp\\ipykernel_26836\\1458596948.py:215: DeprecationWarning: DataFrameGroupBy.apply operated on the grouping columns. This behavior is deprecated, and in a future version of pandas the grouping columns will be excluded from the operation. Either pass `include_groups=False` to exclude the groupings or explicitly select the grouping columns after groupby to silence this warning.\n",
      "  val_returns = val_trade_df.groupby('DateTime').apply(\n"
     ]
    },
    {
     "name": "stdout",
     "output_type": "stream",
     "text": [
      "\n",
      "Evaluating Horizon:  (10 min) for period starting 2018-01-28\n",
      "478/478 [==============================] - 1s 811us/step\n",
      "30/30 [==============================] - 0s 845us/step\n"
     ]
    },
    {
     "name": "stderr",
     "output_type": "stream",
     "text": [
      "C:\\Users\\Jop Brouwer\\AppData\\Local\\Temp\\ipykernel_26836\\1458596948.py:215: DeprecationWarning: DataFrameGroupBy.apply operated on the grouping columns. This behavior is deprecated, and in a future version of pandas the grouping columns will be excluded from the operation. Either pass `include_groups=False` to exclude the groupings or explicitly select the grouping columns after groupby to silence this warning.\n",
      "  val_returns = val_trade_df.groupby('DateTime').apply(\n"
     ]
    },
    {
     "name": "stdout",
     "output_type": "stream",
     "text": [
      "\n",
      "Evaluating Horizon:  (40 min) for period starting 2018-01-28\n",
      "478/478 [==============================] - 1s 815us/step\n",
      "30/30 [==============================] - 0s 862us/step\n",
      "\n",
      "--- Testing best model for period ending 2020-01-29 ---\n",
      "Best Horizon Found:  (20 min)\n",
      "35/35 [==============================] - 0s 853us/step\n"
     ]
    },
    {
     "name": "stderr",
     "output_type": "stream",
     "text": [
      "C:\\Users\\Jop Brouwer\\AppData\\Local\\Temp\\ipykernel_26836\\1458596948.py:215: DeprecationWarning: DataFrameGroupBy.apply operated on the grouping columns. This behavior is deprecated, and in a future version of pandas the grouping columns will be excluded from the operation. Either pass `include_groups=False` to exclude the groupings or explicitly select the grouping columns after groupby to silence this warning.\n",
      "  val_returns = val_trade_df.groupby('DateTime').apply(\n",
      "C:\\Users\\Jop Brouwer\\AppData\\Local\\Temp\\ipykernel_26836\\1458596948.py:248: DeprecationWarning: DataFrameGroupBy.apply operated on the grouping columns. This behavior is deprecated, and in a future version of pandas the grouping columns will be excluded from the operation. Either pass `include_groups=False` to exclude the groupings or explicitly select the grouping columns after groupby to silence this warning.\n",
      "  grouped_returns = test_trade_df.groupby('DateTime').apply(\n"
     ]
    },
    {
     "name": "stdout",
     "output_type": "stream",
     "text": [
      "\n",
      "Evaluating Horizon:  (20 min) for period starting 2019-01-28\n",
      "508/508 [==============================] - 1s 960us/step\n",
      "35/35 [==============================] - 0s 794us/step\n"
     ]
    },
    {
     "name": "stderr",
     "output_type": "stream",
     "text": [
      "C:\\Users\\Jop Brouwer\\AppData\\Local\\Temp\\ipykernel_26836\\1458596948.py:215: DeprecationWarning: DataFrameGroupBy.apply operated on the grouping columns. This behavior is deprecated, and in a future version of pandas the grouping columns will be excluded from the operation. Either pass `include_groups=False` to exclude the groupings or explicitly select the grouping columns after groupby to silence this warning.\n",
      "  val_returns = val_trade_df.groupby('DateTime').apply(\n"
     ]
    },
    {
     "name": "stdout",
     "output_type": "stream",
     "text": [
      "\n",
      "Evaluating Horizon:  (10 min) for period starting 2019-01-28\n",
      "508/508 [==============================] - 1s 809us/step\n",
      "35/35 [==============================] - 0s 1ms/step\n"
     ]
    },
    {
     "name": "stderr",
     "output_type": "stream",
     "text": [
      "C:\\Users\\Jop Brouwer\\AppData\\Local\\Temp\\ipykernel_26836\\1458596948.py:215: DeprecationWarning: DataFrameGroupBy.apply operated on the grouping columns. This behavior is deprecated, and in a future version of pandas the grouping columns will be excluded from the operation. Either pass `include_groups=False` to exclude the groupings or explicitly select the grouping columns after groupby to silence this warning.\n",
      "  val_returns = val_trade_df.groupby('DateTime').apply(\n"
     ]
    },
    {
     "name": "stdout",
     "output_type": "stream",
     "text": [
      "\n",
      "Evaluating Horizon:  (40 min) for period starting 2019-01-28\n",
      "508/508 [==============================] - 1s 948us/step\n",
      "35/35 [==============================] - 0s 853us/step\n",
      "\n",
      "--- Testing best model for period ending 2021-01-29 ---\n",
      "Best Horizon Found:  (40 min)\n",
      "37/37 [==============================] - 0s 806us/step\n"
     ]
    },
    {
     "name": "stderr",
     "output_type": "stream",
     "text": [
      "C:\\Users\\Jop Brouwer\\AppData\\Local\\Temp\\ipykernel_26836\\1458596948.py:215: DeprecationWarning: DataFrameGroupBy.apply operated on the grouping columns. This behavior is deprecated, and in a future version of pandas the grouping columns will be excluded from the operation. Either pass `include_groups=False` to exclude the groupings or explicitly select the grouping columns after groupby to silence this warning.\n",
      "  val_returns = val_trade_df.groupby('DateTime').apply(\n",
      "C:\\Users\\Jop Brouwer\\AppData\\Local\\Temp\\ipykernel_26836\\1458596948.py:248: DeprecationWarning: DataFrameGroupBy.apply operated on the grouping columns. This behavior is deprecated, and in a future version of pandas the grouping columns will be excluded from the operation. Either pass `include_groups=False` to exclude the groupings or explicitly select the grouping columns after groupby to silence this warning.\n",
      "  grouped_returns = test_trade_df.groupby('DateTime').apply(\n"
     ]
    },
    {
     "name": "stdout",
     "output_type": "stream",
     "text": [
      "\n",
      "Evaluating Horizon:  (20 min) for period starting 2020-01-28\n",
      "542/542 [==============================] - 1s 798us/step\n",
      "37/37 [==============================] - 0s 832us/step\n"
     ]
    },
    {
     "name": "stderr",
     "output_type": "stream",
     "text": [
      "C:\\Users\\Jop Brouwer\\AppData\\Local\\Temp\\ipykernel_26836\\1458596948.py:215: DeprecationWarning: DataFrameGroupBy.apply operated on the grouping columns. This behavior is deprecated, and in a future version of pandas the grouping columns will be excluded from the operation. Either pass `include_groups=False` to exclude the groupings or explicitly select the grouping columns after groupby to silence this warning.\n",
      "  val_returns = val_trade_df.groupby('DateTime').apply(\n"
     ]
    },
    {
     "name": "stdout",
     "output_type": "stream",
     "text": [
      "\n",
      "Evaluating Horizon:  (10 min) for period starting 2020-01-28\n",
      "542/542 [==============================] - 1s 845us/step\n",
      "37/37 [==============================] - 0s 848us/step\n"
     ]
    },
    {
     "name": "stderr",
     "output_type": "stream",
     "text": [
      "C:\\Users\\Jop Brouwer\\AppData\\Local\\Temp\\ipykernel_26836\\1458596948.py:215: DeprecationWarning: DataFrameGroupBy.apply operated on the grouping columns. This behavior is deprecated, and in a future version of pandas the grouping columns will be excluded from the operation. Either pass `include_groups=False` to exclude the groupings or explicitly select the grouping columns after groupby to silence this warning.\n",
      "  val_returns = val_trade_df.groupby('DateTime').apply(\n"
     ]
    },
    {
     "name": "stdout",
     "output_type": "stream",
     "text": [
      "\n",
      "Evaluating Horizon:  (40 min) for period starting 2020-01-28\n",
      "542/542 [==============================] - 1s 877us/step\n",
      "37/37 [==============================] - 0s 2ms/step\n",
      "\n",
      "--- Testing best model for period ending 2022-01-29 ---\n",
      "Best Horizon Found:  (40 min)\n",
      "36/36 [==============================] - 0s 859us/step\n"
     ]
    },
    {
     "name": "stderr",
     "output_type": "stream",
     "text": [
      "C:\\Users\\Jop Brouwer\\AppData\\Local\\Temp\\ipykernel_26836\\1458596948.py:215: DeprecationWarning: DataFrameGroupBy.apply operated on the grouping columns. This behavior is deprecated, and in a future version of pandas the grouping columns will be excluded from the operation. Either pass `include_groups=False` to exclude the groupings or explicitly select the grouping columns after groupby to silence this warning.\n",
      "  val_returns = val_trade_df.groupby('DateTime').apply(\n",
      "C:\\Users\\Jop Brouwer\\AppData\\Local\\Temp\\ipykernel_26836\\1458596948.py:248: DeprecationWarning: DataFrameGroupBy.apply operated on the grouping columns. This behavior is deprecated, and in a future version of pandas the grouping columns will be excluded from the operation. Either pass `include_groups=False` to exclude the groupings or explicitly select the grouping columns after groupby to silence this warning.\n",
      "  grouped_returns = test_trade_df.groupby('DateTime').apply(\n"
     ]
    },
    {
     "name": "stdout",
     "output_type": "stream",
     "text": [
      "\n",
      "Evaluating Horizon:  (20 min) for period starting 2021-01-28\n",
      "578/578 [==============================] - 1s 1ms/step\n",
      "36/36 [==============================] - 0s 914us/step\n"
     ]
    },
    {
     "name": "stderr",
     "output_type": "stream",
     "text": [
      "C:\\Users\\Jop Brouwer\\AppData\\Local\\Temp\\ipykernel_26836\\1458596948.py:215: DeprecationWarning: DataFrameGroupBy.apply operated on the grouping columns. This behavior is deprecated, and in a future version of pandas the grouping columns will be excluded from the operation. Either pass `include_groups=False` to exclude the groupings or explicitly select the grouping columns after groupby to silence this warning.\n",
      "  val_returns = val_trade_df.groupby('DateTime').apply(\n"
     ]
    },
    {
     "name": "stdout",
     "output_type": "stream",
     "text": [
      "\n",
      "Evaluating Horizon:  (10 min) for period starting 2021-01-28\n",
      "578/578 [==============================] - 1s 853us/step\n",
      "36/36 [==============================] - 0s 900us/step\n"
     ]
    },
    {
     "name": "stderr",
     "output_type": "stream",
     "text": [
      "C:\\Users\\Jop Brouwer\\AppData\\Local\\Temp\\ipykernel_26836\\1458596948.py:215: DeprecationWarning: DataFrameGroupBy.apply operated on the grouping columns. This behavior is deprecated, and in a future version of pandas the grouping columns will be excluded from the operation. Either pass `include_groups=False` to exclude the groupings or explicitly select the grouping columns after groupby to silence this warning.\n",
      "  val_returns = val_trade_df.groupby('DateTime').apply(\n"
     ]
    },
    {
     "name": "stdout",
     "output_type": "stream",
     "text": [
      "\n",
      "Evaluating Horizon:  (40 min) for period starting 2021-01-28\n",
      "578/578 [==============================] - 1s 910us/step\n",
      "36/36 [==============================] - 0s 857us/step\n",
      "\n",
      "--- Testing best model for period ending 2023-01-29 ---\n",
      "Best Horizon Found:  (40 min)\n",
      "38/38 [==============================] - 0s 879us/step\n"
     ]
    },
    {
     "name": "stderr",
     "output_type": "stream",
     "text": [
      "C:\\Users\\Jop Brouwer\\AppData\\Local\\Temp\\ipykernel_26836\\1458596948.py:215: DeprecationWarning: DataFrameGroupBy.apply operated on the grouping columns. This behavior is deprecated, and in a future version of pandas the grouping columns will be excluded from the operation. Either pass `include_groups=False` to exclude the groupings or explicitly select the grouping columns after groupby to silence this warning.\n",
      "  val_returns = val_trade_df.groupby('DateTime').apply(\n",
      "C:\\Users\\Jop Brouwer\\AppData\\Local\\Temp\\ipykernel_26836\\1458596948.py:248: DeprecationWarning: DataFrameGroupBy.apply operated on the grouping columns. This behavior is deprecated, and in a future version of pandas the grouping columns will be excluded from the operation. Either pass `include_groups=False` to exclude the groupings or explicitly select the grouping columns after groupby to silence this warning.\n",
      "  grouped_returns = test_trade_df.groupby('DateTime').apply(\n"
     ]
    },
    {
     "name": "stdout",
     "output_type": "stream",
     "text": [
      "\n",
      "Evaluating Horizon:  (20 min) for period starting 2022-01-28\n",
      "614/614 [==============================] - 1s 798us/step\n",
      "38/38 [==============================] - 0s 895us/step\n"
     ]
    },
    {
     "name": "stderr",
     "output_type": "stream",
     "text": [
      "C:\\Users\\Jop Brouwer\\AppData\\Local\\Temp\\ipykernel_26836\\1458596948.py:215: DeprecationWarning: DataFrameGroupBy.apply operated on the grouping columns. This behavior is deprecated, and in a future version of pandas the grouping columns will be excluded from the operation. Either pass `include_groups=False` to exclude the groupings or explicitly select the grouping columns after groupby to silence this warning.\n",
      "  val_returns = val_trade_df.groupby('DateTime').apply(\n"
     ]
    },
    {
     "name": "stdout",
     "output_type": "stream",
     "text": [
      "\n",
      "Evaluating Horizon:  (10 min) for period starting 2022-01-28\n",
      "614/614 [==============================] - 1s 798us/step\n",
      "38/38 [==============================] - 0s 849us/step\n"
     ]
    },
    {
     "name": "stderr",
     "output_type": "stream",
     "text": [
      "C:\\Users\\Jop Brouwer\\AppData\\Local\\Temp\\ipykernel_26836\\1458596948.py:215: DeprecationWarning: DataFrameGroupBy.apply operated on the grouping columns. This behavior is deprecated, and in a future version of pandas the grouping columns will be excluded from the operation. Either pass `include_groups=False` to exclude the groupings or explicitly select the grouping columns after groupby to silence this warning.\n",
      "  val_returns = val_trade_df.groupby('DateTime').apply(\n"
     ]
    },
    {
     "name": "stdout",
     "output_type": "stream",
     "text": [
      "\n",
      "Evaluating Horizon:  (40 min) for period starting 2022-01-28\n",
      "614/614 [==============================] - 1s 804us/step\n",
      "38/38 [==============================] - 0s 865us/step\n",
      "\n",
      "--- Testing best model for period ending 2024-01-29 ---\n",
      "Best Horizon Found:  (40 min)\n",
      "37/37 [==============================] - 0s 977us/step\n"
     ]
    },
    {
     "name": "stderr",
     "output_type": "stream",
     "text": [
      "C:\\Users\\Jop Brouwer\\AppData\\Local\\Temp\\ipykernel_26836\\1458596948.py:215: DeprecationWarning: DataFrameGroupBy.apply operated on the grouping columns. This behavior is deprecated, and in a future version of pandas the grouping columns will be excluded from the operation. Either pass `include_groups=False` to exclude the groupings or explicitly select the grouping columns after groupby to silence this warning.\n",
      "  val_returns = val_trade_df.groupby('DateTime').apply(\n",
      "C:\\Users\\Jop Brouwer\\AppData\\Local\\Temp\\ipykernel_26836\\1458596948.py:248: DeprecationWarning: DataFrameGroupBy.apply operated on the grouping columns. This behavior is deprecated, and in a future version of pandas the grouping columns will be excluded from the operation. Either pass `include_groups=False` to exclude the groupings or explicitly select the grouping columns after groupby to silence this warning.\n",
      "  grouped_returns = test_trade_df.groupby('DateTime').apply(\n"
     ]
    },
    {
     "data": {
      "image/png": "[encoded data removed]",
      "text/plain": [
       "<Figure size 1200x600 with 1 Axes>"
      ]
     },
     "metadata": {},
     "output_type": "display_data"
    },
    {
     "ename": "IndexError",
     "evalue": "tuple index out of range",
     "output_type": "error",
     "traceback": [
      "\u001b[31m---------------------------------------------------------------------------\u001b[39m",
      "\u001b[31mIndexError\u001b[39m                                Traceback (most recent call last)",
      "\u001b[36mCell\u001b[39m\u001b[36m \u001b[39m\u001b[32mIn[9]\u001b[39m\u001b[32m, line 284\u001b[39m\n\u001b[32m    282\u001b[39m y_pred_filtered = []\n\u001b[32m    283\u001b[39m \u001b[38;5;28;01mfor\u001b[39;00m true_label, pred_proba \u001b[38;5;129;01min\u001b[39;00m \u001b[38;5;28mzip\u001b[39m(all_test_truths, np.vstack(all_test_probas)):\n\u001b[32m--> \u001b[39m\u001b[32m284\u001b[39m     \u001b[38;5;28;01mif\u001b[39;00m true_label < \u001b[43mpred_proba\u001b[49m\u001b[43m.\u001b[49m\u001b[43mshape\u001b[49m\u001b[43m[\u001b[49m\u001b[32;43m1\u001b[39;49m\u001b[43m]\u001b[49m:\n\u001b[32m    285\u001b[39m         y_test_filtered.append(true_label)\n\u001b[32m    286\u001b[39m         y_pred_filtered.append(pred_proba)\n",
      "\u001b[31mIndexError\u001b[39m: tuple index out of range"
     ]
    }
   ],
   "source": [
    "import os\n",
    "os.environ['OMP_NUM_THREADS'] = '1'\n",
    "os.environ['OPENBLAS_NUM_THREADS'] = '1'\n",
    "os.environ['MKL_NUM_THREADS'] = '1'\n",
    "os.environ['VECLIB_MAXIMUM_THREADS'] = '1'\n",
    "os.environ['NUMEXPR_NUM_THREADS'] = '1'\n",
    "os.environ['PYTHONHASHSEED'] = '0'\n",
    "os.environ['TF_CPP_MIN_LOG_LEVEL'] = '2' # Suppress TensorFlow INFO and WARNING messages\n",
    "\n",
    "import matplotlib.pyplot as plt\n",
    "from sklearn.preprocessing import StandardScaler\n",
    "from sklearn.metrics import (\n",
    "    accuracy_score,\n",
    "    f1_score,\n",
    "    roc_auc_score,\n",
    "    precision_score,\n",
    "    recall_score\n",
    ")\n",
    "import numpy as np\n",
    "import pandas as pd\n",
    "import random\n",
    "import tensorflow as tf\n",
    "from tensorflow.keras.models import Sequential\n",
    "from tensorflow.keras.layers import LSTM, Dense, Dropout\n",
    "from tensorflow.keras.utils import to_categorical\n",
    "from tensorflow.keras.callbacks import EarlyStopping\n",
    "\n",
    "# Set random seeds for reproducibility\n",
    "np.random.seed(42)\n",
    "random.seed(42)\n",
    "tf.random.set_seed(42)\n",
    "\n",
    "# Assume df_ml is pre-loaded as a pandas DataFrame in your environment.\n",
    "# Make sure it contains 'DateTime', 'Surprise', feature columns,\n",
    "# 'Target Signal...' columns, and 'Forward Return...' columns.\n",
    "\n",
    "# --- Feature Engineering ---\n",
    "# feature_cols = all columns except 'DateTime' and the last 6 columns and also print out feature_cols and number of features\n",
    "# This logic needs to be adapted based on the dummy dataframe structure\n",
    "all_cols = df_ml.columns.tolist()\n",
    "exclude_cols = ['DateTime', 'Surprise'] + [col for col in all_cols if 'Target' in col or 'Forward' in col]\n",
    "feature_cols = [col for col in all_cols if col not in exclude_cols]\n",
    "print(\"Feature Columns:\", feature_cols)\n",
    "print(\"Number of Features:\", len(feature_cols))\n",
    "\n",
    "\n",
    "# --- Configuration ---\n",
    "horizons = [' (20 min)', ' (10 min)', ' (40 min)']\n",
    "N_CLASSES = 3 # Assuming classes are 0, 1, 2\n",
    "\n",
    "# --- Data Prep ---\n",
    "df_ml = df_ml.dropna(subset=['Surprise']).sort_values('DateTime')\n",
    "min_date = df_ml['DateTime'].min()\n",
    "max_date = df_ml['DateTime'].max()\n",
    "\n",
    "# --- Calculate Initial 30% Training Period ---\n",
    "total_duration = max_date - min_date\n",
    "initial_train_duration = total_duration * 0.3\n",
    "train_end_date = min_date + initial_train_duration\n",
    "\n",
    "# --- Tracking containers ---\n",
    "results = []\n",
    "all_test_returns = []\n",
    "all_dates = []\n",
    "all_test_preds = []\n",
    "all_test_truths = []\n",
    "all_test_probas = []\n",
    "fold_mean_returns = []\n",
    "best_horizons_list = []\n",
    "\n",
    "def create_lstm_model(input_shape, num_classes):\n",
    "    \"\"\"Creates a simple LSTM model.\"\"\"\n",
    "    model = Sequential([\n",
    "        LSTM(50, input_shape=input_shape, return_sequences=False, kernel_regularizer=tf.keras.regularizers.l2(0.001)),\n",
    "        Dropout(0.2),\n",
    "        Dense(25, activation='relu'),\n",
    "        Dense(num_classes, activation='softmax')\n",
    "    ])\n",
    "    model.compile(optimizer='adam',\n",
    "                  loss='categorical_crossentropy',\n",
    "                  metrics=['accuracy'])\n",
    "    return model\n",
    "\n",
    "def calculate_grouped_returns(df_group, horizon, stop_loss=None):\n",
    "    \"\"\"Calculate returns with position sizing and stop loss\"\"\"\n",
    "    active_trades = df_group[df_group['pred'] != 0]\n",
    "    if active_trades.empty:\n",
    "        return 0.0\n",
    "\n",
    "    longs = active_trades[active_trades['pred'] == 1].copy().reset_index(drop=True)\n",
    "    shorts = active_trades[active_trades['pred'] == 2].copy().reset_index(drop=True)\n",
    "\n",
    "    total_confidence = longs['proba'].sum() + shorts['proba'].sum()\n",
    "    if total_confidence == 0:\n",
    "        return 0.0\n",
    "\n",
    "    long_returns = 0.0\n",
    "    short_returns = 0.0\n",
    "\n",
    "    # Process longs\n",
    "    if not longs.empty:\n",
    "        long_weights = longs['proba'] / total_confidence\n",
    "        for idx in longs.index:\n",
    "            raw_return = longs.loc[idx, f'Forward Return{horizon}']\n",
    "            capped_raw = max(stop_loss, raw_return) if stop_loss is not None else raw_return\n",
    "            long_returns += capped_raw * long_weights.loc[idx]\n",
    "\n",
    "    # Process shorts\n",
    "    if not shorts.empty:\n",
    "        short_weights = shorts['proba'] / total_confidence\n",
    "        for idx in shorts.index:\n",
    "            raw_return = -shorts.loc[idx, f'Forward Return{horizon}']\n",
    "            capped_raw = max(stop_loss, raw_return) if stop_loss is not None else raw_return\n",
    "            short_returns += capped_raw * short_weights.loc[idx]\n",
    "\n",
    "    net_return = (long_returns + short_returns)\n",
    "    return net_return\n",
    "\n",
    "# --- Main Loop ---\n",
    "while True:\n",
    "    val_start_date = train_end_date + pd.DateOffset(days=1)\n",
    "    val_end_date = val_start_date + pd.DateOffset(years=1)\n",
    "    test_start_date = val_end_date + pd.DateOffset(days=1)\n",
    "    test_end_date = test_start_date + pd.DateOffset(years=1)\n",
    "\n",
    "    if val_end_date > max_date or test_end_date > max_date:\n",
    "        break\n",
    "\n",
    "    train_mask = df_ml['DateTime'] <= train_end_date\n",
    "    val_mask = (df_ml['DateTime'] >= val_start_date) & (df_ml['DateTime'] <= val_end_date)\n",
    "    test_mask = (df_ml['DateTime'] >= test_start_date) & (df_ml['DateTime'] <= test_end_date)\n",
    "\n",
    "    train_data = df_ml[train_mask]\n",
    "    val_data = df_ml[val_mask]\n",
    "    test_data = df_ml[test_mask]\n",
    "\n",
    "    if val_data.empty or test_data.empty:\n",
    "        print(f\"Skipping period {val_start_date.date()} to {test_end_date.date()} (no data)\")\n",
    "        train_end_date += pd.DateOffset(years=1)\n",
    "        continue\n",
    "\n",
    "    # --- Horizon Optimization ---\n",
    "    best_horizon, best_model, best_stop_loss = None, None, None\n",
    "    best_val_return = -np.inf\n",
    "\n",
    "    for horizon in horizons:\n",
    "        print(f\"\\nEvaluating Horizon: {horizon} for period starting {val_start_date.date()}\")\n",
    "        # Feature scaling\n",
    "        scaler = StandardScaler()\n",
    "        X_train_scaled = scaler.fit_transform(train_data[feature_cols])\n",
    "        X_val_scaled = scaler.transform(val_data[feature_cols])\n",
    "\n",
    "        # Reshape data for LSTM: [samples, timesteps, features]\n",
    "        X_train_reshaped = X_train_scaled.reshape((X_train_scaled.shape[0], 1, X_train_scaled.shape[1]))\n",
    "        X_val_reshaped = X_val_scaled.reshape((X_val_scaled.shape[0], 1, X_val_scaled.shape[1]))\n",
    "\n",
    "        y_train = train_data[f'Target Signal{horizon}']\n",
    "        y_val = val_data[f'Target Signal{horizon}']\n",
    "\n",
    "        # One-hot encode the labels\n",
    "        y_train_cat = to_categorical(y_train, num_classes=N_CLASSES)\n",
    "        y_val_cat = to_categorical(y_val, num_classes=N_CLASSES)\n",
    "\n",
    "        # Create and Train LSTM model\n",
    "        model = create_lstm_model(input_shape=(X_train_reshaped.shape[1], X_train_reshaped.shape[2]), num_classes=N_CLASSES)\n",
    "        early_stopping = EarlyStopping(monitor='val_loss', patience=5, restore_best_weights=True)\n",
    "\n",
    "        model.fit(X_train_reshaped, y_train_cat,\n",
    "                  validation_data=(X_val_reshaped, y_val_cat),\n",
    "                  epochs=50,\n",
    "                  batch_size=32,\n",
    "                  callbacks=[early_stopping],\n",
    "                  verbose=0) # Set to 1 to see training progress\n",
    "\n",
    "        # Get class probabilities\n",
    "        train_probas = model.predict(X_train_reshaped)\n",
    "        train_preds = np.argmax(train_probas, axis=1)\n",
    "\n",
    "        # Training stop loss calculation\n",
    "        train_trade_df = pd.DataFrame({\n",
    "            'DateTime': train_data['DateTime'],\n",
    "            'pred': train_preds,\n",
    "            'proba': [proba[pred] for pred, proba in zip(train_preds, train_probas)],\n",
    "            f'Forward Return{horizon}': train_data[f'Forward Return{horizon}'].values\n",
    "        })\n",
    "\n",
    "        train_raw_returns = []\n",
    "        for _, row in train_trade_df.iterrows():\n",
    "            if row['pred'] == 1:\n",
    "                train_raw_returns.append(row[f'Forward Return{horizon}'])\n",
    "            elif row['pred'] == 2:\n",
    "                train_raw_returns.append(-row[f'Forward Return{horizon}'])\n",
    "        stop_loss_train = np.percentile(train_raw_returns, 5) if train_raw_returns else None\n",
    "\n",
    "        # Validation predictions\n",
    "        val_probas = model.predict(X_val_reshaped)\n",
    "        val_preds = np.argmax(val_probas, axis=1)\n",
    "        val_trade_df = pd.DataFrame({\n",
    "            'DateTime': val_data['DateTime'],\n",
    "            'pred': val_preds,\n",
    "            'proba': [proba[pred] for pred, proba in zip(val_preds, val_probas)],\n",
    "            f'Forward Return{horizon}': val_data[f'Forward Return{horizon}'].values\n",
    "        })\n",
    "\n",
    "        # Validation stop loss calculation (for test set)\n",
    "        val_raw_returns = []\n",
    "        for _, row in val_trade_df.iterrows():\n",
    "            if row['pred'] == 1:\n",
    "                val_raw_returns.append(row[f'Forward Return{horizon}'])\n",
    "            elif row['pred'] == 2:\n",
    "                val_raw_returns.append(-row[f'Forward Return{horizon}'])\n",
    "        stop_loss_val = np.percentile(val_raw_returns, 5) if val_raw_returns else None\n",
    "\n",
    "        # Validate using training stop loss\n",
    "        val_returns = val_trade_df.groupby('DateTime').apply(\n",
    "            lambda x: calculate_grouped_returns(x, horizon, stop_loss_train)\n",
    "        ).values\n",
    "\n",
    "        total_val_return = (1 + val_returns).prod() - 1\n",
    "\n",
    "        if total_val_return > best_val_return:\n",
    "            best_val_return = total_val_return\n",
    "            best_horizon = horizon\n",
    "            best_model = model\n",
    "            best_stop_loss = stop_loss_val\n",
    "            # We also need to save the scaler from the best model\n",
    "            best_scaler = scaler\n",
    "\n",
    "    # --- Test Best Model ---\n",
    "    if best_model and best_stop_loss is not None:\n",
    "        print(f\"\\n--- Testing best model for period ending {test_end_date.date()} ---\")\n",
    "        print(f\"Best Horizon Found: {best_horizon}\")\n",
    "        # Use the scaler from the best model's training data\n",
    "        X_test_scaled = best_scaler.transform(test_data[feature_cols])\n",
    "        X_test_reshaped = X_test_scaled.reshape((X_test_scaled.shape[0], 1, X_test_scaled.shape[1]))\n",
    "        \n",
    "        test_probas = best_model.predict(X_test_reshaped)\n",
    "        test_preds = np.argmax(test_probas, axis=1)\n",
    "        y_test = test_data[f'Target Signal{best_horizon}'].values\n",
    "\n",
    "        test_trade_df = pd.DataFrame({\n",
    "            'DateTime': test_data['DateTime'],\n",
    "            'pred': test_preds,\n",
    "            'proba': [proba[pred] for pred, proba in zip(test_preds, test_probas)],\n",
    "            f'Forward Return{best_horizon}': test_data[f'Forward Return{best_horizon}'].values\n",
    "        })\n",
    "\n",
    "        grouped_returns = test_trade_df.groupby('DateTime').apply(\n",
    "            lambda x: calculate_grouped_returns(x, best_horizon, best_stop_loss)\n",
    "        ).values\n",
    "\n",
    "        all_test_returns.extend(grouped_returns)\n",
    "        all_dates.extend(test_trade_df['DateTime'].unique().tolist())\n",
    "        all_test_preds.extend(test_preds)\n",
    "        all_test_truths.extend(y_test)\n",
    "        all_test_probas.append(test_probas)\n",
    "        fold_mean_returns.append(np.mean(grouped_returns))\n",
    "        best_horizons_list.append(best_horizon or 'standard')\n",
    "\n",
    "    train_end_date += pd.DateOffset(years=1)\n",
    "\n",
    "# --- Results ---\n",
    "if all_test_returns:\n",
    "    cumulative_returns = (1 + np.array(all_test_returns)).cumprod() - 1\n",
    "    std_dev_individual = np.std(all_test_returns) * 100\n",
    "    min_return = np.nanmin(all_test_returns) * 100 if all_test_returns else 0.0\n",
    "\n",
    "    plt.figure(figsize=(12, 6))\n",
    "    # Ensure dates are sorted for plotting\n",
    "    sorted_dates, sorted_returns = zip(*sorted(zip(all_dates, cumulative_returns)))\n",
    "    plt.plot(sorted_dates, [r * 100 for r in sorted_returns])\n",
    "    plt.title('Cumulative Returns (LSTM with Stop Loss)')\n",
    "    plt.xlabel('Date')\n",
    "    plt.ylabel('Cumulative Return (%)')\n",
    "    plt.grid(True)\n",
    "    plt.show()\n",
    "\n",
    "    # Filter out samples where true label is not in predicted probabilities\n",
    "    # This can happen if a class (e.g., 0, 1, or 2) is not present in y_train\n",
    "    # but is present in y_test, which affects ROC AUC.\n",
    "    y_test_filtered = []\n",
    "    y_pred_filtered = []\n",
    "    for true_label, pred_proba in zip(all_test_truths, np.vstack(all_test_probas)):\n",
    "        if true_label < pred_proba.shape[1]:\n",
    "            y_test_filtered.append(true_label)\n",
    "            y_pred_filtered.append(pred_proba)\n",
    "\n",
    "    y_test_filtered_cat = to_categorical(y_test_filtered, num_classes=N_CLASSES)\n",
    "\n",
    "    print(f\"Final Cumulative Compounded Return: {cumulative_returns[-1]*100:.2f}%\")\n",
    "    print(f\"\\nOverall Test Accuracy : {accuracy_score(all_test_truths, all_test_preds)*100:.2f}%\")\n",
    "    print(f\"Overall Precision     : {precision_score(all_test_truths, all_test_preds, average='macro', zero_division=0)*100:.2f}%\")\n",
    "    print(f\"Overall Recall        : {recall_score(all_test_truths, all_test_preds, average='macro', zero_division=0)*100:.2f}%\")\n",
    "    print(f\"Overall F1 Score      : {f1_score(all_test_truths, all_test_preds, average='macro', zero_division=0)*100:.2f}%\")\n",
    "    if len(y_test_filtered) > 0 and len(np.unique(y_test_filtered)) > 1:\n",
    "        print(f\"Overall ROC AUC       : {roc_auc_score(y_test_filtered_cat, np.array(y_pred_filtered), multi_class='ovo', average='macro')*100:.2f}%\")\n",
    "    else:\n",
    "        print(\"Overall ROC AUC       : Not enough data for calculation\")\n",
    "    print(f\"\\nAverage Fold Test Return : {np.mean(fold_mean_returns)*100:.5f}%\")\n",
    "    print(f\"\\nStandard Deviation of All Test Returns (Aggregated Daily): {std_dev_individual:.5f}%\")\n",
    "    print(f\"\\nMinimum Return (Aggregated Daily): {min_return:.5f}%\")\n",
    "    print(\"\\nOptimal Horizon Counts:\")\n",
    "    print(pd.Series(best_horizons_list).value_counts())\n",
    "    print(\"\\nTest Set Position Counts:\")\n",
    "    counts = pd.Series(all_test_preds).value_counts().sort_index()\n",
    "    print(f\"Neutral (0): {counts.get(0, 0)}\")\n",
    "    print(f\"Long (1): {counts.get(1, 0)}\")\n",
    "    print(f\"Short (2): {counts.get(2, 0)}\")\n",
    "\n",
    "else:\n",
    "    print(\"No valid test periods found\")\n"
   ]
  },
  {
   "cell_type": "code",
   "execution_count": 10,
   "id": "3123ad95",
   "metadata": {},
   "outputs": [
    {
     "name": "stdout",
     "output_type": "stream",
     "text": [
      "Feature Columns: ['ACNFCOMF Index_Surprise', 'ADP CHNG Index_Surprise', 'AHE MOM% Index_Surprise', 'AHE YOY% Index_Surprise', 'AMSPPACE Index_Surprise', 'AWH TOTL Index_Surprise', 'CFNAI Index_Surprise', 'CGNOXAI% Index_Surprise', 'CGSHXAI% Index_Surprise', 'CHPMINDX Index_Surprise', 'CICRTOT Index_Surprise', 'CNSTTMOM Index_Surprise', 'COMFCOMF Index_Surprise', 'CONCCONF Index_Surprise', 'CONSCURR Index_Surprise', 'CONSEXP Index_Surprise', 'CONSP5MD Index_Surprise', 'CONSPXMD Index_Surprise', 'CONSSENT Index_Surprise', 'COSTNFR% Index_Surprise', 'CPI CHNG Index_Surprise', 'CPI XYOY Index_Surprise', 'CPI YOY Index_Surprise', 'CPTICHNG Index_Surprise', 'CPUPAXFE Index_Surprise', 'CPUPXCHG Index_Surprise', 'CPURNSA Index_Surprise', 'DFEDGBA Index_Surprise', 'DGNOCHNG Index_Surprise', 'DGNOXTCH Index_Surprise', 'DOTDLTMD Index_Surprise', 'DOTDY0MD Index_Surprise', 'DOTDY1MD Index_Surprise', 'DOTDY2MD Index_Surprise', 'DSERGBCC Index_Surprise', 'ECI SA% Index_Surprise', 'ECONUSIB Index_Surprise', 'EHSLSL Index_Surprise', 'EMPRGBCI Index_Surprise', 'ETSLMOM Index_Surprise', 'ETSLTOTL Index_Surprise', 'EXP1CMOM Index_Surprise', 'EXP1CYOY Index_Surprise', 'FDDSSD Index_Surprise', 'FDEBTY Index_Surprise', 'FDIDFDMO Index_Surprise', 'FDIDSGMO Index_Surprise', 'FDIDSGUM Index_Surprise', 'FDIUFDYO Index_Surprise', 'FDIUSGUY Index_Surprise', 'FDIUSGYO Index_Surprise', 'FDTR Index_Surprise', 'FDTRFTRL Index_Surprise', 'FRNTTNET Index_Surprise', 'FRNTTOTL Index_Surprise', 'GDP CQOQ Index_Surprise', 'GDP DCHG Index_Surprise', 'GDP PIQQ Index_Surprise', 'GDPCPCEC Index_Surprise', 'GDPCTOT% Index_Surprise', 'HPI PURQ Index_Surprise', 'HPI QOQ% Index_Surprise', 'HPIMMOM% Index_Surprise', 'IMP1CHNG Index_Surprise', 'IMP1XPM% Index_Surprise', 'IMP1YOY% Index_Surprise', 'INJCJC Index_Surprise', 'INJCSP Index_Surprise', 'IP CHNG Index_Surprise', 'IPMGCHNG Index_Surprise', 'IRRBIOER Index_Surprise', 'JOLTTOTL Index_Surprise', 'KCLSSACI Index_Surprise', 'LEI CHNG Index_Surprise', 'LHWANWPA Index_Surprise', 'LMCILMCC Index_Surprise', 'MAPMINDX Index_Surprise', 'MBAVCHNG Index_Surprise', 'MBRXYOY Index_Surprise', 'MBRXYOYW Index_Surprise', 'MPMIUSCA Index_Surprise', 'MPMIUSMA Index_Surprise', 'MPMIUSSA Index_Surprise', 'MTIBCHNG Index_Surprise', 'MWINCHNG Index_Surprise', 'MWSLCHNG Index_Surprise', 'NAPMEMPL Index_Surprise', 'NAPMNEMP Index_Surprise', 'NAPMNEWO Index_Surprise', 'NAPMNMAN Index_Surprise', 'NAPMNMI Index_Surprise', 'NAPMNNO Index_Surprise', 'NAPMNPRC Index_Surprise', 'NAPMPMI Index_Surprise', 'NAPMPRIC Index_Surprise', 'NFP CPYC Index_Surprise', 'NFP PCH Index_Surprise', 'NFP TCH Index_Surprise', 'NHCHATCH Index_Surprise', 'NHCHSTCH Index_Surprise', 'NHSLCHNG Index_Surprise', 'NHSLTOT Index_Surprise', 'NHSPATOT Index_Surprise', 'NHSPSTOT Index_Surprise', 'NYBLCNBA Index_Surprise', 'NYCNM1IR Index_Surprise', 'NYPMCURR Index_Surprise', 'OUTFGAF Index_Surprise', 'PCE CHNC Index_Surprise', 'PCE CMOM Index_Surprise', 'PCE CRCH Index_Surprise', 'PCE CYOY Index_Surprise', 'PCE DEFM Index_Surprise', 'PCE DEFY Index_Surprise', 'PHUCTOT Index_Surprise', 'PITLCHNG Index_Surprise', 'PNMARADI Index_Surprise', 'PPI CHNG Index_Surprise', 'PPI XYOY Index_Surprise', 'PPI YOY Index_Surprise', 'PRODNFR% Index_Surprise', 'PRUSTOT Index_Surprise', 'PXFECHNG Index_Surprise', 'RCHSINDX Index_Surprise', 'REALRAWE Index_Surprise', 'REALYRAE Index_Surprise', 'RSRSTMOM Index_Surprise', 'RSTAMOM Index_Surprise', 'RSTAXAG% Index_Surprise', 'RSTAXAGM Index_Surprise', 'RSTAXMOM Index_Surprise', 'RTSDCHNG Index_Surprise', 'RTSDXCHG Index_Surprise', 'SAARDTOT Index_Surprise', 'SAARTOTL Index_Surprise', 'SBOITOTL Index_Surprise', 'SPCS20 Index_Surprise', 'SPCS20SM Index_Surprise', 'SPCS20Y% Index_Surprise', 'SPCSUSA Index_Surprise', 'SPCSUSAY Index_Surprise', 'SPCSUSQS Index_Surprise', 'TMNOCHNG Index_Surprise', 'TMNOXTM% Index_Surprise', 'TREFAMSP Index_Surprise', 'TREFPACE Index_Surprise', 'USCABAL Index_Surprise', 'USEMNCHG Index_Surprise', 'USHBMIDX Index_Surprise', 'USHETOT% Index_Surprise', 'USHEYOY Index_Surprise', 'USMMMNCH Index_Surprise', 'USPHTMOM Index_Surprise', 'USPHTYOY Index_Surprise', 'USTBTOT Index_Surprise', 'USTGTTCB Index_Surprise', 'USUDMAER Index_Surprise', 'USURTOT Index_Surprise', 'USWHMANS Index_Surprise', 'USWHTOT Index_Surprise', 'VNCCCMOM Index_Surprise', 'SMA5', 'SMA10', 'SMA15', 'SMA20', 'SMA50', 'SMA100', 'SMA200', 'SMA5Cross', 'SMA10Cross', 'SMA15Cross', 'SMA20Cross', 'SMA50Cross', 'SMA100Cross', 'SMA200Cross', 'UpDown10', 'UpDown15', 'UpDown50', 'last_gdp_gr', 'last_vix', 'R', 'Volume_L1', 'Std Dev']\n",
      "Number of Features: 183\n",
      "\n",
      "Evaluating Horizon:  (20 min) for period starting 2006-01-28\n",
      "126/126 [==============================] - 0s 1ms/step\n",
      "23/23 [==============================] - 0s 1ms/step\n"
     ]
    },
    {
     "name": "stderr",
     "output_type": "stream",
     "text": [
      "C:\\Users\\Jop Brouwer\\AppData\\Local\\Temp\\ipykernel_26836\\3094100551.py:215: DeprecationWarning: DataFrameGroupBy.apply operated on the grouping columns. This behavior is deprecated, and in a future version of pandas the grouping columns will be excluded from the operation. Either pass `include_groups=False` to exclude the groupings or explicitly select the grouping columns after groupby to silence this warning.\n",
      "  val_returns = val_trade_df.groupby('DateTime').apply(\n"
     ]
    },
    {
     "name": "stdout",
     "output_type": "stream",
     "text": [
      "\n",
      "Evaluating Horizon:  (10 min) for period starting 2006-01-28\n",
      "126/126 [==============================] - 0s 966us/step\n",
      "23/23 [==============================] - 0s 2ms/step\n"
     ]
    },
    {
     "name": "stderr",
     "output_type": "stream",
     "text": [
      "C:\\Users\\Jop Brouwer\\AppData\\Local\\Temp\\ipykernel_26836\\3094100551.py:215: DeprecationWarning: DataFrameGroupBy.apply operated on the grouping columns. This behavior is deprecated, and in a future version of pandas the grouping columns will be excluded from the operation. Either pass `include_groups=False` to exclude the groupings or explicitly select the grouping columns after groupby to silence this warning.\n",
      "  val_returns = val_trade_df.groupby('DateTime').apply(\n"
     ]
    },
    {
     "name": "stdout",
     "output_type": "stream",
     "text": [
      "\n",
      "Evaluating Horizon:  (40 min) for period starting 2006-01-28\n",
      "126/126 [==============================] - 0s 848us/step\n",
      "23/23 [==============================] - 0s 864us/step\n",
      "\n",
      "--- Testing best model for period ending 2008-01-29 ---\n",
      "Best Horizon Found:  (40 min)\n",
      "25/25 [==============================] - 0s 875us/step\n"
     ]
    },
    {
     "name": "stderr",
     "output_type": "stream",
     "text": [
      "C:\\Users\\Jop Brouwer\\AppData\\Local\\Temp\\ipykernel_26836\\3094100551.py:215: DeprecationWarning: DataFrameGroupBy.apply operated on the grouping columns. This behavior is deprecated, and in a future version of pandas the grouping columns will be excluded from the operation. Either pass `include_groups=False` to exclude the groupings or explicitly select the grouping columns after groupby to silence this warning.\n",
      "  val_returns = val_trade_df.groupby('DateTime').apply(\n",
      "C:\\Users\\Jop Brouwer\\AppData\\Local\\Temp\\ipykernel_26836\\3094100551.py:248: DeprecationWarning: DataFrameGroupBy.apply operated on the grouping columns. This behavior is deprecated, and in a future version of pandas the grouping columns will be excluded from the operation. Either pass `include_groups=False` to exclude the groupings or explicitly select the grouping columns after groupby to silence this warning.\n",
      "  grouped_returns = test_trade_df.groupby('DateTime').apply(\n"
     ]
    },
    {
     "name": "stdout",
     "output_type": "stream",
     "text": [
      "\n",
      "Evaluating Horizon:  (20 min) for period starting 2007-01-28\n",
      "149/149 [==============================] - 0s 845us/step\n",
      "24/24 [==============================] - 0s 870us/step\n"
     ]
    },
    {
     "name": "stderr",
     "output_type": "stream",
     "text": [
      "C:\\Users\\Jop Brouwer\\AppData\\Local\\Temp\\ipykernel_26836\\3094100551.py:215: DeprecationWarning: DataFrameGroupBy.apply operated on the grouping columns. This behavior is deprecated, and in a future version of pandas the grouping columns will be excluded from the operation. Either pass `include_groups=False` to exclude the groupings or explicitly select the grouping columns after groupby to silence this warning.\n",
      "  val_returns = val_trade_df.groupby('DateTime').apply(\n"
     ]
    },
    {
     "name": "stdout",
     "output_type": "stream",
     "text": [
      "\n",
      "Evaluating Horizon:  (10 min) for period starting 2007-01-28\n",
      "149/149 [==============================] - 0s 882us/step\n",
      "24/24 [==============================] - 0s 870us/step\n"
     ]
    },
    {
     "name": "stderr",
     "output_type": "stream",
     "text": [
      "C:\\Users\\Jop Brouwer\\AppData\\Local\\Temp\\ipykernel_26836\\3094100551.py:215: DeprecationWarning: DataFrameGroupBy.apply operated on the grouping columns. This behavior is deprecated, and in a future version of pandas the grouping columns will be excluded from the operation. Either pass `include_groups=False` to exclude the groupings or explicitly select the grouping columns after groupby to silence this warning.\n",
      "  val_returns = val_trade_df.groupby('DateTime').apply(\n"
     ]
    },
    {
     "name": "stdout",
     "output_type": "stream",
     "text": [
      "\n",
      "Evaluating Horizon:  (40 min) for period starting 2007-01-28\n",
      "149/149 [==============================] - 0s 1ms/step\n",
      "24/24 [==============================] - 0s 826us/step\n",
      "\n",
      "--- Testing best model for period ending 2009-01-29 ---\n",
      "Best Horizon Found:  (40 min)\n",
      "27/27 [==============================] - 0s 789us/step\n"
     ]
    },
    {
     "name": "stderr",
     "output_type": "stream",
     "text": [
      "C:\\Users\\Jop Brouwer\\AppData\\Local\\Temp\\ipykernel_26836\\3094100551.py:215: DeprecationWarning: DataFrameGroupBy.apply operated on the grouping columns. This behavior is deprecated, and in a future version of pandas the grouping columns will be excluded from the operation. Either pass `include_groups=False` to exclude the groupings or explicitly select the grouping columns after groupby to silence this warning.\n",
      "  val_returns = val_trade_df.groupby('DateTime').apply(\n",
      "C:\\Users\\Jop Brouwer\\AppData\\Local\\Temp\\ipykernel_26836\\3094100551.py:248: DeprecationWarning: DataFrameGroupBy.apply operated on the grouping columns. This behavior is deprecated, and in a future version of pandas the grouping columns will be excluded from the operation. Either pass `include_groups=False` to exclude the groupings or explicitly select the grouping columns after groupby to silence this warning.\n",
      "  grouped_returns = test_trade_df.groupby('DateTime').apply(\n"
     ]
    },
    {
     "name": "stdout",
     "output_type": "stream",
     "text": [
      "\n",
      "Evaluating Horizon:  (20 min) for period starting 2008-01-28\n",
      "172/172 [==============================] - 0s 806us/step\n",
      "27/27 [==============================] - 0s 866us/step\n"
     ]
    },
    {
     "name": "stderr",
     "output_type": "stream",
     "text": [
      "C:\\Users\\Jop Brouwer\\AppData\\Local\\Temp\\ipykernel_26836\\3094100551.py:215: DeprecationWarning: DataFrameGroupBy.apply operated on the grouping columns. This behavior is deprecated, and in a future version of pandas the grouping columns will be excluded from the operation. Either pass `include_groups=False` to exclude the groupings or explicitly select the grouping columns after groupby to silence this warning.\n",
      "  val_returns = val_trade_df.groupby('DateTime').apply(\n"
     ]
    },
    {
     "name": "stdout",
     "output_type": "stream",
     "text": [
      "\n",
      "Evaluating Horizon:  (10 min) for period starting 2008-01-28\n",
      "172/172 [==============================] - 0s 802us/step\n",
      "27/27 [==============================] - 0s 962us/step\n"
     ]
    },
    {
     "name": "stderr",
     "output_type": "stream",
     "text": [
      "C:\\Users\\Jop Brouwer\\AppData\\Local\\Temp\\ipykernel_26836\\3094100551.py:215: DeprecationWarning: DataFrameGroupBy.apply operated on the grouping columns. This behavior is deprecated, and in a future version of pandas the grouping columns will be excluded from the operation. Either pass `include_groups=False` to exclude the groupings or explicitly select the grouping columns after groupby to silence this warning.\n",
      "  val_returns = val_trade_df.groupby('DateTime').apply(\n"
     ]
    },
    {
     "name": "stdout",
     "output_type": "stream",
     "text": [
      "\n",
      "Evaluating Horizon:  (40 min) for period starting 2008-01-28\n",
      "172/172 [==============================] - 0s 825us/step\n",
      "27/27 [==============================] - 0s 846us/step\n",
      "\n",
      "--- Testing best model for period ending 2010-01-29 ---\n",
      "Best Horizon Found:  (40 min)\n",
      "29/29 [==============================] - 0s 821us/step\n"
     ]
    },
    {
     "name": "stderr",
     "output_type": "stream",
     "text": [
      "C:\\Users\\Jop Brouwer\\AppData\\Local\\Temp\\ipykernel_26836\\3094100551.py:215: DeprecationWarning: DataFrameGroupBy.apply operated on the grouping columns. This behavior is deprecated, and in a future version of pandas the grouping columns will be excluded from the operation. Either pass `include_groups=False` to exclude the groupings or explicitly select the grouping columns after groupby to silence this warning.\n",
      "  val_returns = val_trade_df.groupby('DateTime').apply(\n",
      "C:\\Users\\Jop Brouwer\\AppData\\Local\\Temp\\ipykernel_26836\\3094100551.py:248: DeprecationWarning: DataFrameGroupBy.apply operated on the grouping columns. This behavior is deprecated, and in a future version of pandas the grouping columns will be excluded from the operation. Either pass `include_groups=False` to exclude the groupings or explicitly select the grouping columns after groupby to silence this warning.\n",
      "  grouped_returns = test_trade_df.groupby('DateTime').apply(\n"
     ]
    },
    {
     "name": "stdout",
     "output_type": "stream",
     "text": [
      "\n",
      "Evaluating Horizon:  (20 min) for period starting 2009-01-28\n",
      "199/199 [==============================] - 0s 806us/step\n",
      "29/29 [==============================] - 0s 822us/step\n"
     ]
    },
    {
     "name": "stderr",
     "output_type": "stream",
     "text": [
      "C:\\Users\\Jop Brouwer\\AppData\\Local\\Temp\\ipykernel_26836\\3094100551.py:215: DeprecationWarning: DataFrameGroupBy.apply operated on the grouping columns. This behavior is deprecated, and in a future version of pandas the grouping columns will be excluded from the operation. Either pass `include_groups=False` to exclude the groupings or explicitly select the grouping columns after groupby to silence this warning.\n",
      "  val_returns = val_trade_df.groupby('DateTime').apply(\n"
     ]
    },
    {
     "name": "stdout",
     "output_type": "stream",
     "text": [
      "\n",
      "Evaluating Horizon:  (10 min) for period starting 2009-01-28\n",
      "199/199 [==============================] - 0s 1ms/step\n",
      "29/29 [==============================] - 0s 825us/step\n"
     ]
    },
    {
     "name": "stderr",
     "output_type": "stream",
     "text": [
      "C:\\Users\\Jop Brouwer\\AppData\\Local\\Temp\\ipykernel_26836\\3094100551.py:215: DeprecationWarning: DataFrameGroupBy.apply operated on the grouping columns. This behavior is deprecated, and in a future version of pandas the grouping columns will be excluded from the operation. Either pass `include_groups=False` to exclude the groupings or explicitly select the grouping columns after groupby to silence this warning.\n",
      "  val_returns = val_trade_df.groupby('DateTime').apply(\n"
     ]
    },
    {
     "name": "stdout",
     "output_type": "stream",
     "text": [
      "\n",
      "Evaluating Horizon:  (40 min) for period starting 2009-01-28\n",
      "199/199 [==============================] - 0s 835us/step\n",
      "29/29 [==============================] - 0s 822us/step\n",
      "\n",
      "--- Testing best model for period ending 2011-01-29 ---\n",
      "Best Horizon Found:  (40 min)\n",
      "30/30 [==============================] - 0s 897us/step\n"
     ]
    },
    {
     "name": "stderr",
     "output_type": "stream",
     "text": [
      "C:\\Users\\Jop Brouwer\\AppData\\Local\\Temp\\ipykernel_26836\\3094100551.py:215: DeprecationWarning: DataFrameGroupBy.apply operated on the grouping columns. This behavior is deprecated, and in a future version of pandas the grouping columns will be excluded from the operation. Either pass `include_groups=False` to exclude the groupings or explicitly select the grouping columns after groupby to silence this warning.\n",
      "  val_returns = val_trade_df.groupby('DateTime').apply(\n",
      "C:\\Users\\Jop Brouwer\\AppData\\Local\\Temp\\ipykernel_26836\\3094100551.py:248: DeprecationWarning: DataFrameGroupBy.apply operated on the grouping columns. This behavior is deprecated, and in a future version of pandas the grouping columns will be excluded from the operation. Either pass `include_groups=False` to exclude the groupings or explicitly select the grouping columns after groupby to silence this warning.\n",
      "  grouped_returns = test_trade_df.groupby('DateTime').apply(\n"
     ]
    },
    {
     "name": "stdout",
     "output_type": "stream",
     "text": [
      "\n",
      "Evaluating Horizon:  (20 min) for period starting 2010-01-28\n",
      "227/227 [==============================] - 1s 1ms/step\n",
      "30/30 [==============================] - 0s 862us/step\n"
     ]
    },
    {
     "name": "stderr",
     "output_type": "stream",
     "text": [
      "C:\\Users\\Jop Brouwer\\AppData\\Local\\Temp\\ipykernel_26836\\3094100551.py:215: DeprecationWarning: DataFrameGroupBy.apply operated on the grouping columns. This behavior is deprecated, and in a future version of pandas the grouping columns will be excluded from the operation. Either pass `include_groups=False` to exclude the groupings or explicitly select the grouping columns after groupby to silence this warning.\n",
      "  val_returns = val_trade_df.groupby('DateTime').apply(\n"
     ]
    },
    {
     "name": "stdout",
     "output_type": "stream",
     "text": [
      "\n",
      "Evaluating Horizon:  (10 min) for period starting 2010-01-28\n",
      "227/227 [==============================] - 0s 818us/step\n",
      "30/30 [==============================] - 0s 828us/step\n"
     ]
    },
    {
     "name": "stderr",
     "output_type": "stream",
     "text": [
      "C:\\Users\\Jop Brouwer\\AppData\\Local\\Temp\\ipykernel_26836\\3094100551.py:215: DeprecationWarning: DataFrameGroupBy.apply operated on the grouping columns. This behavior is deprecated, and in a future version of pandas the grouping columns will be excluded from the operation. Either pass `include_groups=False` to exclude the groupings or explicitly select the grouping columns after groupby to silence this warning.\n",
      "  val_returns = val_trade_df.groupby('DateTime').apply(\n"
     ]
    },
    {
     "name": "stdout",
     "output_type": "stream",
     "text": [
      "\n",
      "Evaluating Horizon:  (40 min) for period starting 2010-01-28\n",
      "227/227 [==============================] - 1s 1ms/step\n",
      "30/30 [==============================] - 0s 845us/step\n",
      "\n",
      "--- Testing best model for period ending 2012-01-29 ---\n",
      "Best Horizon Found:  (20 min)\n",
      "31/31 [==============================] - 0s 833us/step\n"
     ]
    },
    {
     "name": "stderr",
     "output_type": "stream",
     "text": [
      "C:\\Users\\Jop Brouwer\\AppData\\Local\\Temp\\ipykernel_26836\\3094100551.py:215: DeprecationWarning: DataFrameGroupBy.apply operated on the grouping columns. This behavior is deprecated, and in a future version of pandas the grouping columns will be excluded from the operation. Either pass `include_groups=False` to exclude the groupings or explicitly select the grouping columns after groupby to silence this warning.\n",
      "  val_returns = val_trade_df.groupby('DateTime').apply(\n",
      "C:\\Users\\Jop Brouwer\\AppData\\Local\\Temp\\ipykernel_26836\\3094100551.py:248: DeprecationWarning: DataFrameGroupBy.apply operated on the grouping columns. This behavior is deprecated, and in a future version of pandas the grouping columns will be excluded from the operation. Either pass `include_groups=False` to exclude the groupings or explicitly select the grouping columns after groupby to silence this warning.\n",
      "  grouped_returns = test_trade_df.groupby('DateTime').apply(\n"
     ]
    },
    {
     "name": "stdout",
     "output_type": "stream",
     "text": [
      "\n",
      "Evaluating Horizon:  (20 min) for period starting 2011-01-28\n",
      "257/257 [==============================] - 1s 1ms/step\n",
      "31/31 [==============================] - 0s 900us/step\n"
     ]
    },
    {
     "name": "stderr",
     "output_type": "stream",
     "text": [
      "C:\\Users\\Jop Brouwer\\AppData\\Local\\Temp\\ipykernel_26836\\3094100551.py:215: DeprecationWarning: DataFrameGroupBy.apply operated on the grouping columns. This behavior is deprecated, and in a future version of pandas the grouping columns will be excluded from the operation. Either pass `include_groups=False` to exclude the groupings or explicitly select the grouping columns after groupby to silence this warning.\n",
      "  val_returns = val_trade_df.groupby('DateTime').apply(\n"
     ]
    },
    {
     "name": "stdout",
     "output_type": "stream",
     "text": [
      "\n",
      "Evaluating Horizon:  (10 min) for period starting 2011-01-28\n",
      "257/257 [==============================] - 0s 784us/step\n",
      "31/31 [==============================] - 0s 833us/step\n"
     ]
    },
    {
     "name": "stderr",
     "output_type": "stream",
     "text": [
      "C:\\Users\\Jop Brouwer\\AppData\\Local\\Temp\\ipykernel_26836\\3094100551.py:215: DeprecationWarning: DataFrameGroupBy.apply operated on the grouping columns. This behavior is deprecated, and in a future version of pandas the grouping columns will be excluded from the operation. Either pass `include_groups=False` to exclude the groupings or explicitly select the grouping columns after groupby to silence this warning.\n",
      "  val_returns = val_trade_df.groupby('DateTime').apply(\n"
     ]
    },
    {
     "name": "stdout",
     "output_type": "stream",
     "text": [
      "\n",
      "Evaluating Horizon:  (40 min) for period starting 2011-01-28\n",
      "257/257 [==============================] - 0s 804us/step\n",
      "31/31 [==============================] - 0s 800us/step\n",
      "\n",
      "--- Testing best model for period ending 2013-01-29 ---\n",
      "Best Horizon Found:  (10 min)\n",
      "31/31 [==============================] - 0s 833us/step\n"
     ]
    },
    {
     "name": "stderr",
     "output_type": "stream",
     "text": [
      "C:\\Users\\Jop Brouwer\\AppData\\Local\\Temp\\ipykernel_26836\\3094100551.py:215: DeprecationWarning: DataFrameGroupBy.apply operated on the grouping columns. This behavior is deprecated, and in a future version of pandas the grouping columns will be excluded from the operation. Either pass `include_groups=False` to exclude the groupings or explicitly select the grouping columns after groupby to silence this warning.\n",
      "  val_returns = val_trade_df.groupby('DateTime').apply(\n",
      "C:\\Users\\Jop Brouwer\\AppData\\Local\\Temp\\ipykernel_26836\\3094100551.py:248: DeprecationWarning: DataFrameGroupBy.apply operated on the grouping columns. This behavior is deprecated, and in a future version of pandas the grouping columns will be excluded from the operation. Either pass `include_groups=False` to exclude the groupings or explicitly select the grouping columns after groupby to silence this warning.\n",
      "  grouped_returns = test_trade_df.groupby('DateTime').apply(\n"
     ]
    },
    {
     "name": "stdout",
     "output_type": "stream",
     "text": [
      "\n",
      "Evaluating Horizon:  (20 min) for period starting 2012-01-28\n",
      "287/287 [==============================] - 1s 794us/step\n",
      "31/31 [==============================] - 0s 833us/step\n"
     ]
    },
    {
     "name": "stderr",
     "output_type": "stream",
     "text": [
      "C:\\Users\\Jop Brouwer\\AppData\\Local\\Temp\\ipykernel_26836\\3094100551.py:215: DeprecationWarning: DataFrameGroupBy.apply operated on the grouping columns. This behavior is deprecated, and in a future version of pandas the grouping columns will be excluded from the operation. Either pass `include_groups=False` to exclude the groupings or explicitly select the grouping columns after groupby to silence this warning.\n",
      "  val_returns = val_trade_df.groupby('DateTime').apply(\n"
     ]
    },
    {
     "name": "stdout",
     "output_type": "stream",
     "text": [
      "\n",
      "Evaluating Horizon:  (10 min) for period starting 2012-01-28\n",
      "287/287 [==============================] - 0s 811us/step\n",
      "31/31 [==============================] - 0s 833us/step\n"
     ]
    },
    {
     "name": "stderr",
     "output_type": "stream",
     "text": [
      "C:\\Users\\Jop Brouwer\\AppData\\Local\\Temp\\ipykernel_26836\\3094100551.py:215: DeprecationWarning: DataFrameGroupBy.apply operated on the grouping columns. This behavior is deprecated, and in a future version of pandas the grouping columns will be excluded from the operation. Either pass `include_groups=False` to exclude the groupings or explicitly select the grouping columns after groupby to silence this warning.\n",
      "  val_returns = val_trade_df.groupby('DateTime').apply(\n"
     ]
    },
    {
     "name": "stdout",
     "output_type": "stream",
     "text": [
      "\n",
      "Evaluating Horizon:  (40 min) for period starting 2012-01-28\n",
      "287/287 [==============================] - 0s 805us/step\n",
      "31/31 [==============================] - 0s 833us/step\n",
      "\n",
      "--- Testing best model for period ending 2014-01-29 ---\n",
      "Best Horizon Found:  (40 min)\n",
      "32/32 [==============================] - 0s 871us/step\n"
     ]
    },
    {
     "name": "stderr",
     "output_type": "stream",
     "text": [
      "C:\\Users\\Jop Brouwer\\AppData\\Local\\Temp\\ipykernel_26836\\3094100551.py:215: DeprecationWarning: DataFrameGroupBy.apply operated on the grouping columns. This behavior is deprecated, and in a future version of pandas the grouping columns will be excluded from the operation. Either pass `include_groups=False` to exclude the groupings or explicitly select the grouping columns after groupby to silence this warning.\n",
      "  val_returns = val_trade_df.groupby('DateTime').apply(\n",
      "C:\\Users\\Jop Brouwer\\AppData\\Local\\Temp\\ipykernel_26836\\3094100551.py:248: DeprecationWarning: DataFrameGroupBy.apply operated on the grouping columns. This behavior is deprecated, and in a future version of pandas the grouping columns will be excluded from the operation. Either pass `include_groups=False` to exclude the groupings or explicitly select the grouping columns after groupby to silence this warning.\n",
      "  grouped_returns = test_trade_df.groupby('DateTime').apply(\n"
     ]
    },
    {
     "name": "stdout",
     "output_type": "stream",
     "text": [
      "\n",
      "Evaluating Horizon:  (20 min) for period starting 2013-01-28\n",
      "318/318 [==============================] - 1s 815us/step\n",
      "32/32 [==============================] - 0s 871us/step\n"
     ]
    },
    {
     "name": "stderr",
     "output_type": "stream",
     "text": [
      "C:\\Users\\Jop Brouwer\\AppData\\Local\\Temp\\ipykernel_26836\\3094100551.py:215: DeprecationWarning: DataFrameGroupBy.apply operated on the grouping columns. This behavior is deprecated, and in a future version of pandas the grouping columns will be excluded from the operation. Either pass `include_groups=False` to exclude the groupings or explicitly select the grouping columns after groupby to silence this warning.\n",
      "  val_returns = val_trade_df.groupby('DateTime').apply(\n"
     ]
    },
    {
     "name": "stdout",
     "output_type": "stream",
     "text": [
      "\n",
      "Evaluating Horizon:  (10 min) for period starting 2013-01-28\n",
      "318/318 [==============================] - 1s 803us/step\n",
      "32/32 [==============================] - 0s 839us/step\n"
     ]
    },
    {
     "name": "stderr",
     "output_type": "stream",
     "text": [
      "C:\\Users\\Jop Brouwer\\AppData\\Local\\Temp\\ipykernel_26836\\3094100551.py:215: DeprecationWarning: DataFrameGroupBy.apply operated on the grouping columns. This behavior is deprecated, and in a future version of pandas the grouping columns will be excluded from the operation. Either pass `include_groups=False` to exclude the groupings or explicitly select the grouping columns after groupby to silence this warning.\n",
      "  val_returns = val_trade_df.groupby('DateTime').apply(\n"
     ]
    },
    {
     "name": "stdout",
     "output_type": "stream",
     "text": [
      "\n",
      "Evaluating Horizon:  (40 min) for period starting 2013-01-28\n",
      "318/318 [==============================] - 1s 805us/step\n",
      "32/32 [==============================] - 0s 888us/step\n",
      "\n",
      "--- Testing best model for period ending 2015-01-29 ---\n",
      "Best Horizon Found:  (20 min)\n",
      "32/32 [==============================] - 0s 774us/step\n"
     ]
    },
    {
     "name": "stderr",
     "output_type": "stream",
     "text": [
      "C:\\Users\\Jop Brouwer\\AppData\\Local\\Temp\\ipykernel_26836\\3094100551.py:215: DeprecationWarning: DataFrameGroupBy.apply operated on the grouping columns. This behavior is deprecated, and in a future version of pandas the grouping columns will be excluded from the operation. Either pass `include_groups=False` to exclude the groupings or explicitly select the grouping columns after groupby to silence this warning.\n",
      "  val_returns = val_trade_df.groupby('DateTime').apply(\n",
      "C:\\Users\\Jop Brouwer\\AppData\\Local\\Temp\\ipykernel_26836\\3094100551.py:248: DeprecationWarning: DataFrameGroupBy.apply operated on the grouping columns. This behavior is deprecated, and in a future version of pandas the grouping columns will be excluded from the operation. Either pass `include_groups=False` to exclude the groupings or explicitly select the grouping columns after groupby to silence this warning.\n",
      "  grouped_returns = test_trade_df.groupby('DateTime').apply(\n"
     ]
    },
    {
     "name": "stdout",
     "output_type": "stream",
     "text": [
      "\n",
      "Evaluating Horizon:  (20 min) for period starting 2014-01-28\n",
      "349/349 [==============================] - 1s 928us/step\n",
      "32/32 [==============================] - 0s 807us/step\n"
     ]
    },
    {
     "name": "stderr",
     "output_type": "stream",
     "text": [
      "C:\\Users\\Jop Brouwer\\AppData\\Local\\Temp\\ipykernel_26836\\3094100551.py:215: DeprecationWarning: DataFrameGroupBy.apply operated on the grouping columns. This behavior is deprecated, and in a future version of pandas the grouping columns will be excluded from the operation. Either pass `include_groups=False` to exclude the groupings or explicitly select the grouping columns after groupby to silence this warning.\n",
      "  val_returns = val_trade_df.groupby('DateTime').apply(\n"
     ]
    },
    {
     "name": "stdout",
     "output_type": "stream",
     "text": [
      "\n",
      "Evaluating Horizon:  (10 min) for period starting 2014-01-28\n",
      "349/349 [==============================] - 1s 997us/step\n",
      "32/32 [==============================] - 0s 806us/step\n"
     ]
    },
    {
     "name": "stderr",
     "output_type": "stream",
     "text": [
      "C:\\Users\\Jop Brouwer\\AppData\\Local\\Temp\\ipykernel_26836\\3094100551.py:215: DeprecationWarning: DataFrameGroupBy.apply operated on the grouping columns. This behavior is deprecated, and in a future version of pandas the grouping columns will be excluded from the operation. Either pass `include_groups=False` to exclude the groupings or explicitly select the grouping columns after groupby to silence this warning.\n",
      "  val_returns = val_trade_df.groupby('DateTime').apply(\n"
     ]
    },
    {
     "name": "stdout",
     "output_type": "stream",
     "text": [
      "\n",
      "Evaluating Horizon:  (40 min) for period starting 2014-01-28\n",
      "349/349 [==============================] - 1s 800us/step\n",
      "32/32 [==============================] - 0s 806us/step\n",
      "\n",
      "--- Testing best model for period ending 2016-01-29 ---\n",
      "Best Horizon Found:  (10 min)\n",
      "33/33 [==============================] - 0s 842us/step\n"
     ]
    },
    {
     "name": "stderr",
     "output_type": "stream",
     "text": [
      "C:\\Users\\Jop Brouwer\\AppData\\Local\\Temp\\ipykernel_26836\\3094100551.py:215: DeprecationWarning: DataFrameGroupBy.apply operated on the grouping columns. This behavior is deprecated, and in a future version of pandas the grouping columns will be excluded from the operation. Either pass `include_groups=False` to exclude the groupings or explicitly select the grouping columns after groupby to silence this warning.\n",
      "  val_returns = val_trade_df.groupby('DateTime').apply(\n",
      "C:\\Users\\Jop Brouwer\\AppData\\Local\\Temp\\ipykernel_26836\\3094100551.py:248: DeprecationWarning: DataFrameGroupBy.apply operated on the grouping columns. This behavior is deprecated, and in a future version of pandas the grouping columns will be excluded from the operation. Either pass `include_groups=False` to exclude the groupings or explicitly select the grouping columns after groupby to silence this warning.\n",
      "  grouped_returns = test_trade_df.groupby('DateTime').apply(\n"
     ]
    },
    {
     "name": "stdout",
     "output_type": "stream",
     "text": [
      "\n",
      "Evaluating Horizon:  (20 min) for period starting 2015-01-28\n",
      "381/381 [==============================] - 1s 803us/step\n",
      "33/33 [==============================] - 0s 1ms/step\n"
     ]
    },
    {
     "name": "stderr",
     "output_type": "stream",
     "text": [
      "C:\\Users\\Jop Brouwer\\AppData\\Local\\Temp\\ipykernel_26836\\3094100551.py:215: DeprecationWarning: DataFrameGroupBy.apply operated on the grouping columns. This behavior is deprecated, and in a future version of pandas the grouping columns will be excluded from the operation. Either pass `include_groups=False` to exclude the groupings or explicitly select the grouping columns after groupby to silence this warning.\n",
      "  val_returns = val_trade_df.groupby('DateTime').apply(\n"
     ]
    },
    {
     "name": "stdout",
     "output_type": "stream",
     "text": [
      "\n",
      "Evaluating Horizon:  (10 min) for period starting 2015-01-28\n",
      "381/381 [==============================] - 1s 803us/step\n",
      "33/33 [==============================] - 0s 813us/step\n"
     ]
    },
    {
     "name": "stderr",
     "output_type": "stream",
     "text": [
      "C:\\Users\\Jop Brouwer\\AppData\\Local\\Temp\\ipykernel_26836\\3094100551.py:215: DeprecationWarning: DataFrameGroupBy.apply operated on the grouping columns. This behavior is deprecated, and in a future version of pandas the grouping columns will be excluded from the operation. Either pass `include_groups=False` to exclude the groupings or explicitly select the grouping columns after groupby to silence this warning.\n",
      "  val_returns = val_trade_df.groupby('DateTime').apply(\n"
     ]
    },
    {
     "name": "stdout",
     "output_type": "stream",
     "text": [
      "\n",
      "Evaluating Horizon:  (40 min) for period starting 2015-01-28\n",
      "381/381 [==============================] - 1s 806us/step\n",
      "33/33 [==============================] - 0s 849us/step\n",
      "\n",
      "--- Testing best model for period ending 2017-01-29 ---\n",
      "Best Horizon Found:  (40 min)\n",
      "33/33 [==============================] - 0s 1ms/step\n"
     ]
    },
    {
     "name": "stderr",
     "output_type": "stream",
     "text": [
      "C:\\Users\\Jop Brouwer\\AppData\\Local\\Temp\\ipykernel_26836\\3094100551.py:215: DeprecationWarning: DataFrameGroupBy.apply operated on the grouping columns. This behavior is deprecated, and in a future version of pandas the grouping columns will be excluded from the operation. Either pass `include_groups=False` to exclude the groupings or explicitly select the grouping columns after groupby to silence this warning.\n",
      "  val_returns = val_trade_df.groupby('DateTime').apply(\n",
      "C:\\Users\\Jop Brouwer\\AppData\\Local\\Temp\\ipykernel_26836\\3094100551.py:248: DeprecationWarning: DataFrameGroupBy.apply operated on the grouping columns. This behavior is deprecated, and in a future version of pandas the grouping columns will be excluded from the operation. Either pass `include_groups=False` to exclude the groupings or explicitly select the grouping columns after groupby to silence this warning.\n",
      "  grouped_returns = test_trade_df.groupby('DateTime').apply(\n"
     ]
    },
    {
     "name": "stdout",
     "output_type": "stream",
     "text": [
      "\n",
      "Evaluating Horizon:  (20 min) for period starting 2016-01-28\n",
      "414/414 [==============================] - 1s 810us/step\n",
      "33/33 [==============================] - 0s 844us/step\n"
     ]
    },
    {
     "name": "stderr",
     "output_type": "stream",
     "text": [
      "C:\\Users\\Jop Brouwer\\AppData\\Local\\Temp\\ipykernel_26836\\3094100551.py:215: DeprecationWarning: DataFrameGroupBy.apply operated on the grouping columns. This behavior is deprecated, and in a future version of pandas the grouping columns will be excluded from the operation. Either pass `include_groups=False` to exclude the groupings or explicitly select the grouping columns after groupby to silence this warning.\n",
      "  val_returns = val_trade_df.groupby('DateTime').apply(\n"
     ]
    },
    {
     "name": "stdout",
     "output_type": "stream",
     "text": [
      "\n",
      "Evaluating Horizon:  (10 min) for period starting 2016-01-28\n",
      "414/414 [==============================] - 1s 808us/step\n",
      "33/33 [==============================] - 0s 844us/step\n"
     ]
    },
    {
     "name": "stderr",
     "output_type": "stream",
     "text": [
      "C:\\Users\\Jop Brouwer\\AppData\\Local\\Temp\\ipykernel_26836\\3094100551.py:215: DeprecationWarning: DataFrameGroupBy.apply operated on the grouping columns. This behavior is deprecated, and in a future version of pandas the grouping columns will be excluded from the operation. Either pass `include_groups=False` to exclude the groupings or explicitly select the grouping columns after groupby to silence this warning.\n",
      "  val_returns = val_trade_df.groupby('DateTime').apply(\n"
     ]
    },
    {
     "name": "stdout",
     "output_type": "stream",
     "text": [
      "\n",
      "Evaluating Horizon:  (40 min) for period starting 2016-01-28\n",
      "414/414 [==============================] - 1s 800us/step\n",
      "33/33 [==============================] - 0s 1ms/step\n",
      "\n",
      "--- Testing best model for period ending 2018-01-29 ---\n",
      "Best Horizon Found:  (10 min)\n",
      "32/32 [==============================] - 0s 839us/step\n"
     ]
    },
    {
     "name": "stderr",
     "output_type": "stream",
     "text": [
      "C:\\Users\\Jop Brouwer\\AppData\\Local\\Temp\\ipykernel_26836\\3094100551.py:215: DeprecationWarning: DataFrameGroupBy.apply operated on the grouping columns. This behavior is deprecated, and in a future version of pandas the grouping columns will be excluded from the operation. Either pass `include_groups=False` to exclude the groupings or explicitly select the grouping columns after groupby to silence this warning.\n",
      "  val_returns = val_trade_df.groupby('DateTime').apply(\n",
      "C:\\Users\\Jop Brouwer\\AppData\\Local\\Temp\\ipykernel_26836\\3094100551.py:248: DeprecationWarning: DataFrameGroupBy.apply operated on the grouping columns. This behavior is deprecated, and in a future version of pandas the grouping columns will be excluded from the operation. Either pass `include_groups=False` to exclude the groupings or explicitly select the grouping columns after groupby to silence this warning.\n",
      "  grouped_returns = test_trade_df.groupby('DateTime').apply(\n"
     ]
    },
    {
     "name": "stdout",
     "output_type": "stream",
     "text": [
      "\n",
      "Evaluating Horizon:  (20 min) for period starting 2017-01-28\n",
      "447/447 [==============================] - 1s 802us/step\n",
      "32/32 [==============================] - 0s 806us/step\n"
     ]
    },
    {
     "name": "stderr",
     "output_type": "stream",
     "text": [
      "C:\\Users\\Jop Brouwer\\AppData\\Local\\Temp\\ipykernel_26836\\3094100551.py:215: DeprecationWarning: DataFrameGroupBy.apply operated on the grouping columns. This behavior is deprecated, and in a future version of pandas the grouping columns will be excluded from the operation. Either pass `include_groups=False` to exclude the groupings or explicitly select the grouping columns after groupby to silence this warning.\n",
      "  val_returns = val_trade_df.groupby('DateTime').apply(\n"
     ]
    },
    {
     "name": "stdout",
     "output_type": "stream",
     "text": [
      "\n",
      "Evaluating Horizon:  (10 min) for period starting 2017-01-28\n",
      "447/447 [==============================] - 1s 933us/step\n",
      "32/32 [==============================] - 0s 871us/step\n"
     ]
    },
    {
     "name": "stderr",
     "output_type": "stream",
     "text": [
      "C:\\Users\\Jop Brouwer\\AppData\\Local\\Temp\\ipykernel_26836\\3094100551.py:215: DeprecationWarning: DataFrameGroupBy.apply operated on the grouping columns. This behavior is deprecated, and in a future version of pandas the grouping columns will be excluded from the operation. Either pass `include_groups=False` to exclude the groupings or explicitly select the grouping columns after groupby to silence this warning.\n",
      "  val_returns = val_trade_df.groupby('DateTime').apply(\n"
     ]
    },
    {
     "name": "stdout",
     "output_type": "stream",
     "text": [
      "\n",
      "Evaluating Horizon:  (40 min) for period starting 2017-01-28\n",
      "447/447 [==============================] - 1s 803us/step\n",
      "32/32 [==============================] - 0s 807us/step\n",
      "\n",
      "--- Testing best model for period ending 2019-01-29 ---\n",
      "Best Horizon Found:  (40 min)\n",
      "30/30 [==============================] - 0s 828us/step\n"
     ]
    },
    {
     "name": "stderr",
     "output_type": "stream",
     "text": [
      "C:\\Users\\Jop Brouwer\\AppData\\Local\\Temp\\ipykernel_26836\\3094100551.py:215: DeprecationWarning: DataFrameGroupBy.apply operated on the grouping columns. This behavior is deprecated, and in a future version of pandas the grouping columns will be excluded from the operation. Either pass `include_groups=False` to exclude the groupings or explicitly select the grouping columns after groupby to silence this warning.\n",
      "  val_returns = val_trade_df.groupby('DateTime').apply(\n",
      "C:\\Users\\Jop Brouwer\\AppData\\Local\\Temp\\ipykernel_26836\\3094100551.py:248: DeprecationWarning: DataFrameGroupBy.apply operated on the grouping columns. This behavior is deprecated, and in a future version of pandas the grouping columns will be excluded from the operation. Either pass `include_groups=False` to exclude the groupings or explicitly select the grouping columns after groupby to silence this warning.\n",
      "  grouped_returns = test_trade_df.groupby('DateTime').apply(\n"
     ]
    },
    {
     "name": "stdout",
     "output_type": "stream",
     "text": [
      "\n",
      "Evaluating Horizon:  (20 min) for period starting 2018-01-28\n",
      "478/478 [==============================] - 1s 805us/step\n",
      "30/30 [==============================] - 0s 866us/step\n"
     ]
    },
    {
     "name": "stderr",
     "output_type": "stream",
     "text": [
      "C:\\Users\\Jop Brouwer\\AppData\\Local\\Temp\\ipykernel_26836\\3094100551.py:215: DeprecationWarning: DataFrameGroupBy.apply operated on the grouping columns. This behavior is deprecated, and in a future version of pandas the grouping columns will be excluded from the operation. Either pass `include_groups=False` to exclude the groupings or explicitly select the grouping columns after groupby to silence this warning.\n",
      "  val_returns = val_trade_df.groupby('DateTime').apply(\n"
     ]
    },
    {
     "name": "stdout",
     "output_type": "stream",
     "text": [
      "\n",
      "Evaluating Horizon:  (10 min) for period starting 2018-01-28\n",
      "478/478 [==============================] - 1s 859us/step\n",
      "30/30 [==============================] - 0s 828us/step\n"
     ]
    },
    {
     "name": "stderr",
     "output_type": "stream",
     "text": [
      "C:\\Users\\Jop Brouwer\\AppData\\Local\\Temp\\ipykernel_26836\\3094100551.py:215: DeprecationWarning: DataFrameGroupBy.apply operated on the grouping columns. This behavior is deprecated, and in a future version of pandas the grouping columns will be excluded from the operation. Either pass `include_groups=False` to exclude the groupings or explicitly select the grouping columns after groupby to silence this warning.\n",
      "  val_returns = val_trade_df.groupby('DateTime').apply(\n"
     ]
    },
    {
     "name": "stdout",
     "output_type": "stream",
     "text": [
      "\n",
      "Evaluating Horizon:  (40 min) for period starting 2018-01-28\n",
      "478/478 [==============================] - 1s 805us/step\n",
      "30/30 [==============================] - 0s 835us/step\n",
      "\n",
      "--- Testing best model for period ending 2020-01-29 ---\n",
      "Best Horizon Found:  (20 min)\n",
      "35/35 [==============================] - 0s 824us/step\n"
     ]
    },
    {
     "name": "stderr",
     "output_type": "stream",
     "text": [
      "C:\\Users\\Jop Brouwer\\AppData\\Local\\Temp\\ipykernel_26836\\3094100551.py:215: DeprecationWarning: DataFrameGroupBy.apply operated on the grouping columns. This behavior is deprecated, and in a future version of pandas the grouping columns will be excluded from the operation. Either pass `include_groups=False` to exclude the groupings or explicitly select the grouping columns after groupby to silence this warning.\n",
      "  val_returns = val_trade_df.groupby('DateTime').apply(\n",
      "C:\\Users\\Jop Brouwer\\AppData\\Local\\Temp\\ipykernel_26836\\3094100551.py:248: DeprecationWarning: DataFrameGroupBy.apply operated on the grouping columns. This behavior is deprecated, and in a future version of pandas the grouping columns will be excluded from the operation. Either pass `include_groups=False` to exclude the groupings or explicitly select the grouping columns after groupby to silence this warning.\n",
      "  grouped_returns = test_trade_df.groupby('DateTime').apply(\n"
     ]
    },
    {
     "name": "stdout",
     "output_type": "stream",
     "text": [
      "\n",
      "Evaluating Horizon:  (20 min) for period starting 2019-01-28\n",
      "508/508 [==============================] - 1s 790us/step\n",
      "35/35 [==============================] - 0s 824us/step\n"
     ]
    },
    {
     "name": "stderr",
     "output_type": "stream",
     "text": [
      "C:\\Users\\Jop Brouwer\\AppData\\Local\\Temp\\ipykernel_26836\\3094100551.py:215: DeprecationWarning: DataFrameGroupBy.apply operated on the grouping columns. This behavior is deprecated, and in a future version of pandas the grouping columns will be excluded from the operation. Either pass `include_groups=False` to exclude the groupings or explicitly select the grouping columns after groupby to silence this warning.\n",
      "  val_returns = val_trade_df.groupby('DateTime').apply(\n"
     ]
    },
    {
     "name": "stdout",
     "output_type": "stream",
     "text": [
      "\n",
      "Evaluating Horizon:  (10 min) for period starting 2019-01-28\n",
      "508/508 [==============================] - 1s 918us/step\n",
      "35/35 [==============================] - 0s 824us/step\n"
     ]
    },
    {
     "name": "stderr",
     "output_type": "stream",
     "text": [
      "C:\\Users\\Jop Brouwer\\AppData\\Local\\Temp\\ipykernel_26836\\3094100551.py:215: DeprecationWarning: DataFrameGroupBy.apply operated on the grouping columns. This behavior is deprecated, and in a future version of pandas the grouping columns will be excluded from the operation. Either pass `include_groups=False` to exclude the groupings or explicitly select the grouping columns after groupby to silence this warning.\n",
      "  val_returns = val_trade_df.groupby('DateTime').apply(\n"
     ]
    },
    {
     "name": "stdout",
     "output_type": "stream",
     "text": [
      "\n",
      "Evaluating Horizon:  (40 min) for period starting 2019-01-28\n",
      "508/508 [==============================] - 1s 920us/step\n",
      "35/35 [==============================] - 0s 882us/step\n",
      "\n",
      "--- Testing best model for period ending 2021-01-29 ---\n",
      "Best Horizon Found:  (40 min)\n",
      "37/37 [==============================] - 0s 862us/step\n"
     ]
    },
    {
     "name": "stderr",
     "output_type": "stream",
     "text": [
      "C:\\Users\\Jop Brouwer\\AppData\\Local\\Temp\\ipykernel_26836\\3094100551.py:215: DeprecationWarning: DataFrameGroupBy.apply operated on the grouping columns. This behavior is deprecated, and in a future version of pandas the grouping columns will be excluded from the operation. Either pass `include_groups=False` to exclude the groupings or explicitly select the grouping columns after groupby to silence this warning.\n",
      "  val_returns = val_trade_df.groupby('DateTime').apply(\n",
      "C:\\Users\\Jop Brouwer\\AppData\\Local\\Temp\\ipykernel_26836\\3094100551.py:248: DeprecationWarning: DataFrameGroupBy.apply operated on the grouping columns. This behavior is deprecated, and in a future version of pandas the grouping columns will be excluded from the operation. Either pass `include_groups=False` to exclude the groupings or explicitly select the grouping columns after groupby to silence this warning.\n",
      "  grouped_returns = test_trade_df.groupby('DateTime').apply(\n"
     ]
    },
    {
     "name": "stdout",
     "output_type": "stream",
     "text": [
      "\n",
      "Evaluating Horizon:  (20 min) for period starting 2020-01-28\n",
      "542/542 [==============================] - 1s 791us/step\n",
      "37/37 [==============================] - 0s 806us/step\n"
     ]
    },
    {
     "name": "stderr",
     "output_type": "stream",
     "text": [
      "C:\\Users\\Jop Brouwer\\AppData\\Local\\Temp\\ipykernel_26836\\3094100551.py:215: DeprecationWarning: DataFrameGroupBy.apply operated on the grouping columns. This behavior is deprecated, and in a future version of pandas the grouping columns will be excluded from the operation. Either pass `include_groups=False` to exclude the groupings or explicitly select the grouping columns after groupby to silence this warning.\n",
      "  val_returns = val_trade_df.groupby('DateTime').apply(\n"
     ]
    },
    {
     "name": "stdout",
     "output_type": "stream",
     "text": [
      "\n",
      "Evaluating Horizon:  (10 min) for period starting 2020-01-28\n",
      "542/542 [==============================] - 1s 954us/step\n",
      "37/37 [==============================] - 0s 833us/step\n"
     ]
    },
    {
     "name": "stderr",
     "output_type": "stream",
     "text": [
      "C:\\Users\\Jop Brouwer\\AppData\\Local\\Temp\\ipykernel_26836\\3094100551.py:215: DeprecationWarning: DataFrameGroupBy.apply operated on the grouping columns. This behavior is deprecated, and in a future version of pandas the grouping columns will be excluded from the operation. Either pass `include_groups=False` to exclude the groupings or explicitly select the grouping columns after groupby to silence this warning.\n",
      "  val_returns = val_trade_df.groupby('DateTime').apply(\n"
     ]
    },
    {
     "name": "stdout",
     "output_type": "stream",
     "text": [
      "\n",
      "Evaluating Horizon:  (40 min) for period starting 2020-01-28\n",
      "542/542 [==============================] - 1s 904us/step\n",
      "37/37 [==============================] - 0s 917us/step\n",
      "\n",
      "--- Testing best model for period ending 2022-01-29 ---\n",
      "Best Horizon Found:  (40 min)\n",
      "36/36 [==============================] - 0s 1ms/step\n"
     ]
    },
    {
     "name": "stderr",
     "output_type": "stream",
     "text": [
      "C:\\Users\\Jop Brouwer\\AppData\\Local\\Temp\\ipykernel_26836\\3094100551.py:215: DeprecationWarning: DataFrameGroupBy.apply operated on the grouping columns. This behavior is deprecated, and in a future version of pandas the grouping columns will be excluded from the operation. Either pass `include_groups=False` to exclude the groupings or explicitly select the grouping columns after groupby to silence this warning.\n",
      "  val_returns = val_trade_df.groupby('DateTime').apply(\n",
      "C:\\Users\\Jop Brouwer\\AppData\\Local\\Temp\\ipykernel_26836\\3094100551.py:248: DeprecationWarning: DataFrameGroupBy.apply operated on the grouping columns. This behavior is deprecated, and in a future version of pandas the grouping columns will be excluded from the operation. Either pass `include_groups=False` to exclude the groupings or explicitly select the grouping columns after groupby to silence this warning.\n",
      "  grouped_returns = test_trade_df.groupby('DateTime').apply(\n"
     ]
    },
    {
     "name": "stdout",
     "output_type": "stream",
     "text": [
      "\n",
      "Evaluating Horizon:  (20 min) for period starting 2021-01-28\n",
      "578/578 [==============================] - 1s 956us/step\n",
      "36/36 [==============================] - 0s 929us/step\n"
     ]
    },
    {
     "name": "stderr",
     "output_type": "stream",
     "text": [
      "C:\\Users\\Jop Brouwer\\AppData\\Local\\Temp\\ipykernel_26836\\3094100551.py:215: DeprecationWarning: DataFrameGroupBy.apply operated on the grouping columns. This behavior is deprecated, and in a future version of pandas the grouping columns will be excluded from the operation. Either pass `include_groups=False` to exclude the groupings or explicitly select the grouping columns after groupby to silence this warning.\n",
      "  val_returns = val_trade_df.groupby('DateTime').apply(\n"
     ]
    },
    {
     "name": "stdout",
     "output_type": "stream",
     "text": [
      "\n",
      "Evaluating Horizon:  (10 min) for period starting 2021-01-28\n",
      "578/578 [==============================] - 1s 966us/step\n",
      "36/36 [==============================] - 0s 943us/step\n"
     ]
    },
    {
     "name": "stderr",
     "output_type": "stream",
     "text": [
      "C:\\Users\\Jop Brouwer\\AppData\\Local\\Temp\\ipykernel_26836\\3094100551.py:215: DeprecationWarning: DataFrameGroupBy.apply operated on the grouping columns. This behavior is deprecated, and in a future version of pandas the grouping columns will be excluded from the operation. Either pass `include_groups=False` to exclude the groupings or explicitly select the grouping columns after groupby to silence this warning.\n",
      "  val_returns = val_trade_df.groupby('DateTime').apply(\n"
     ]
    },
    {
     "name": "stdout",
     "output_type": "stream",
     "text": [
      "\n",
      "Evaluating Horizon:  (40 min) for period starting 2021-01-28\n",
      "578/578 [==============================] - 1s 878us/step\n",
      "36/36 [==============================] - 0s 972us/step\n",
      "\n",
      "--- Testing best model for period ending 2023-01-29 ---\n",
      "Best Horizon Found:  (40 min)\n",
      "38/38 [==============================] - 0s 959us/step\n"
     ]
    },
    {
     "name": "stderr",
     "output_type": "stream",
     "text": [
      "C:\\Users\\Jop Brouwer\\AppData\\Local\\Temp\\ipykernel_26836\\3094100551.py:215: DeprecationWarning: DataFrameGroupBy.apply operated on the grouping columns. This behavior is deprecated, and in a future version of pandas the grouping columns will be excluded from the operation. Either pass `include_groups=False` to exclude the groupings or explicitly select the grouping columns after groupby to silence this warning.\n",
      "  val_returns = val_trade_df.groupby('DateTime').apply(\n",
      "C:\\Users\\Jop Brouwer\\AppData\\Local\\Temp\\ipykernel_26836\\3094100551.py:248: DeprecationWarning: DataFrameGroupBy.apply operated on the grouping columns. This behavior is deprecated, and in a future version of pandas the grouping columns will be excluded from the operation. Either pass `include_groups=False` to exclude the groupings or explicitly select the grouping columns after groupby to silence this warning.\n",
      "  grouped_returns = test_trade_df.groupby('DateTime').apply(\n"
     ]
    },
    {
     "name": "stdout",
     "output_type": "stream",
     "text": [
      "\n",
      "Evaluating Horizon:  (20 min) for period starting 2022-01-28\n",
      "614/614 [==============================] - 1s 887us/step\n",
      "38/38 [==============================] - 0s 2ms/step\n"
     ]
    },
    {
     "name": "stderr",
     "output_type": "stream",
     "text": [
      "C:\\Users\\Jop Brouwer\\AppData\\Local\\Temp\\ipykernel_26836\\3094100551.py:215: DeprecationWarning: DataFrameGroupBy.apply operated on the grouping columns. This behavior is deprecated, and in a future version of pandas the grouping columns will be excluded from the operation. Either pass `include_groups=False` to exclude the groupings or explicitly select the grouping columns after groupby to silence this warning.\n",
      "  val_returns = val_trade_df.groupby('DateTime').apply(\n"
     ]
    },
    {
     "name": "stdout",
     "output_type": "stream",
     "text": [
      "\n",
      "Evaluating Horizon:  (10 min) for period starting 2022-01-28\n",
      "614/614 [==============================] - 1s 887us/step\n",
      "38/38 [==============================] - 0s 946us/step\n"
     ]
    },
    {
     "name": "stderr",
     "output_type": "stream",
     "text": [
      "C:\\Users\\Jop Brouwer\\AppData\\Local\\Temp\\ipykernel_26836\\3094100551.py:215: DeprecationWarning: DataFrameGroupBy.apply operated on the grouping columns. This behavior is deprecated, and in a future version of pandas the grouping columns will be excluded from the operation. Either pass `include_groups=False` to exclude the groupings or explicitly select the grouping columns after groupby to silence this warning.\n",
      "  val_returns = val_trade_df.groupby('DateTime').apply(\n"
     ]
    },
    {
     "name": "stdout",
     "output_type": "stream",
     "text": [
      "\n",
      "Evaluating Horizon:  (40 min) for period starting 2022-01-28\n",
      "614/614 [==============================] - 1s 884us/step\n",
      "38/38 [==============================] - 0s 933us/step\n",
      "\n",
      "--- Testing best model for period ending 2024-01-29 ---\n",
      "Best Horizon Found:  (40 min)\n",
      "37/37 [==============================] - 0s 931us/step\n"
     ]
    },
    {
     "name": "stderr",
     "output_type": "stream",
     "text": [
      "C:\\Users\\Jop Brouwer\\AppData\\Local\\Temp\\ipykernel_26836\\3094100551.py:215: DeprecationWarning: DataFrameGroupBy.apply operated on the grouping columns. This behavior is deprecated, and in a future version of pandas the grouping columns will be excluded from the operation. Either pass `include_groups=False` to exclude the groupings or explicitly select the grouping columns after groupby to silence this warning.\n",
      "  val_returns = val_trade_df.groupby('DateTime').apply(\n",
      "C:\\Users\\Jop Brouwer\\AppData\\Local\\Temp\\ipykernel_26836\\3094100551.py:248: DeprecationWarning: DataFrameGroupBy.apply operated on the grouping columns. This behavior is deprecated, and in a future version of pandas the grouping columns will be excluded from the operation. Either pass `include_groups=False` to exclude the groupings or explicitly select the grouping columns after groupby to silence this warning.\n",
      "  grouped_returns = test_trade_df.groupby('DateTime').apply(\n"
     ]
    },
    {
     "data": {
      "image/png": "[encoded data removed]",
      "text/plain": [
       "<Figure size 1200x600 with 1 Axes>"
      ]
     },
     "metadata": {},
     "output_type": "display_data"
    },
    {
     "name": "stdout",
     "output_type": "stream",
     "text": [
      "Final Cumulative Compounded Return: 1473.09%\n",
      "\n",
      "Overall Test Accuracy : 53.53%\n",
      "Overall Precision     : 35.69%\n",
      "Overall Recall        : 37.08%\n",
      "Overall F1 Score      : 36.27%\n",
      "Overall ROC AUC       : 58.68%\n",
      "\n",
      "Average Fold Test Return : 0.03980%\n",
      "\n",
      "Standard Deviation of All Test Returns (Aggregated Daily): 0.27146%\n",
      "\n",
      "Minimum Return (Aggregated Daily): -0.81690%\n",
      "\n",
      "Optimal Horizon Counts:\n",
      "(40 min)    11\n",
      "(20 min)     3\n",
      "(10 min)     3\n",
      "Name: count, dtype: int64\n",
      "\n",
      "Test Set Position Counts:\n",
      "Neutral (0): 0\n",
      "Long (1): 9626\n",
      "Short (2): 7622\n"
     ]
    }
   ],
   "source": [
    "import os\n",
    "os.environ['OMP_NUM_THREADS'] = '1'\n",
    "os.environ['OPENBLAS_NUM_THREADS'] = '1'\n",
    "os.environ['MKL_NUM_THREADS'] = '1'\n",
    "os.environ['VECLIB_MAXIMUM_THREADS'] = '1'\n",
    "os.environ['NUMEXPR_NUM_THREADS'] = '1'\n",
    "os.environ['PYTHONHASHSEED'] = '0'\n",
    "os.environ['TF_CPP_MIN_LOG_LEVEL'] = '2' # Suppress TensorFlow INFO and WARNING messages\n",
    "\n",
    "import matplotlib.pyplot as plt\n",
    "from sklearn.preprocessing import StandardScaler\n",
    "from sklearn.metrics import (\n",
    "    accuracy_score,\n",
    "    f1_score,\n",
    "    roc_auc_score,\n",
    "    precision_score,\n",
    "    recall_score\n",
    ")\n",
    "import numpy as np\n",
    "import pandas as pd\n",
    "import random\n",
    "import tensorflow as tf\n",
    "from tensorflow.keras.models import Sequential\n",
    "from tensorflow.keras.layers import LSTM, Dense, Dropout\n",
    "from tensorflow.keras.utils import to_categorical\n",
    "from tensorflow.keras.callbacks import EarlyStopping\n",
    "\n",
    "# Set random seeds for reproducibility\n",
    "np.random.seed(42)\n",
    "random.seed(42)\n",
    "tf.random.set_seed(42)\n",
    "\n",
    "# Assume df_ml is pre-loaded as a pandas DataFrame in your environment.\n",
    "# Make sure it contains 'DateTime', 'Surprise', feature columns,\n",
    "# 'Target Signal...' columns, and 'Forward Return...' columns.\n",
    "\n",
    "# --- Feature Engineering ---\n",
    "# feature_cols = all columns except 'DateTime' and the last 6 columns and also print out feature_cols and number of features\n",
    "# This logic needs to be adapted based on the dummy dataframe structure\n",
    "all_cols = df_ml.columns.tolist()\n",
    "exclude_cols = ['DateTime', 'Surprise'] + [col for col in all_cols if 'Target' in col or 'Forward' in col]\n",
    "feature_cols = [col for col in all_cols if col not in exclude_cols]\n",
    "print(\"Feature Columns:\", feature_cols)\n",
    "print(\"Number of Features:\", len(feature_cols))\n",
    "\n",
    "\n",
    "# --- Configuration ---\n",
    "horizons = [' (20 min)', ' (10 min)', ' (40 min)']\n",
    "N_CLASSES = 3 # Assuming classes are 0, 1, 2\n",
    "\n",
    "# --- Data Prep ---\n",
    "df_ml = df_ml.dropna(subset=['Surprise']).sort_values('DateTime')\n",
    "min_date = df_ml['DateTime'].min()\n",
    "max_date = df_ml['DateTime'].max()\n",
    "\n",
    "# --- Calculate Initial 30% Training Period ---\n",
    "total_duration = max_date - min_date\n",
    "initial_train_duration = total_duration * 0.3\n",
    "train_end_date = min_date + initial_train_duration\n",
    "\n",
    "# --- Tracking containers ---\n",
    "results = []\n",
    "all_test_returns = []\n",
    "all_dates = []\n",
    "all_test_preds = []\n",
    "all_test_truths = []\n",
    "all_test_probas = []\n",
    "fold_mean_returns = []\n",
    "best_horizons_list = []\n",
    "\n",
    "def create_lstm_model(input_shape, num_classes):\n",
    "    \"\"\"Creates a simple LSTM model.\"\"\"\n",
    "    model = Sequential([\n",
    "        LSTM(50, input_shape=input_shape, return_sequences=False, kernel_regularizer=tf.keras.regularizers.l2(0.001)),\n",
    "        Dropout(0.2),\n",
    "        Dense(25, activation='relu'),\n",
    "        Dense(num_classes, activation='softmax')\n",
    "    ])\n",
    "    model.compile(optimizer='adam',\n",
    "                  loss='categorical_crossentropy',\n",
    "                  metrics=['accuracy'])\n",
    "    return model\n",
    "\n",
    "def calculate_grouped_returns(df_group, horizon, stop_loss=None):\n",
    "    \"\"\"Calculate returns with position sizing and stop loss\"\"\"\n",
    "    active_trades = df_group[df_group['pred'] != 0]\n",
    "    if active_trades.empty:\n",
    "        return 0.0\n",
    "\n",
    "    longs = active_trades[active_trades['pred'] == 1].copy().reset_index(drop=True)\n",
    "    shorts = active_trades[active_trades['pred'] == 2].copy().reset_index(drop=True)\n",
    "\n",
    "    total_confidence = longs['proba'].sum() + shorts['proba'].sum()\n",
    "    if total_confidence == 0:\n",
    "        return 0.0\n",
    "\n",
    "    long_returns = 0.0\n",
    "    short_returns = 0.0\n",
    "\n",
    "    # Process longs\n",
    "    if not longs.empty:\n",
    "        long_weights = longs['proba'] / total_confidence\n",
    "        for idx in longs.index:\n",
    "            raw_return = longs.loc[idx, f'Forward Return{horizon}']\n",
    "            capped_raw = max(stop_loss, raw_return) if stop_loss is not None else raw_return\n",
    "            long_returns += capped_raw * long_weights.loc[idx]\n",
    "\n",
    "    # Process shorts\n",
    "    if not shorts.empty:\n",
    "        short_weights = shorts['proba'] / total_confidence\n",
    "        for idx in shorts.index:\n",
    "            raw_return = -shorts.loc[idx, f'Forward Return{horizon}']\n",
    "            capped_raw = max(stop_loss, raw_return) if stop_loss is not None else raw_return\n",
    "            short_returns += capped_raw * short_weights.loc[idx]\n",
    "\n",
    "    net_return = (long_returns + short_returns)\n",
    "    return net_return\n",
    "\n",
    "# --- Main Loop ---\n",
    "while True:\n",
    "    val_start_date = train_end_date + pd.DateOffset(days=1)\n",
    "    val_end_date = val_start_date + pd.DateOffset(years=1)\n",
    "    test_start_date = val_end_date + pd.DateOffset(days=1)\n",
    "    test_end_date = test_start_date + pd.DateOffset(years=1)\n",
    "\n",
    "    if val_end_date > max_date or test_end_date > max_date:\n",
    "        break\n",
    "\n",
    "    train_mask = df_ml['DateTime'] <= train_end_date\n",
    "    val_mask = (df_ml['DateTime'] >= val_start_date) & (df_ml['DateTime'] <= val_end_date)\n",
    "    test_mask = (df_ml['DateTime'] >= test_start_date) & (df_ml['DateTime'] <= test_end_date)\n",
    "\n",
    "    train_data = df_ml[train_mask]\n",
    "    val_data = df_ml[val_mask]\n",
    "    test_data = df_ml[test_mask]\n",
    "\n",
    "    if val_data.empty or test_data.empty:\n",
    "        print(f\"Skipping period {val_start_date.date()} to {test_end_date.date()} (no data)\")\n",
    "        train_end_date += pd.DateOffset(years=1)\n",
    "        continue\n",
    "\n",
    "    # --- Horizon Optimization ---\n",
    "    best_horizon, best_model, best_stop_loss = None, None, None\n",
    "    best_val_return = -np.inf\n",
    "\n",
    "    for horizon in horizons:\n",
    "        print(f\"\\nEvaluating Horizon: {horizon} for period starting {val_start_date.date()}\")\n",
    "        # Feature scaling\n",
    "        scaler = StandardScaler()\n",
    "        X_train_scaled = scaler.fit_transform(train_data[feature_cols])\n",
    "        X_val_scaled = scaler.transform(val_data[feature_cols])\n",
    "\n",
    "        # Reshape data for LSTM: [samples, timesteps, features]\n",
    "        X_train_reshaped = X_train_scaled.reshape((X_train_scaled.shape[0], 1, X_train_scaled.shape[1]))\n",
    "        X_val_reshaped = X_val_scaled.reshape((X_val_scaled.shape[0], 1, X_val_scaled.shape[1]))\n",
    "\n",
    "        y_train = train_data[f'Target Signal{horizon}']\n",
    "        y_val = val_data[f'Target Signal{horizon}']\n",
    "\n",
    "        # One-hot encode the labels\n",
    "        y_train_cat = to_categorical(y_train, num_classes=N_CLASSES)\n",
    "        y_val_cat = to_categorical(y_val, num_classes=N_CLASSES)\n",
    "\n",
    "        # Create and Train LSTM model\n",
    "        model = create_lstm_model(input_shape=(X_train_reshaped.shape[1], X_train_reshaped.shape[2]), num_classes=N_CLASSES)\n",
    "        early_stopping = EarlyStopping(monitor='val_loss', patience=5, restore_best_weights=True)\n",
    "\n",
    "        model.fit(X_train_reshaped, y_train_cat,\n",
    "                  validation_data=(X_val_reshaped, y_val_cat),\n",
    "                  epochs=50,\n",
    "                  batch_size=32,\n",
    "                  callbacks=[early_stopping],\n",
    "                  verbose=0) # Set to 1 to see training progress\n",
    "\n",
    "        # Get class probabilities\n",
    "        train_probas = model.predict(X_train_reshaped)\n",
    "        train_preds = np.argmax(train_probas, axis=1)\n",
    "\n",
    "        # Training stop loss calculation\n",
    "        train_trade_df = pd.DataFrame({\n",
    "            'DateTime': train_data['DateTime'],\n",
    "            'pred': train_preds,\n",
    "            'proba': [proba[pred] for pred, proba in zip(train_preds, train_probas)],\n",
    "            f'Forward Return{horizon}': train_data[f'Forward Return{horizon}'].values\n",
    "        })\n",
    "\n",
    "        train_raw_returns = []\n",
    "        for _, row in train_trade_df.iterrows():\n",
    "            if row['pred'] == 1:\n",
    "                train_raw_returns.append(row[f'Forward Return{horizon}'])\n",
    "            elif row['pred'] == 2:\n",
    "                train_raw_returns.append(-row[f'Forward Return{horizon}'])\n",
    "        stop_loss_train = np.percentile(train_raw_returns, 5) if train_raw_returns else None\n",
    "\n",
    "        # Validation predictions\n",
    "        val_probas = model.predict(X_val_reshaped)\n",
    "        val_preds = np.argmax(val_probas, axis=1)\n",
    "        val_trade_df = pd.DataFrame({\n",
    "            'DateTime': val_data['DateTime'],\n",
    "            'pred': val_preds,\n",
    "            'proba': [proba[pred] for pred, proba in zip(val_preds, val_probas)],\n",
    "            f'Forward Return{horizon}': val_data[f'Forward Return{horizon}'].values\n",
    "        })\n",
    "\n",
    "        # Validation stop loss calculation (for test set)\n",
    "        val_raw_returns = []\n",
    "        for _, row in val_trade_df.iterrows():\n",
    "            if row['pred'] == 1:\n",
    "                val_raw_returns.append(row[f'Forward Return{horizon}'])\n",
    "            elif row['pred'] == 2:\n",
    "                val_raw_returns.append(-row[f'Forward Return{horizon}'])\n",
    "        stop_loss_val = np.percentile(val_raw_returns, 5) if val_raw_returns else None\n",
    "\n",
    "        # Validate using training stop loss\n",
    "        val_returns = val_trade_df.groupby('DateTime').apply(\n",
    "            lambda x: calculate_grouped_returns(x, horizon, stop_loss_train)\n",
    "        ).values\n",
    "\n",
    "        total_val_return = (1 + val_returns).prod() - 1\n",
    "\n",
    "        if total_val_return > best_val_return:\n",
    "            best_val_return = total_val_return\n",
    "            best_horizon = horizon\n",
    "            best_model = model\n",
    "            best_stop_loss = stop_loss_val\n",
    "            # We also need to save the scaler from the best model\n",
    "            best_scaler = scaler\n",
    "\n",
    "    # --- Test Best Model ---\n",
    "    if best_model and best_stop_loss is not None:\n",
    "        print(f\"\\n--- Testing best model for period ending {test_end_date.date()} ---\")\n",
    "        print(f\"Best Horizon Found: {best_horizon}\")\n",
    "        # Use the scaler from the best model's training data\n",
    "        X_test_scaled = best_scaler.transform(test_data[feature_cols])\n",
    "        X_test_reshaped = X_test_scaled.reshape((X_test_scaled.shape[0], 1, X_test_scaled.shape[1]))\n",
    "        \n",
    "        test_probas = best_model.predict(X_test_reshaped)\n",
    "        test_preds = np.argmax(test_probas, axis=1)\n",
    "        y_test = test_data[f'Target Signal{best_horizon}'].values\n",
    "\n",
    "        test_trade_df = pd.DataFrame({\n",
    "            'DateTime': test_data['DateTime'],\n",
    "            'pred': test_preds,\n",
    "            'proba': [proba[pred] for pred, proba in zip(test_preds, test_probas)],\n",
    "            f'Forward Return{best_horizon}': test_data[f'Forward Return{best_horizon}'].values\n",
    "        })\n",
    "\n",
    "        grouped_returns = test_trade_df.groupby('DateTime').apply(\n",
    "            lambda x: calculate_grouped_returns(x, best_horizon, best_stop_loss)\n",
    "        ).values\n",
    "\n",
    "        all_test_returns.extend(grouped_returns)\n",
    "        all_dates.extend(test_trade_df['DateTime'].unique().tolist())\n",
    "        all_test_preds.extend(test_preds)\n",
    "        all_test_truths.extend(y_test)\n",
    "        all_test_probas.append(test_probas)\n",
    "        fold_mean_returns.append(np.mean(grouped_returns))\n",
    "        best_horizons_list.append(best_horizon or 'standard')\n",
    "\n",
    "    train_end_date += pd.DateOffset(years=1)\n",
    "\n",
    "# --- Results ---\n",
    "if all_test_returns:\n",
    "    cumulative_returns = (1 + np.array(all_test_returns)).cumprod() - 1\n",
    "    std_dev_individual = np.std(all_test_returns) * 100\n",
    "    min_return = np.nanmin(all_test_returns) * 100 if all_test_returns else 0.0\n",
    "\n",
    "    plt.figure(figsize=(12, 6))\n",
    "    # Ensure dates are sorted for plotting\n",
    "    sorted_dates, sorted_returns = zip(*sorted(zip(all_dates, cumulative_returns)))\n",
    "    plt.plot(sorted_dates, [r * 100 for r in sorted_returns])\n",
    "    plt.title('Cumulative Returns (LSTM with Stop Loss)')\n",
    "    plt.xlabel('Date')\n",
    "    plt.ylabel('Cumulative Return (%)')\n",
    "    plt.grid(True)\n",
    "    plt.show()\n",
    "\n",
    "    # Filter out samples where true label is not in predicted probabilities\n",
    "    # This can happen if a class (e.g., 0, 1, or 2) is not present in y_train\n",
    "    # but is present in y_test, which affects ROC AUC.\n",
    "    y_test_filtered = []\n",
    "    y_pred_filtered = []\n",
    "    # **FIXED a bug here that caused an IndexError**\n",
    "    # The original check was pred_proba.shape[1], which fails for 1D arrays.\n",
    "    # len(pred_proba) correctly gets the number of classes.\n",
    "    for true_label, pred_proba in zip(all_test_truths, np.vstack(all_test_probas)):\n",
    "        if true_label < len(pred_proba):\n",
    "            y_test_filtered.append(true_label)\n",
    "            y_pred_filtered.append(pred_proba)\n",
    "\n",
    "    y_test_filtered_cat = to_categorical(y_test_filtered, num_classes=N_CLASSES)\n",
    "\n",
    "    print(f\"Final Cumulative Compounded Return: {cumulative_returns[-1]*100:.2f}%\")\n",
    "    print(f\"\\nOverall Test Accuracy : {accuracy_score(all_test_truths, all_test_preds)*100:.2f}%\")\n",
    "    print(f\"Overall Precision     : {precision_score(all_test_truths, all_test_preds, average='macro', zero_division=0)*100:.2f}%\")\n",
    "    print(f\"Overall Recall        : {recall_score(all_test_truths, all_test_preds, average='macro', zero_division=0)*100:.2f}%\")\n",
    "    print(f\"Overall F1 Score      : {f1_score(all_test_truths, all_test_preds, average='macro', zero_division=0)*100:.2f}%\")\n",
    "    if len(y_test_filtered) > 0 and len(np.unique(y_test_filtered)) > 1:\n",
    "        # Note: ROC AUC requires one-hot encoded y_true for multi-class\n",
    "        print(f\"Overall ROC AUC       : {roc_auc_score(y_test_filtered_cat, np.array(y_pred_filtered), multi_class='ovo', average='macro')*100:.2f}%\")\n",
    "    else:\n",
    "        print(\"Overall ROC AUC       : Not enough data for calculation\")\n",
    "    print(f\"\\nAverage Fold Test Return : {np.mean(fold_mean_returns)*100:.5f}%\")\n",
    "    print(f\"\\nStandard Deviation of All Test Returns (Aggregated Daily): {std_dev_individual:.5f}%\")\n",
    "    print(f\"\\nMinimum Return (Aggregated Daily): {min_return:.5f}%\")\n",
    "    print(\"\\nOptimal Horizon Counts:\")\n",
    "    print(pd.Series(best_horizons_list).value_counts())\n",
    "    print(\"\\nTest Set Position Counts:\")\n",
    "    counts = pd.Series(all_test_preds).value_counts().sort_index()\n",
    "    print(f\"Neutral (0): {counts.get(0, 0)}\")\n",
    "    print(f\"Long (1): {counts.get(1, 0)}\")\n",
    "    print(f\"Short (2): {counts.get(2, 0)}\")\n",
    "\n",
    "else:\n",
    "    print(\"No valid test periods found\")\n"
   ]
  },
  {
   "cell_type": "code",
   "execution_count": null,
   "id": "04a633ae",
   "metadata": {},
   "outputs": [
    {
     "name": "stdout",
     "output_type": "stream",
     "text": [
      "Feature Columns: ['ACNFCOMF Index_Surprise', 'ADP CHNG Index_Surprise', 'AHE MOM% Index_Surprise', 'AHE YOY% Index_Surprise', 'AMSPPACE Index_Surprise', 'AWH TOTL Index_Surprise', 'CFNAI Index_Surprise', 'CGNOXAI% Index_Surprise', 'CGSHXAI% Index_Surprise', 'CHPMINDX Index_Surprise', 'CICRTOT Index_Surprise', 'CNSTTMOM Index_Surprise', 'COMFCOMF Index_Surprise', 'CONCCONF Index_Surprise', 'CONSCURR Index_Surprise', 'CONSEXP Index_Surprise', 'CONSP5MD Index_Surprise', 'CONSPXMD Index_Surprise', 'CONSSENT Index_Surprise', 'COSTNFR% Index_Surprise', 'CPI CHNG Index_Surprise', 'CPI XYOY Index_Surprise', 'CPI YOY Index_Surprise', 'CPTICHNG Index_Surprise', 'CPUPAXFE Index_Surprise', 'CPUPXCHG Index_Surprise', 'CPURNSA Index_Surprise', 'DFEDGBA Index_Surprise', 'DGNOCHNG Index_Surprise', 'DGNOXTCH Index_Surprise', 'DOTDLTMD Index_Surprise', 'DOTDY0MD Index_Surprise', 'DOTDY1MD Index_Surprise', 'DOTDY2MD Index_Surprise', 'DSERGBCC Index_Surprise', 'ECI SA% Index_Surprise', 'ECONUSIB Index_Surprise', 'EHSLSL Index_Surprise', 'EMPRGBCI Index_Surprise', 'ETSLMOM Index_Surprise', 'ETSLTOTL Index_Surprise', 'EXP1CMOM Index_Surprise', 'EXP1CYOY Index_Surprise', 'FDDSSD Index_Surprise', 'FDEBTY Index_Surprise', 'FDIDFDMO Index_Surprise', 'FDIDSGMO Index_Surprise', 'FDIDSGUM Index_Surprise', 'FDIUFDYO Index_Surprise', 'FDIUSGUY Index_Surprise', 'FDIUSGYO Index_Surprise', 'FDTR Index_Surprise', 'FDTRFTRL Index_Surprise', 'FRNTTNET Index_Surprise', 'FRNTTOTL Index_Surprise', 'GDP CQOQ Index_Surprise', 'GDP DCHG Index_Surprise', 'GDP PIQQ Index_Surprise', 'GDPCPCEC Index_Surprise', 'GDPCTOT% Index_Surprise', 'HPI PURQ Index_Surprise', 'HPI QOQ% Index_Surprise', 'HPIMMOM% Index_Surprise', 'IMP1CHNG Index_Surprise', 'IMP1XPM% Index_Surprise', 'IMP1YOY% Index_Surprise', 'INJCJC Index_Surprise', 'INJCSP Index_Surprise', 'IP CHNG Index_Surprise', 'IPMGCHNG Index_Surprise', 'IRRBIOER Index_Surprise', 'JOLTTOTL Index_Surprise', 'KCLSSACI Index_Surprise', 'LEI CHNG Index_Surprise', 'LHWANWPA Index_Surprise', 'LMCILMCC Index_Surprise', 'MAPMINDX Index_Surprise', 'MBAVCHNG Index_Surprise', 'MBRXYOY Index_Surprise', 'MBRXYOYW Index_Surprise', 'MPMIUSCA Index_Surprise', 'MPMIUSMA Index_Surprise', 'MPMIUSSA Index_Surprise', 'MTIBCHNG Index_Surprise', 'MWINCHNG Index_Surprise', 'MWSLCHNG Index_Surprise', 'NAPMEMPL Index_Surprise', 'NAPMNEMP Index_Surprise', 'NAPMNEWO Index_Surprise', 'NAPMNMAN Index_Surprise', 'NAPMNMI Index_Surprise', 'NAPMNNO Index_Surprise', 'NAPMNPRC Index_Surprise', 'NAPMPMI Index_Surprise', 'NAPMPRIC Index_Surprise', 'NFP CPYC Index_Surprise', 'NFP PCH Index_Surprise', 'NFP TCH Index_Surprise', 'NHCHATCH Index_Surprise', 'NHCHSTCH Index_Surprise', 'NHSLCHNG Index_Surprise', 'NHSLTOT Index_Surprise', 'NHSPATOT Index_Surprise', 'NHSPSTOT Index_Surprise', 'NYBLCNBA Index_Surprise', 'NYCNM1IR Index_Surprise', 'NYPMCURR Index_Surprise', 'OUTFGAF Index_Surprise', 'PCE CHNC Index_Surprise', 'PCE CMOM Index_Surprise', 'PCE CRCH Index_Surprise', 'PCE CYOY Index_Surprise', 'PCE DEFM Index_Surprise', 'PCE DEFY Index_Surprise', 'PHUCTOT Index_Surprise', 'PITLCHNG Index_Surprise', 'PNMARADI Index_Surprise', 'PPI CHNG Index_Surprise', 'PPI XYOY Index_Surprise', 'PPI YOY Index_Surprise', 'PRODNFR% Index_Surprise', 'PRUSTOT Index_Surprise', 'PXFECHNG Index_Surprise', 'RCHSINDX Index_Surprise', 'REALRAWE Index_Surprise', 'REALYRAE Index_Surprise', 'RSRSTMOM Index_Surprise', 'RSTAMOM Index_Surprise', 'RSTAXAG% Index_Surprise', 'RSTAXAGM Index_Surprise', 'RSTAXMOM Index_Surprise', 'RTSDCHNG Index_Surprise', 'RTSDXCHG Index_Surprise', 'SAARDTOT Index_Surprise', 'SAARTOTL Index_Surprise', 'SBOITOTL Index_Surprise', 'SPCS20 Index_Surprise', 'SPCS20SM Index_Surprise', 'SPCS20Y% Index_Surprise', 'SPCSUSA Index_Surprise', 'SPCSUSAY Index_Surprise', 'SPCSUSQS Index_Surprise', 'TMNOCHNG Index_Surprise', 'TMNOXTM% Index_Surprise', 'TREFAMSP Index_Surprise', 'TREFPACE Index_Surprise', 'USCABAL Index_Surprise', 'USEMNCHG Index_Surprise', 'USHBMIDX Index_Surprise', 'USHETOT% Index_Surprise', 'USHEYOY Index_Surprise', 'USMMMNCH Index_Surprise', 'USPHTMOM Index_Surprise', 'USPHTYOY Index_Surprise', 'USTBTOT Index_Surprise', 'USTGTTCB Index_Surprise', 'USUDMAER Index_Surprise', 'USURTOT Index_Surprise', 'USWHMANS Index_Surprise', 'USWHTOT Index_Surprise', 'VNCCCMOM Index_Surprise', 'SMA5', 'SMA10', 'SMA15', 'SMA20', 'SMA50', 'SMA100', 'SMA200', 'SMA5Cross', 'SMA10Cross', 'SMA15Cross', 'SMA20Cross', 'SMA50Cross', 'SMA100Cross', 'SMA200Cross', 'UpDown10', 'UpDown15', 'UpDown50', 'last_gdp_gr', 'last_vix', 'R', 'Volume_L1', 'Std Dev']\n",
      "Number of Features: 183\n",
      "\n",
      "Evaluating Horizon:  (20 min) for period starting 2006-01-28\n"
     ]
    },
    {
     "name": "stderr",
     "output_type": "stream",
     "text": [
      "C:\\Users\\Jop Brouwer\\AppData\\Local\\Temp\\ipykernel_26836\\2824531562.py:182: DeprecationWarning: DataFrameGroupBy.apply operated on the grouping columns. This behavior is deprecated, and in a future version of pandas the grouping columns will be excluded from the operation. Either pass `include_groups=False` to exclude the groupings or explicitly select the grouping columns after groupby to silence this warning.\n",
      "  val_returns = val_trade_df.groupby('DateTime').apply(\n"
     ]
    },
    {
     "name": "stdout",
     "output_type": "stream",
     "text": [
      "\n",
      "Evaluating Horizon:  (10 min) for period starting 2006-01-28\n"
     ]
    },
    {
     "name": "stderr",
     "output_type": "stream",
     "text": [
      "C:\\Users\\Jop Brouwer\\AppData\\Local\\Temp\\ipykernel_26836\\2824531562.py:182: DeprecationWarning: DataFrameGroupBy.apply operated on the grouping columns. This behavior is deprecated, and in a future version of pandas the grouping columns will be excluded from the operation. Either pass `include_groups=False` to exclude the groupings or explicitly select the grouping columns after groupby to silence this warning.\n",
      "  val_returns = val_trade_df.groupby('DateTime').apply(\n"
     ]
    },
    {
     "name": "stdout",
     "output_type": "stream",
     "text": [
      "\n",
      "Evaluating Horizon:  (40 min) for period starting 2006-01-28\n"
     ]
    },
    {
     "name": "stderr",
     "output_type": "stream",
     "text": [
      "C:\\Users\\Jop Brouwer\\AppData\\Local\\Temp\\ipykernel_26836\\2824531562.py:182: DeprecationWarning: DataFrameGroupBy.apply operated on the grouping columns. This behavior is deprecated, and in a future version of pandas the grouping columns will be excluded from the operation. Either pass `include_groups=False` to exclude the groupings or explicitly select the grouping columns after groupby to silence this warning.\n",
      "  val_returns = val_trade_df.groupby('DateTime').apply(\n"
     ]
    },
    {
     "name": "stdout",
     "output_type": "stream",
     "text": [
      "\n",
      "--- Testing best model for period ending 2008-01-29 ---\n",
      "Best Horizon Found:  (10 min)\n"
     ]
    },
    {
     "name": "stderr",
     "output_type": "stream",
     "text": [
      "C:\\Users\\Jop Brouwer\\AppData\\Local\\Temp\\ipykernel_26836\\2824531562.py:215: DeprecationWarning: DataFrameGroupBy.apply operated on the grouping columns. This behavior is deprecated, and in a future version of pandas the grouping columns will be excluded from the operation. Either pass `include_groups=False` to exclude the groupings or explicitly select the grouping columns after groupby to silence this warning.\n",
      "  grouped_returns = test_trade_df.groupby('DateTime').apply(\n"
     ]
    },
    {
     "name": "stdout",
     "output_type": "stream",
     "text": [
      "\n",
      "Evaluating Horizon:  (20 min) for period starting 2007-01-28\n"
     ]
    },
    {
     "name": "stderr",
     "output_type": "stream",
     "text": [
      "C:\\Users\\Jop Brouwer\\AppData\\Local\\Temp\\ipykernel_26836\\2824531562.py:182: DeprecationWarning: DataFrameGroupBy.apply operated on the grouping columns. This behavior is deprecated, and in a future version of pandas the grouping columns will be excluded from the operation. Either pass `include_groups=False` to exclude the groupings or explicitly select the grouping columns after groupby to silence this warning.\n",
      "  val_returns = val_trade_df.groupby('DateTime').apply(\n"
     ]
    },
    {
     "name": "stdout",
     "output_type": "stream",
     "text": [
      "\n",
      "Evaluating Horizon:  (10 min) for period starting 2007-01-28\n"
     ]
    },
    {
     "name": "stderr",
     "output_type": "stream",
     "text": [
      "C:\\Users\\Jop Brouwer\\AppData\\Local\\Temp\\ipykernel_26836\\2824531562.py:182: DeprecationWarning: DataFrameGroupBy.apply operated on the grouping columns. This behavior is deprecated, and in a future version of pandas the grouping columns will be excluded from the operation. Either pass `include_groups=False` to exclude the groupings or explicitly select the grouping columns after groupby to silence this warning.\n",
      "  val_returns = val_trade_df.groupby('DateTime').apply(\n"
     ]
    },
    {
     "name": "stdout",
     "output_type": "stream",
     "text": [
      "\n",
      "Evaluating Horizon:  (40 min) for period starting 2007-01-28\n"
     ]
    },
    {
     "name": "stderr",
     "output_type": "stream",
     "text": [
      "C:\\Users\\Jop Brouwer\\AppData\\Local\\Temp\\ipykernel_26836\\2824531562.py:182: DeprecationWarning: DataFrameGroupBy.apply operated on the grouping columns. This behavior is deprecated, and in a future version of pandas the grouping columns will be excluded from the operation. Either pass `include_groups=False` to exclude the groupings or explicitly select the grouping columns after groupby to silence this warning.\n",
      "  val_returns = val_trade_df.groupby('DateTime').apply(\n"
     ]
    },
    {
     "name": "stdout",
     "output_type": "stream",
     "text": [
      "\n",
      "--- Testing best model for period ending 2009-01-29 ---\n",
      "Best Horizon Found:  (40 min)\n"
     ]
    },
    {
     "name": "stderr",
     "output_type": "stream",
     "text": [
      "C:\\Users\\Jop Brouwer\\AppData\\Local\\Temp\\ipykernel_26836\\2824531562.py:215: DeprecationWarning: DataFrameGroupBy.apply operated on the grouping columns. This behavior is deprecated, and in a future version of pandas the grouping columns will be excluded from the operation. Either pass `include_groups=False` to exclude the groupings or explicitly select the grouping columns after groupby to silence this warning.\n",
      "  grouped_returns = test_trade_df.groupby('DateTime').apply(\n"
     ]
    },
    {
     "name": "stdout",
     "output_type": "stream",
     "text": [
      "\n",
      "Evaluating Horizon:  (20 min) for period starting 2008-01-28\n"
     ]
    },
    {
     "name": "stderr",
     "output_type": "stream",
     "text": [
      "C:\\Users\\Jop Brouwer\\AppData\\Local\\Temp\\ipykernel_26836\\2824531562.py:182: DeprecationWarning: DataFrameGroupBy.apply operated on the grouping columns. This behavior is deprecated, and in a future version of pandas the grouping columns will be excluded from the operation. Either pass `include_groups=False` to exclude the groupings or explicitly select the grouping columns after groupby to silence this warning.\n",
      "  val_returns = val_trade_df.groupby('DateTime').apply(\n"
     ]
    },
    {
     "name": "stdout",
     "output_type": "stream",
     "text": [
      "\n",
      "Evaluating Horizon:  (10 min) for period starting 2008-01-28\n"
     ]
    },
    {
     "name": "stderr",
     "output_type": "stream",
     "text": [
      "C:\\Users\\Jop Brouwer\\AppData\\Local\\Temp\\ipykernel_26836\\2824531562.py:182: DeprecationWarning: DataFrameGroupBy.apply operated on the grouping columns. This behavior is deprecated, and in a future version of pandas the grouping columns will be excluded from the operation. Either pass `include_groups=False` to exclude the groupings or explicitly select the grouping columns after groupby to silence this warning.\n",
      "  val_returns = val_trade_df.groupby('DateTime').apply(\n"
     ]
    },
    {
     "name": "stdout",
     "output_type": "stream",
     "text": [
      "\n",
      "Evaluating Horizon:  (40 min) for period starting 2008-01-28\n"
     ]
    },
    {
     "name": "stderr",
     "output_type": "stream",
     "text": [
      "C:\\Users\\Jop Brouwer\\AppData\\Local\\Temp\\ipykernel_26836\\2824531562.py:182: DeprecationWarning: DataFrameGroupBy.apply operated on the grouping columns. This behavior is deprecated, and in a future version of pandas the grouping columns will be excluded from the operation. Either pass `include_groups=False` to exclude the groupings or explicitly select the grouping columns after groupby to silence this warning.\n",
      "  val_returns = val_trade_df.groupby('DateTime').apply(\n"
     ]
    },
    {
     "name": "stdout",
     "output_type": "stream",
     "text": [
      "\n",
      "--- Testing best model for period ending 2010-01-29 ---\n",
      "Best Horizon Found:  (40 min)\n"
     ]
    },
    {
     "name": "stderr",
     "output_type": "stream",
     "text": [
      "C:\\Users\\Jop Brouwer\\AppData\\Local\\Temp\\ipykernel_26836\\2824531562.py:215: DeprecationWarning: DataFrameGroupBy.apply operated on the grouping columns. This behavior is deprecated, and in a future version of pandas the grouping columns will be excluded from the operation. Either pass `include_groups=False` to exclude the groupings or explicitly select the grouping columns after groupby to silence this warning.\n",
      "  grouped_returns = test_trade_df.groupby('DateTime').apply(\n"
     ]
    },
    {
     "name": "stdout",
     "output_type": "stream",
     "text": [
      "\n",
      "Evaluating Horizon:  (20 min) for period starting 2009-01-28\n"
     ]
    },
    {
     "name": "stderr",
     "output_type": "stream",
     "text": [
      "C:\\Users\\Jop Brouwer\\AppData\\Local\\Temp\\ipykernel_26836\\2824531562.py:182: DeprecationWarning: DataFrameGroupBy.apply operated on the grouping columns. This behavior is deprecated, and in a future version of pandas the grouping columns will be excluded from the operation. Either pass `include_groups=False` to exclude the groupings or explicitly select the grouping columns after groupby to silence this warning.\n",
      "  val_returns = val_trade_df.groupby('DateTime').apply(\n"
     ]
    },
    {
     "name": "stdout",
     "output_type": "stream",
     "text": [
      "\n",
      "Evaluating Horizon:  (10 min) for period starting 2009-01-28\n"
     ]
    },
    {
     "name": "stderr",
     "output_type": "stream",
     "text": [
      "C:\\Users\\Jop Brouwer\\AppData\\Local\\Temp\\ipykernel_26836\\2824531562.py:182: DeprecationWarning: DataFrameGroupBy.apply operated on the grouping columns. This behavior is deprecated, and in a future version of pandas the grouping columns will be excluded from the operation. Either pass `include_groups=False` to exclude the groupings or explicitly select the grouping columns after groupby to silence this warning.\n",
      "  val_returns = val_trade_df.groupby('DateTime').apply(\n"
     ]
    },
    {
     "name": "stdout",
     "output_type": "stream",
     "text": [
      "\n",
      "Evaluating Horizon:  (40 min) for period starting 2009-01-28\n"
     ]
    },
    {
     "name": "stderr",
     "output_type": "stream",
     "text": [
      "C:\\Users\\Jop Brouwer\\AppData\\Local\\Temp\\ipykernel_26836\\2824531562.py:182: DeprecationWarning: DataFrameGroupBy.apply operated on the grouping columns. This behavior is deprecated, and in a future version of pandas the grouping columns will be excluded from the operation. Either pass `include_groups=False` to exclude the groupings or explicitly select the grouping columns after groupby to silence this warning.\n",
      "  val_returns = val_trade_df.groupby('DateTime').apply(\n"
     ]
    },
    {
     "name": "stdout",
     "output_type": "stream",
     "text": [
      "\n",
      "--- Testing best model for period ending 2011-01-29 ---\n",
      "Best Horizon Found:  (40 min)\n"
     ]
    },
    {
     "name": "stderr",
     "output_type": "stream",
     "text": [
      "C:\\Users\\Jop Brouwer\\AppData\\Local\\Temp\\ipykernel_26836\\2824531562.py:215: DeprecationWarning: DataFrameGroupBy.apply operated on the grouping columns. This behavior is deprecated, and in a future version of pandas the grouping columns will be excluded from the operation. Either pass `include_groups=False` to exclude the groupings or explicitly select the grouping columns after groupby to silence this warning.\n",
      "  grouped_returns = test_trade_df.groupby('DateTime').apply(\n"
     ]
    },
    {
     "name": "stdout",
     "output_type": "stream",
     "text": [
      "\n",
      "Evaluating Horizon:  (20 min) for period starting 2010-01-28\n"
     ]
    },
    {
     "name": "stderr",
     "output_type": "stream",
     "text": [
      "C:\\Users\\Jop Brouwer\\AppData\\Local\\Temp\\ipykernel_26836\\2824531562.py:182: DeprecationWarning: DataFrameGroupBy.apply operated on the grouping columns. This behavior is deprecated, and in a future version of pandas the grouping columns will be excluded from the operation. Either pass `include_groups=False` to exclude the groupings or explicitly select the grouping columns after groupby to silence this warning.\n",
      "  val_returns = val_trade_df.groupby('DateTime').apply(\n"
     ]
    },
    {
     "name": "stdout",
     "output_type": "stream",
     "text": [
      "\n",
      "Evaluating Horizon:  (10 min) for period starting 2010-01-28\n"
     ]
    },
    {
     "name": "stderr",
     "output_type": "stream",
     "text": [
      "C:\\Users\\Jop Brouwer\\AppData\\Local\\Temp\\ipykernel_26836\\2824531562.py:182: DeprecationWarning: DataFrameGroupBy.apply operated on the grouping columns. This behavior is deprecated, and in a future version of pandas the grouping columns will be excluded from the operation. Either pass `include_groups=False` to exclude the groupings or explicitly select the grouping columns after groupby to silence this warning.\n",
      "  val_returns = val_trade_df.groupby('DateTime').apply(\n"
     ]
    },
    {
     "name": "stdout",
     "output_type": "stream",
     "text": [
      "\n",
      "Evaluating Horizon:  (40 min) for period starting 2010-01-28\n"
     ]
    },
    {
     "name": "stderr",
     "output_type": "stream",
     "text": [
      "C:\\Users\\Jop Brouwer\\AppData\\Local\\Temp\\ipykernel_26836\\2824531562.py:182: DeprecationWarning: DataFrameGroupBy.apply operated on the grouping columns. This behavior is deprecated, and in a future version of pandas the grouping columns will be excluded from the operation. Either pass `include_groups=False` to exclude the groupings or explicitly select the grouping columns after groupby to silence this warning.\n",
      "  val_returns = val_trade_df.groupby('DateTime').apply(\n"
     ]
    },
    {
     "name": "stdout",
     "output_type": "stream",
     "text": [
      "\n",
      "--- Testing best model for period ending 2012-01-29 ---\n",
      "Best Horizon Found:  (20 min)\n"
     ]
    },
    {
     "name": "stderr",
     "output_type": "stream",
     "text": [
      "C:\\Users\\Jop Brouwer\\AppData\\Local\\Temp\\ipykernel_26836\\2824531562.py:215: DeprecationWarning: DataFrameGroupBy.apply operated on the grouping columns. This behavior is deprecated, and in a future version of pandas the grouping columns will be excluded from the operation. Either pass `include_groups=False` to exclude the groupings or explicitly select the grouping columns after groupby to silence this warning.\n",
      "  grouped_returns = test_trade_df.groupby('DateTime').apply(\n"
     ]
    },
    {
     "name": "stdout",
     "output_type": "stream",
     "text": [
      "\n",
      "Evaluating Horizon:  (20 min) for period starting 2011-01-28\n"
     ]
    },
    {
     "name": "stderr",
     "output_type": "stream",
     "text": [
      "C:\\Users\\Jop Brouwer\\AppData\\Local\\Temp\\ipykernel_26836\\2824531562.py:182: DeprecationWarning: DataFrameGroupBy.apply operated on the grouping columns. This behavior is deprecated, and in a future version of pandas the grouping columns will be excluded from the operation. Either pass `include_groups=False` to exclude the groupings or explicitly select the grouping columns after groupby to silence this warning.\n",
      "  val_returns = val_trade_df.groupby('DateTime').apply(\n"
     ]
    },
    {
     "name": "stdout",
     "output_type": "stream",
     "text": [
      "\n",
      "Evaluating Horizon:  (10 min) for period starting 2011-01-28\n"
     ]
    },
    {
     "name": "stderr",
     "output_type": "stream",
     "text": [
      "C:\\Users\\Jop Brouwer\\AppData\\Local\\Temp\\ipykernel_26836\\2824531562.py:182: DeprecationWarning: DataFrameGroupBy.apply operated on the grouping columns. This behavior is deprecated, and in a future version of pandas the grouping columns will be excluded from the operation. Either pass `include_groups=False` to exclude the groupings or explicitly select the grouping columns after groupby to silence this warning.\n",
      "  val_returns = val_trade_df.groupby('DateTime').apply(\n"
     ]
    },
    {
     "name": "stdout",
     "output_type": "stream",
     "text": [
      "\n",
      "Evaluating Horizon:  (40 min) for period starting 2011-01-28\n"
     ]
    },
    {
     "name": "stderr",
     "output_type": "stream",
     "text": [
      "C:\\Users\\Jop Brouwer\\AppData\\Local\\Temp\\ipykernel_26836\\2824531562.py:182: DeprecationWarning: DataFrameGroupBy.apply operated on the grouping columns. This behavior is deprecated, and in a future version of pandas the grouping columns will be excluded from the operation. Either pass `include_groups=False` to exclude the groupings or explicitly select the grouping columns after groupby to silence this warning.\n",
      "  val_returns = val_trade_df.groupby('DateTime').apply(\n"
     ]
    },
    {
     "name": "stdout",
     "output_type": "stream",
     "text": [
      "\n",
      "--- Testing best model for period ending 2013-01-29 ---\n",
      "Best Horizon Found:  (40 min)\n"
     ]
    },
    {
     "name": "stderr",
     "output_type": "stream",
     "text": [
      "C:\\Users\\Jop Brouwer\\AppData\\Local\\Temp\\ipykernel_26836\\2824531562.py:215: DeprecationWarning: DataFrameGroupBy.apply operated on the grouping columns. This behavior is deprecated, and in a future version of pandas the grouping columns will be excluded from the operation. Either pass `include_groups=False` to exclude the groupings or explicitly select the grouping columns after groupby to silence this warning.\n",
      "  grouped_returns = test_trade_df.groupby('DateTime').apply(\n"
     ]
    },
    {
     "name": "stdout",
     "output_type": "stream",
     "text": [
      "\n",
      "Evaluating Horizon:  (20 min) for period starting 2012-01-28\n"
     ]
    },
    {
     "name": "stderr",
     "output_type": "stream",
     "text": [
      "C:\\Users\\Jop Brouwer\\AppData\\Local\\Temp\\ipykernel_26836\\2824531562.py:182: DeprecationWarning: DataFrameGroupBy.apply operated on the grouping columns. This behavior is deprecated, and in a future version of pandas the grouping columns will be excluded from the operation. Either pass `include_groups=False` to exclude the groupings or explicitly select the grouping columns after groupby to silence this warning.\n",
      "  val_returns = val_trade_df.groupby('DateTime').apply(\n"
     ]
    },
    {
     "name": "stdout",
     "output_type": "stream",
     "text": [
      "\n",
      "Evaluating Horizon:  (10 min) for period starting 2012-01-28\n"
     ]
    },
    {
     "name": "stderr",
     "output_type": "stream",
     "text": [
      "C:\\Users\\Jop Brouwer\\AppData\\Local\\Temp\\ipykernel_26836\\2824531562.py:182: DeprecationWarning: DataFrameGroupBy.apply operated on the grouping columns. This behavior is deprecated, and in a future version of pandas the grouping columns will be excluded from the operation. Either pass `include_groups=False` to exclude the groupings or explicitly select the grouping columns after groupby to silence this warning.\n",
      "  val_returns = val_trade_df.groupby('DateTime').apply(\n"
     ]
    },
    {
     "name": "stdout",
     "output_type": "stream",
     "text": [
      "\n",
      "Evaluating Horizon:  (40 min) for period starting 2012-01-28\n"
     ]
    },
    {
     "name": "stderr",
     "output_type": "stream",
     "text": [
      "C:\\Users\\Jop Brouwer\\AppData\\Local\\Temp\\ipykernel_26836\\2824531562.py:182: DeprecationWarning: DataFrameGroupBy.apply operated on the grouping columns. This behavior is deprecated, and in a future version of pandas the grouping columns will be excluded from the operation. Either pass `include_groups=False` to exclude the groupings or explicitly select the grouping columns after groupby to silence this warning.\n",
      "  val_returns = val_trade_df.groupby('DateTime').apply(\n"
     ]
    },
    {
     "name": "stdout",
     "output_type": "stream",
     "text": [
      "\n",
      "--- Testing best model for period ending 2014-01-29 ---\n",
      "Best Horizon Found:  (10 min)\n"
     ]
    },
    {
     "name": "stderr",
     "output_type": "stream",
     "text": [
      "C:\\Users\\Jop Brouwer\\AppData\\Local\\Temp\\ipykernel_26836\\2824531562.py:215: DeprecationWarning: DataFrameGroupBy.apply operated on the grouping columns. This behavior is deprecated, and in a future version of pandas the grouping columns will be excluded from the operation. Either pass `include_groups=False` to exclude the groupings or explicitly select the grouping columns after groupby to silence this warning.\n",
      "  grouped_returns = test_trade_df.groupby('DateTime').apply(\n"
     ]
    },
    {
     "name": "stdout",
     "output_type": "stream",
     "text": [
      "\n",
      "Evaluating Horizon:  (20 min) for period starting 2013-01-28\n"
     ]
    },
    {
     "name": "stderr",
     "output_type": "stream",
     "text": [
      "C:\\Users\\Jop Brouwer\\AppData\\Local\\Temp\\ipykernel_26836\\2824531562.py:182: DeprecationWarning: DataFrameGroupBy.apply operated on the grouping columns. This behavior is deprecated, and in a future version of pandas the grouping columns will be excluded from the operation. Either pass `include_groups=False` to exclude the groupings or explicitly select the grouping columns after groupby to silence this warning.\n",
      "  val_returns = val_trade_df.groupby('DateTime').apply(\n"
     ]
    },
    {
     "name": "stdout",
     "output_type": "stream",
     "text": [
      "\n",
      "Evaluating Horizon:  (10 min) for period starting 2013-01-28\n"
     ]
    },
    {
     "name": "stderr",
     "output_type": "stream",
     "text": [
      "C:\\Users\\Jop Brouwer\\AppData\\Local\\Temp\\ipykernel_26836\\2824531562.py:182: DeprecationWarning: DataFrameGroupBy.apply operated on the grouping columns. This behavior is deprecated, and in a future version of pandas the grouping columns will be excluded from the operation. Either pass `include_groups=False` to exclude the groupings or explicitly select the grouping columns after groupby to silence this warning.\n",
      "  val_returns = val_trade_df.groupby('DateTime').apply(\n"
     ]
    },
    {
     "name": "stdout",
     "output_type": "stream",
     "text": [
      "\n",
      "Evaluating Horizon:  (40 min) for period starting 2013-01-28\n"
     ]
    },
    {
     "name": "stderr",
     "output_type": "stream",
     "text": [
      "C:\\Users\\Jop Brouwer\\AppData\\Local\\Temp\\ipykernel_26836\\2824531562.py:182: DeprecationWarning: DataFrameGroupBy.apply operated on the grouping columns. This behavior is deprecated, and in a future version of pandas the grouping columns will be excluded from the operation. Either pass `include_groups=False` to exclude the groupings or explicitly select the grouping columns after groupby to silence this warning.\n",
      "  val_returns = val_trade_df.groupby('DateTime').apply(\n"
     ]
    },
    {
     "name": "stdout",
     "output_type": "stream",
     "text": [
      "\n",
      "--- Testing best model for period ending 2015-01-29 ---\n",
      "Best Horizon Found:  (20 min)\n"
     ]
    },
    {
     "name": "stderr",
     "output_type": "stream",
     "text": [
      "C:\\Users\\Jop Brouwer\\AppData\\Local\\Temp\\ipykernel_26836\\2824531562.py:215: DeprecationWarning: DataFrameGroupBy.apply operated on the grouping columns. This behavior is deprecated, and in a future version of pandas the grouping columns will be excluded from the operation. Either pass `include_groups=False` to exclude the groupings or explicitly select the grouping columns after groupby to silence this warning.\n",
      "  grouped_returns = test_trade_df.groupby('DateTime').apply(\n"
     ]
    },
    {
     "name": "stdout",
     "output_type": "stream",
     "text": [
      "\n",
      "Evaluating Horizon:  (20 min) for period starting 2014-01-28\n"
     ]
    },
    {
     "name": "stderr",
     "output_type": "stream",
     "text": [
      "C:\\Users\\Jop Brouwer\\AppData\\Local\\Temp\\ipykernel_26836\\2824531562.py:182: DeprecationWarning: DataFrameGroupBy.apply operated on the grouping columns. This behavior is deprecated, and in a future version of pandas the grouping columns will be excluded from the operation. Either pass `include_groups=False` to exclude the groupings or explicitly select the grouping columns after groupby to silence this warning.\n",
      "  val_returns = val_trade_df.groupby('DateTime').apply(\n"
     ]
    },
    {
     "name": "stdout",
     "output_type": "stream",
     "text": [
      "\n",
      "Evaluating Horizon:  (10 min) for period starting 2014-01-28\n"
     ]
    },
    {
     "name": "stderr",
     "output_type": "stream",
     "text": [
      "C:\\Users\\Jop Brouwer\\AppData\\Local\\Temp\\ipykernel_26836\\2824531562.py:182: DeprecationWarning: DataFrameGroupBy.apply operated on the grouping columns. This behavior is deprecated, and in a future version of pandas the grouping columns will be excluded from the operation. Either pass `include_groups=False` to exclude the groupings or explicitly select the grouping columns after groupby to silence this warning.\n",
      "  val_returns = val_trade_df.groupby('DateTime').apply(\n"
     ]
    },
    {
     "name": "stdout",
     "output_type": "stream",
     "text": [
      "\n",
      "Evaluating Horizon:  (40 min) for period starting 2014-01-28\n"
     ]
    },
    {
     "name": "stderr",
     "output_type": "stream",
     "text": [
      "C:\\Users\\Jop Brouwer\\AppData\\Local\\Temp\\ipykernel_26836\\2824531562.py:182: DeprecationWarning: DataFrameGroupBy.apply operated on the grouping columns. This behavior is deprecated, and in a future version of pandas the grouping columns will be excluded from the operation. Either pass `include_groups=False` to exclude the groupings or explicitly select the grouping columns after groupby to silence this warning.\n",
      "  val_returns = val_trade_df.groupby('DateTime').apply(\n"
     ]
    },
    {
     "name": "stdout",
     "output_type": "stream",
     "text": [
      "\n",
      "--- Testing best model for period ending 2016-01-29 ---\n",
      "Best Horizon Found:  (10 min)\n"
     ]
    },
    {
     "name": "stderr",
     "output_type": "stream",
     "text": [
      "C:\\Users\\Jop Brouwer\\AppData\\Local\\Temp\\ipykernel_26836\\2824531562.py:215: DeprecationWarning: DataFrameGroupBy.apply operated on the grouping columns. This behavior is deprecated, and in a future version of pandas the grouping columns will be excluded from the operation. Either pass `include_groups=False` to exclude the groupings or explicitly select the grouping columns after groupby to silence this warning.\n",
      "  grouped_returns = test_trade_df.groupby('DateTime').apply(\n"
     ]
    },
    {
     "name": "stdout",
     "output_type": "stream",
     "text": [
      "\n",
      "Evaluating Horizon:  (20 min) for period starting 2015-01-28\n"
     ]
    },
    {
     "name": "stderr",
     "output_type": "stream",
     "text": [
      "C:\\Users\\Jop Brouwer\\AppData\\Local\\Temp\\ipykernel_26836\\2824531562.py:182: DeprecationWarning: DataFrameGroupBy.apply operated on the grouping columns. This behavior is deprecated, and in a future version of pandas the grouping columns will be excluded from the operation. Either pass `include_groups=False` to exclude the groupings or explicitly select the grouping columns after groupby to silence this warning.\n",
      "  val_returns = val_trade_df.groupby('DateTime').apply(\n"
     ]
    },
    {
     "name": "stdout",
     "output_type": "stream",
     "text": [
      "\n",
      "Evaluating Horizon:  (10 min) for period starting 2015-01-28\n"
     ]
    },
    {
     "name": "stderr",
     "output_type": "stream",
     "text": [
      "C:\\Users\\Jop Brouwer\\AppData\\Local\\Temp\\ipykernel_26836\\2824531562.py:182: DeprecationWarning: DataFrameGroupBy.apply operated on the grouping columns. This behavior is deprecated, and in a future version of pandas the grouping columns will be excluded from the operation. Either pass `include_groups=False` to exclude the groupings or explicitly select the grouping columns after groupby to silence this warning.\n",
      "  val_returns = val_trade_df.groupby('DateTime').apply(\n"
     ]
    },
    {
     "name": "stdout",
     "output_type": "stream",
     "text": [
      "\n",
      "Evaluating Horizon:  (40 min) for period starting 2015-01-28\n"
     ]
    },
    {
     "name": "stderr",
     "output_type": "stream",
     "text": [
      "C:\\Users\\Jop Brouwer\\AppData\\Local\\Temp\\ipykernel_26836\\2824531562.py:182: DeprecationWarning: DataFrameGroupBy.apply operated on the grouping columns. This behavior is deprecated, and in a future version of pandas the grouping columns will be excluded from the operation. Either pass `include_groups=False` to exclude the groupings or explicitly select the grouping columns after groupby to silence this warning.\n",
      "  val_returns = val_trade_df.groupby('DateTime').apply(\n"
     ]
    },
    {
     "name": "stdout",
     "output_type": "stream",
     "text": [
      "\n",
      "--- Testing best model for period ending 2017-01-29 ---\n",
      "Best Horizon Found:  (20 min)\n"
     ]
    },
    {
     "name": "stderr",
     "output_type": "stream",
     "text": [
      "C:\\Users\\Jop Brouwer\\AppData\\Local\\Temp\\ipykernel_26836\\2824531562.py:215: DeprecationWarning: DataFrameGroupBy.apply operated on the grouping columns. This behavior is deprecated, and in a future version of pandas the grouping columns will be excluded from the operation. Either pass `include_groups=False` to exclude the groupings or explicitly select the grouping columns after groupby to silence this warning.\n",
      "  grouped_returns = test_trade_df.groupby('DateTime').apply(\n"
     ]
    },
    {
     "name": "stdout",
     "output_type": "stream",
     "text": [
      "\n",
      "Evaluating Horizon:  (20 min) for period starting 2016-01-28\n"
     ]
    },
    {
     "name": "stderr",
     "output_type": "stream",
     "text": [
      "C:\\Users\\Jop Brouwer\\AppData\\Local\\Temp\\ipykernel_26836\\2824531562.py:182: DeprecationWarning: DataFrameGroupBy.apply operated on the grouping columns. This behavior is deprecated, and in a future version of pandas the grouping columns will be excluded from the operation. Either pass `include_groups=False` to exclude the groupings or explicitly select the grouping columns after groupby to silence this warning.\n",
      "  val_returns = val_trade_df.groupby('DateTime').apply(\n"
     ]
    },
    {
     "name": "stdout",
     "output_type": "stream",
     "text": [
      "\n",
      "Evaluating Horizon:  (10 min) for period starting 2016-01-28\n"
     ]
    },
    {
     "name": "stderr",
     "output_type": "stream",
     "text": [
      "C:\\Users\\Jop Brouwer\\AppData\\Local\\Temp\\ipykernel_26836\\2824531562.py:182: DeprecationWarning: DataFrameGroupBy.apply operated on the grouping columns. This behavior is deprecated, and in a future version of pandas the grouping columns will be excluded from the operation. Either pass `include_groups=False` to exclude the groupings or explicitly select the grouping columns after groupby to silence this warning.\n",
      "  val_returns = val_trade_df.groupby('DateTime').apply(\n"
     ]
    },
    {
     "name": "stdout",
     "output_type": "stream",
     "text": [
      "\n",
      "Evaluating Horizon:  (40 min) for period starting 2016-01-28\n"
     ]
    },
    {
     "name": "stderr",
     "output_type": "stream",
     "text": [
      "C:\\Users\\Jop Brouwer\\AppData\\Local\\Temp\\ipykernel_26836\\2824531562.py:182: DeprecationWarning: DataFrameGroupBy.apply operated on the grouping columns. This behavior is deprecated, and in a future version of pandas the grouping columns will be excluded from the operation. Either pass `include_groups=False` to exclude the groupings or explicitly select the grouping columns after groupby to silence this warning.\n",
      "  val_returns = val_trade_df.groupby('DateTime').apply(\n"
     ]
    },
    {
     "name": "stdout",
     "output_type": "stream",
     "text": [
      "\n",
      "--- Testing best model for period ending 2018-01-29 ---\n",
      "Best Horizon Found:  (10 min)\n"
     ]
    },
    {
     "name": "stderr",
     "output_type": "stream",
     "text": [
      "C:\\Users\\Jop Brouwer\\AppData\\Local\\Temp\\ipykernel_26836\\2824531562.py:215: DeprecationWarning: DataFrameGroupBy.apply operated on the grouping columns. This behavior is deprecated, and in a future version of pandas the grouping columns will be excluded from the operation. Either pass `include_groups=False` to exclude the groupings or explicitly select the grouping columns after groupby to silence this warning.\n",
      "  grouped_returns = test_trade_df.groupby('DateTime').apply(\n"
     ]
    },
    {
     "name": "stdout",
     "output_type": "stream",
     "text": [
      "\n",
      "Evaluating Horizon:  (20 min) for period starting 2017-01-28\n"
     ]
    },
    {
     "name": "stderr",
     "output_type": "stream",
     "text": [
      "C:\\Users\\Jop Brouwer\\AppData\\Local\\Temp\\ipykernel_26836\\2824531562.py:182: DeprecationWarning: DataFrameGroupBy.apply operated on the grouping columns. This behavior is deprecated, and in a future version of pandas the grouping columns will be excluded from the operation. Either pass `include_groups=False` to exclude the groupings or explicitly select the grouping columns after groupby to silence this warning.\n",
      "  val_returns = val_trade_df.groupby('DateTime').apply(\n"
     ]
    },
    {
     "name": "stdout",
     "output_type": "stream",
     "text": [
      "\n",
      "Evaluating Horizon:  (10 min) for period starting 2017-01-28\n"
     ]
    },
    {
     "name": "stderr",
     "output_type": "stream",
     "text": [
      "C:\\Users\\Jop Brouwer\\AppData\\Local\\Temp\\ipykernel_26836\\2824531562.py:182: DeprecationWarning: DataFrameGroupBy.apply operated on the grouping columns. This behavior is deprecated, and in a future version of pandas the grouping columns will be excluded from the operation. Either pass `include_groups=False` to exclude the groupings or explicitly select the grouping columns after groupby to silence this warning.\n",
      "  val_returns = val_trade_df.groupby('DateTime').apply(\n"
     ]
    },
    {
     "name": "stdout",
     "output_type": "stream",
     "text": [
      "\n",
      "Evaluating Horizon:  (40 min) for period starting 2017-01-28\n"
     ]
    },
    {
     "name": "stderr",
     "output_type": "stream",
     "text": [
      "C:\\Users\\Jop Brouwer\\AppData\\Local\\Temp\\ipykernel_26836\\2824531562.py:182: DeprecationWarning: DataFrameGroupBy.apply operated on the grouping columns. This behavior is deprecated, and in a future version of pandas the grouping columns will be excluded from the operation. Either pass `include_groups=False` to exclude the groupings or explicitly select the grouping columns after groupby to silence this warning.\n",
      "  val_returns = val_trade_df.groupby('DateTime').apply(\n"
     ]
    },
    {
     "name": "stdout",
     "output_type": "stream",
     "text": [
      "\n",
      "--- Testing best model for period ending 2019-01-29 ---\n",
      "Best Horizon Found:  (40 min)\n"
     ]
    },
    {
     "name": "stderr",
     "output_type": "stream",
     "text": [
      "C:\\Users\\Jop Brouwer\\AppData\\Local\\Temp\\ipykernel_26836\\2824531562.py:215: DeprecationWarning: DataFrameGroupBy.apply operated on the grouping columns. This behavior is deprecated, and in a future version of pandas the grouping columns will be excluded from the operation. Either pass `include_groups=False` to exclude the groupings or explicitly select the grouping columns after groupby to silence this warning.\n",
      "  grouped_returns = test_trade_df.groupby('DateTime').apply(\n"
     ]
    },
    {
     "name": "stdout",
     "output_type": "stream",
     "text": [
      "\n",
      "Evaluating Horizon:  (20 min) for period starting 2018-01-28\n"
     ]
    },
    {
     "name": "stderr",
     "output_type": "stream",
     "text": [
      "C:\\Users\\Jop Brouwer\\AppData\\Local\\Temp\\ipykernel_26836\\2824531562.py:182: DeprecationWarning: DataFrameGroupBy.apply operated on the grouping columns. This behavior is deprecated, and in a future version of pandas the grouping columns will be excluded from the operation. Either pass `include_groups=False` to exclude the groupings or explicitly select the grouping columns after groupby to silence this warning.\n",
      "  val_returns = val_trade_df.groupby('DateTime').apply(\n"
     ]
    },
    {
     "name": "stdout",
     "output_type": "stream",
     "text": [
      "\n",
      "Evaluating Horizon:  (10 min) for period starting 2018-01-28\n"
     ]
    },
    {
     "name": "stderr",
     "output_type": "stream",
     "text": [
      "C:\\Users\\Jop Brouwer\\AppData\\Local\\Temp\\ipykernel_26836\\2824531562.py:182: DeprecationWarning: DataFrameGroupBy.apply operated on the grouping columns. This behavior is deprecated, and in a future version of pandas the grouping columns will be excluded from the operation. Either pass `include_groups=False` to exclude the groupings or explicitly select the grouping columns after groupby to silence this warning.\n",
      "  val_returns = val_trade_df.groupby('DateTime').apply(\n"
     ]
    },
    {
     "name": "stdout",
     "output_type": "stream",
     "text": [
      "\n",
      "Evaluating Horizon:  (40 min) for period starting 2018-01-28\n"
     ]
    },
    {
     "name": "stderr",
     "output_type": "stream",
     "text": [
      "C:\\Users\\Jop Brouwer\\AppData\\Local\\Temp\\ipykernel_26836\\2824531562.py:182: DeprecationWarning: DataFrameGroupBy.apply operated on the grouping columns. This behavior is deprecated, and in a future version of pandas the grouping columns will be excluded from the operation. Either pass `include_groups=False` to exclude the groupings or explicitly select the grouping columns after groupby to silence this warning.\n",
      "  val_returns = val_trade_df.groupby('DateTime').apply(\n"
     ]
    },
    {
     "name": "stdout",
     "output_type": "stream",
     "text": [
      "\n",
      "--- Testing best model for period ending 2020-01-29 ---\n",
      "Best Horizon Found:  (40 min)\n"
     ]
    },
    {
     "name": "stderr",
     "output_type": "stream",
     "text": [
      "C:\\Users\\Jop Brouwer\\AppData\\Local\\Temp\\ipykernel_26836\\2824531562.py:215: DeprecationWarning: DataFrameGroupBy.apply operated on the grouping columns. This behavior is deprecated, and in a future version of pandas the grouping columns will be excluded from the operation. Either pass `include_groups=False` to exclude the groupings or explicitly select the grouping columns after groupby to silence this warning.\n",
      "  grouped_returns = test_trade_df.groupby('DateTime').apply(\n"
     ]
    },
    {
     "name": "stdout",
     "output_type": "stream",
     "text": [
      "\n",
      "Evaluating Horizon:  (20 min) for period starting 2019-01-28\n"
     ]
    },
    {
     "name": "stderr",
     "output_type": "stream",
     "text": [
      "C:\\Users\\Jop Brouwer\\AppData\\Local\\Temp\\ipykernel_26836\\2824531562.py:182: DeprecationWarning: DataFrameGroupBy.apply operated on the grouping columns. This behavior is deprecated, and in a future version of pandas the grouping columns will be excluded from the operation. Either pass `include_groups=False` to exclude the groupings or explicitly select the grouping columns after groupby to silence this warning.\n",
      "  val_returns = val_trade_df.groupby('DateTime').apply(\n"
     ]
    },
    {
     "name": "stdout",
     "output_type": "stream",
     "text": [
      "\n",
      "Evaluating Horizon:  (10 min) for period starting 2019-01-28\n"
     ]
    },
    {
     "name": "stderr",
     "output_type": "stream",
     "text": [
      "C:\\Users\\Jop Brouwer\\AppData\\Local\\Temp\\ipykernel_26836\\2824531562.py:182: DeprecationWarning: DataFrameGroupBy.apply operated on the grouping columns. This behavior is deprecated, and in a future version of pandas the grouping columns will be excluded from the operation. Either pass `include_groups=False` to exclude the groupings or explicitly select the grouping columns after groupby to silence this warning.\n",
      "  val_returns = val_trade_df.groupby('DateTime').apply(\n"
     ]
    },
    {
     "name": "stdout",
     "output_type": "stream",
     "text": [
      "\n",
      "Evaluating Horizon:  (40 min) for period starting 2019-01-28\n"
     ]
    },
    {
     "name": "stderr",
     "output_type": "stream",
     "text": [
      "C:\\Users\\Jop Brouwer\\AppData\\Local\\Temp\\ipykernel_26836\\2824531562.py:182: DeprecationWarning: DataFrameGroupBy.apply operated on the grouping columns. This behavior is deprecated, and in a future version of pandas the grouping columns will be excluded from the operation. Either pass `include_groups=False` to exclude the groupings or explicitly select the grouping columns after groupby to silence this warning.\n",
      "  val_returns = val_trade_df.groupby('DateTime').apply(\n"
     ]
    },
    {
     "name": "stdout",
     "output_type": "stream",
     "text": [
      "\n",
      "--- Testing best model for period ending 2021-01-29 ---\n",
      "Best Horizon Found:  (20 min)\n"
     ]
    },
    {
     "name": "stderr",
     "output_type": "stream",
     "text": [
      "C:\\Users\\Jop Brouwer\\AppData\\Local\\Temp\\ipykernel_26836\\2824531562.py:215: DeprecationWarning: DataFrameGroupBy.apply operated on the grouping columns. This behavior is deprecated, and in a future version of pandas the grouping columns will be excluded from the operation. Either pass `include_groups=False` to exclude the groupings or explicitly select the grouping columns after groupby to silence this warning.\n",
      "  grouped_returns = test_trade_df.groupby('DateTime').apply(\n"
     ]
    },
    {
     "name": "stdout",
     "output_type": "stream",
     "text": [
      "\n",
      "Evaluating Horizon:  (20 min) for period starting 2020-01-28\n"
     ]
    },
    {
     "name": "stderr",
     "output_type": "stream",
     "text": [
      "C:\\Users\\Jop Brouwer\\AppData\\Local\\Temp\\ipykernel_26836\\2824531562.py:182: DeprecationWarning: DataFrameGroupBy.apply operated on the grouping columns. This behavior is deprecated, and in a future version of pandas the grouping columns will be excluded from the operation. Either pass `include_groups=False` to exclude the groupings or explicitly select the grouping columns after groupby to silence this warning.\n",
      "  val_returns = val_trade_df.groupby('DateTime').apply(\n"
     ]
    },
    {
     "name": "stdout",
     "output_type": "stream",
     "text": [
      "\n",
      "Evaluating Horizon:  (10 min) for period starting 2020-01-28\n"
     ]
    },
    {
     "name": "stderr",
     "output_type": "stream",
     "text": [
      "C:\\Users\\Jop Brouwer\\AppData\\Local\\Temp\\ipykernel_26836\\2824531562.py:182: DeprecationWarning: DataFrameGroupBy.apply operated on the grouping columns. This behavior is deprecated, and in a future version of pandas the grouping columns will be excluded from the operation. Either pass `include_groups=False` to exclude the groupings or explicitly select the grouping columns after groupby to silence this warning.\n",
      "  val_returns = val_trade_df.groupby('DateTime').apply(\n"
     ]
    },
    {
     "name": "stdout",
     "output_type": "stream",
     "text": [
      "\n",
      "Evaluating Horizon:  (40 min) for period starting 2020-01-28\n"
     ]
    },
    {
     "name": "stderr",
     "output_type": "stream",
     "text": [
      "C:\\Users\\Jop Brouwer\\AppData\\Local\\Temp\\ipykernel_26836\\2824531562.py:182: DeprecationWarning: DataFrameGroupBy.apply operated on the grouping columns. This behavior is deprecated, and in a future version of pandas the grouping columns will be excluded from the operation. Either pass `include_groups=False` to exclude the groupings or explicitly select the grouping columns after groupby to silence this warning.\n",
      "  val_returns = val_trade_df.groupby('DateTime').apply(\n"
     ]
    },
    {
     "name": "stdout",
     "output_type": "stream",
     "text": [
      "\n",
      "--- Testing best model for period ending 2022-01-29 ---\n",
      "Best Horizon Found:  (40 min)\n"
     ]
    },
    {
     "name": "stderr",
     "output_type": "stream",
     "text": [
      "C:\\Users\\Jop Brouwer\\AppData\\Local\\Temp\\ipykernel_26836\\2824531562.py:215: DeprecationWarning: DataFrameGroupBy.apply operated on the grouping columns. This behavior is deprecated, and in a future version of pandas the grouping columns will be excluded from the operation. Either pass `include_groups=False` to exclude the groupings or explicitly select the grouping columns after groupby to silence this warning.\n",
      "  grouped_returns = test_trade_df.groupby('DateTime').apply(\n"
     ]
    },
    {
     "name": "stdout",
     "output_type": "stream",
     "text": [
      "\n",
      "Evaluating Horizon:  (20 min) for period starting 2021-01-28\n"
     ]
    },
    {
     "name": "stderr",
     "output_type": "stream",
     "text": [
      "C:\\Users\\Jop Brouwer\\AppData\\Local\\Temp\\ipykernel_26836\\2824531562.py:182: DeprecationWarning: DataFrameGroupBy.apply operated on the grouping columns. This behavior is deprecated, and in a future version of pandas the grouping columns will be excluded from the operation. Either pass `include_groups=False` to exclude the groupings or explicitly select the grouping columns after groupby to silence this warning.\n",
      "  val_returns = val_trade_df.groupby('DateTime').apply(\n"
     ]
    },
    {
     "name": "stdout",
     "output_type": "stream",
     "text": [
      "\n",
      "Evaluating Horizon:  (10 min) for period starting 2021-01-28\n"
     ]
    },
    {
     "name": "stderr",
     "output_type": "stream",
     "text": [
      "C:\\Users\\Jop Brouwer\\AppData\\Local\\Temp\\ipykernel_26836\\2824531562.py:182: DeprecationWarning: DataFrameGroupBy.apply operated on the grouping columns. This behavior is deprecated, and in a future version of pandas the grouping columns will be excluded from the operation. Either pass `include_groups=False` to exclude the groupings or explicitly select the grouping columns after groupby to silence this warning.\n",
      "  val_returns = val_trade_df.groupby('DateTime').apply(\n"
     ]
    },
    {
     "name": "stdout",
     "output_type": "stream",
     "text": [
      "\n",
      "Evaluating Horizon:  (40 min) for period starting 2021-01-28\n"
     ]
    },
    {
     "name": "stderr",
     "output_type": "stream",
     "text": [
      "C:\\Users\\Jop Brouwer\\AppData\\Local\\Temp\\ipykernel_26836\\2824531562.py:182: DeprecationWarning: DataFrameGroupBy.apply operated on the grouping columns. This behavior is deprecated, and in a future version of pandas the grouping columns will be excluded from the operation. Either pass `include_groups=False` to exclude the groupings or explicitly select the grouping columns after groupby to silence this warning.\n",
      "  val_returns = val_trade_df.groupby('DateTime').apply(\n"
     ]
    },
    {
     "name": "stdout",
     "output_type": "stream",
     "text": [
      "\n",
      "--- Testing best model for period ending 2023-01-29 ---\n",
      "Best Horizon Found:  (10 min)\n"
     ]
    },
    {
     "name": "stderr",
     "output_type": "stream",
     "text": [
      "C:\\Users\\Jop Brouwer\\AppData\\Local\\Temp\\ipykernel_26836\\2824531562.py:215: DeprecationWarning: DataFrameGroupBy.apply operated on the grouping columns. This behavior is deprecated, and in a future version of pandas the grouping columns will be excluded from the operation. Either pass `include_groups=False` to exclude the groupings or explicitly select the grouping columns after groupby to silence this warning.\n",
      "  grouped_returns = test_trade_df.groupby('DateTime').apply(\n"
     ]
    },
    {
     "name": "stdout",
     "output_type": "stream",
     "text": [
      "\n",
      "Evaluating Horizon:  (20 min) for period starting 2022-01-28\n"
     ]
    },
    {
     "name": "stderr",
     "output_type": "stream",
     "text": [
      "C:\\Users\\Jop Brouwer\\AppData\\Local\\Temp\\ipykernel_26836\\2824531562.py:182: DeprecationWarning: DataFrameGroupBy.apply operated on the grouping columns. This behavior is deprecated, and in a future version of pandas the grouping columns will be excluded from the operation. Either pass `include_groups=False` to exclude the groupings or explicitly select the grouping columns after groupby to silence this warning.\n",
      "  val_returns = val_trade_df.groupby('DateTime').apply(\n"
     ]
    },
    {
     "name": "stdout",
     "output_type": "stream",
     "text": [
      "\n",
      "Evaluating Horizon:  (10 min) for period starting 2022-01-28\n"
     ]
    },
    {
     "name": "stderr",
     "output_type": "stream",
     "text": [
      "C:\\Users\\Jop Brouwer\\AppData\\Local\\Temp\\ipykernel_26836\\2824531562.py:182: DeprecationWarning: DataFrameGroupBy.apply operated on the grouping columns. This behavior is deprecated, and in a future version of pandas the grouping columns will be excluded from the operation. Either pass `include_groups=False` to exclude the groupings or explicitly select the grouping columns after groupby to silence this warning.\n",
      "  val_returns = val_trade_df.groupby('DateTime').apply(\n"
     ]
    },
    {
     "name": "stdout",
     "output_type": "stream",
     "text": [
      "\n",
      "Evaluating Horizon:  (40 min) for period starting 2022-01-28\n"
     ]
    },
    {
     "name": "stderr",
     "output_type": "stream",
     "text": [
      "C:\\Users\\Jop Brouwer\\AppData\\Local\\Temp\\ipykernel_26836\\2824531562.py:182: DeprecationWarning: DataFrameGroupBy.apply operated on the grouping columns. This behavior is deprecated, and in a future version of pandas the grouping columns will be excluded from the operation. Either pass `include_groups=False` to exclude the groupings or explicitly select the grouping columns after groupby to silence this warning.\n",
      "  val_returns = val_trade_df.groupby('DateTime').apply(\n"
     ]
    },
    {
     "name": "stdout",
     "output_type": "stream",
     "text": [
      "\n",
      "--- Testing best model for period ending 2024-01-29 ---\n",
      "Best Horizon Found:  (20 min)\n"
     ]
    },
    {
     "name": "stderr",
     "output_type": "stream",
     "text": [
      "C:\\Users\\Jop Brouwer\\AppData\\Local\\Temp\\ipykernel_26836\\2824531562.py:215: DeprecationWarning: DataFrameGroupBy.apply operated on the grouping columns. This behavior is deprecated, and in a future version of pandas the grouping columns will be excluded from the operation. Either pass `include_groups=False` to exclude the groupings or explicitly select the grouping columns after groupby to silence this warning.\n",
      "  grouped_returns = test_trade_df.groupby('DateTime').apply(\n"
     ]
    },
    {
     "data": {
      "image/png": "[encoded data removed]",
      "text/plain": [
       "<Figure size 1200x600 with 1 Axes>"
      ]
     },
     "metadata": {},
     "output_type": "display_data"
    },
    {
     "name": "stdout",
     "output_type": "stream",
     "text": [
      "Final Cumulative Compounded Return: 814.24%\n",
      "\n",
      "Overall Test Accuracy : 52.13%\n",
      "Overall Precision     : 34.77%\n",
      "Overall Recall        : 36.28%\n",
      "Overall F1 Score      : 35.51%\n",
      "Overall ROC AUC       : 55.91%\n",
      "\n",
      "Average Fold Test Return : 0.03181%\n",
      "\n",
      "Standard Deviation of All Test Returns (Aggregated Daily): 0.24361%\n",
      "\n",
      "Minimum Return (Aggregated Daily): -0.75069%\n",
      "\n",
      "Optimal Horizon Counts:\n",
      "(40 min)    7\n",
      "(10 min)    5\n",
      "(20 min)    5\n",
      "Name: count, dtype: int64\n",
      "\n",
      "Test Set Position Counts:\n",
      "Neutral (0): 12\n",
      "Long (1): 8649\n",
      "Short (2): 8587\n"
     ]
    }
   ],
   "source": [
    "import os\n",
    "os.environ['OMP_NUM_THREADS'] = '1'\n",
    "os.environ['OPENBLAS_NUM_THREADS'] = '1'\n",
    "os.environ['MKL_NUM_THREADS'] = '1'\n",
    "os.environ['VECLIB_MAXIMUM_THREADS'] = '1'\n",
    "os.environ['NUMEXPR_NUM_THREADS'] = '1'\n",
    "os.environ['PYTHONHASHSEED'] = '0'\n",
    "\n",
    "import matplotlib.pyplot as plt\n",
    "from sklearn.preprocessing import StandardScaler\n",
    "from sklearn.svm import SVC\n",
    "from sklearn.metrics import (\n",
    "    accuracy_score,\n",
    "    f1_score,\n",
    "    roc_auc_score,\n",
    "    precision_score,\n",
    "    recall_score\n",
    ")\n",
    "import numpy as np\n",
    "import pandas as pd\n",
    "import random\n",
    "\n",
    "# Set random seeds for reproducibility\n",
    "np.random.seed(42)\n",
    "random.seed(42)\n",
    "\n",
    "# Assume df_ml is pre-loaded as a pandas DataFrame in your environment.\n",
    "# Make sure it contains 'DateTime', 'Surprise', feature columns,\n",
    "# 'Target Signal...' columns, and 'Forward Return...' columns.\n",
    "\n",
    "# --- Feature Engineering ---\n",
    "# This logic determines the feature columns from your DataFrame\n",
    "all_cols = df_ml.columns.tolist()\n",
    "exclude_cols = ['DateTime', 'Surprise'] + [col for col in all_cols if 'Target' in col or 'Forward' in col]\n",
    "feature_cols = [col for col in all_cols if col not in exclude_cols]\n",
    "print(\"Feature Columns:\", feature_cols)\n",
    "print(\"Number of Features:\", len(feature_cols))\n",
    "\n",
    "\n",
    "# --- Configuration ---\n",
    "horizons = [' (20 min)', ' (10 min)', ' (40 min)']\n",
    "\n",
    "# --- Data Prep ---\n",
    "df_ml = df_ml.dropna(subset=['Surprise']).sort_values('DateTime')\n",
    "min_date = df_ml['DateTime'].min()\n",
    "max_date = df_ml['DateTime'].max()\n",
    "\n",
    "# --- Calculate Initial 30% Training Period ---\n",
    "total_duration = max_date - min_date\n",
    "initial_train_duration = total_duration * 0.3\n",
    "train_end_date = min_date + initial_train_duration\n",
    "\n",
    "# --- Tracking containers ---\n",
    "results = []\n",
    "all_test_returns = []\n",
    "all_dates = []\n",
    "all_test_preds = []\n",
    "all_test_truths = []\n",
    "all_test_probas = []\n",
    "fold_mean_returns = []\n",
    "best_horizons_list = []\n",
    "\n",
    "\n",
    "def calculate_grouped_returns(df_group, horizon, stop_loss=None):\n",
    "    \"\"\"Calculate returns with position sizing and stop loss\"\"\"\n",
    "    active_trades = df_group[df_group['pred'] != 0]\n",
    "    if active_trades.empty:\n",
    "        return 0.0\n",
    "\n",
    "    longs = active_trades[active_trades['pred'] == 1].copy().reset_index(drop=True)\n",
    "    shorts = active_trades[active_trades['pred'] == 2].copy().reset_index(drop=True)\n",
    "\n",
    "    total_confidence = longs['proba'].sum() + shorts['proba'].sum()\n",
    "    if total_confidence == 0:\n",
    "        return 0.0\n",
    "\n",
    "    long_returns = 0.0\n",
    "    short_returns = 0.0\n",
    "\n",
    "    # Process longs\n",
    "    if not longs.empty:\n",
    "        long_weights = longs['proba'] / total_confidence\n",
    "        for idx in longs.index:\n",
    "            raw_return = longs.loc[idx, f'Forward Return{horizon}']\n",
    "            capped_raw = max(stop_loss, raw_return) if stop_loss is not None else raw_return\n",
    "            long_returns += capped_raw * long_weights.loc[idx]\n",
    "\n",
    "    # Process shorts\n",
    "    if not shorts.empty:\n",
    "        short_weights = shorts['proba'] / total_confidence\n",
    "        for idx in shorts.index:\n",
    "            raw_return = -shorts.loc[idx, f'Forward Return{horizon}']\n",
    "            capped_raw = max(stop_loss, raw_return) if stop_loss is not None else raw_return\n",
    "            short_returns += capped_raw * short_weights.loc[idx]\n",
    "\n",
    "    net_return = (long_returns + short_returns)\n",
    "    return net_return\n",
    "\n",
    "# --- Main Loop ---\n",
    "while True:\n",
    "    val_start_date = train_end_date + pd.DateOffset(days=1)\n",
    "    val_end_date = val_start_date + pd.DateOffset(years=1)\n",
    "    test_start_date = val_end_date + pd.DateOffset(days=1)\n",
    "    test_end_date = test_start_date + pd.DateOffset(years=1)\n",
    "\n",
    "    if val_end_date > max_date or test_end_date > max_date:\n",
    "        break\n",
    "\n",
    "    train_mask = df_ml['DateTime'] <= train_end_date\n",
    "    val_mask = (df_ml['DateTime'] >= val_start_date) & (df_ml['DateTime'] <= val_end_date)\n",
    "    test_mask = (df_ml['DateTime'] >= test_start_date) & (df_ml['DateTime'] <= test_end_date)\n",
    "\n",
    "    train_data = df_ml[train_mask]\n",
    "    val_data = df_ml[val_mask]\n",
    "    test_data = df_ml[test_mask]\n",
    "\n",
    "    if val_data.empty or test_data.empty:\n",
    "        print(f\"Skipping period {val_start_date.date()} to {test_end_date.date()} (no data)\")\n",
    "        train_end_date += pd.DateOffset(years=1)\n",
    "        continue\n",
    "\n",
    "    # --- Horizon Optimization ---\n",
    "    best_horizon, best_model, best_stop_loss = None, None, None\n",
    "    best_val_return = -np.inf\n",
    "\n",
    "    for horizon in horizons:\n",
    "        print(f\"\\nEvaluating Horizon: {horizon} for period starting {val_start_date.date()}\")\n",
    "        # Feature scaling - SVMs are sensitive to feature scales\n",
    "        scaler = StandardScaler()\n",
    "        X_train = scaler.fit_transform(train_data[feature_cols])\n",
    "        X_val = scaler.transform(val_data[feature_cols])\n",
    "\n",
    "        y_train = train_data[f'Target Signal{horizon}']\n",
    "        y_val = val_data[f'Target Signal{horizon}']\n",
    "\n",
    "        # Create and Train SVM model\n",
    "        # probability=True is essential for getting confidence scores for position sizing\n",
    "        model = SVC(kernel='rbf', C=1.0, gamma='scale', probability=True, random_state=42)\n",
    "        model.fit(X_train, y_train)\n",
    "\n",
    "        # Get class probabilities\n",
    "        train_preds = model.predict(X_train)\n",
    "        train_probas = model.predict_proba(X_train)\n",
    "        class_map = {cls: idx for idx, cls in enumerate(model.classes_)}\n",
    "\n",
    "        # Training stop loss calculation\n",
    "        train_trade_df = pd.DataFrame({\n",
    "            'DateTime': train_data['DateTime'],\n",
    "            'pred': train_preds,\n",
    "            'proba': [proba[class_map[pred]] for pred, proba in zip(train_preds, train_probas)],\n",
    "            f'Forward Return{horizon}': train_data[f'Forward Return{horizon}'].values\n",
    "        })\n",
    "\n",
    "        train_raw_returns = []\n",
    "        for _, row in train_trade_df.iterrows():\n",
    "            if row['pred'] == 1:\n",
    "                train_raw_returns.append(row[f'Forward Return{horizon}'])\n",
    "            elif row['pred'] == 2:\n",
    "                train_raw_returns.append(-row[f'Forward Return{horizon}'])\n",
    "        stop_loss_train = np.percentile(train_raw_returns, 5) if train_raw_returns else None\n",
    "\n",
    "        # Validation predictions\n",
    "        val_preds = model.predict(X_val)\n",
    "        val_probas = model.predict_proba(X_val)\n",
    "        val_trade_df = pd.DataFrame({\n",
    "            'DateTime': val_data['DateTime'],\n",
    "            'pred': val_preds,\n",
    "            'proba': [proba[class_map[pred]] for pred, proba in zip(val_preds, val_probas)],\n",
    "            f'Forward Return{horizon}': val_data[f'Forward Return{horizon}'].values\n",
    "        })\n",
    "\n",
    "        # Validation stop loss calculation (for test set)\n",
    "        val_raw_returns = []\n",
    "        for _, row in val_trade_df.iterrows():\n",
    "            if row['pred'] == 1:\n",
    "                val_raw_returns.append(row[f'Forward Return{horizon}'])\n",
    "            elif row['pred'] == 2:\n",
    "                val_raw_returns.append(-row[f'Forward Return{horizon}'])\n",
    "        stop_loss_val = np.percentile(val_raw_returns, 5) if val_raw_returns else None\n",
    "\n",
    "        # Validate using training stop loss\n",
    "        val_returns = val_trade_df.groupby('DateTime').apply(\n",
    "            lambda x: calculate_grouped_returns(x, horizon, stop_loss_train)\n",
    "        ).values\n",
    "\n",
    "        total_val_return = (1 + val_returns).prod() - 1\n",
    "\n",
    "        if total_val_return > best_val_return:\n",
    "            best_val_return = total_val_return\n",
    "            best_horizon = horizon\n",
    "            best_model = model\n",
    "            best_stop_loss = stop_loss_val\n",
    "            # We also need to save the scaler from the best model\n",
    "            best_scaler = scaler\n",
    "\n",
    "    # --- Test Best Model ---\n",
    "    if best_model and best_stop_loss is not None:\n",
    "        print(f\"\\n--- Testing best model for period ending {test_end_date.date()} ---\")\n",
    "        print(f\"Best Horizon Found: {best_horizon}\")\n",
    "        # Use the scaler from the best model's training data\n",
    "        X_test = best_scaler.transform(test_data[feature_cols])\n",
    "        \n",
    "        test_probas = best_model.predict_proba(X_test)\n",
    "        test_preds = best_model.predict(X_test)\n",
    "        y_test = test_data[f'Target Signal{best_horizon}'].values\n",
    "        \n",
    "        class_map = {cls: idx for idx, cls in enumerate(best_model.classes_)}\n",
    "        test_trade_df = pd.DataFrame({\n",
    "            'DateTime': test_data['DateTime'],\n",
    "            'pred': test_preds,\n",
    "            'proba': [proba[class_map[pred]] for pred, proba in zip(test_preds, test_probas)],\n",
    "            f'Forward Return{best_horizon}': test_data[f'Forward Return{best_horizon}'].values\n",
    "        })\n",
    "\n",
    "        grouped_returns = test_trade_df.groupby('DateTime').apply(\n",
    "            lambda x: calculate_grouped_returns(x, best_horizon, best_stop_loss)\n",
    "        ).values\n",
    "\n",
    "        all_test_returns.extend(grouped_returns)\n",
    "        all_dates.extend(test_trade_df['DateTime'].unique().tolist())\n",
    "        all_test_preds.extend(test_preds)\n",
    "        all_test_truths.extend(y_test)\n",
    "        all_test_probas.append(test_probas)\n",
    "        fold_mean_returns.append(np.mean(grouped_returns))\n",
    "        best_horizons_list.append(best_horizon or 'standard')\n",
    "\n",
    "    train_end_date += pd.DateOffset(years=1)\n",
    "\n",
    "# --- Results ---\n",
    "if all_test_returns:\n",
    "    cumulative_returns = (1 + np.array(all_test_returns)).cumprod() - 1\n",
    "    std_dev_individual = np.std(all_test_returns) * 100\n",
    "    min_return = np.nanmin(all_test_returns) * 100 if all_test_returns else 0.0\n",
    "\n",
    "    plt.figure(figsize=(12, 6))\n",
    "    # Ensure dates are sorted for plotting\n",
    "    sorted_dates, sorted_returns = zip(*sorted(zip(all_dates, cumulative_returns)))\n",
    "    plt.plot(sorted_dates, [r * 100 for r in sorted_returns])\n",
    "    plt.title('Cumulative Returns (SVM with Stop Loss)')\n",
    "    plt.xlabel('Date')\n",
    "    plt.ylabel('Cumulative Return (%)')\n",
    "    plt.grid(True)\n",
    "    plt.show()\n",
    "\n",
    "    # Combine the probabilities from all folds\n",
    "    full_probas = np.vstack(all_test_probas)\n",
    "\n",
    "    print(f\"Final Cumulative Compounded Return: {cumulative_returns[-1]*100:.2f}%\")\n",
    "    print(f\"\\nOverall Test Accuracy : {accuracy_score(all_test_truths, all_test_preds)*100:.2f}%\")\n",
    "    print(f\"Overall Precision     : {precision_score(all_test_truths, all_test_preds, average='macro', zero_division=0)*100:.2f}%\")\n",
    "    print(f\"Overall Recall        : {recall_score(all_test_truths, all_test_preds, average='macro', zero_division=0)*100:.2f}%\")\n",
    "    print(f\"Overall F1 Score      : {f1_score(all_test_truths, all_test_preds, average='macro', zero_division=0)*100:.2f}%\")\n",
    "    # Check if there are enough classes for ROC AUC calculation\n",
    "    if len(np.unique(all_test_truths)) > 1:\n",
    "         print(f\"Overall ROC AUC       : {roc_auc_score(all_test_truths, full_probas, multi_class='ovo', average='macro')*100:.2f}%\")\n",
    "    else:\n",
    "        print(\"Overall ROC AUC       : Not enough data for calculation (requires at least 2 classes).\")\n",
    "\n",
    "    print(f\"\\nAverage Fold Test Return : {np.mean(fold_mean_returns)*100:.5f}%\")\n",
    "    print(f\"\\nStandard Deviation of All Test Returns (Aggregated Daily): {std_dev_individual:.5f}%\")\n",
    "    print(f\"\\nMinimum Return (Aggregated Daily): {min_return:.5f}%\")\n",
    "    print(\"\\nOptimal Horizon Counts:\")\n",
    "    print(pd.Series(best_horizons_list).value_counts())\n",
    "    print(\"\\nTest Set Position Counts:\")\n",
    "    counts = pd.Series(all_test_preds).value_counts().sort_index()\n",
    "    print(f\"Neutral (0): {counts.get(0, 0)}\")\n",
    "    print(f\"Long (1): {counts.get(1, 0)}\")\n",
    "    print(f\"Short (2): {counts.get(2, 0)}\")\n",
    "\n",
    "else:\n",
    "    print(\"No valid test periods found\")"
   ]
  },
  {
   "cell_type": "markdown",
   "id": "2452816d",
   "metadata": {},
   "source": [
    "SVM with rolling window"
   ]
  },
  {
   "cell_type": "code",
   "execution_count": 13,
   "id": "246f9ec6",
   "metadata": {},
   "outputs": [
    {
     "name": "stdout",
     "output_type": "stream",
     "text": [
      "Feature Columns: ['ACNFCOMF Index_Surprise', 'ADP CHNG Index_Surprise', 'AHE MOM% Index_Surprise', 'AHE YOY% Index_Surprise', 'AMSPPACE Index_Surprise', 'AWH TOTL Index_Surprise', 'CFNAI Index_Surprise', 'CGNOXAI% Index_Surprise', 'CGSHXAI% Index_Surprise', 'CHPMINDX Index_Surprise', 'CICRTOT Index_Surprise', 'CNSTTMOM Index_Surprise', 'COMFCOMF Index_Surprise', 'CONCCONF Index_Surprise', 'CONSCURR Index_Surprise', 'CONSEXP Index_Surprise', 'CONSP5MD Index_Surprise', 'CONSPXMD Index_Surprise', 'CONSSENT Index_Surprise', 'COSTNFR% Index_Surprise', 'CPI CHNG Index_Surprise', 'CPI XYOY Index_Surprise', 'CPI YOY Index_Surprise', 'CPTICHNG Index_Surprise', 'CPUPAXFE Index_Surprise', 'CPUPXCHG Index_Surprise', 'CPURNSA Index_Surprise', 'DFEDGBA Index_Surprise', 'DGNOCHNG Index_Surprise', 'DGNOXTCH Index_Surprise', 'DOTDLTMD Index_Surprise', 'DOTDY0MD Index_Surprise', 'DOTDY1MD Index_Surprise', 'DOTDY2MD Index_Surprise', 'DSERGBCC Index_Surprise', 'ECI SA% Index_Surprise', 'ECONUSIB Index_Surprise', 'EHSLSL Index_Surprise', 'EMPRGBCI Index_Surprise', 'ETSLMOM Index_Surprise', 'ETSLTOTL Index_Surprise', 'EXP1CMOM Index_Surprise', 'EXP1CYOY Index_Surprise', 'FDDSSD Index_Surprise', 'FDEBTY Index_Surprise', 'FDIDFDMO Index_Surprise', 'FDIDSGMO Index_Surprise', 'FDIDSGUM Index_Surprise', 'FDIUFDYO Index_Surprise', 'FDIUSGUY Index_Surprise', 'FDIUSGYO Index_Surprise', 'FDTR Index_Surprise', 'FDTRFTRL Index_Surprise', 'FRNTTNET Index_Surprise', 'FRNTTOTL Index_Surprise', 'GDP CQOQ Index_Surprise', 'GDP DCHG Index_Surprise', 'GDP PIQQ Index_Surprise', 'GDPCPCEC Index_Surprise', 'GDPCTOT% Index_Surprise', 'HPI PURQ Index_Surprise', 'HPI QOQ% Index_Surprise', 'HPIMMOM% Index_Surprise', 'IMP1CHNG Index_Surprise', 'IMP1XPM% Index_Surprise', 'IMP1YOY% Index_Surprise', 'INJCJC Index_Surprise', 'INJCSP Index_Surprise', 'IP CHNG Index_Surprise', 'IPMGCHNG Index_Surprise', 'IRRBIOER Index_Surprise', 'JOLTTOTL Index_Surprise', 'KCLSSACI Index_Surprise', 'LEI CHNG Index_Surprise', 'LHWANWPA Index_Surprise', 'LMCILMCC Index_Surprise', 'MAPMINDX Index_Surprise', 'MBAVCHNG Index_Surprise', 'MBRXYOY Index_Surprise', 'MBRXYOYW Index_Surprise', 'MPMIUSCA Index_Surprise', 'MPMIUSMA Index_Surprise', 'MPMIUSSA Index_Surprise', 'MTIBCHNG Index_Surprise', 'MWINCHNG Index_Surprise', 'MWSLCHNG Index_Surprise', 'NAPMEMPL Index_Surprise', 'NAPMNEMP Index_Surprise', 'NAPMNEWO Index_Surprise', 'NAPMNMAN Index_Surprise', 'NAPMNMI Index_Surprise', 'NAPMNNO Index_Surprise', 'NAPMNPRC Index_Surprise', 'NAPMPMI Index_Surprise', 'NAPMPRIC Index_Surprise', 'NFP CPYC Index_Surprise', 'NFP PCH Index_Surprise', 'NFP TCH Index_Surprise', 'NHCHATCH Index_Surprise', 'NHCHSTCH Index_Surprise', 'NHSLCHNG Index_Surprise', 'NHSLTOT Index_Surprise', 'NHSPATOT Index_Surprise', 'NHSPSTOT Index_Surprise', 'NYBLCNBA Index_Surprise', 'NYCNM1IR Index_Surprise', 'NYPMCURR Index_Surprise', 'OUTFGAF Index_Surprise', 'PCE CHNC Index_Surprise', 'PCE CMOM Index_Surprise', 'PCE CRCH Index_Surprise', 'PCE CYOY Index_Surprise', 'PCE DEFM Index_Surprise', 'PCE DEFY Index_Surprise', 'PHUCTOT Index_Surprise', 'PITLCHNG Index_Surprise', 'PNMARADI Index_Surprise', 'PPI CHNG Index_Surprise', 'PPI XYOY Index_Surprise', 'PPI YOY Index_Surprise', 'PRODNFR% Index_Surprise', 'PRUSTOT Index_Surprise', 'PXFECHNG Index_Surprise', 'RCHSINDX Index_Surprise', 'REALRAWE Index_Surprise', 'REALYRAE Index_Surprise', 'RSRSTMOM Index_Surprise', 'RSTAMOM Index_Surprise', 'RSTAXAG% Index_Surprise', 'RSTAXAGM Index_Surprise', 'RSTAXMOM Index_Surprise', 'RTSDCHNG Index_Surprise', 'RTSDXCHG Index_Surprise', 'SAARDTOT Index_Surprise', 'SAARTOTL Index_Surprise', 'SBOITOTL Index_Surprise', 'SPCS20 Index_Surprise', 'SPCS20SM Index_Surprise', 'SPCS20Y% Index_Surprise', 'SPCSUSA Index_Surprise', 'SPCSUSAY Index_Surprise', 'SPCSUSQS Index_Surprise', 'TMNOCHNG Index_Surprise', 'TMNOXTM% Index_Surprise', 'TREFAMSP Index_Surprise', 'TREFPACE Index_Surprise', 'USCABAL Index_Surprise', 'USEMNCHG Index_Surprise', 'USHBMIDX Index_Surprise', 'USHETOT% Index_Surprise', 'USHEYOY Index_Surprise', 'USMMMNCH Index_Surprise', 'USPHTMOM Index_Surprise', 'USPHTYOY Index_Surprise', 'USTBTOT Index_Surprise', 'USTGTTCB Index_Surprise', 'USUDMAER Index_Surprise', 'USURTOT Index_Surprise', 'USWHMANS Index_Surprise', 'USWHTOT Index_Surprise', 'VNCCCMOM Index_Surprise', 'SMA5', 'SMA10', 'SMA15', 'SMA20', 'SMA50', 'SMA100', 'SMA200', 'SMA5Cross', 'SMA10Cross', 'SMA15Cross', 'SMA20Cross', 'SMA50Cross', 'SMA100Cross', 'SMA200Cross', 'UpDown10', 'UpDown15', 'UpDown50', 'last_gdp_gr', 'last_vix', 'R', 'Volume_L1', 'Std Dev']\n",
      "Number of Features: 183\n",
      "\n",
      "Evaluating Horizon:  (20 min) for training period 1997-12-23 to 2006-01-27\n"
     ]
    },
    {
     "name": "stderr",
     "output_type": "stream",
     "text": [
      "C:\\Users\\Jop Brouwer\\AppData\\Local\\Temp\\ipykernel_26836\\16257649.py:187: DeprecationWarning: DataFrameGroupBy.apply operated on the grouping columns. This behavior is deprecated, and in a future version of pandas the grouping columns will be excluded from the operation. Either pass `include_groups=False` to exclude the groupings or explicitly select the grouping columns after groupby to silence this warning.\n",
      "  val_returns = val_trade_df.groupby('DateTime').apply(\n"
     ]
    },
    {
     "name": "stdout",
     "output_type": "stream",
     "text": [
      "\n",
      "Evaluating Horizon:  (10 min) for training period 1997-12-23 to 2006-01-27\n"
     ]
    },
    {
     "name": "stderr",
     "output_type": "stream",
     "text": [
      "C:\\Users\\Jop Brouwer\\AppData\\Local\\Temp\\ipykernel_26836\\16257649.py:187: DeprecationWarning: DataFrameGroupBy.apply operated on the grouping columns. This behavior is deprecated, and in a future version of pandas the grouping columns will be excluded from the operation. Either pass `include_groups=False` to exclude the groupings or explicitly select the grouping columns after groupby to silence this warning.\n",
      "  val_returns = val_trade_df.groupby('DateTime').apply(\n"
     ]
    },
    {
     "name": "stdout",
     "output_type": "stream",
     "text": [
      "\n",
      "Evaluating Horizon:  (40 min) for training period 1997-12-23 to 2006-01-27\n"
     ]
    },
    {
     "name": "stderr",
     "output_type": "stream",
     "text": [
      "C:\\Users\\Jop Brouwer\\AppData\\Local\\Temp\\ipykernel_26836\\16257649.py:187: DeprecationWarning: DataFrameGroupBy.apply operated on the grouping columns. This behavior is deprecated, and in a future version of pandas the grouping columns will be excluded from the operation. Either pass `include_groups=False` to exclude the groupings or explicitly select the grouping columns after groupby to silence this warning.\n",
      "  val_returns = val_trade_df.groupby('DateTime').apply(\n"
     ]
    },
    {
     "name": "stdout",
     "output_type": "stream",
     "text": [
      "\n",
      "--- Testing best model for period ending 2008-01-29 ---\n",
      "Best Horizon Found:  (10 min)\n"
     ]
    },
    {
     "name": "stderr",
     "output_type": "stream",
     "text": [
      "C:\\Users\\Jop Brouwer\\AppData\\Local\\Temp\\ipykernel_26836\\16257649.py:218: DeprecationWarning: DataFrameGroupBy.apply operated on the grouping columns. This behavior is deprecated, and in a future version of pandas the grouping columns will be excluded from the operation. Either pass `include_groups=False` to exclude the groupings or explicitly select the grouping columns after groupby to silence this warning.\n",
      "  grouped_returns = test_trade_df.groupby('DateTime').apply(\n"
     ]
    },
    {
     "name": "stdout",
     "output_type": "stream",
     "text": [
      "\n",
      "Evaluating Horizon:  (20 min) for training period 1998-12-23 to 2007-01-27\n"
     ]
    },
    {
     "name": "stderr",
     "output_type": "stream",
     "text": [
      "C:\\Users\\Jop Brouwer\\AppData\\Local\\Temp\\ipykernel_26836\\16257649.py:187: DeprecationWarning: DataFrameGroupBy.apply operated on the grouping columns. This behavior is deprecated, and in a future version of pandas the grouping columns will be excluded from the operation. Either pass `include_groups=False` to exclude the groupings or explicitly select the grouping columns after groupby to silence this warning.\n",
      "  val_returns = val_trade_df.groupby('DateTime').apply(\n"
     ]
    },
    {
     "name": "stdout",
     "output_type": "stream",
     "text": [
      "\n",
      "Evaluating Horizon:  (10 min) for training period 1998-12-23 to 2007-01-27\n"
     ]
    },
    {
     "name": "stderr",
     "output_type": "stream",
     "text": [
      "C:\\Users\\Jop Brouwer\\AppData\\Local\\Temp\\ipykernel_26836\\16257649.py:187: DeprecationWarning: DataFrameGroupBy.apply operated on the grouping columns. This behavior is deprecated, and in a future version of pandas the grouping columns will be excluded from the operation. Either pass `include_groups=False` to exclude the groupings or explicitly select the grouping columns after groupby to silence this warning.\n",
      "  val_returns = val_trade_df.groupby('DateTime').apply(\n"
     ]
    },
    {
     "name": "stdout",
     "output_type": "stream",
     "text": [
      "\n",
      "Evaluating Horizon:  (40 min) for training period 1998-12-23 to 2007-01-27\n"
     ]
    },
    {
     "name": "stderr",
     "output_type": "stream",
     "text": [
      "C:\\Users\\Jop Brouwer\\AppData\\Local\\Temp\\ipykernel_26836\\16257649.py:187: DeprecationWarning: DataFrameGroupBy.apply operated on the grouping columns. This behavior is deprecated, and in a future version of pandas the grouping columns will be excluded from the operation. Either pass `include_groups=False` to exclude the groupings or explicitly select the grouping columns after groupby to silence this warning.\n",
      "  val_returns = val_trade_df.groupby('DateTime').apply(\n"
     ]
    },
    {
     "name": "stdout",
     "output_type": "stream",
     "text": [
      "\n",
      "--- Testing best model for period ending 2009-01-29 ---\n",
      "Best Horizon Found:  (40 min)\n"
     ]
    },
    {
     "name": "stderr",
     "output_type": "stream",
     "text": [
      "C:\\Users\\Jop Brouwer\\AppData\\Local\\Temp\\ipykernel_26836\\16257649.py:218: DeprecationWarning: DataFrameGroupBy.apply operated on the grouping columns. This behavior is deprecated, and in a future version of pandas the grouping columns will be excluded from the operation. Either pass `include_groups=False` to exclude the groupings or explicitly select the grouping columns after groupby to silence this warning.\n",
      "  grouped_returns = test_trade_df.groupby('DateTime').apply(\n"
     ]
    },
    {
     "name": "stdout",
     "output_type": "stream",
     "text": [
      "\n",
      "Evaluating Horizon:  (20 min) for training period 1999-12-23 to 2008-01-27\n"
     ]
    },
    {
     "name": "stderr",
     "output_type": "stream",
     "text": [
      "C:\\Users\\Jop Brouwer\\AppData\\Local\\Temp\\ipykernel_26836\\16257649.py:187: DeprecationWarning: DataFrameGroupBy.apply operated on the grouping columns. This behavior is deprecated, and in a future version of pandas the grouping columns will be excluded from the operation. Either pass `include_groups=False` to exclude the groupings or explicitly select the grouping columns after groupby to silence this warning.\n",
      "  val_returns = val_trade_df.groupby('DateTime').apply(\n"
     ]
    },
    {
     "name": "stdout",
     "output_type": "stream",
     "text": [
      "\n",
      "Evaluating Horizon:  (10 min) for training period 1999-12-23 to 2008-01-27\n"
     ]
    },
    {
     "name": "stderr",
     "output_type": "stream",
     "text": [
      "C:\\Users\\Jop Brouwer\\AppData\\Local\\Temp\\ipykernel_26836\\16257649.py:187: DeprecationWarning: DataFrameGroupBy.apply operated on the grouping columns. This behavior is deprecated, and in a future version of pandas the grouping columns will be excluded from the operation. Either pass `include_groups=False` to exclude the groupings or explicitly select the grouping columns after groupby to silence this warning.\n",
      "  val_returns = val_trade_df.groupby('DateTime').apply(\n"
     ]
    },
    {
     "name": "stdout",
     "output_type": "stream",
     "text": [
      "\n",
      "Evaluating Horizon:  (40 min) for training period 1999-12-23 to 2008-01-27\n"
     ]
    },
    {
     "name": "stderr",
     "output_type": "stream",
     "text": [
      "C:\\Users\\Jop Brouwer\\AppData\\Local\\Temp\\ipykernel_26836\\16257649.py:187: DeprecationWarning: DataFrameGroupBy.apply operated on the grouping columns. This behavior is deprecated, and in a future version of pandas the grouping columns will be excluded from the operation. Either pass `include_groups=False` to exclude the groupings or explicitly select the grouping columns after groupby to silence this warning.\n",
      "  val_returns = val_trade_df.groupby('DateTime').apply(\n"
     ]
    },
    {
     "name": "stdout",
     "output_type": "stream",
     "text": [
      "\n",
      "--- Testing best model for period ending 2010-01-29 ---\n",
      "Best Horizon Found:  (40 min)\n"
     ]
    },
    {
     "name": "stderr",
     "output_type": "stream",
     "text": [
      "C:\\Users\\Jop Brouwer\\AppData\\Local\\Temp\\ipykernel_26836\\16257649.py:218: DeprecationWarning: DataFrameGroupBy.apply operated on the grouping columns. This behavior is deprecated, and in a future version of pandas the grouping columns will be excluded from the operation. Either pass `include_groups=False` to exclude the groupings or explicitly select the grouping columns after groupby to silence this warning.\n",
      "  grouped_returns = test_trade_df.groupby('DateTime').apply(\n"
     ]
    },
    {
     "name": "stdout",
     "output_type": "stream",
     "text": [
      "\n",
      "Evaluating Horizon:  (20 min) for training period 2000-12-23 to 2009-01-27\n"
     ]
    },
    {
     "name": "stderr",
     "output_type": "stream",
     "text": [
      "C:\\Users\\Jop Brouwer\\AppData\\Local\\Temp\\ipykernel_26836\\16257649.py:187: DeprecationWarning: DataFrameGroupBy.apply operated on the grouping columns. This behavior is deprecated, and in a future version of pandas the grouping columns will be excluded from the operation. Either pass `include_groups=False` to exclude the groupings or explicitly select the grouping columns after groupby to silence this warning.\n",
      "  val_returns = val_trade_df.groupby('DateTime').apply(\n"
     ]
    },
    {
     "name": "stdout",
     "output_type": "stream",
     "text": [
      "\n",
      "Evaluating Horizon:  (10 min) for training period 2000-12-23 to 2009-01-27\n"
     ]
    },
    {
     "name": "stderr",
     "output_type": "stream",
     "text": [
      "C:\\Users\\Jop Brouwer\\AppData\\Local\\Temp\\ipykernel_26836\\16257649.py:187: DeprecationWarning: DataFrameGroupBy.apply operated on the grouping columns. This behavior is deprecated, and in a future version of pandas the grouping columns will be excluded from the operation. Either pass `include_groups=False` to exclude the groupings or explicitly select the grouping columns after groupby to silence this warning.\n",
      "  val_returns = val_trade_df.groupby('DateTime').apply(\n"
     ]
    },
    {
     "name": "stdout",
     "output_type": "stream",
     "text": [
      "\n",
      "Evaluating Horizon:  (40 min) for training period 2000-12-23 to 2009-01-27\n"
     ]
    },
    {
     "name": "stderr",
     "output_type": "stream",
     "text": [
      "C:\\Users\\Jop Brouwer\\AppData\\Local\\Temp\\ipykernel_26836\\16257649.py:187: DeprecationWarning: DataFrameGroupBy.apply operated on the grouping columns. This behavior is deprecated, and in a future version of pandas the grouping columns will be excluded from the operation. Either pass `include_groups=False` to exclude the groupings or explicitly select the grouping columns after groupby to silence this warning.\n",
      "  val_returns = val_trade_df.groupby('DateTime').apply(\n"
     ]
    },
    {
     "name": "stdout",
     "output_type": "stream",
     "text": [
      "\n",
      "--- Testing best model for period ending 2011-01-29 ---\n",
      "Best Horizon Found:  (40 min)\n"
     ]
    },
    {
     "name": "stderr",
     "output_type": "stream",
     "text": [
      "C:\\Users\\Jop Brouwer\\AppData\\Local\\Temp\\ipykernel_26836\\16257649.py:218: DeprecationWarning: DataFrameGroupBy.apply operated on the grouping columns. This behavior is deprecated, and in a future version of pandas the grouping columns will be excluded from the operation. Either pass `include_groups=False` to exclude the groupings or explicitly select the grouping columns after groupby to silence this warning.\n",
      "  grouped_returns = test_trade_df.groupby('DateTime').apply(\n"
     ]
    },
    {
     "name": "stdout",
     "output_type": "stream",
     "text": [
      "\n",
      "Evaluating Horizon:  (20 min) for training period 2001-12-23 to 2010-01-27\n"
     ]
    },
    {
     "name": "stderr",
     "output_type": "stream",
     "text": [
      "C:\\Users\\Jop Brouwer\\AppData\\Local\\Temp\\ipykernel_26836\\16257649.py:187: DeprecationWarning: DataFrameGroupBy.apply operated on the grouping columns. This behavior is deprecated, and in a future version of pandas the grouping columns will be excluded from the operation. Either pass `include_groups=False` to exclude the groupings or explicitly select the grouping columns after groupby to silence this warning.\n",
      "  val_returns = val_trade_df.groupby('DateTime').apply(\n"
     ]
    },
    {
     "name": "stdout",
     "output_type": "stream",
     "text": [
      "\n",
      "Evaluating Horizon:  (10 min) for training period 2001-12-23 to 2010-01-27\n"
     ]
    },
    {
     "name": "stderr",
     "output_type": "stream",
     "text": [
      "C:\\Users\\Jop Brouwer\\AppData\\Local\\Temp\\ipykernel_26836\\16257649.py:187: DeprecationWarning: DataFrameGroupBy.apply operated on the grouping columns. This behavior is deprecated, and in a future version of pandas the grouping columns will be excluded from the operation. Either pass `include_groups=False` to exclude the groupings or explicitly select the grouping columns after groupby to silence this warning.\n",
      "  val_returns = val_trade_df.groupby('DateTime').apply(\n"
     ]
    },
    {
     "name": "stdout",
     "output_type": "stream",
     "text": [
      "\n",
      "Evaluating Horizon:  (40 min) for training period 2001-12-23 to 2010-01-27\n"
     ]
    },
    {
     "name": "stderr",
     "output_type": "stream",
     "text": [
      "C:\\Users\\Jop Brouwer\\AppData\\Local\\Temp\\ipykernel_26836\\16257649.py:187: DeprecationWarning: DataFrameGroupBy.apply operated on the grouping columns. This behavior is deprecated, and in a future version of pandas the grouping columns will be excluded from the operation. Either pass `include_groups=False` to exclude the groupings or explicitly select the grouping columns after groupby to silence this warning.\n",
      "  val_returns = val_trade_df.groupby('DateTime').apply(\n"
     ]
    },
    {
     "name": "stdout",
     "output_type": "stream",
     "text": [
      "\n",
      "--- Testing best model for period ending 2012-01-29 ---\n",
      "Best Horizon Found:  (20 min)\n"
     ]
    },
    {
     "name": "stderr",
     "output_type": "stream",
     "text": [
      "C:\\Users\\Jop Brouwer\\AppData\\Local\\Temp\\ipykernel_26836\\16257649.py:218: DeprecationWarning: DataFrameGroupBy.apply operated on the grouping columns. This behavior is deprecated, and in a future version of pandas the grouping columns will be excluded from the operation. Either pass `include_groups=False` to exclude the groupings or explicitly select the grouping columns after groupby to silence this warning.\n",
      "  grouped_returns = test_trade_df.groupby('DateTime').apply(\n"
     ]
    },
    {
     "name": "stdout",
     "output_type": "stream",
     "text": [
      "\n",
      "Evaluating Horizon:  (20 min) for training period 2002-12-23 to 2011-01-27\n"
     ]
    },
    {
     "name": "stderr",
     "output_type": "stream",
     "text": [
      "C:\\Users\\Jop Brouwer\\AppData\\Local\\Temp\\ipykernel_26836\\16257649.py:187: DeprecationWarning: DataFrameGroupBy.apply operated on the grouping columns. This behavior is deprecated, and in a future version of pandas the grouping columns will be excluded from the operation. Either pass `include_groups=False` to exclude the groupings or explicitly select the grouping columns after groupby to silence this warning.\n",
      "  val_returns = val_trade_df.groupby('DateTime').apply(\n"
     ]
    },
    {
     "name": "stdout",
     "output_type": "stream",
     "text": [
      "\n",
      "Evaluating Horizon:  (10 min) for training period 2002-12-23 to 2011-01-27\n"
     ]
    },
    {
     "name": "stderr",
     "output_type": "stream",
     "text": [
      "C:\\Users\\Jop Brouwer\\AppData\\Local\\Temp\\ipykernel_26836\\16257649.py:187: DeprecationWarning: DataFrameGroupBy.apply operated on the grouping columns. This behavior is deprecated, and in a future version of pandas the grouping columns will be excluded from the operation. Either pass `include_groups=False` to exclude the groupings or explicitly select the grouping columns after groupby to silence this warning.\n",
      "  val_returns = val_trade_df.groupby('DateTime').apply(\n"
     ]
    },
    {
     "name": "stdout",
     "output_type": "stream",
     "text": [
      "\n",
      "Evaluating Horizon:  (40 min) for training period 2002-12-23 to 2011-01-27\n"
     ]
    },
    {
     "name": "stderr",
     "output_type": "stream",
     "text": [
      "C:\\Users\\Jop Brouwer\\AppData\\Local\\Temp\\ipykernel_26836\\16257649.py:187: DeprecationWarning: DataFrameGroupBy.apply operated on the grouping columns. This behavior is deprecated, and in a future version of pandas the grouping columns will be excluded from the operation. Either pass `include_groups=False` to exclude the groupings or explicitly select the grouping columns after groupby to silence this warning.\n",
      "  val_returns = val_trade_df.groupby('DateTime').apply(\n"
     ]
    },
    {
     "name": "stdout",
     "output_type": "stream",
     "text": [
      "\n",
      "--- Testing best model for period ending 2013-01-29 ---\n",
      "Best Horizon Found:  (40 min)\n"
     ]
    },
    {
     "name": "stderr",
     "output_type": "stream",
     "text": [
      "C:\\Users\\Jop Brouwer\\AppData\\Local\\Temp\\ipykernel_26836\\16257649.py:218: DeprecationWarning: DataFrameGroupBy.apply operated on the grouping columns. This behavior is deprecated, and in a future version of pandas the grouping columns will be excluded from the operation. Either pass `include_groups=False` to exclude the groupings or explicitly select the grouping columns after groupby to silence this warning.\n",
      "  grouped_returns = test_trade_df.groupby('DateTime').apply(\n"
     ]
    },
    {
     "name": "stdout",
     "output_type": "stream",
     "text": [
      "\n",
      "Evaluating Horizon:  (20 min) for training period 2003-12-23 to 2012-01-27\n"
     ]
    },
    {
     "name": "stderr",
     "output_type": "stream",
     "text": [
      "C:\\Users\\Jop Brouwer\\AppData\\Local\\Temp\\ipykernel_26836\\16257649.py:187: DeprecationWarning: DataFrameGroupBy.apply operated on the grouping columns. This behavior is deprecated, and in a future version of pandas the grouping columns will be excluded from the operation. Either pass `include_groups=False` to exclude the groupings or explicitly select the grouping columns after groupby to silence this warning.\n",
      "  val_returns = val_trade_df.groupby('DateTime').apply(\n"
     ]
    },
    {
     "name": "stdout",
     "output_type": "stream",
     "text": [
      "\n",
      "Evaluating Horizon:  (10 min) for training period 2003-12-23 to 2012-01-27\n"
     ]
    },
    {
     "name": "stderr",
     "output_type": "stream",
     "text": [
      "C:\\Users\\Jop Brouwer\\AppData\\Local\\Temp\\ipykernel_26836\\16257649.py:187: DeprecationWarning: DataFrameGroupBy.apply operated on the grouping columns. This behavior is deprecated, and in a future version of pandas the grouping columns will be excluded from the operation. Either pass `include_groups=False` to exclude the groupings or explicitly select the grouping columns after groupby to silence this warning.\n",
      "  val_returns = val_trade_df.groupby('DateTime').apply(\n"
     ]
    },
    {
     "name": "stdout",
     "output_type": "stream",
     "text": [
      "\n",
      "Evaluating Horizon:  (40 min) for training period 2003-12-23 to 2012-01-27\n"
     ]
    },
    {
     "name": "stderr",
     "output_type": "stream",
     "text": [
      "C:\\Users\\Jop Brouwer\\AppData\\Local\\Temp\\ipykernel_26836\\16257649.py:187: DeprecationWarning: DataFrameGroupBy.apply operated on the grouping columns. This behavior is deprecated, and in a future version of pandas the grouping columns will be excluded from the operation. Either pass `include_groups=False` to exclude the groupings or explicitly select the grouping columns after groupby to silence this warning.\n",
      "  val_returns = val_trade_df.groupby('DateTime').apply(\n"
     ]
    },
    {
     "name": "stdout",
     "output_type": "stream",
     "text": [
      "\n",
      "--- Testing best model for period ending 2014-01-29 ---\n",
      "Best Horizon Found:  (40 min)\n"
     ]
    },
    {
     "name": "stderr",
     "output_type": "stream",
     "text": [
      "C:\\Users\\Jop Brouwer\\AppData\\Local\\Temp\\ipykernel_26836\\16257649.py:218: DeprecationWarning: DataFrameGroupBy.apply operated on the grouping columns. This behavior is deprecated, and in a future version of pandas the grouping columns will be excluded from the operation. Either pass `include_groups=False` to exclude the groupings or explicitly select the grouping columns after groupby to silence this warning.\n",
      "  grouped_returns = test_trade_df.groupby('DateTime').apply(\n"
     ]
    },
    {
     "name": "stdout",
     "output_type": "stream",
     "text": [
      "\n",
      "Evaluating Horizon:  (20 min) for training period 2004-12-23 to 2013-01-27\n"
     ]
    },
    {
     "name": "stderr",
     "output_type": "stream",
     "text": [
      "C:\\Users\\Jop Brouwer\\AppData\\Local\\Temp\\ipykernel_26836\\16257649.py:187: DeprecationWarning: DataFrameGroupBy.apply operated on the grouping columns. This behavior is deprecated, and in a future version of pandas the grouping columns will be excluded from the operation. Either pass `include_groups=False` to exclude the groupings or explicitly select the grouping columns after groupby to silence this warning.\n",
      "  val_returns = val_trade_df.groupby('DateTime').apply(\n"
     ]
    },
    {
     "name": "stdout",
     "output_type": "stream",
     "text": [
      "\n",
      "Evaluating Horizon:  (10 min) for training period 2004-12-23 to 2013-01-27\n"
     ]
    },
    {
     "name": "stderr",
     "output_type": "stream",
     "text": [
      "C:\\Users\\Jop Brouwer\\AppData\\Local\\Temp\\ipykernel_26836\\16257649.py:187: DeprecationWarning: DataFrameGroupBy.apply operated on the grouping columns. This behavior is deprecated, and in a future version of pandas the grouping columns will be excluded from the operation. Either pass `include_groups=False` to exclude the groupings or explicitly select the grouping columns after groupby to silence this warning.\n",
      "  val_returns = val_trade_df.groupby('DateTime').apply(\n"
     ]
    },
    {
     "name": "stdout",
     "output_type": "stream",
     "text": [
      "\n",
      "Evaluating Horizon:  (40 min) for training period 2004-12-23 to 2013-01-27\n"
     ]
    },
    {
     "name": "stderr",
     "output_type": "stream",
     "text": [
      "C:\\Users\\Jop Brouwer\\AppData\\Local\\Temp\\ipykernel_26836\\16257649.py:187: DeprecationWarning: DataFrameGroupBy.apply operated on the grouping columns. This behavior is deprecated, and in a future version of pandas the grouping columns will be excluded from the operation. Either pass `include_groups=False` to exclude the groupings or explicitly select the grouping columns after groupby to silence this warning.\n",
      "  val_returns = val_trade_df.groupby('DateTime').apply(\n"
     ]
    },
    {
     "name": "stdout",
     "output_type": "stream",
     "text": [
      "\n",
      "--- Testing best model for period ending 2015-01-29 ---\n",
      "Best Horizon Found:  (20 min)\n"
     ]
    },
    {
     "name": "stderr",
     "output_type": "stream",
     "text": [
      "C:\\Users\\Jop Brouwer\\AppData\\Local\\Temp\\ipykernel_26836\\16257649.py:218: DeprecationWarning: DataFrameGroupBy.apply operated on the grouping columns. This behavior is deprecated, and in a future version of pandas the grouping columns will be excluded from the operation. Either pass `include_groups=False` to exclude the groupings or explicitly select the grouping columns after groupby to silence this warning.\n",
      "  grouped_returns = test_trade_df.groupby('DateTime').apply(\n"
     ]
    },
    {
     "name": "stdout",
     "output_type": "stream",
     "text": [
      "\n",
      "Evaluating Horizon:  (20 min) for training period 2005-12-23 to 2014-01-27\n"
     ]
    },
    {
     "name": "stderr",
     "output_type": "stream",
     "text": [
      "C:\\Users\\Jop Brouwer\\AppData\\Local\\Temp\\ipykernel_26836\\16257649.py:187: DeprecationWarning: DataFrameGroupBy.apply operated on the grouping columns. This behavior is deprecated, and in a future version of pandas the grouping columns will be excluded from the operation. Either pass `include_groups=False` to exclude the groupings or explicitly select the grouping columns after groupby to silence this warning.\n",
      "  val_returns = val_trade_df.groupby('DateTime').apply(\n"
     ]
    },
    {
     "name": "stdout",
     "output_type": "stream",
     "text": [
      "\n",
      "Evaluating Horizon:  (10 min) for training period 2005-12-23 to 2014-01-27\n"
     ]
    },
    {
     "name": "stderr",
     "output_type": "stream",
     "text": [
      "C:\\Users\\Jop Brouwer\\AppData\\Local\\Temp\\ipykernel_26836\\16257649.py:187: DeprecationWarning: DataFrameGroupBy.apply operated on the grouping columns. This behavior is deprecated, and in a future version of pandas the grouping columns will be excluded from the operation. Either pass `include_groups=False` to exclude the groupings or explicitly select the grouping columns after groupby to silence this warning.\n",
      "  val_returns = val_trade_df.groupby('DateTime').apply(\n"
     ]
    },
    {
     "name": "stdout",
     "output_type": "stream",
     "text": [
      "\n",
      "Evaluating Horizon:  (40 min) for training period 2005-12-23 to 2014-01-27\n"
     ]
    },
    {
     "name": "stderr",
     "output_type": "stream",
     "text": [
      "C:\\Users\\Jop Brouwer\\AppData\\Local\\Temp\\ipykernel_26836\\16257649.py:187: DeprecationWarning: DataFrameGroupBy.apply operated on the grouping columns. This behavior is deprecated, and in a future version of pandas the grouping columns will be excluded from the operation. Either pass `include_groups=False` to exclude the groupings or explicitly select the grouping columns after groupby to silence this warning.\n",
      "  val_returns = val_trade_df.groupby('DateTime').apply(\n"
     ]
    },
    {
     "name": "stdout",
     "output_type": "stream",
     "text": [
      "\n",
      "--- Testing best model for period ending 2016-01-29 ---\n",
      "Best Horizon Found:  (10 min)\n"
     ]
    },
    {
     "name": "stderr",
     "output_type": "stream",
     "text": [
      "C:\\Users\\Jop Brouwer\\AppData\\Local\\Temp\\ipykernel_26836\\16257649.py:218: DeprecationWarning: DataFrameGroupBy.apply operated on the grouping columns. This behavior is deprecated, and in a future version of pandas the grouping columns will be excluded from the operation. Either pass `include_groups=False` to exclude the groupings or explicitly select the grouping columns after groupby to silence this warning.\n",
      "  grouped_returns = test_trade_df.groupby('DateTime').apply(\n"
     ]
    },
    {
     "name": "stdout",
     "output_type": "stream",
     "text": [
      "\n",
      "Evaluating Horizon:  (20 min) for training period 2006-12-23 to 2015-01-27\n"
     ]
    },
    {
     "name": "stderr",
     "output_type": "stream",
     "text": [
      "C:\\Users\\Jop Brouwer\\AppData\\Local\\Temp\\ipykernel_26836\\16257649.py:187: DeprecationWarning: DataFrameGroupBy.apply operated on the grouping columns. This behavior is deprecated, and in a future version of pandas the grouping columns will be excluded from the operation. Either pass `include_groups=False` to exclude the groupings or explicitly select the grouping columns after groupby to silence this warning.\n",
      "  val_returns = val_trade_df.groupby('DateTime').apply(\n"
     ]
    },
    {
     "name": "stdout",
     "output_type": "stream",
     "text": [
      "\n",
      "Evaluating Horizon:  (10 min) for training period 2006-12-23 to 2015-01-27\n"
     ]
    },
    {
     "name": "stderr",
     "output_type": "stream",
     "text": [
      "C:\\Users\\Jop Brouwer\\AppData\\Local\\Temp\\ipykernel_26836\\16257649.py:187: DeprecationWarning: DataFrameGroupBy.apply operated on the grouping columns. This behavior is deprecated, and in a future version of pandas the grouping columns will be excluded from the operation. Either pass `include_groups=False` to exclude the groupings or explicitly select the grouping columns after groupby to silence this warning.\n",
      "  val_returns = val_trade_df.groupby('DateTime').apply(\n"
     ]
    },
    {
     "name": "stdout",
     "output_type": "stream",
     "text": [
      "\n",
      "Evaluating Horizon:  (40 min) for training period 2006-12-23 to 2015-01-27\n"
     ]
    },
    {
     "name": "stderr",
     "output_type": "stream",
     "text": [
      "C:\\Users\\Jop Brouwer\\AppData\\Local\\Temp\\ipykernel_26836\\16257649.py:187: DeprecationWarning: DataFrameGroupBy.apply operated on the grouping columns. This behavior is deprecated, and in a future version of pandas the grouping columns will be excluded from the operation. Either pass `include_groups=False` to exclude the groupings or explicitly select the grouping columns after groupby to silence this warning.\n",
      "  val_returns = val_trade_df.groupby('DateTime').apply(\n"
     ]
    },
    {
     "name": "stdout",
     "output_type": "stream",
     "text": [
      "\n",
      "--- Testing best model for period ending 2017-01-29 ---\n",
      "Best Horizon Found:  (40 min)\n"
     ]
    },
    {
     "name": "stderr",
     "output_type": "stream",
     "text": [
      "C:\\Users\\Jop Brouwer\\AppData\\Local\\Temp\\ipykernel_26836\\16257649.py:218: DeprecationWarning: DataFrameGroupBy.apply operated on the grouping columns. This behavior is deprecated, and in a future version of pandas the grouping columns will be excluded from the operation. Either pass `include_groups=False` to exclude the groupings or explicitly select the grouping columns after groupby to silence this warning.\n",
      "  grouped_returns = test_trade_df.groupby('DateTime').apply(\n"
     ]
    },
    {
     "name": "stdout",
     "output_type": "stream",
     "text": [
      "\n",
      "Evaluating Horizon:  (20 min) for training period 2007-12-23 to 2016-01-27\n"
     ]
    },
    {
     "name": "stderr",
     "output_type": "stream",
     "text": [
      "C:\\Users\\Jop Brouwer\\AppData\\Local\\Temp\\ipykernel_26836\\16257649.py:187: DeprecationWarning: DataFrameGroupBy.apply operated on the grouping columns. This behavior is deprecated, and in a future version of pandas the grouping columns will be excluded from the operation. Either pass `include_groups=False` to exclude the groupings or explicitly select the grouping columns after groupby to silence this warning.\n",
      "  val_returns = val_trade_df.groupby('DateTime').apply(\n"
     ]
    },
    {
     "name": "stdout",
     "output_type": "stream",
     "text": [
      "\n",
      "Evaluating Horizon:  (10 min) for training period 2007-12-23 to 2016-01-27\n"
     ]
    },
    {
     "name": "stderr",
     "output_type": "stream",
     "text": [
      "C:\\Users\\Jop Brouwer\\AppData\\Local\\Temp\\ipykernel_26836\\16257649.py:187: DeprecationWarning: DataFrameGroupBy.apply operated on the grouping columns. This behavior is deprecated, and in a future version of pandas the grouping columns will be excluded from the operation. Either pass `include_groups=False` to exclude the groupings or explicitly select the grouping columns after groupby to silence this warning.\n",
      "  val_returns = val_trade_df.groupby('DateTime').apply(\n"
     ]
    },
    {
     "name": "stdout",
     "output_type": "stream",
     "text": [
      "\n",
      "Evaluating Horizon:  (40 min) for training period 2007-12-23 to 2016-01-27\n"
     ]
    },
    {
     "name": "stderr",
     "output_type": "stream",
     "text": [
      "C:\\Users\\Jop Brouwer\\AppData\\Local\\Temp\\ipykernel_26836\\16257649.py:187: DeprecationWarning: DataFrameGroupBy.apply operated on the grouping columns. This behavior is deprecated, and in a future version of pandas the grouping columns will be excluded from the operation. Either pass `include_groups=False` to exclude the groupings or explicitly select the grouping columns after groupby to silence this warning.\n",
      "  val_returns = val_trade_df.groupby('DateTime').apply(\n"
     ]
    },
    {
     "name": "stdout",
     "output_type": "stream",
     "text": [
      "\n",
      "--- Testing best model for period ending 2018-01-29 ---\n",
      "Best Horizon Found:  (10 min)\n"
     ]
    },
    {
     "name": "stderr",
     "output_type": "stream",
     "text": [
      "C:\\Users\\Jop Brouwer\\AppData\\Local\\Temp\\ipykernel_26836\\16257649.py:218: DeprecationWarning: DataFrameGroupBy.apply operated on the grouping columns. This behavior is deprecated, and in a future version of pandas the grouping columns will be excluded from the operation. Either pass `include_groups=False` to exclude the groupings or explicitly select the grouping columns after groupby to silence this warning.\n",
      "  grouped_returns = test_trade_df.groupby('DateTime').apply(\n"
     ]
    },
    {
     "name": "stdout",
     "output_type": "stream",
     "text": [
      "\n",
      "Evaluating Horizon:  (20 min) for training period 2008-12-23 to 2017-01-27\n"
     ]
    },
    {
     "name": "stderr",
     "output_type": "stream",
     "text": [
      "C:\\Users\\Jop Brouwer\\AppData\\Local\\Temp\\ipykernel_26836\\16257649.py:187: DeprecationWarning: DataFrameGroupBy.apply operated on the grouping columns. This behavior is deprecated, and in a future version of pandas the grouping columns will be excluded from the operation. Either pass `include_groups=False` to exclude the groupings or explicitly select the grouping columns after groupby to silence this warning.\n",
      "  val_returns = val_trade_df.groupby('DateTime').apply(\n"
     ]
    },
    {
     "name": "stdout",
     "output_type": "stream",
     "text": [
      "\n",
      "Evaluating Horizon:  (10 min) for training period 2008-12-23 to 2017-01-27\n"
     ]
    },
    {
     "name": "stderr",
     "output_type": "stream",
     "text": [
      "C:\\Users\\Jop Brouwer\\AppData\\Local\\Temp\\ipykernel_26836\\16257649.py:187: DeprecationWarning: DataFrameGroupBy.apply operated on the grouping columns. This behavior is deprecated, and in a future version of pandas the grouping columns will be excluded from the operation. Either pass `include_groups=False` to exclude the groupings or explicitly select the grouping columns after groupby to silence this warning.\n",
      "  val_returns = val_trade_df.groupby('DateTime').apply(\n"
     ]
    },
    {
     "name": "stdout",
     "output_type": "stream",
     "text": [
      "\n",
      "Evaluating Horizon:  (40 min) for training period 2008-12-23 to 2017-01-27\n"
     ]
    },
    {
     "name": "stderr",
     "output_type": "stream",
     "text": [
      "C:\\Users\\Jop Brouwer\\AppData\\Local\\Temp\\ipykernel_26836\\16257649.py:187: DeprecationWarning: DataFrameGroupBy.apply operated on the grouping columns. This behavior is deprecated, and in a future version of pandas the grouping columns will be excluded from the operation. Either pass `include_groups=False` to exclude the groupings or explicitly select the grouping columns after groupby to silence this warning.\n",
      "  val_returns = val_trade_df.groupby('DateTime').apply(\n"
     ]
    },
    {
     "name": "stdout",
     "output_type": "stream",
     "text": [
      "\n",
      "--- Testing best model for period ending 2019-01-29 ---\n",
      "Best Horizon Found:  (40 min)\n"
     ]
    },
    {
     "name": "stderr",
     "output_type": "stream",
     "text": [
      "C:\\Users\\Jop Brouwer\\AppData\\Local\\Temp\\ipykernel_26836\\16257649.py:218: DeprecationWarning: DataFrameGroupBy.apply operated on the grouping columns. This behavior is deprecated, and in a future version of pandas the grouping columns will be excluded from the operation. Either pass `include_groups=False` to exclude the groupings or explicitly select the grouping columns after groupby to silence this warning.\n",
      "  grouped_returns = test_trade_df.groupby('DateTime').apply(\n"
     ]
    },
    {
     "name": "stdout",
     "output_type": "stream",
     "text": [
      "\n",
      "Evaluating Horizon:  (20 min) for training period 2009-12-23 to 2018-01-27\n"
     ]
    },
    {
     "name": "stderr",
     "output_type": "stream",
     "text": [
      "C:\\Users\\Jop Brouwer\\AppData\\Local\\Temp\\ipykernel_26836\\16257649.py:187: DeprecationWarning: DataFrameGroupBy.apply operated on the grouping columns. This behavior is deprecated, and in a future version of pandas the grouping columns will be excluded from the operation. Either pass `include_groups=False` to exclude the groupings or explicitly select the grouping columns after groupby to silence this warning.\n",
      "  val_returns = val_trade_df.groupby('DateTime').apply(\n"
     ]
    },
    {
     "name": "stdout",
     "output_type": "stream",
     "text": [
      "\n",
      "Evaluating Horizon:  (10 min) for training period 2009-12-23 to 2018-01-27\n"
     ]
    },
    {
     "name": "stderr",
     "output_type": "stream",
     "text": [
      "C:\\Users\\Jop Brouwer\\AppData\\Local\\Temp\\ipykernel_26836\\16257649.py:187: DeprecationWarning: DataFrameGroupBy.apply operated on the grouping columns. This behavior is deprecated, and in a future version of pandas the grouping columns will be excluded from the operation. Either pass `include_groups=False` to exclude the groupings or explicitly select the grouping columns after groupby to silence this warning.\n",
      "  val_returns = val_trade_df.groupby('DateTime').apply(\n"
     ]
    },
    {
     "name": "stdout",
     "output_type": "stream",
     "text": [
      "\n",
      "Evaluating Horizon:  (40 min) for training period 2009-12-23 to 2018-01-27\n"
     ]
    },
    {
     "name": "stderr",
     "output_type": "stream",
     "text": [
      "C:\\Users\\Jop Brouwer\\AppData\\Local\\Temp\\ipykernel_26836\\16257649.py:187: DeprecationWarning: DataFrameGroupBy.apply operated on the grouping columns. This behavior is deprecated, and in a future version of pandas the grouping columns will be excluded from the operation. Either pass `include_groups=False` to exclude the groupings or explicitly select the grouping columns after groupby to silence this warning.\n",
      "  val_returns = val_trade_df.groupby('DateTime').apply(\n"
     ]
    },
    {
     "name": "stdout",
     "output_type": "stream",
     "text": [
      "\n",
      "--- Testing best model for period ending 2020-01-29 ---\n",
      "Best Horizon Found:  (40 min)\n"
     ]
    },
    {
     "name": "stderr",
     "output_type": "stream",
     "text": [
      "C:\\Users\\Jop Brouwer\\AppData\\Local\\Temp\\ipykernel_26836\\16257649.py:218: DeprecationWarning: DataFrameGroupBy.apply operated on the grouping columns. This behavior is deprecated, and in a future version of pandas the grouping columns will be excluded from the operation. Either pass `include_groups=False` to exclude the groupings or explicitly select the grouping columns after groupby to silence this warning.\n",
      "  grouped_returns = test_trade_df.groupby('DateTime').apply(\n"
     ]
    },
    {
     "name": "stdout",
     "output_type": "stream",
     "text": [
      "\n",
      "Evaluating Horizon:  (20 min) for training period 2010-12-23 to 2019-01-27\n"
     ]
    },
    {
     "name": "stderr",
     "output_type": "stream",
     "text": [
      "C:\\Users\\Jop Brouwer\\AppData\\Local\\Temp\\ipykernel_26836\\16257649.py:187: DeprecationWarning: DataFrameGroupBy.apply operated on the grouping columns. This behavior is deprecated, and in a future version of pandas the grouping columns will be excluded from the operation. Either pass `include_groups=False` to exclude the groupings or explicitly select the grouping columns after groupby to silence this warning.\n",
      "  val_returns = val_trade_df.groupby('DateTime').apply(\n"
     ]
    },
    {
     "name": "stdout",
     "output_type": "stream",
     "text": [
      "\n",
      "Evaluating Horizon:  (10 min) for training period 2010-12-23 to 2019-01-27\n"
     ]
    },
    {
     "name": "stderr",
     "output_type": "stream",
     "text": [
      "C:\\Users\\Jop Brouwer\\AppData\\Local\\Temp\\ipykernel_26836\\16257649.py:187: DeprecationWarning: DataFrameGroupBy.apply operated on the grouping columns. This behavior is deprecated, and in a future version of pandas the grouping columns will be excluded from the operation. Either pass `include_groups=False` to exclude the groupings or explicitly select the grouping columns after groupby to silence this warning.\n",
      "  val_returns = val_trade_df.groupby('DateTime').apply(\n"
     ]
    },
    {
     "name": "stdout",
     "output_type": "stream",
     "text": [
      "\n",
      "Evaluating Horizon:  (40 min) for training period 2010-12-23 to 2019-01-27\n"
     ]
    },
    {
     "name": "stderr",
     "output_type": "stream",
     "text": [
      "C:\\Users\\Jop Brouwer\\AppData\\Local\\Temp\\ipykernel_26836\\16257649.py:187: DeprecationWarning: DataFrameGroupBy.apply operated on the grouping columns. This behavior is deprecated, and in a future version of pandas the grouping columns will be excluded from the operation. Either pass `include_groups=False` to exclude the groupings or explicitly select the grouping columns after groupby to silence this warning.\n",
      "  val_returns = val_trade_df.groupby('DateTime').apply(\n"
     ]
    },
    {
     "name": "stdout",
     "output_type": "stream",
     "text": [
      "\n",
      "--- Testing best model for period ending 2021-01-29 ---\n",
      "Best Horizon Found:  (20 min)\n"
     ]
    },
    {
     "name": "stderr",
     "output_type": "stream",
     "text": [
      "C:\\Users\\Jop Brouwer\\AppData\\Local\\Temp\\ipykernel_26836\\16257649.py:218: DeprecationWarning: DataFrameGroupBy.apply operated on the grouping columns. This behavior is deprecated, and in a future version of pandas the grouping columns will be excluded from the operation. Either pass `include_groups=False` to exclude the groupings or explicitly select the grouping columns after groupby to silence this warning.\n",
      "  grouped_returns = test_trade_df.groupby('DateTime').apply(\n"
     ]
    },
    {
     "name": "stdout",
     "output_type": "stream",
     "text": [
      "\n",
      "Evaluating Horizon:  (20 min) for training period 2011-12-23 to 2020-01-27\n"
     ]
    },
    {
     "name": "stderr",
     "output_type": "stream",
     "text": [
      "C:\\Users\\Jop Brouwer\\AppData\\Local\\Temp\\ipykernel_26836\\16257649.py:187: DeprecationWarning: DataFrameGroupBy.apply operated on the grouping columns. This behavior is deprecated, and in a future version of pandas the grouping columns will be excluded from the operation. Either pass `include_groups=False` to exclude the groupings or explicitly select the grouping columns after groupby to silence this warning.\n",
      "  val_returns = val_trade_df.groupby('DateTime').apply(\n"
     ]
    },
    {
     "name": "stdout",
     "output_type": "stream",
     "text": [
      "\n",
      "Evaluating Horizon:  (10 min) for training period 2011-12-23 to 2020-01-27\n"
     ]
    },
    {
     "name": "stderr",
     "output_type": "stream",
     "text": [
      "C:\\Users\\Jop Brouwer\\AppData\\Local\\Temp\\ipykernel_26836\\16257649.py:187: DeprecationWarning: DataFrameGroupBy.apply operated on the grouping columns. This behavior is deprecated, and in a future version of pandas the grouping columns will be excluded from the operation. Either pass `include_groups=False` to exclude the groupings or explicitly select the grouping columns after groupby to silence this warning.\n",
      "  val_returns = val_trade_df.groupby('DateTime').apply(\n"
     ]
    },
    {
     "name": "stdout",
     "output_type": "stream",
     "text": [
      "\n",
      "Evaluating Horizon:  (40 min) for training period 2011-12-23 to 2020-01-27\n"
     ]
    },
    {
     "name": "stderr",
     "output_type": "stream",
     "text": [
      "C:\\Users\\Jop Brouwer\\AppData\\Local\\Temp\\ipykernel_26836\\16257649.py:187: DeprecationWarning: DataFrameGroupBy.apply operated on the grouping columns. This behavior is deprecated, and in a future version of pandas the grouping columns will be excluded from the operation. Either pass `include_groups=False` to exclude the groupings or explicitly select the grouping columns after groupby to silence this warning.\n",
      "  val_returns = val_trade_df.groupby('DateTime').apply(\n"
     ]
    },
    {
     "name": "stdout",
     "output_type": "stream",
     "text": [
      "\n",
      "--- Testing best model for period ending 2022-01-29 ---\n",
      "Best Horizon Found:  (40 min)\n"
     ]
    },
    {
     "name": "stderr",
     "output_type": "stream",
     "text": [
      "C:\\Users\\Jop Brouwer\\AppData\\Local\\Temp\\ipykernel_26836\\16257649.py:218: DeprecationWarning: DataFrameGroupBy.apply operated on the grouping columns. This behavior is deprecated, and in a future version of pandas the grouping columns will be excluded from the operation. Either pass `include_groups=False` to exclude the groupings or explicitly select the grouping columns after groupby to silence this warning.\n",
      "  grouped_returns = test_trade_df.groupby('DateTime').apply(\n"
     ]
    },
    {
     "name": "stdout",
     "output_type": "stream",
     "text": [
      "\n",
      "Evaluating Horizon:  (20 min) for training period 2012-12-23 to 2021-01-27\n"
     ]
    },
    {
     "name": "stderr",
     "output_type": "stream",
     "text": [
      "C:\\Users\\Jop Brouwer\\AppData\\Local\\Temp\\ipykernel_26836\\16257649.py:187: DeprecationWarning: DataFrameGroupBy.apply operated on the grouping columns. This behavior is deprecated, and in a future version of pandas the grouping columns will be excluded from the operation. Either pass `include_groups=False` to exclude the groupings or explicitly select the grouping columns after groupby to silence this warning.\n",
      "  val_returns = val_trade_df.groupby('DateTime').apply(\n"
     ]
    },
    {
     "name": "stdout",
     "output_type": "stream",
     "text": [
      "\n",
      "Evaluating Horizon:  (10 min) for training period 2012-12-23 to 2021-01-27\n"
     ]
    },
    {
     "name": "stderr",
     "output_type": "stream",
     "text": [
      "C:\\Users\\Jop Brouwer\\AppData\\Local\\Temp\\ipykernel_26836\\16257649.py:187: DeprecationWarning: DataFrameGroupBy.apply operated on the grouping columns. This behavior is deprecated, and in a future version of pandas the grouping columns will be excluded from the operation. Either pass `include_groups=False` to exclude the groupings or explicitly select the grouping columns after groupby to silence this warning.\n",
      "  val_returns = val_trade_df.groupby('DateTime').apply(\n"
     ]
    },
    {
     "name": "stdout",
     "output_type": "stream",
     "text": [
      "\n",
      "Evaluating Horizon:  (40 min) for training period 2012-12-23 to 2021-01-27\n"
     ]
    },
    {
     "name": "stderr",
     "output_type": "stream",
     "text": [
      "C:\\Users\\Jop Brouwer\\AppData\\Local\\Temp\\ipykernel_26836\\16257649.py:187: DeprecationWarning: DataFrameGroupBy.apply operated on the grouping columns. This behavior is deprecated, and in a future version of pandas the grouping columns will be excluded from the operation. Either pass `include_groups=False` to exclude the groupings or explicitly select the grouping columns after groupby to silence this warning.\n",
      "  val_returns = val_trade_df.groupby('DateTime').apply(\n"
     ]
    },
    {
     "name": "stdout",
     "output_type": "stream",
     "text": [
      "\n",
      "--- Testing best model for period ending 2023-01-29 ---\n",
      "Best Horizon Found:  (40 min)\n"
     ]
    },
    {
     "name": "stderr",
     "output_type": "stream",
     "text": [
      "C:\\Users\\Jop Brouwer\\AppData\\Local\\Temp\\ipykernel_26836\\16257649.py:218: DeprecationWarning: DataFrameGroupBy.apply operated on the grouping columns. This behavior is deprecated, and in a future version of pandas the grouping columns will be excluded from the operation. Either pass `include_groups=False` to exclude the groupings or explicitly select the grouping columns after groupby to silence this warning.\n",
      "  grouped_returns = test_trade_df.groupby('DateTime').apply(\n"
     ]
    },
    {
     "name": "stdout",
     "output_type": "stream",
     "text": [
      "\n",
      "Evaluating Horizon:  (20 min) for training period 2013-12-23 to 2022-01-27\n"
     ]
    },
    {
     "name": "stderr",
     "output_type": "stream",
     "text": [
      "C:\\Users\\Jop Brouwer\\AppData\\Local\\Temp\\ipykernel_26836\\16257649.py:187: DeprecationWarning: DataFrameGroupBy.apply operated on the grouping columns. This behavior is deprecated, and in a future version of pandas the grouping columns will be excluded from the operation. Either pass `include_groups=False` to exclude the groupings or explicitly select the grouping columns after groupby to silence this warning.\n",
      "  val_returns = val_trade_df.groupby('DateTime').apply(\n"
     ]
    },
    {
     "name": "stdout",
     "output_type": "stream",
     "text": [
      "\n",
      "Evaluating Horizon:  (10 min) for training period 2013-12-23 to 2022-01-27\n"
     ]
    },
    {
     "name": "stderr",
     "output_type": "stream",
     "text": [
      "C:\\Users\\Jop Brouwer\\AppData\\Local\\Temp\\ipykernel_26836\\16257649.py:187: DeprecationWarning: DataFrameGroupBy.apply operated on the grouping columns. This behavior is deprecated, and in a future version of pandas the grouping columns will be excluded from the operation. Either pass `include_groups=False` to exclude the groupings or explicitly select the grouping columns after groupby to silence this warning.\n",
      "  val_returns = val_trade_df.groupby('DateTime').apply(\n"
     ]
    },
    {
     "name": "stdout",
     "output_type": "stream",
     "text": [
      "\n",
      "Evaluating Horizon:  (40 min) for training period 2013-12-23 to 2022-01-27\n"
     ]
    },
    {
     "name": "stderr",
     "output_type": "stream",
     "text": [
      "C:\\Users\\Jop Brouwer\\AppData\\Local\\Temp\\ipykernel_26836\\16257649.py:187: DeprecationWarning: DataFrameGroupBy.apply operated on the grouping columns. This behavior is deprecated, and in a future version of pandas the grouping columns will be excluded from the operation. Either pass `include_groups=False` to exclude the groupings or explicitly select the grouping columns after groupby to silence this warning.\n",
      "  val_returns = val_trade_df.groupby('DateTime').apply(\n"
     ]
    },
    {
     "name": "stdout",
     "output_type": "stream",
     "text": [
      "\n",
      "--- Testing best model for period ending 2024-01-29 ---\n",
      "Best Horizon Found:  (20 min)\n"
     ]
    },
    {
     "name": "stderr",
     "output_type": "stream",
     "text": [
      "C:\\Users\\Jop Brouwer\\AppData\\Local\\Temp\\ipykernel_26836\\16257649.py:218: DeprecationWarning: DataFrameGroupBy.apply operated on the grouping columns. This behavior is deprecated, and in a future version of pandas the grouping columns will be excluded from the operation. Either pass `include_groups=False` to exclude the groupings or explicitly select the grouping columns after groupby to silence this warning.\n",
      "  grouped_returns = test_trade_df.groupby('DateTime').apply(\n"
     ]
    },
    {
     "data": {
      "image/png": "[encoded data removed]",
      "text/plain": [
       "<Figure size 1200x600 with 1 Axes>"
      ]
     },
     "metadata": {},
     "output_type": "display_data"
    },
    {
     "name": "stdout",
     "output_type": "stream",
     "text": [
      "Final Cumulative Compounded Return: 926.98%\n",
      "\n",
      "Overall Test Accuracy : 52.13%\n",
      "Overall Precision     : 34.82%\n",
      "Overall Recall        : 36.16%\n",
      "Overall F1 Score      : 35.41%\n",
      "Overall ROC AUC       : 55.89%\n",
      "\n",
      "Average Fold Test Return : 0.03365%\n",
      "\n",
      "Standard Deviation of All Test Returns (Aggregated Daily): 0.25689%\n",
      "\n",
      "Minimum Return (Aggregated Daily): -0.77273%\n",
      "\n",
      "Optimal Horizon Counts:\n",
      "(40 min)    10\n",
      "(20 min)     4\n",
      "(10 min)     3\n",
      "Name: count, dtype: int64\n",
      "\n",
      "Test Set Position Counts:\n",
      "Neutral (0): 10\n",
      "Long (1): 7979\n",
      "Short (2): 9259\n"
     ]
    }
   ],
   "source": [
    "import os\n",
    "os.environ['OMP_NUM_THREADS'] = '1'\n",
    "os.environ['OPENBLAS_NUM_THREADS'] = '1'\n",
    "os.environ['MKL_NUM_THREADS'] = '1'\n",
    "os.environ['VECLIB_MAXIMUM_THREADS'] = '1'\n",
    "os.environ['NUMEXPR_NUM_THREADS'] = '1'\n",
    "os.environ['PYTHONHASHSEED'] = '0'\n",
    "\n",
    "import matplotlib.pyplot as plt\n",
    "from sklearn.preprocessing import StandardScaler\n",
    "from sklearn.svm import SVC\n",
    "from sklearn.metrics import (\n",
    "    accuracy_score,\n",
    "    f1_score,\n",
    "    roc_auc_score,\n",
    "    precision_score,\n",
    "    recall_score\n",
    ")\n",
    "import numpy as np\n",
    "import pandas as pd\n",
    "import random\n",
    "\n",
    "# Set random seeds for reproducibility\n",
    "np.random.seed(42)\n",
    "random.seed(42)\n",
    "\n",
    "# Assume df_ml is pre-loaded as a pandas DataFrame in your environment.\n",
    "# Make sure it contains 'DateTime', 'Surprise', feature columns,\n",
    "# 'Target Signal...' columns, and 'Forward Return...' columns.\n",
    "\n",
    "# --- Feature Engineering ---\n",
    "# This logic determines the feature columns from your DataFrame\n",
    "all_cols = df_ml.columns.tolist()\n",
    "exclude_cols = ['DateTime', 'Surprise'] + [col for col in all_cols if 'Target' in col or 'Forward' in col]\n",
    "feature_cols = [col for col in all_cols if col not in exclude_cols]\n",
    "print(\"Feature Columns:\", feature_cols)\n",
    "print(\"Number of Features:\", len(feature_cols))\n",
    "\n",
    "\n",
    "# --- Configuration ---\n",
    "horizons = [' (20 min)', ' (10 min)', ' (40 min)']\n",
    "\n",
    "# --- Data Prep ---\n",
    "df_ml = df_ml.dropna(subset=['Surprise']).sort_values('DateTime')\n",
    "min_date = df_ml['DateTime'].min()\n",
    "max_date = df_ml['DateTime'].max()\n",
    "\n",
    "# --- Calculate Initial Training Window ---\n",
    "total_duration = max_date - min_date\n",
    "initial_train_duration = total_duration * 0.3\n",
    "# MODIFICATION: Define both a start and end date for the window\n",
    "train_start_date = min_date\n",
    "train_end_date = min_date + initial_train_duration\n",
    "\n",
    "\n",
    "# --- Tracking containers ---\n",
    "results = []\n",
    "all_test_returns = []\n",
    "all_dates = []\n",
    "all_test_preds = []\n",
    "all_test_truths = []\n",
    "all_test_probas = []\n",
    "fold_mean_returns = []\n",
    "best_horizons_list = []\n",
    "\n",
    "\n",
    "def calculate_grouped_returns(df_group, horizon, stop_loss=None):\n",
    "    \"\"\"Calculate returns with position sizing and stop loss\"\"\"\n",
    "    active_trades = df_group[df_group['pred'] != 0]\n",
    "    if active_trades.empty:\n",
    "        return 0.0\n",
    "\n",
    "    longs = active_trades[active_trades['pred'] == 1].copy().reset_index(drop=True)\n",
    "    shorts = active_trades[active_trades['pred'] == 2].copy().reset_index(drop=True)\n",
    "\n",
    "    total_confidence = longs['proba'].sum() + shorts['proba'].sum()\n",
    "    if total_confidence == 0:\n",
    "        return 0.0\n",
    "\n",
    "    long_returns = 0.0\n",
    "    short_returns = 0.0\n",
    "\n",
    "    # Process longs\n",
    "    if not longs.empty:\n",
    "        long_weights = longs['proba'] / total_confidence\n",
    "        for idx in longs.index:\n",
    "            raw_return = longs.loc[idx, f'Forward Return{horizon}']\n",
    "            capped_raw = max(stop_loss, raw_return) if stop_loss is not None else raw_return\n",
    "            long_returns += capped_raw * long_weights.loc[idx]\n",
    "\n",
    "    # Process shorts\n",
    "    if not shorts.empty:\n",
    "        short_weights = shorts['proba'] / total_confidence\n",
    "        for idx in shorts.index:\n",
    "            raw_return = -shorts.loc[idx, f'Forward Return{horizon}']\n",
    "            capped_raw = max(stop_loss, raw_return) if stop_loss is not None else raw_return\n",
    "            short_returns += capped_raw * short_weights.loc[idx]\n",
    "\n",
    "    net_return = (long_returns + short_returns)\n",
    "    return net_return\n",
    "\n",
    "# --- Main Loop ---\n",
    "while True:\n",
    "    val_start_date = train_end_date + pd.DateOffset(days=1)\n",
    "    val_end_date = val_start_date + pd.DateOffset(years=1)\n",
    "    test_start_date = val_end_date + pd.DateOffset(days=1)\n",
    "    test_end_date = test_start_date + pd.DateOffset(years=1)\n",
    "\n",
    "    if val_end_date > max_date or test_end_date > max_date:\n",
    "        break\n",
    "\n",
    "    # MODIFICATION: The training mask now uses both a start and end date for a rolling window\n",
    "    train_mask = (df_ml['DateTime'] >= train_start_date) & (df_ml['DateTime'] <= train_end_date)\n",
    "    val_mask = (df_ml['DateTime'] >= val_start_date) & (df_ml['DateTime'] <= val_end_date)\n",
    "    test_mask = (df_ml['DateTime'] >= test_start_date) & (df_ml['DateTime'] <= test_end_date)\n",
    "\n",
    "    train_data = df_ml[train_mask]\n",
    "    val_data = df_ml[val_mask]\n",
    "    test_data = df_ml[test_mask]\n",
    "\n",
    "    if val_data.empty or test_data.empty or train_data.empty:\n",
    "        print(f\"Skipping period starting {val_start_date.date()} (no data)\")\n",
    "        # Move the entire window forward\n",
    "        train_start_date += pd.DateOffset(years=1)\n",
    "        train_end_date += pd.DateOffset(years=1)\n",
    "        continue\n",
    "\n",
    "    # --- Horizon Optimization ---\n",
    "    best_horizon, best_model, best_stop_loss = None, None, None\n",
    "    best_val_return = -np.inf\n",
    "\n",
    "    for horizon in horizons:\n",
    "        print(f\"\\nEvaluating Horizon: {horizon} for training period {train_start_date.date()} to {train_end_date.date()}\")\n",
    "        # Feature scaling - SVMs are sensitive to feature scales\n",
    "        scaler = StandardScaler()\n",
    "        X_train = scaler.fit_transform(train_data[feature_cols])\n",
    "        X_val = scaler.transform(val_data[feature_cols])\n",
    "\n",
    "        y_train = train_data[f'Target Signal{horizon}']\n",
    "        y_val = val_data[f'Target Signal{horizon}']\n",
    "\n",
    "        # Create and Train SVM model\n",
    "        model = SVC(kernel='rbf', C=1.0, gamma='scale', probability=True, random_state=42)\n",
    "        model.fit(X_train, y_train)\n",
    "\n",
    "        # Get class probabilities\n",
    "        train_preds = model.predict(X_train)\n",
    "        train_probas = model.predict_proba(X_train)\n",
    "        class_map = {cls: idx for idx, cls in enumerate(model.classes_)}\n",
    "\n",
    "        # Training stop loss calculation\n",
    "        train_trade_df = pd.DataFrame({\n",
    "            'DateTime': train_data['DateTime'],\n",
    "            'pred': train_preds,\n",
    "            'proba': [proba[class_map[pred]] for pred, proba in zip(train_preds, train_probas)],\n",
    "            f'Forward Return{horizon}': train_data[f'Forward Return{horizon}'].values\n",
    "        })\n",
    "\n",
    "        train_raw_returns = []\n",
    "        for _, row in train_trade_df.iterrows():\n",
    "            if row['pred'] == 1:\n",
    "                train_raw_returns.append(row[f'Forward Return{horizon}'])\n",
    "            elif row['pred'] == 2:\n",
    "                train_raw_returns.append(-row[f'Forward Return{horizon}'])\n",
    "        stop_loss_train = np.percentile(train_raw_returns, 5) if train_raw_returns else None\n",
    "\n",
    "        # Validation predictions\n",
    "        val_preds = model.predict(X_val)\n",
    "        val_probas = model.predict_proba(X_val)\n",
    "        val_trade_df = pd.DataFrame({\n",
    "            'DateTime': val_data['DateTime'],\n",
    "            'pred': val_preds,\n",
    "            'proba': [proba[class_map.get(pred, 0)] for pred, proba in zip(val_preds, val_probas) if pred in class_map],\n",
    "            f'Forward Return{horizon}': val_data[f'Forward Return{horizon}'].values\n",
    "        })\n",
    "\n",
    "        # Validation stop loss calculation (for test set)\n",
    "        val_raw_returns = []\n",
    "        for _, row in val_trade_df.iterrows():\n",
    "            if row['pred'] == 1:\n",
    "                val_raw_returns.append(row[f'Forward Return{horizon}'])\n",
    "            elif row['pred'] == 2:\n",
    "                val_raw_returns.append(-row[f'Forward Return{horizon}'])\n",
    "        stop_loss_val = np.percentile(val_raw_returns, 5) if val_raw_returns else None\n",
    "\n",
    "        # Validate using training stop loss\n",
    "        val_returns = val_trade_df.groupby('DateTime').apply(\n",
    "            lambda x: calculate_grouped_returns(x, horizon, stop_loss_train)\n",
    "        ).values\n",
    "\n",
    "        total_val_return = (1 + val_returns).prod() - 1\n",
    "\n",
    "        if total_val_return > best_val_return:\n",
    "            best_val_return = total_val_return\n",
    "            best_horizon = horizon\n",
    "            best_model = model\n",
    "            best_stop_loss = stop_loss_val\n",
    "            best_scaler = scaler\n",
    "\n",
    "    # --- Test Best Model ---\n",
    "    if best_model and best_stop_loss is not None:\n",
    "        print(f\"\\n--- Testing best model for period ending {test_end_date.date()} ---\")\n",
    "        print(f\"Best Horizon Found: {best_horizon}\")\n",
    "        X_test = best_scaler.transform(test_data[feature_cols])\n",
    "        \n",
    "        test_probas = best_model.predict_proba(X_test)\n",
    "        test_preds = best_model.predict(X_test)\n",
    "        y_test = test_data[f'Target Signal{best_horizon}'].values\n",
    "        \n",
    "        class_map = {cls: idx for idx, cls in enumerate(best_model.classes_)}\n",
    "        test_trade_df = pd.DataFrame({\n",
    "            'DateTime': test_data['DateTime'],\n",
    "            'pred': test_preds,\n",
    "            'proba': [proba[class_map[pred]] for pred, proba in zip(test_preds, test_probas)],\n",
    "            f'Forward Return{best_horizon}': test_data[f'Forward Return{best_horizon}'].values\n",
    "        })\n",
    "\n",
    "        grouped_returns = test_trade_df.groupby('DateTime').apply(\n",
    "            lambda x: calculate_grouped_returns(x, best_horizon, best_stop_loss)\n",
    "        ).values\n",
    "\n",
    "        all_test_returns.extend(grouped_returns)\n",
    "        all_dates.extend(test_trade_df['DateTime'].unique().tolist())\n",
    "        all_test_preds.extend(test_preds)\n",
    "        all_test_truths.extend(y_test)\n",
    "        all_test_probas.append(test_probas)\n",
    "        fold_mean_returns.append(np.mean(grouped_returns))\n",
    "        best_horizons_list.append(best_horizon or 'standard')\n",
    "\n",
    "    # MODIFICATION: Increment both start and end dates to slide the window forward\n",
    "    train_start_date += pd.DateOffset(years=1)\n",
    "    train_end_date += pd.DateOffset(years=1)\n",
    "\n",
    "# --- Results ---\n",
    "if all_test_returns:\n",
    "    cumulative_returns = (1 + np.array(all_test_returns)).cumprod() - 1\n",
    "    std_dev_individual = np.std(all_test_returns) * 100\n",
    "    min_return = np.nanmin(all_test_returns) * 100 if all_test_returns else 0.0\n",
    "\n",
    "    plt.figure(figsize=(12, 6))\n",
    "    sorted_dates, sorted_returns = zip(*sorted(zip(all_dates, cumulative_returns)))\n",
    "    plt.plot(sorted_dates, [r * 100 for r in sorted_returns])\n",
    "    plt.title('Cumulative Returns (SVM with Moving Window)')\n",
    "    plt.xlabel('Date')\n",
    "    plt.ylabel('Cumulative Return (%)')\n",
    "    plt.grid(True)\n",
    "    plt.show()\n",
    "\n",
    "    full_probas = np.vstack(all_test_probas)\n",
    "\n",
    "    print(f\"Final Cumulative Compounded Return: {cumulative_returns[-1]*100:.2f}%\")\n",
    "    print(f\"\\nOverall Test Accuracy : {accuracy_score(all_test_truths, all_test_preds)*100:.2f}%\")\n",
    "    print(f\"Overall Precision     : {precision_score(all_test_truths, all_test_preds, average='macro', zero_division=0)*100:.2f}%\")\n",
    "    print(f\"Overall Recall        : {recall_score(all_test_truths, all_test_preds, average='macro', zero_division=0)*100:.2f}%\")\n",
    "    print(f\"Overall F1 Score      : {f1_score(all_test_truths, all_test_preds, average='macro', zero_division=0)*100:.2f}%\")\n",
    "    if len(np.unique(all_test_truths)) > 1:\n",
    "         print(f\"Overall ROC AUC       : {roc_auc_score(all_test_truths, full_probas, multi_class='ovo', average='macro')*100:.2f}%\")\n",
    "    else:\n",
    "        print(\"Overall ROC AUC       : Not enough data for calculation (requires at least 2 classes).\")\n",
    "\n",
    "    print(f\"\\nAverage Fold Test Return : {np.mean(fold_mean_returns)*100:.5f}%\")\n",
    "    print(f\"\\nStandard Deviation of All Test Returns (Aggregated Daily): {std_dev_individual:.5f}%\")\n",
    "    print(f\"\\nMinimum Return (Aggregated Daily): {min_return:.5f}%\")\n",
    "    print(\"\\nOptimal Horizon Counts:\")\n",
    "    print(pd.Series(best_horizons_list).value_counts())\n",
    "    print(\"\\nTest Set Position Counts:\")\n",
    "    counts = pd.Series(all_test_preds).value_counts().sort_index()\n",
    "    print(f\"Neutral (0): {counts.get(0, 0)}\")\n",
    "    print(f\"Long (1): {counts.get(1, 0)}\")\n",
    "    print(f\"Short (2): {counts.get(2, 0)}\")\n",
    "\n",
    "else:\n",
    "    print(\"No valid test periods found\")\n"
   ]
  },
  {
   "cell_type": "markdown",
   "id": "b9a2455a",
   "metadata": {},
   "source": [
    "XGBoost model - USA - Excluding Transaction costs"
   ]
  },
  {
   "cell_type": "code",
   "execution_count": 7,
   "id": "80d4d8b3",
   "metadata": {},
   "outputs": [
    {
     "name": "stdout",
     "output_type": "stream",
     "text": [
      "Feature Columns: ['ACNFCOMF Index_Surprise', 'ADP CHNG Index_Surprise', 'AHE MOM% Index_Surprise', 'AHE YOY% Index_Surprise', 'AMSPPACE Index_Surprise', 'AWH TOTL Index_Surprise', 'CFNAI Index_Surprise', 'CGNOXAI% Index_Surprise', 'CGSHXAI% Index_Surprise', 'CHPMINDX Index_Surprise', 'CICRTOT Index_Surprise', 'CNSTTMOM Index_Surprise', 'COMFCOMF Index_Surprise', 'CONCCONF Index_Surprise', 'CONSCURR Index_Surprise', 'CONSEXP Index_Surprise', 'CONSP5MD Index_Surprise', 'CONSPXMD Index_Surprise', 'CONSSENT Index_Surprise', 'COSTNFR% Index_Surprise', 'CPI CHNG Index_Surprise', 'CPI XYOY Index_Surprise', 'CPI YOY Index_Surprise', 'CPTICHNG Index_Surprise', 'CPUPAXFE Index_Surprise', 'CPUPXCHG Index_Surprise', 'CPURNSA Index_Surprise', 'DFEDGBA Index_Surprise', 'DGNOCHNG Index_Surprise', 'DGNOXTCH Index_Surprise', 'DOTDLTMD Index_Surprise', 'DOTDY0MD Index_Surprise', 'DOTDY1MD Index_Surprise', 'DOTDY2MD Index_Surprise', 'DSERGBCC Index_Surprise', 'ECI SA% Index_Surprise', 'ECONUSIB Index_Surprise', 'EHSLSL Index_Surprise', 'EMPRGBCI Index_Surprise', 'ETSLMOM Index_Surprise', 'ETSLTOTL Index_Surprise', 'EXP1CMOM Index_Surprise', 'EXP1CYOY Index_Surprise', 'FDDSSD Index_Surprise', 'FDEBTY Index_Surprise', 'FDIDFDMO Index_Surprise', 'FDIDSGMO Index_Surprise', 'FDIDSGUM Index_Surprise', 'FDIUFDYO Index_Surprise', 'FDIUSGUY Index_Surprise', 'FDIUSGYO Index_Surprise', 'FDTR Index_Surprise', 'FDTRFTRL Index_Surprise', 'FRNTTNET Index_Surprise', 'FRNTTOTL Index_Surprise', 'GDP CQOQ Index_Surprise', 'GDP DCHG Index_Surprise', 'GDP PIQQ Index_Surprise', 'GDPCPCEC Index_Surprise', 'GDPCTOT% Index_Surprise', 'HPI PURQ Index_Surprise', 'HPI QOQ% Index_Surprise', 'HPIMMOM% Index_Surprise', 'IMP1CHNG Index_Surprise', 'IMP1XPM% Index_Surprise', 'IMP1YOY% Index_Surprise', 'INJCJC Index_Surprise', 'INJCSP Index_Surprise', 'IP CHNG Index_Surprise', 'IPMGCHNG Index_Surprise', 'IRRBIOER Index_Surprise', 'JOLTTOTL Index_Surprise', 'KCLSSACI Index_Surprise', 'LEI CHNG Index_Surprise', 'LHWANWPA Index_Surprise', 'LMCILMCC Index_Surprise', 'MAPMINDX Index_Surprise', 'MBAVCHNG Index_Surprise', 'MBRXYOY Index_Surprise', 'MBRXYOYW Index_Surprise', 'MPMIUSCA Index_Surprise', 'MPMIUSMA Index_Surprise', 'MPMIUSSA Index_Surprise', 'MTIBCHNG Index_Surprise', 'MWINCHNG Index_Surprise', 'MWSLCHNG Index_Surprise', 'NAPMEMPL Index_Surprise', 'NAPMNEMP Index_Surprise', 'NAPMNEWO Index_Surprise', 'NAPMNMAN Index_Surprise', 'NAPMNMI Index_Surprise', 'NAPMNNO Index_Surprise', 'NAPMNPRC Index_Surprise', 'NAPMPMI Index_Surprise', 'NAPMPRIC Index_Surprise', 'NFP CPYC Index_Surprise', 'NFP PCH Index_Surprise', 'NFP TCH Index_Surprise', 'NHCHATCH Index_Surprise', 'NHCHSTCH Index_Surprise', 'NHSLCHNG Index_Surprise', 'NHSLTOT Index_Surprise', 'NHSPATOT Index_Surprise', 'NHSPSTOT Index_Surprise', 'NYBLCNBA Index_Surprise', 'NYCNM1IR Index_Surprise', 'NYPMCURR Index_Surprise', 'OUTFGAF Index_Surprise', 'PCE CHNC Index_Surprise', 'PCE CMOM Index_Surprise', 'PCE CRCH Index_Surprise', 'PCE CYOY Index_Surprise', 'PCE DEFM Index_Surprise', 'PCE DEFY Index_Surprise', 'PHUCTOT Index_Surprise', 'PITLCHNG Index_Surprise', 'PNMARADI Index_Surprise', 'PPI CHNG Index_Surprise', 'PPI XYOY Index_Surprise', 'PPI YOY Index_Surprise', 'PRODNFR% Index_Surprise', 'PRUSTOT Index_Surprise', 'PXFECHNG Index_Surprise', 'RCHSINDX Index_Surprise', 'REALRAWE Index_Surprise', 'REALYRAE Index_Surprise', 'RSRSTMOM Index_Surprise', 'RSTAMOM Index_Surprise', 'RSTAXAG% Index_Surprise', 'RSTAXAGM Index_Surprise', 'RSTAXMOM Index_Surprise', 'RTSDCHNG Index_Surprise', 'RTSDXCHG Index_Surprise', 'SAARDTOT Index_Surprise', 'SAARTOTL Index_Surprise', 'SBOITOTL Index_Surprise', 'SPCS20 Index_Surprise', 'SPCS20SM Index_Surprise', 'SPCS20Y% Index_Surprise', 'SPCSUSA Index_Surprise', 'SPCSUSAY Index_Surprise', 'SPCSUSQS Index_Surprise', 'TMNOCHNG Index_Surprise', 'TMNOXTM% Index_Surprise', 'TREFAMSP Index_Surprise', 'TREFPACE Index_Surprise', 'USCABAL Index_Surprise', 'USEMNCHG Index_Surprise', 'USHBMIDX Index_Surprise', 'USHETOT% Index_Surprise', 'USHEYOY Index_Surprise', 'USMMMNCH Index_Surprise', 'USPHTMOM Index_Surprise', 'USPHTYOY Index_Surprise', 'USTBTOT Index_Surprise', 'USTGTTCB Index_Surprise', 'USUDMAER Index_Surprise', 'USURTOT Index_Surprise', 'USWHMANS Index_Surprise', 'USWHTOT Index_Surprise', 'VNCCCMOM Index_Surprise', 'SMA5', 'SMA10', 'SMA15', 'SMA20', 'SMA50', 'SMA100', 'SMA200', 'SMA5Cross', 'SMA10Cross', 'SMA15Cross', 'SMA20Cross', 'SMA50Cross', 'SMA100Cross', 'SMA200Cross', 'UpDown10', 'UpDown15', 'UpDown50', 'last_gdp_gr', 'last_vix', 'R', 'Volume_L1', 'Surprise', 'Std Dev']\n",
      "Number of Features: 184\n"
     ]
    },
    {
     "name": "stderr",
     "output_type": "stream",
     "text": [
      "C:\\Users\\jopbr\\AppData\\Local\\Temp\\ipykernel_17544\\3461239018.py:183: DeprecationWarning: DataFrameGroupBy.apply operated on the grouping columns. This behavior is deprecated, and in a future version of pandas the grouping columns will be excluded from the operation. Either pass `include_groups=False` to exclude the groupings or explicitly select the grouping columns after groupby to silence this warning.\n",
      "  val_returns = val_trade_df.groupby('DateTime').apply(\n",
      "C:\\Users\\jopbr\\AppData\\Local\\Temp\\ipykernel_17544\\3461239018.py:183: DeprecationWarning: DataFrameGroupBy.apply operated on the grouping columns. This behavior is deprecated, and in a future version of pandas the grouping columns will be excluded from the operation. Either pass `include_groups=False` to exclude the groupings or explicitly select the grouping columns after groupby to silence this warning.\n",
      "  val_returns = val_trade_df.groupby('DateTime').apply(\n",
      "C:\\Users\\jopbr\\AppData\\Local\\Temp\\ipykernel_17544\\3461239018.py:183: DeprecationWarning: DataFrameGroupBy.apply operated on the grouping columns. This behavior is deprecated, and in a future version of pandas the grouping columns will be excluded from the operation. Either pass `include_groups=False` to exclude the groupings or explicitly select the grouping columns after groupby to silence this warning.\n",
      "  val_returns = val_trade_df.groupby('DateTime').apply(\n",
      "C:\\Users\\jopbr\\AppData\\Local\\Temp\\ipykernel_17544\\3461239018.py:209: DeprecationWarning: DataFrameGroupBy.apply operated on the grouping columns. This behavior is deprecated, and in a future version of pandas the grouping columns will be excluded from the operation. Either pass `include_groups=False` to exclude the groupings or explicitly select the grouping columns after groupby to silence this warning.\n",
      "  grouped_returns = test_trade_df.groupby('DateTime').apply(\n",
      "C:\\Users\\jopbr\\AppData\\Local\\Temp\\ipykernel_17544\\3461239018.py:183: DeprecationWarning: DataFrameGroupBy.apply operated on the grouping columns. This behavior is deprecated, and in a future version of pandas the grouping columns will be excluded from the operation. Either pass `include_groups=False` to exclude the groupings or explicitly select the grouping columns after groupby to silence this warning.\n",
      "  val_returns = val_trade_df.groupby('DateTime').apply(\n",
      "C:\\Users\\jopbr\\AppData\\Local\\Temp\\ipykernel_17544\\3461239018.py:183: DeprecationWarning: DataFrameGroupBy.apply operated on the grouping columns. This behavior is deprecated, and in a future version of pandas the grouping columns will be excluded from the operation. Either pass `include_groups=False` to exclude the groupings or explicitly select the grouping columns after groupby to silence this warning.\n",
      "  val_returns = val_trade_df.groupby('DateTime').apply(\n",
      "C:\\Users\\jopbr\\AppData\\Local\\Temp\\ipykernel_17544\\3461239018.py:183: DeprecationWarning: DataFrameGroupBy.apply operated on the grouping columns. This behavior is deprecated, and in a future version of pandas the grouping columns will be excluded from the operation. Either pass `include_groups=False` to exclude the groupings or explicitly select the grouping columns after groupby to silence this warning.\n",
      "  val_returns = val_trade_df.groupby('DateTime').apply(\n",
      "C:\\Users\\jopbr\\AppData\\Local\\Temp\\ipykernel_17544\\3461239018.py:209: DeprecationWarning: DataFrameGroupBy.apply operated on the grouping columns. This behavior is deprecated, and in a future version of pandas the grouping columns will be excluded from the operation. Either pass `include_groups=False` to exclude the groupings or explicitly select the grouping columns after groupby to silence this warning.\n",
      "  grouped_returns = test_trade_df.groupby('DateTime').apply(\n",
      "C:\\Users\\jopbr\\AppData\\Local\\Temp\\ipykernel_17544\\3461239018.py:183: DeprecationWarning: DataFrameGroupBy.apply operated on the grouping columns. This behavior is deprecated, and in a future version of pandas the grouping columns will be excluded from the operation. Either pass `include_groups=False` to exclude the groupings or explicitly select the grouping columns after groupby to silence this warning.\n",
      "  val_returns = val_trade_df.groupby('DateTime').apply(\n",
      "C:\\Users\\jopbr\\AppData\\Local\\Temp\\ipykernel_17544\\3461239018.py:183: DeprecationWarning: DataFrameGroupBy.apply operated on the grouping columns. This behavior is deprecated, and in a future version of pandas the grouping columns will be excluded from the operation. Either pass `include_groups=False` to exclude the groupings or explicitly select the grouping columns after groupby to silence this warning.\n",
      "  val_returns = val_trade_df.groupby('DateTime').apply(\n",
      "C:\\Users\\jopbr\\AppData\\Local\\Temp\\ipykernel_17544\\3461239018.py:183: DeprecationWarning: DataFrameGroupBy.apply operated on the grouping columns. This behavior is deprecated, and in a future version of pandas the grouping columns will be excluded from the operation. Either pass `include_groups=False` to exclude the groupings or explicitly select the grouping columns after groupby to silence this warning.\n",
      "  val_returns = val_trade_df.groupby('DateTime').apply(\n",
      "C:\\Users\\jopbr\\AppData\\Local\\Temp\\ipykernel_17544\\3461239018.py:209: DeprecationWarning: DataFrameGroupBy.apply operated on the grouping columns. This behavior is deprecated, and in a future version of pandas the grouping columns will be excluded from the operation. Either pass `include_groups=False` to exclude the groupings or explicitly select the grouping columns after groupby to silence this warning.\n",
      "  grouped_returns = test_trade_df.groupby('DateTime').apply(\n",
      "C:\\Users\\jopbr\\AppData\\Local\\Temp\\ipykernel_17544\\3461239018.py:183: DeprecationWarning: DataFrameGroupBy.apply operated on the grouping columns. This behavior is deprecated, and in a future version of pandas the grouping columns will be excluded from the operation. Either pass `include_groups=False` to exclude the groupings or explicitly select the grouping columns after groupby to silence this warning.\n",
      "  val_returns = val_trade_df.groupby('DateTime').apply(\n",
      "C:\\Users\\jopbr\\AppData\\Local\\Temp\\ipykernel_17544\\3461239018.py:183: DeprecationWarning: DataFrameGroupBy.apply operated on the grouping columns. This behavior is deprecated, and in a future version of pandas the grouping columns will be excluded from the operation. Either pass `include_groups=False` to exclude the groupings or explicitly select the grouping columns after groupby to silence this warning.\n",
      "  val_returns = val_trade_df.groupby('DateTime').apply(\n",
      "C:\\Users\\jopbr\\AppData\\Local\\Temp\\ipykernel_17544\\3461239018.py:183: DeprecationWarning: DataFrameGroupBy.apply operated on the grouping columns. This behavior is deprecated, and in a future version of pandas the grouping columns will be excluded from the operation. Either pass `include_groups=False` to exclude the groupings or explicitly select the grouping columns after groupby to silence this warning.\n",
      "  val_returns = val_trade_df.groupby('DateTime').apply(\n",
      "C:\\Users\\jopbr\\AppData\\Local\\Temp\\ipykernel_17544\\3461239018.py:209: DeprecationWarning: DataFrameGroupBy.apply operated on the grouping columns. This behavior is deprecated, and in a future version of pandas the grouping columns will be excluded from the operation. Either pass `include_groups=False` to exclude the groupings or explicitly select the grouping columns after groupby to silence this warning.\n",
      "  grouped_returns = test_trade_df.groupby('DateTime').apply(\n",
      "C:\\Users\\jopbr\\AppData\\Local\\Temp\\ipykernel_17544\\3461239018.py:183: DeprecationWarning: DataFrameGroupBy.apply operated on the grouping columns. This behavior is deprecated, and in a future version of pandas the grouping columns will be excluded from the operation. Either pass `include_groups=False` to exclude the groupings or explicitly select the grouping columns after groupby to silence this warning.\n",
      "  val_returns = val_trade_df.groupby('DateTime').apply(\n",
      "C:\\Users\\jopbr\\AppData\\Local\\Temp\\ipykernel_17544\\3461239018.py:183: DeprecationWarning: DataFrameGroupBy.apply operated on the grouping columns. This behavior is deprecated, and in a future version of pandas the grouping columns will be excluded from the operation. Either pass `include_groups=False` to exclude the groupings or explicitly select the grouping columns after groupby to silence this warning.\n",
      "  val_returns = val_trade_df.groupby('DateTime').apply(\n",
      "C:\\Users\\jopbr\\AppData\\Local\\Temp\\ipykernel_17544\\3461239018.py:183: DeprecationWarning: DataFrameGroupBy.apply operated on the grouping columns. This behavior is deprecated, and in a future version of pandas the grouping columns will be excluded from the operation. Either pass `include_groups=False` to exclude the groupings or explicitly select the grouping columns after groupby to silence this warning.\n",
      "  val_returns = val_trade_df.groupby('DateTime').apply(\n",
      "C:\\Users\\jopbr\\AppData\\Local\\Temp\\ipykernel_17544\\3461239018.py:209: DeprecationWarning: DataFrameGroupBy.apply operated on the grouping columns. This behavior is deprecated, and in a future version of pandas the grouping columns will be excluded from the operation. Either pass `include_groups=False` to exclude the groupings or explicitly select the grouping columns after groupby to silence this warning.\n",
      "  grouped_returns = test_trade_df.groupby('DateTime').apply(\n",
      "C:\\Users\\jopbr\\AppData\\Local\\Temp\\ipykernel_17544\\3461239018.py:183: DeprecationWarning: DataFrameGroupBy.apply operated on the grouping columns. This behavior is deprecated, and in a future version of pandas the grouping columns will be excluded from the operation. Either pass `include_groups=False` to exclude the groupings or explicitly select the grouping columns after groupby to silence this warning.\n",
      "  val_returns = val_trade_df.groupby('DateTime').apply(\n",
      "C:\\Users\\jopbr\\AppData\\Local\\Temp\\ipykernel_17544\\3461239018.py:183: DeprecationWarning: DataFrameGroupBy.apply operated on the grouping columns. This behavior is deprecated, and in a future version of pandas the grouping columns will be excluded from the operation. Either pass `include_groups=False` to exclude the groupings or explicitly select the grouping columns after groupby to silence this warning.\n",
      "  val_returns = val_trade_df.groupby('DateTime').apply(\n",
      "C:\\Users\\jopbr\\AppData\\Local\\Temp\\ipykernel_17544\\3461239018.py:183: DeprecationWarning: DataFrameGroupBy.apply operated on the grouping columns. This behavior is deprecated, and in a future version of pandas the grouping columns will be excluded from the operation. Either pass `include_groups=False` to exclude the groupings or explicitly select the grouping columns after groupby to silence this warning.\n",
      "  val_returns = val_trade_df.groupby('DateTime').apply(\n",
      "C:\\Users\\jopbr\\AppData\\Local\\Temp\\ipykernel_17544\\3461239018.py:209: DeprecationWarning: DataFrameGroupBy.apply operated on the grouping columns. This behavior is deprecated, and in a future version of pandas the grouping columns will be excluded from the operation. Either pass `include_groups=False` to exclude the groupings or explicitly select the grouping columns after groupby to silence this warning.\n",
      "  grouped_returns = test_trade_df.groupby('DateTime').apply(\n",
      "C:\\Users\\jopbr\\AppData\\Local\\Temp\\ipykernel_17544\\3461239018.py:183: DeprecationWarning: DataFrameGroupBy.apply operated on the grouping columns. This behavior is deprecated, and in a future version of pandas the grouping columns will be excluded from the operation. Either pass `include_groups=False` to exclude the groupings or explicitly select the grouping columns after groupby to silence this warning.\n",
      "  val_returns = val_trade_df.groupby('DateTime').apply(\n",
      "C:\\Users\\jopbr\\AppData\\Local\\Temp\\ipykernel_17544\\3461239018.py:183: DeprecationWarning: DataFrameGroupBy.apply operated on the grouping columns. This behavior is deprecated, and in a future version of pandas the grouping columns will be excluded from the operation. Either pass `include_groups=False` to exclude the groupings or explicitly select the grouping columns after groupby to silence this warning.\n",
      "  val_returns = val_trade_df.groupby('DateTime').apply(\n",
      "C:\\Users\\jopbr\\AppData\\Local\\Temp\\ipykernel_17544\\3461239018.py:183: DeprecationWarning: DataFrameGroupBy.apply operated on the grouping columns. This behavior is deprecated, and in a future version of pandas the grouping columns will be excluded from the operation. Either pass `include_groups=False` to exclude the groupings or explicitly select the grouping columns after groupby to silence this warning.\n",
      "  val_returns = val_trade_df.groupby('DateTime').apply(\n",
      "C:\\Users\\jopbr\\AppData\\Local\\Temp\\ipykernel_17544\\3461239018.py:209: DeprecationWarning: DataFrameGroupBy.apply operated on the grouping columns. This behavior is deprecated, and in a future version of pandas the grouping columns will be excluded from the operation. Either pass `include_groups=False` to exclude the groupings or explicitly select the grouping columns after groupby to silence this warning.\n",
      "  grouped_returns = test_trade_df.groupby('DateTime').apply(\n",
      "C:\\Users\\jopbr\\AppData\\Local\\Temp\\ipykernel_17544\\3461239018.py:183: DeprecationWarning: DataFrameGroupBy.apply operated on the grouping columns. This behavior is deprecated, and in a future version of pandas the grouping columns will be excluded from the operation. Either pass `include_groups=False` to exclude the groupings or explicitly select the grouping columns after groupby to silence this warning.\n",
      "  val_returns = val_trade_df.groupby('DateTime').apply(\n",
      "C:\\Users\\jopbr\\AppData\\Local\\Temp\\ipykernel_17544\\3461239018.py:183: DeprecationWarning: DataFrameGroupBy.apply operated on the grouping columns. This behavior is deprecated, and in a future version of pandas the grouping columns will be excluded from the operation. Either pass `include_groups=False` to exclude the groupings or explicitly select the grouping columns after groupby to silence this warning.\n",
      "  val_returns = val_trade_df.groupby('DateTime').apply(\n",
      "C:\\Users\\jopbr\\AppData\\Local\\Temp\\ipykernel_17544\\3461239018.py:183: DeprecationWarning: DataFrameGroupBy.apply operated on the grouping columns. This behavior is deprecated, and in a future version of pandas the grouping columns will be excluded from the operation. Either pass `include_groups=False` to exclude the groupings or explicitly select the grouping columns after groupby to silence this warning.\n",
      "  val_returns = val_trade_df.groupby('DateTime').apply(\n",
      "C:\\Users\\jopbr\\AppData\\Local\\Temp\\ipykernel_17544\\3461239018.py:209: DeprecationWarning: DataFrameGroupBy.apply operated on the grouping columns. This behavior is deprecated, and in a future version of pandas the grouping columns will be excluded from the operation. Either pass `include_groups=False` to exclude the groupings or explicitly select the grouping columns after groupby to silence this warning.\n",
      "  grouped_returns = test_trade_df.groupby('DateTime').apply(\n",
      "C:\\Users\\jopbr\\AppData\\Local\\Temp\\ipykernel_17544\\3461239018.py:183: DeprecationWarning: DataFrameGroupBy.apply operated on the grouping columns. This behavior is deprecated, and in a future version of pandas the grouping columns will be excluded from the operation. Either pass `include_groups=False` to exclude the groupings or explicitly select the grouping columns after groupby to silence this warning.\n",
      "  val_returns = val_trade_df.groupby('DateTime').apply(\n",
      "C:\\Users\\jopbr\\AppData\\Local\\Temp\\ipykernel_17544\\3461239018.py:183: DeprecationWarning: DataFrameGroupBy.apply operated on the grouping columns. This behavior is deprecated, and in a future version of pandas the grouping columns will be excluded from the operation. Either pass `include_groups=False` to exclude the groupings or explicitly select the grouping columns after groupby to silence this warning.\n",
      "  val_returns = val_trade_df.groupby('DateTime').apply(\n",
      "C:\\Users\\jopbr\\AppData\\Local\\Temp\\ipykernel_17544\\3461239018.py:183: DeprecationWarning: DataFrameGroupBy.apply operated on the grouping columns. This behavior is deprecated, and in a future version of pandas the grouping columns will be excluded from the operation. Either pass `include_groups=False` to exclude the groupings or explicitly select the grouping columns after groupby to silence this warning.\n",
      "  val_returns = val_trade_df.groupby('DateTime').apply(\n",
      "C:\\Users\\jopbr\\AppData\\Local\\Temp\\ipykernel_17544\\3461239018.py:209: DeprecationWarning: DataFrameGroupBy.apply operated on the grouping columns. This behavior is deprecated, and in a future version of pandas the grouping columns will be excluded from the operation. Either pass `include_groups=False` to exclude the groupings or explicitly select the grouping columns after groupby to silence this warning.\n",
      "  grouped_returns = test_trade_df.groupby('DateTime').apply(\n",
      "C:\\Users\\jopbr\\AppData\\Local\\Temp\\ipykernel_17544\\3461239018.py:183: DeprecationWarning: DataFrameGroupBy.apply operated on the grouping columns. This behavior is deprecated, and in a future version of pandas the grouping columns will be excluded from the operation. Either pass `include_groups=False` to exclude the groupings or explicitly select the grouping columns after groupby to silence this warning.\n",
      "  val_returns = val_trade_df.groupby('DateTime').apply(\n",
      "C:\\Users\\jopbr\\AppData\\Local\\Temp\\ipykernel_17544\\3461239018.py:183: DeprecationWarning: DataFrameGroupBy.apply operated on the grouping columns. This behavior is deprecated, and in a future version of pandas the grouping columns will be excluded from the operation. Either pass `include_groups=False` to exclude the groupings or explicitly select the grouping columns after groupby to silence this warning.\n",
      "  val_returns = val_trade_df.groupby('DateTime').apply(\n",
      "C:\\Users\\jopbr\\AppData\\Local\\Temp\\ipykernel_17544\\3461239018.py:183: DeprecationWarning: DataFrameGroupBy.apply operated on the grouping columns. This behavior is deprecated, and in a future version of pandas the grouping columns will be excluded from the operation. Either pass `include_groups=False` to exclude the groupings or explicitly select the grouping columns after groupby to silence this warning.\n",
      "  val_returns = val_trade_df.groupby('DateTime').apply(\n",
      "C:\\Users\\jopbr\\AppData\\Local\\Temp\\ipykernel_17544\\3461239018.py:209: DeprecationWarning: DataFrameGroupBy.apply operated on the grouping columns. This behavior is deprecated, and in a future version of pandas the grouping columns will be excluded from the operation. Either pass `include_groups=False` to exclude the groupings or explicitly select the grouping columns after groupby to silence this warning.\n",
      "  grouped_returns = test_trade_df.groupby('DateTime').apply(\n",
      "C:\\Users\\jopbr\\AppData\\Local\\Temp\\ipykernel_17544\\3461239018.py:183: DeprecationWarning: DataFrameGroupBy.apply operated on the grouping columns. This behavior is deprecated, and in a future version of pandas the grouping columns will be excluded from the operation. Either pass `include_groups=False` to exclude the groupings or explicitly select the grouping columns after groupby to silence this warning.\n",
      "  val_returns = val_trade_df.groupby('DateTime').apply(\n",
      "C:\\Users\\jopbr\\AppData\\Local\\Temp\\ipykernel_17544\\3461239018.py:183: DeprecationWarning: DataFrameGroupBy.apply operated on the grouping columns. This behavior is deprecated, and in a future version of pandas the grouping columns will be excluded from the operation. Either pass `include_groups=False` to exclude the groupings or explicitly select the grouping columns after groupby to silence this warning.\n",
      "  val_returns = val_trade_df.groupby('DateTime').apply(\n",
      "C:\\Users\\jopbr\\AppData\\Local\\Temp\\ipykernel_17544\\3461239018.py:183: DeprecationWarning: DataFrameGroupBy.apply operated on the grouping columns. This behavior is deprecated, and in a future version of pandas the grouping columns will be excluded from the operation. Either pass `include_groups=False` to exclude the groupings or explicitly select the grouping columns after groupby to silence this warning.\n",
      "  val_returns = val_trade_df.groupby('DateTime').apply(\n",
      "C:\\Users\\jopbr\\AppData\\Local\\Temp\\ipykernel_17544\\3461239018.py:209: DeprecationWarning: DataFrameGroupBy.apply operated on the grouping columns. This behavior is deprecated, and in a future version of pandas the grouping columns will be excluded from the operation. Either pass `include_groups=False` to exclude the groupings or explicitly select the grouping columns after groupby to silence this warning.\n",
      "  grouped_returns = test_trade_df.groupby('DateTime').apply(\n",
      "C:\\Users\\jopbr\\AppData\\Local\\Temp\\ipykernel_17544\\3461239018.py:183: DeprecationWarning: DataFrameGroupBy.apply operated on the grouping columns. This behavior is deprecated, and in a future version of pandas the grouping columns will be excluded from the operation. Either pass `include_groups=False` to exclude the groupings or explicitly select the grouping columns after groupby to silence this warning.\n",
      "  val_returns = val_trade_df.groupby('DateTime').apply(\n",
      "C:\\Users\\jopbr\\AppData\\Local\\Temp\\ipykernel_17544\\3461239018.py:183: DeprecationWarning: DataFrameGroupBy.apply operated on the grouping columns. This behavior is deprecated, and in a future version of pandas the grouping columns will be excluded from the operation. Either pass `include_groups=False` to exclude the groupings or explicitly select the grouping columns after groupby to silence this warning.\n",
      "  val_returns = val_trade_df.groupby('DateTime').apply(\n",
      "C:\\Users\\jopbr\\AppData\\Local\\Temp\\ipykernel_17544\\3461239018.py:183: DeprecationWarning: DataFrameGroupBy.apply operated on the grouping columns. This behavior is deprecated, and in a future version of pandas the grouping columns will be excluded from the operation. Either pass `include_groups=False` to exclude the groupings or explicitly select the grouping columns after groupby to silence this warning.\n",
      "  val_returns = val_trade_df.groupby('DateTime').apply(\n",
      "C:\\Users\\jopbr\\AppData\\Local\\Temp\\ipykernel_17544\\3461239018.py:209: DeprecationWarning: DataFrameGroupBy.apply operated on the grouping columns. This behavior is deprecated, and in a future version of pandas the grouping columns will be excluded from the operation. Either pass `include_groups=False` to exclude the groupings or explicitly select the grouping columns after groupby to silence this warning.\n",
      "  grouped_returns = test_trade_df.groupby('DateTime').apply(\n",
      "C:\\Users\\jopbr\\AppData\\Local\\Temp\\ipykernel_17544\\3461239018.py:183: DeprecationWarning: DataFrameGroupBy.apply operated on the grouping columns. This behavior is deprecated, and in a future version of pandas the grouping columns will be excluded from the operation. Either pass `include_groups=False` to exclude the groupings or explicitly select the grouping columns after groupby to silence this warning.\n",
      "  val_returns = val_trade_df.groupby('DateTime').apply(\n",
      "C:\\Users\\jopbr\\AppData\\Local\\Temp\\ipykernel_17544\\3461239018.py:183: DeprecationWarning: DataFrameGroupBy.apply operated on the grouping columns. This behavior is deprecated, and in a future version of pandas the grouping columns will be excluded from the operation. Either pass `include_groups=False` to exclude the groupings or explicitly select the grouping columns after groupby to silence this warning.\n",
      "  val_returns = val_trade_df.groupby('DateTime').apply(\n",
      "C:\\Users\\jopbr\\AppData\\Local\\Temp\\ipykernel_17544\\3461239018.py:183: DeprecationWarning: DataFrameGroupBy.apply operated on the grouping columns. This behavior is deprecated, and in a future version of pandas the grouping columns will be excluded from the operation. Either pass `include_groups=False` to exclude the groupings or explicitly select the grouping columns after groupby to silence this warning.\n",
      "  val_returns = val_trade_df.groupby('DateTime').apply(\n",
      "C:\\Users\\jopbr\\AppData\\Local\\Temp\\ipykernel_17544\\3461239018.py:209: DeprecationWarning: DataFrameGroupBy.apply operated on the grouping columns. This behavior is deprecated, and in a future version of pandas the grouping columns will be excluded from the operation. Either pass `include_groups=False` to exclude the groupings or explicitly select the grouping columns after groupby to silence this warning.\n",
      "  grouped_returns = test_trade_df.groupby('DateTime').apply(\n",
      "C:\\Users\\jopbr\\AppData\\Local\\Temp\\ipykernel_17544\\3461239018.py:183: DeprecationWarning: DataFrameGroupBy.apply operated on the grouping columns. This behavior is deprecated, and in a future version of pandas the grouping columns will be excluded from the operation. Either pass `include_groups=False` to exclude the groupings or explicitly select the grouping columns after groupby to silence this warning.\n",
      "  val_returns = val_trade_df.groupby('DateTime').apply(\n",
      "C:\\Users\\jopbr\\AppData\\Local\\Temp\\ipykernel_17544\\3461239018.py:183: DeprecationWarning: DataFrameGroupBy.apply operated on the grouping columns. This behavior is deprecated, and in a future version of pandas the grouping columns will be excluded from the operation. Either pass `include_groups=False` to exclude the groupings or explicitly select the grouping columns after groupby to silence this warning.\n",
      "  val_returns = val_trade_df.groupby('DateTime').apply(\n",
      "C:\\Users\\jopbr\\AppData\\Local\\Temp\\ipykernel_17544\\3461239018.py:183: DeprecationWarning: DataFrameGroupBy.apply operated on the grouping columns. This behavior is deprecated, and in a future version of pandas the grouping columns will be excluded from the operation. Either pass `include_groups=False` to exclude the groupings or explicitly select the grouping columns after groupby to silence this warning.\n",
      "  val_returns = val_trade_df.groupby('DateTime').apply(\n",
      "C:\\Users\\jopbr\\AppData\\Local\\Temp\\ipykernel_17544\\3461239018.py:209: DeprecationWarning: DataFrameGroupBy.apply operated on the grouping columns. This behavior is deprecated, and in a future version of pandas the grouping columns will be excluded from the operation. Either pass `include_groups=False` to exclude the groupings or explicitly select the grouping columns after groupby to silence this warning.\n",
      "  grouped_returns = test_trade_df.groupby('DateTime').apply(\n",
      "C:\\Users\\jopbr\\AppData\\Local\\Temp\\ipykernel_17544\\3461239018.py:183: DeprecationWarning: DataFrameGroupBy.apply operated on the grouping columns. This behavior is deprecated, and in a future version of pandas the grouping columns will be excluded from the operation. Either pass `include_groups=False` to exclude the groupings or explicitly select the grouping columns after groupby to silence this warning.\n",
      "  val_returns = val_trade_df.groupby('DateTime').apply(\n",
      "C:\\Users\\jopbr\\AppData\\Local\\Temp\\ipykernel_17544\\3461239018.py:183: DeprecationWarning: DataFrameGroupBy.apply operated on the grouping columns. This behavior is deprecated, and in a future version of pandas the grouping columns will be excluded from the operation. Either pass `include_groups=False` to exclude the groupings or explicitly select the grouping columns after groupby to silence this warning.\n",
      "  val_returns = val_trade_df.groupby('DateTime').apply(\n",
      "C:\\Users\\jopbr\\AppData\\Local\\Temp\\ipykernel_17544\\3461239018.py:183: DeprecationWarning: DataFrameGroupBy.apply operated on the grouping columns. This behavior is deprecated, and in a future version of pandas the grouping columns will be excluded from the operation. Either pass `include_groups=False` to exclude the groupings or explicitly select the grouping columns after groupby to silence this warning.\n",
      "  val_returns = val_trade_df.groupby('DateTime').apply(\n",
      "C:\\Users\\jopbr\\AppData\\Local\\Temp\\ipykernel_17544\\3461239018.py:209: DeprecationWarning: DataFrameGroupBy.apply operated on the grouping columns. This behavior is deprecated, and in a future version of pandas the grouping columns will be excluded from the operation. Either pass `include_groups=False` to exclude the groupings or explicitly select the grouping columns after groupby to silence this warning.\n",
      "  grouped_returns = test_trade_df.groupby('DateTime').apply(\n",
      "C:\\Users\\jopbr\\AppData\\Local\\Temp\\ipykernel_17544\\3461239018.py:183: DeprecationWarning: DataFrameGroupBy.apply operated on the grouping columns. This behavior is deprecated, and in a future version of pandas the grouping columns will be excluded from the operation. Either pass `include_groups=False` to exclude the groupings or explicitly select the grouping columns after groupby to silence this warning.\n",
      "  val_returns = val_trade_df.groupby('DateTime').apply(\n",
      "C:\\Users\\jopbr\\AppData\\Local\\Temp\\ipykernel_17544\\3461239018.py:183: DeprecationWarning: DataFrameGroupBy.apply operated on the grouping columns. This behavior is deprecated, and in a future version of pandas the grouping columns will be excluded from the operation. Either pass `include_groups=False` to exclude the groupings or explicitly select the grouping columns after groupby to silence this warning.\n",
      "  val_returns = val_trade_df.groupby('DateTime').apply(\n",
      "C:\\Users\\jopbr\\AppData\\Local\\Temp\\ipykernel_17544\\3461239018.py:183: DeprecationWarning: DataFrameGroupBy.apply operated on the grouping columns. This behavior is deprecated, and in a future version of pandas the grouping columns will be excluded from the operation. Either pass `include_groups=False` to exclude the groupings or explicitly select the grouping columns after groupby to silence this warning.\n",
      "  val_returns = val_trade_df.groupby('DateTime').apply(\n",
      "C:\\Users\\jopbr\\AppData\\Local\\Temp\\ipykernel_17544\\3461239018.py:209: DeprecationWarning: DataFrameGroupBy.apply operated on the grouping columns. This behavior is deprecated, and in a future version of pandas the grouping columns will be excluded from the operation. Either pass `include_groups=False` to exclude the groupings or explicitly select the grouping columns after groupby to silence this warning.\n",
      "  grouped_returns = test_trade_df.groupby('DateTime').apply(\n",
      "C:\\Users\\jopbr\\AppData\\Local\\Temp\\ipykernel_17544\\3461239018.py:183: DeprecationWarning: DataFrameGroupBy.apply operated on the grouping columns. This behavior is deprecated, and in a future version of pandas the grouping columns will be excluded from the operation. Either pass `include_groups=False` to exclude the groupings or explicitly select the grouping columns after groupby to silence this warning.\n",
      "  val_returns = val_trade_df.groupby('DateTime').apply(\n",
      "C:\\Users\\jopbr\\AppData\\Local\\Temp\\ipykernel_17544\\3461239018.py:183: DeprecationWarning: DataFrameGroupBy.apply operated on the grouping columns. This behavior is deprecated, and in a future version of pandas the grouping columns will be excluded from the operation. Either pass `include_groups=False` to exclude the groupings or explicitly select the grouping columns after groupby to silence this warning.\n",
      "  val_returns = val_trade_df.groupby('DateTime').apply(\n",
      "C:\\Users\\jopbr\\AppData\\Local\\Temp\\ipykernel_17544\\3461239018.py:183: DeprecationWarning: DataFrameGroupBy.apply operated on the grouping columns. This behavior is deprecated, and in a future version of pandas the grouping columns will be excluded from the operation. Either pass `include_groups=False` to exclude the groupings or explicitly select the grouping columns after groupby to silence this warning.\n",
      "  val_returns = val_trade_df.groupby('DateTime').apply(\n",
      "C:\\Users\\jopbr\\AppData\\Local\\Temp\\ipykernel_17544\\3461239018.py:209: DeprecationWarning: DataFrameGroupBy.apply operated on the grouping columns. This behavior is deprecated, and in a future version of pandas the grouping columns will be excluded from the operation. Either pass `include_groups=False` to exclude the groupings or explicitly select the grouping columns after groupby to silence this warning.\n",
      "  grouped_returns = test_trade_df.groupby('DateTime').apply(\n"
     ]
    },
    {
     "data": {
      "image/png": "[encoded data removed]",
      "text/plain": [
       "<Figure size 1200x600 with 1 Axes>"
      ]
     },
     "metadata": {},
     "output_type": "display_data"
    },
    {
     "name": "stdout",
     "output_type": "stream",
     "text": [
      "Final Cumulative Compounded Return: 1045.95%\n",
      "\n",
      "Overall Test Accuracy : 52.58%\n",
      "Overall Precision     : 39.93%\n",
      "Overall Recall        : 36.90%\n",
      "Overall F1 Score      : 36.36%\n",
      "Overall ROC AUC       : 58.77%\n",
      "\n",
      "Average Fold Test Return : 0.03515%\n",
      "\n",
      "Standard Deviation of All Test Returns (Aggregated Daily): 0.23899%\n",
      "\n",
      "Minimum Return (Aggregated Daily): -0.86359%\n",
      "\n",
      "Optimal Horizon Counts:\n",
      "(40 min)    7\n",
      "(10 min)    5\n",
      "(20 min)    5\n",
      "Name: count, dtype: int64\n",
      "\n",
      "Test Set Position Counts:\n",
      "Neutral (0): 56\n",
      "Long (1): 9768\n",
      "Short (2): 7424\n"
     ]
    }
   ],
   "source": [
    "import os\n",
    "os.environ['OMP_NUM_THREADS'] = '1'\n",
    "os.environ['OPENBLAS_NUM_THREADS'] = '1'\n",
    "os.environ['MKL_NUM_THREADS'] = '1'\n",
    "os.environ['VECLIB_MAXIMUM_THREADS'] = '1'\n",
    "os.environ['NUMEXPR_NUM_THREADS'] = '1'\n",
    "os.environ['PYTHONHASHSEED'] = '0'\n",
    "\n",
    "import xgboost as xgb\n",
    "import matplotlib.pyplot as plt\n",
    "from sklearn.preprocessing import StandardScaler\n",
    "from sklearn.metrics import (\n",
    "    accuracy_score,\n",
    "    f1_score,\n",
    "    roc_auc_score,\n",
    "    precision_score,\n",
    "    recall_score\n",
    ")\n",
    "import numpy as np\n",
    "import pandas as pd\n",
    "import random\n",
    "\n",
    "# transaction costs\n",
    "transaction_cost = 0.000000\n",
    "# feature_cols = all columns except 'DateTime' and the last 6 columns and also print out feature_cols and number of features\n",
    "feature_cols = df_ml.columns[:-6].tolist()\n",
    "feature_cols.remove('DateTime')\n",
    "print(\"Feature Columns:\", feature_cols)\n",
    "print(\"Number of Features:\", len(feature_cols))\n",
    "\n",
    "\n",
    "# --- Configuration ---\n",
    "total_cost = 2 * transaction_cost\n",
    "horizons = [' (20 min)', ' (10 min)', ' (40 min)']\n",
    "\n",
    "# --- Data Prep ---\n",
    "df_ml = df_ml.dropna(subset=['Surprise']).sort_values('DateTime')\n",
    "min_date = df_ml['DateTime'].min()\n",
    "max_date = df_ml['DateTime'].max()\n",
    "\n",
    "# --- Calculate Initial 30% Training Period ---\n",
    "total_duration = max_date - min_date\n",
    "initial_train_duration = total_duration * 0.3\n",
    "train_end_date = min_date + initial_train_duration\n",
    "\n",
    "# --- Tracking containers ---\n",
    "results = []\n",
    "all_test_returns = []\n",
    "all_dates = []\n",
    "all_test_preds = []\n",
    "all_test_truths = []\n",
    "all_test_probas = []\n",
    "fold_mean_returns = []\n",
    "best_horizons_list = []\n",
    "\n",
    "def calculate_grouped_returns(df_group, horizon, stop_loss=None):\n",
    "    \"\"\"Calculate returns with position sizing and stop loss\"\"\"\n",
    "    active_trades = df_group[df_group['pred'] != 0]\n",
    "    if active_trades.empty:\n",
    "        return 0.0\n",
    "\n",
    "    longs = active_trades[active_trades['pred'] == 1]\n",
    "    shorts = active_trades[active_trades['pred'] == 2]\n",
    "\n",
    "    total_confidence = longs['proba'].sum() + shorts['proba'].sum()\n",
    "    if total_confidence == 0:\n",
    "        return 0.0\n",
    "\n",
    "    num_trades = len(longs) + len(shorts)\n",
    "    total_costs = total_cost * num_trades\n",
    "\n",
    "    long_returns = 0.0\n",
    "    short_returns = 0.0\n",
    "\n",
    "    # Process longs\n",
    "    if not longs.empty:\n",
    "        long_weights = longs['proba'] / total_confidence\n",
    "        for idx, row in longs.iterrows():\n",
    "            raw_return = row[f'Forward Return{horizon}']\n",
    "            capped_raw = max(stop_loss, raw_return) if stop_loss is not None else raw_return\n",
    "            long_returns += capped_raw * long_weights.loc[idx]\n",
    "\n",
    "    # Process shorts\n",
    "    if not shorts.empty:\n",
    "        short_weights = shorts['proba'] / total_confidence\n",
    "        for idx, row in shorts.iterrows():\n",
    "            raw_return = -row[f'Forward Return{horizon}']\n",
    "            capped_raw = max(stop_loss, raw_return) if stop_loss is not None else raw_return\n",
    "            short_returns += capped_raw * short_weights.loc[idx]\n",
    "\n",
    "    net_return = (long_returns + short_returns) - total_costs\n",
    "    return net_return\n",
    "\n",
    "# --- Main Loop ---\n",
    "while True:\n",
    "    val_start_date = train_end_date + pd.DateOffset(days=1)\n",
    "    val_end_date = val_start_date + pd.DateOffset(years=1)\n",
    "    test_start_date = val_end_date + pd.DateOffset(days=1)\n",
    "    test_end_date = test_start_date + pd.DateOffset(years=1)\n",
    "\n",
    "    if val_end_date > max_date or test_end_date > max_date:\n",
    "        break\n",
    "\n",
    "    train_mask = df_ml['DateTime'] <= train_end_date\n",
    "    val_mask = (df_ml['DateTime'] >= val_start_date) & (df_ml['DateTime'] <= val_end_date)\n",
    "    test_mask = (df_ml['DateTime'] >= test_start_date) & (df_ml['DateTime'] <= test_end_date)\n",
    "\n",
    "    train_data = df_ml[train_mask]\n",
    "    val_data = df_ml[val_mask]\n",
    "    test_data = df_ml[test_mask]\n",
    "\n",
    "    if val_data.empty or test_data.empty:\n",
    "        print(f\"Skipping period {val_start_date.date()} to {test_end_date.date()} (no data)\")\n",
    "        train_end_date += pd.DateOffset(years=1)\n",
    "        continue\n",
    "\n",
    "    # --- Horizon Optimization ---\n",
    "    best_horizon, best_model, best_stop_loss = None, None, None\n",
    "    best_val_return = -np.inf\n",
    "\n",
    "    for horizon in horizons:\n",
    "        # Feature scaling\n",
    "        scaler = StandardScaler()\n",
    "        X_train = scaler.fit_transform(train_data[feature_cols])\n",
    "        X_val = scaler.transform(val_data[feature_cols])\n",
    "        y_train = train_data[f'Target Signal{horizon}']\n",
    "        y_val = val_data[f'Target Signal{horizon}']\n",
    "\n",
    "        # Train model\n",
    "        model = xgb.XGBClassifier(\n",
    "            num_class=3,\n",
    "            n_estimators=60,\n",
    "            max_depth=7,\n",
    "            random_state=42,\n",
    "            seed=42\n",
    "        )\n",
    "        model.fit(X_train, y_train, eval_set=[(X_val, y_val)], verbose=False)\n",
    "\n",
    "        # Calculate training stop loss\n",
    "        train_preds = model.predict(X_train)\n",
    "        train_trade_df = pd.DataFrame({\n",
    "            'DateTime': train_data['DateTime'],\n",
    "            'pred': train_preds,\n",
    "            'proba': [p[pred] for pred, p in zip(train_preds, model.predict_proba(X_train))],\n",
    "            f'Forward Return{horizon}': train_data[f'Forward Return{horizon}']\n",
    "        })\n",
    "\n",
    "        individual_train_returns = []\n",
    "        for _, row in train_trade_df.iterrows():\n",
    "            if row['pred'] == 1:\n",
    "                raw = row[f'Forward Return{horizon}']\n",
    "            elif row['pred'] == 2:\n",
    "                raw = -row[f'Forward Return{horizon}']\n",
    "            else:\n",
    "                continue\n",
    "            individual_train_returns.append(raw)\n",
    "\n",
    "        stop_loss_train = np.percentile(individual_train_returns, 5) if individual_train_returns else None\n",
    "\n",
    "        # Calculate validation stop loss (for test set)\n",
    "        val_preds = model.predict(X_val)\n",
    "        val_probas = model.predict_proba(X_val)\n",
    "        val_trade_df = pd.DataFrame({\n",
    "            'DateTime': val_data['DateTime'],\n",
    "            'pred': val_preds,\n",
    "            'proba': [p[pred] for pred, p in zip(val_preds, val_probas)],\n",
    "            f'Forward Return{horizon}': val_data[f'Forward Return{horizon}']\n",
    "        })\n",
    "\n",
    "        individual_val_returns = []\n",
    "        for _, row in val_trade_df.iterrows():\n",
    "            if row['pred'] == 1:\n",
    "                raw = row[f'Forward Return{horizon}']\n",
    "            elif row['pred'] == 2:\n",
    "                raw = -row[f'Forward Return{horizon}']\n",
    "            else:\n",
    "                continue\n",
    "            individual_val_returns.append(raw)\n",
    "\n",
    "        stop_loss_val = np.percentile(individual_val_returns, 5) if individual_val_returns else None\n",
    "\n",
    "        # Validate using TRAINING stop loss\n",
    "        val_returns = val_trade_df.groupby('DateTime').apply(\n",
    "            lambda x: calculate_grouped_returns(x, horizon, stop_loss_train)\n",
    "        ).values\n",
    "\n",
    "        total_val_return = (1 + val_returns).prod() - 1\n",
    "\n",
    "        if total_val_return > best_val_return:\n",
    "            best_val_return = total_val_return\n",
    "            best_horizon = horizon\n",
    "            best_model = model\n",
    "            best_stop_loss = stop_loss_val  # Save validation stop loss for test\n",
    "\n",
    "    # --- Test Best Model ---\n",
    "    if best_model and best_stop_loss is not None:\n",
    "        X_test = scaler.transform(test_data[feature_cols])\n",
    "        test_preds = best_model.predict(X_test)\n",
    "        test_probas = best_model.predict_proba(X_test)\n",
    "        y_test = test_data[f'Target Signal{best_horizon}'].values\n",
    "\n",
    "        test_trade_df = pd.DataFrame({\n",
    "            'DateTime': test_data['DateTime'],\n",
    "            'pred': test_preds,\n",
    "            'proba': [p[pred] for pred, p in zip(test_preds, test_probas)],\n",
    "            f'Forward Return{best_horizon}': test_data[f'Forward Return{best_horizon}']\n",
    "        })\n",
    "\n",
    "        grouped_returns = test_trade_df.groupby('DateTime').apply(\n",
    "            lambda x: calculate_grouped_returns(x, best_horizon, best_stop_loss)\n",
    "        ).values\n",
    "\n",
    "        all_test_returns.extend(grouped_returns)\n",
    "        all_dates.extend(test_trade_df['DateTime'].unique().tolist())\n",
    "        all_test_preds.extend(test_preds)\n",
    "        all_test_truths.extend(y_test)\n",
    "        all_test_probas.append(test_probas)\n",
    "        fold_mean_returns.append(np.mean(grouped_returns))\n",
    "        best_horizons_list.append(best_horizon or 'standard')\n",
    "\n",
    "    train_end_date += pd.DateOffset(years=1)\n",
    "\n",
    "# --- Results ---\n",
    "if all_test_returns:\n",
    "    cumulative_returns = (1 + np.array(all_test_returns)).cumprod() - 1\n",
    "    std_dev_individual = np.std(all_test_returns) * 100\n",
    "    min_return = np.nanmin(all_test_returns) * 100 if all_test_returns else 0.0\n",
    "\n",
    "    plt.figure(figsize=(12, 6))\n",
    "    plt.plot(all_dates, cumulative_returns * 100)\n",
    "    plt.title('Cumulative Returns (DateTime-Based Rolling Windows)')\n",
    "    plt.xlabel('Date')\n",
    "    plt.ylabel('Cumulative Return (%)')\n",
    "    plt.grid(True)\n",
    "    plt.show()\n",
    "\n",
    "    print(f\"Final Cumulative Compounded Return: {cumulative_returns[-1]*100:.2f}%\")\n",
    "    print(f\"\\nOverall Test Accuracy : {accuracy_score(all_test_truths, all_test_preds)*100:.2f}%\")\n",
    "    print(f\"Overall Precision     : {precision_score(all_test_truths, all_test_preds, average='macro', zero_division=0)*100:.2f}%\")\n",
    "    print(f\"Overall Recall        : {recall_score(all_test_truths, all_test_preds, average='macro', zero_division=0)*100:.2f}%\")\n",
    "    print(f\"Overall F1 Score      : {f1_score(all_test_truths, all_test_preds, average='macro', zero_division=0)*100:.2f}%\")\n",
    "    print(f\"Overall ROC AUC       : {roc_auc_score(all_test_truths, np.vstack(all_test_probas), multi_class='ovo', average='macro')*100:.2f}%\")\n",
    "    print(f\"\\nAverage Fold Test Return : {np.mean(fold_mean_returns)*100:.5f}%\")\n",
    "    print(f\"\\nStandard Deviation of All Test Returns (Aggregated Daily): {std_dev_individual:.5f}%\")\n",
    "    print(f\"\\nMinimum Return (Aggregated Daily): {min_return:.5f}%\")\n",
    "    print(\"\\nOptimal Horizon Counts:\")\n",
    "    print(pd.Series(best_horizons_list).value_counts())\n",
    "    print(\"\\nTest Set Position Counts:\")\n",
    "    counts = pd.Series(all_test_preds).value_counts().sort_index()\n",
    "    print(f\"Neutral (0): {counts.get(0, 0)}\")\n",
    "    print(f\"Long (1): {counts.get(1, 0)}\")\n",
    "    print(f\"Short (2): {counts.get(2, 0)}\")\n",
    "\n",
    "else:\n",
    "    print(\"No valid test periods found\")"
   ]
  },
  {
   "cell_type": "code",
   "execution_count": 8,
   "id": "6cc9ce59",
   "metadata": {},
   "outputs": [
    {
     "name": "stdout",
     "output_type": "stream",
     "text": [
      "\n",
      "Confusion Matrix:\n",
      "                    Pred Neutral (0)  Pred Long (1)  Pred Short (2)\n",
      "Actual Neutral (0)                 8            384             328\n",
      "Actual Long (1)                   24           5121            3156\n",
      "Actual Short (2)                  24           4263            3940\n",
      "\n",
      "Classification Report:\n",
      "              precision    recall  f1-score   support\n",
      "\n",
      " Neutral (0)       0.14      0.01      0.02       720\n",
      "    Long (1)       0.52      0.62      0.57      8301\n",
      "   Short (2)       0.53      0.48      0.50      8227\n",
      "\n",
      "    accuracy                           0.53     17248\n",
      "   macro avg       0.40      0.37      0.36     17248\n",
      "weighted avg       0.51      0.53      0.51     17248\n",
      "\n"
     ]
    }
   ],
   "source": [
    "# XGB confusion matrix\n",
    "from sklearn.metrics import confusion_matrix, classification_report\n",
    "\n",
    "# Add this after your existing print statements\n",
    "print(\"\\nConfusion Matrix:\")\n",
    "cm = confusion_matrix(all_test_truths, all_test_preds)\n",
    "cm_df = pd.DataFrame(cm,\n",
    "                    index=['Actual Neutral (0)', 'Actual Long (1)', 'Actual Short (2)'],\n",
    "                    columns=['Pred Neutral (0)', 'Pred Long (1)', 'Pred Short (2)'])\n",
    "print(cm_df)\n",
    "\n",
    "print(\"\\nClassification Report:\")\n",
    "print(classification_report(all_test_truths, all_test_preds,\n",
    "                           target_names=['Neutral (0)', 'Long (1)', 'Short (2)']))"
   ]
  },
  {
   "cell_type": "markdown",
   "id": "c0cdc906",
   "metadata": {},
   "source": [
    "Random Forest USA - Excluding Transaction Cost"
   ]
  },
  {
   "cell_type": "code",
   "execution_count": 9,
   "id": "1420240f",
   "metadata": {},
   "outputs": [
    {
     "name": "stdout",
     "output_type": "stream",
     "text": [
      "Feature Columns: ['ACNFCOMF Index_Surprise', 'ADP CHNG Index_Surprise', 'AHE MOM% Index_Surprise', 'AHE YOY% Index_Surprise', 'AMSPPACE Index_Surprise', 'AWH TOTL Index_Surprise', 'CFNAI Index_Surprise', 'CGNOXAI% Index_Surprise', 'CGSHXAI% Index_Surprise', 'CHPMINDX Index_Surprise', 'CICRTOT Index_Surprise', 'CNSTTMOM Index_Surprise', 'COMFCOMF Index_Surprise', 'CONCCONF Index_Surprise', 'CONSCURR Index_Surprise', 'CONSEXP Index_Surprise', 'CONSP5MD Index_Surprise', 'CONSPXMD Index_Surprise', 'CONSSENT Index_Surprise', 'COSTNFR% Index_Surprise', 'CPI CHNG Index_Surprise', 'CPI XYOY Index_Surprise', 'CPI YOY Index_Surprise', 'CPTICHNG Index_Surprise', 'CPUPAXFE Index_Surprise', 'CPUPXCHG Index_Surprise', 'CPURNSA Index_Surprise', 'DFEDGBA Index_Surprise', 'DGNOCHNG Index_Surprise', 'DGNOXTCH Index_Surprise', 'DOTDLTMD Index_Surprise', 'DOTDY0MD Index_Surprise', 'DOTDY1MD Index_Surprise', 'DOTDY2MD Index_Surprise', 'DSERGBCC Index_Surprise', 'ECI SA% Index_Surprise', 'ECONUSIB Index_Surprise', 'EHSLSL Index_Surprise', 'EMPRGBCI Index_Surprise', 'ETSLMOM Index_Surprise', 'ETSLTOTL Index_Surprise', 'EXP1CMOM Index_Surprise', 'EXP1CYOY Index_Surprise', 'FDDSSD Index_Surprise', 'FDEBTY Index_Surprise', 'FDIDFDMO Index_Surprise', 'FDIDSGMO Index_Surprise', 'FDIDSGUM Index_Surprise', 'FDIUFDYO Index_Surprise', 'FDIUSGUY Index_Surprise', 'FDIUSGYO Index_Surprise', 'FDTR Index_Surprise', 'FDTRFTRL Index_Surprise', 'FRNTTNET Index_Surprise', 'FRNTTOTL Index_Surprise', 'GDP CQOQ Index_Surprise', 'GDP DCHG Index_Surprise', 'GDP PIQQ Index_Surprise', 'GDPCPCEC Index_Surprise', 'GDPCTOT% Index_Surprise', 'HPI PURQ Index_Surprise', 'HPI QOQ% Index_Surprise', 'HPIMMOM% Index_Surprise', 'IMP1CHNG Index_Surprise', 'IMP1XPM% Index_Surprise', 'IMP1YOY% Index_Surprise', 'INJCJC Index_Surprise', 'INJCSP Index_Surprise', 'IP CHNG Index_Surprise', 'IPMGCHNG Index_Surprise', 'IRRBIOER Index_Surprise', 'JOLTTOTL Index_Surprise', 'KCLSSACI Index_Surprise', 'LEI CHNG Index_Surprise', 'LHWANWPA Index_Surprise', 'LMCILMCC Index_Surprise', 'MAPMINDX Index_Surprise', 'MBAVCHNG Index_Surprise', 'MBRXYOY Index_Surprise', 'MBRXYOYW Index_Surprise', 'MPMIUSCA Index_Surprise', 'MPMIUSMA Index_Surprise', 'MPMIUSSA Index_Surprise', 'MTIBCHNG Index_Surprise', 'MWINCHNG Index_Surprise', 'MWSLCHNG Index_Surprise', 'NAPMEMPL Index_Surprise', 'NAPMNEMP Index_Surprise', 'NAPMNEWO Index_Surprise', 'NAPMNMAN Index_Surprise', 'NAPMNMI Index_Surprise', 'NAPMNNO Index_Surprise', 'NAPMNPRC Index_Surprise', 'NAPMPMI Index_Surprise', 'NAPMPRIC Index_Surprise', 'NFP CPYC Index_Surprise', 'NFP PCH Index_Surprise', 'NFP TCH Index_Surprise', 'NHCHATCH Index_Surprise', 'NHCHSTCH Index_Surprise', 'NHSLCHNG Index_Surprise', 'NHSLTOT Index_Surprise', 'NHSPATOT Index_Surprise', 'NHSPSTOT Index_Surprise', 'NYBLCNBA Index_Surprise', 'NYCNM1IR Index_Surprise', 'NYPMCURR Index_Surprise', 'OUTFGAF Index_Surprise', 'PCE CHNC Index_Surprise', 'PCE CMOM Index_Surprise', 'PCE CRCH Index_Surprise', 'PCE CYOY Index_Surprise', 'PCE DEFM Index_Surprise', 'PCE DEFY Index_Surprise', 'PHUCTOT Index_Surprise', 'PITLCHNG Index_Surprise', 'PNMARADI Index_Surprise', 'PPI CHNG Index_Surprise', 'PPI XYOY Index_Surprise', 'PPI YOY Index_Surprise', 'PRODNFR% Index_Surprise', 'PRUSTOT Index_Surprise', 'PXFECHNG Index_Surprise', 'RCHSINDX Index_Surprise', 'REALRAWE Index_Surprise', 'REALYRAE Index_Surprise', 'RSRSTMOM Index_Surprise', 'RSTAMOM Index_Surprise', 'RSTAXAG% Index_Surprise', 'RSTAXAGM Index_Surprise', 'RSTAXMOM Index_Surprise', 'RTSDCHNG Index_Surprise', 'RTSDXCHG Index_Surprise', 'SAARDTOT Index_Surprise', 'SAARTOTL Index_Surprise', 'SBOITOTL Index_Surprise', 'SPCS20 Index_Surprise', 'SPCS20SM Index_Surprise', 'SPCS20Y% Index_Surprise', 'SPCSUSA Index_Surprise', 'SPCSUSAY Index_Surprise', 'SPCSUSQS Index_Surprise', 'TMNOCHNG Index_Surprise', 'TMNOXTM% Index_Surprise', 'TREFAMSP Index_Surprise', 'TREFPACE Index_Surprise', 'USCABAL Index_Surprise', 'USEMNCHG Index_Surprise', 'USHBMIDX Index_Surprise', 'USHETOT% Index_Surprise', 'USHEYOY Index_Surprise', 'USMMMNCH Index_Surprise', 'USPHTMOM Index_Surprise', 'USPHTYOY Index_Surprise', 'USTBTOT Index_Surprise', 'USTGTTCB Index_Surprise', 'USUDMAER Index_Surprise', 'USURTOT Index_Surprise', 'USWHMANS Index_Surprise', 'USWHTOT Index_Surprise', 'VNCCCMOM Index_Surprise', 'SMA5', 'SMA10', 'SMA15', 'SMA20', 'SMA50', 'SMA100', 'SMA200', 'SMA5Cross', 'SMA10Cross', 'SMA15Cross', 'SMA20Cross', 'SMA50Cross', 'SMA100Cross', 'SMA200Cross', 'UpDown10', 'UpDown15', 'UpDown50', 'last_gdp_gr', 'last_vix', 'R', 'Volume_L1', 'Surprise', 'Std Dev']\n",
      "Number of Features: 184\n"
     ]
    },
    {
     "name": "stderr",
     "output_type": "stream",
     "text": [
      "C:\\Users\\jopbr\\AppData\\Local\\Temp\\ipykernel_17544\\1890306692.py:176: DeprecationWarning: DataFrameGroupBy.apply operated on the grouping columns. This behavior is deprecated, and in a future version of pandas the grouping columns will be excluded from the operation. Either pass `include_groups=False` to exclude the groupings or explicitly select the grouping columns after groupby to silence this warning.\n",
      "  val_returns = val_trade_df.groupby('DateTime').apply(\n",
      "C:\\Users\\jopbr\\AppData\\Local\\Temp\\ipykernel_17544\\1890306692.py:176: DeprecationWarning: DataFrameGroupBy.apply operated on the grouping columns. This behavior is deprecated, and in a future version of pandas the grouping columns will be excluded from the operation. Either pass `include_groups=False` to exclude the groupings or explicitly select the grouping columns after groupby to silence this warning.\n",
      "  val_returns = val_trade_df.groupby('DateTime').apply(\n",
      "C:\\Users\\jopbr\\AppData\\Local\\Temp\\ipykernel_17544\\1890306692.py:176: DeprecationWarning: DataFrameGroupBy.apply operated on the grouping columns. This behavior is deprecated, and in a future version of pandas the grouping columns will be excluded from the operation. Either pass `include_groups=False` to exclude the groupings or explicitly select the grouping columns after groupby to silence this warning.\n",
      "  val_returns = val_trade_df.groupby('DateTime').apply(\n",
      "C:\\Users\\jopbr\\AppData\\Local\\Temp\\ipykernel_17544\\1890306692.py:203: DeprecationWarning: DataFrameGroupBy.apply operated on the grouping columns. This behavior is deprecated, and in a future version of pandas the grouping columns will be excluded from the operation. Either pass `include_groups=False` to exclude the groupings or explicitly select the grouping columns after groupby to silence this warning.\n",
      "  grouped_returns = test_trade_df.groupby('DateTime').apply(\n",
      "C:\\Users\\jopbr\\AppData\\Local\\Temp\\ipykernel_17544\\1890306692.py:176: DeprecationWarning: DataFrameGroupBy.apply operated on the grouping columns. This behavior is deprecated, and in a future version of pandas the grouping columns will be excluded from the operation. Either pass `include_groups=False` to exclude the groupings or explicitly select the grouping columns after groupby to silence this warning.\n",
      "  val_returns = val_trade_df.groupby('DateTime').apply(\n",
      "C:\\Users\\jopbr\\AppData\\Local\\Temp\\ipykernel_17544\\1890306692.py:176: DeprecationWarning: DataFrameGroupBy.apply operated on the grouping columns. This behavior is deprecated, and in a future version of pandas the grouping columns will be excluded from the operation. Either pass `include_groups=False` to exclude the groupings or explicitly select the grouping columns after groupby to silence this warning.\n",
      "  val_returns = val_trade_df.groupby('DateTime').apply(\n",
      "C:\\Users\\jopbr\\AppData\\Local\\Temp\\ipykernel_17544\\1890306692.py:176: DeprecationWarning: DataFrameGroupBy.apply operated on the grouping columns. This behavior is deprecated, and in a future version of pandas the grouping columns will be excluded from the operation. Either pass `include_groups=False` to exclude the groupings or explicitly select the grouping columns after groupby to silence this warning.\n",
      "  val_returns = val_trade_df.groupby('DateTime').apply(\n",
      "C:\\Users\\jopbr\\AppData\\Local\\Temp\\ipykernel_17544\\1890306692.py:203: DeprecationWarning: DataFrameGroupBy.apply operated on the grouping columns. This behavior is deprecated, and in a future version of pandas the grouping columns will be excluded from the operation. Either pass `include_groups=False` to exclude the groupings or explicitly select the grouping columns after groupby to silence this warning.\n",
      "  grouped_returns = test_trade_df.groupby('DateTime').apply(\n",
      "C:\\Users\\jopbr\\AppData\\Local\\Temp\\ipykernel_17544\\1890306692.py:176: DeprecationWarning: DataFrameGroupBy.apply operated on the grouping columns. This behavior is deprecated, and in a future version of pandas the grouping columns will be excluded from the operation. Either pass `include_groups=False` to exclude the groupings or explicitly select the grouping columns after groupby to silence this warning.\n",
      "  val_returns = val_trade_df.groupby('DateTime').apply(\n",
      "C:\\Users\\jopbr\\AppData\\Local\\Temp\\ipykernel_17544\\1890306692.py:176: DeprecationWarning: DataFrameGroupBy.apply operated on the grouping columns. This behavior is deprecated, and in a future version of pandas the grouping columns will be excluded from the operation. Either pass `include_groups=False` to exclude the groupings or explicitly select the grouping columns after groupby to silence this warning.\n",
      "  val_returns = val_trade_df.groupby('DateTime').apply(\n",
      "C:\\Users\\jopbr\\AppData\\Local\\Temp\\ipykernel_17544\\1890306692.py:176: DeprecationWarning: DataFrameGroupBy.apply operated on the grouping columns. This behavior is deprecated, and in a future version of pandas the grouping columns will be excluded from the operation. Either pass `include_groups=False` to exclude the groupings or explicitly select the grouping columns after groupby to silence this warning.\n",
      "  val_returns = val_trade_df.groupby('DateTime').apply(\n",
      "C:\\Users\\jopbr\\AppData\\Local\\Temp\\ipykernel_17544\\1890306692.py:203: DeprecationWarning: DataFrameGroupBy.apply operated on the grouping columns. This behavior is deprecated, and in a future version of pandas the grouping columns will be excluded from the operation. Either pass `include_groups=False` to exclude the groupings or explicitly select the grouping columns after groupby to silence this warning.\n",
      "  grouped_returns = test_trade_df.groupby('DateTime').apply(\n",
      "C:\\Users\\jopbr\\AppData\\Local\\Temp\\ipykernel_17544\\1890306692.py:176: DeprecationWarning: DataFrameGroupBy.apply operated on the grouping columns. This behavior is deprecated, and in a future version of pandas the grouping columns will be excluded from the operation. Either pass `include_groups=False` to exclude the groupings or explicitly select the grouping columns after groupby to silence this warning.\n",
      "  val_returns = val_trade_df.groupby('DateTime').apply(\n",
      "C:\\Users\\jopbr\\AppData\\Local\\Temp\\ipykernel_17544\\1890306692.py:176: DeprecationWarning: DataFrameGroupBy.apply operated on the grouping columns. This behavior is deprecated, and in a future version of pandas the grouping columns will be excluded from the operation. Either pass `include_groups=False` to exclude the groupings or explicitly select the grouping columns after groupby to silence this warning.\n",
      "  val_returns = val_trade_df.groupby('DateTime').apply(\n",
      "C:\\Users\\jopbr\\AppData\\Local\\Temp\\ipykernel_17544\\1890306692.py:176: DeprecationWarning: DataFrameGroupBy.apply operated on the grouping columns. This behavior is deprecated, and in a future version of pandas the grouping columns will be excluded from the operation. Either pass `include_groups=False` to exclude the groupings or explicitly select the grouping columns after groupby to silence this warning.\n",
      "  val_returns = val_trade_df.groupby('DateTime').apply(\n",
      "C:\\Users\\jopbr\\AppData\\Local\\Temp\\ipykernel_17544\\1890306692.py:203: DeprecationWarning: DataFrameGroupBy.apply operated on the grouping columns. This behavior is deprecated, and in a future version of pandas the grouping columns will be excluded from the operation. Either pass `include_groups=False` to exclude the groupings or explicitly select the grouping columns after groupby to silence this warning.\n",
      "  grouped_returns = test_trade_df.groupby('DateTime').apply(\n",
      "C:\\Users\\jopbr\\AppData\\Local\\Temp\\ipykernel_17544\\1890306692.py:176: DeprecationWarning: DataFrameGroupBy.apply operated on the grouping columns. This behavior is deprecated, and in a future version of pandas the grouping columns will be excluded from the operation. Either pass `include_groups=False` to exclude the groupings or explicitly select the grouping columns after groupby to silence this warning.\n",
      "  val_returns = val_trade_df.groupby('DateTime').apply(\n",
      "C:\\Users\\jopbr\\AppData\\Local\\Temp\\ipykernel_17544\\1890306692.py:176: DeprecationWarning: DataFrameGroupBy.apply operated on the grouping columns. This behavior is deprecated, and in a future version of pandas the grouping columns will be excluded from the operation. Either pass `include_groups=False` to exclude the groupings or explicitly select the grouping columns after groupby to silence this warning.\n",
      "  val_returns = val_trade_df.groupby('DateTime').apply(\n",
      "C:\\Users\\jopbr\\AppData\\Local\\Temp\\ipykernel_17544\\1890306692.py:176: DeprecationWarning: DataFrameGroupBy.apply operated on the grouping columns. This behavior is deprecated, and in a future version of pandas the grouping columns will be excluded from the operation. Either pass `include_groups=False` to exclude the groupings or explicitly select the grouping columns after groupby to silence this warning.\n",
      "  val_returns = val_trade_df.groupby('DateTime').apply(\n",
      "C:\\Users\\jopbr\\AppData\\Local\\Temp\\ipykernel_17544\\1890306692.py:203: DeprecationWarning: DataFrameGroupBy.apply operated on the grouping columns. This behavior is deprecated, and in a future version of pandas the grouping columns will be excluded from the operation. Either pass `include_groups=False` to exclude the groupings or explicitly select the grouping columns after groupby to silence this warning.\n",
      "  grouped_returns = test_trade_df.groupby('DateTime').apply(\n",
      "C:\\Users\\jopbr\\AppData\\Local\\Temp\\ipykernel_17544\\1890306692.py:176: DeprecationWarning: DataFrameGroupBy.apply operated on the grouping columns. This behavior is deprecated, and in a future version of pandas the grouping columns will be excluded from the operation. Either pass `include_groups=False` to exclude the groupings or explicitly select the grouping columns after groupby to silence this warning.\n",
      "  val_returns = val_trade_df.groupby('DateTime').apply(\n",
      "C:\\Users\\jopbr\\AppData\\Local\\Temp\\ipykernel_17544\\1890306692.py:176: DeprecationWarning: DataFrameGroupBy.apply operated on the grouping columns. This behavior is deprecated, and in a future version of pandas the grouping columns will be excluded from the operation. Either pass `include_groups=False` to exclude the groupings or explicitly select the grouping columns after groupby to silence this warning.\n",
      "  val_returns = val_trade_df.groupby('DateTime').apply(\n",
      "C:\\Users\\jopbr\\AppData\\Local\\Temp\\ipykernel_17544\\1890306692.py:176: DeprecationWarning: DataFrameGroupBy.apply operated on the grouping columns. This behavior is deprecated, and in a future version of pandas the grouping columns will be excluded from the operation. Either pass `include_groups=False` to exclude the groupings or explicitly select the grouping columns after groupby to silence this warning.\n",
      "  val_returns = val_trade_df.groupby('DateTime').apply(\n",
      "C:\\Users\\jopbr\\AppData\\Local\\Temp\\ipykernel_17544\\1890306692.py:203: DeprecationWarning: DataFrameGroupBy.apply operated on the grouping columns. This behavior is deprecated, and in a future version of pandas the grouping columns will be excluded from the operation. Either pass `include_groups=False` to exclude the groupings or explicitly select the grouping columns after groupby to silence this warning.\n",
      "  grouped_returns = test_trade_df.groupby('DateTime').apply(\n",
      "C:\\Users\\jopbr\\AppData\\Local\\Temp\\ipykernel_17544\\1890306692.py:176: DeprecationWarning: DataFrameGroupBy.apply operated on the grouping columns. This behavior is deprecated, and in a future version of pandas the grouping columns will be excluded from the operation. Either pass `include_groups=False` to exclude the groupings or explicitly select the grouping columns after groupby to silence this warning.\n",
      "  val_returns = val_trade_df.groupby('DateTime').apply(\n",
      "C:\\Users\\jopbr\\AppData\\Local\\Temp\\ipykernel_17544\\1890306692.py:176: DeprecationWarning: DataFrameGroupBy.apply operated on the grouping columns. This behavior is deprecated, and in a future version of pandas the grouping columns will be excluded from the operation. Either pass `include_groups=False` to exclude the groupings or explicitly select the grouping columns after groupby to silence this warning.\n",
      "  val_returns = val_trade_df.groupby('DateTime').apply(\n",
      "C:\\Users\\jopbr\\AppData\\Local\\Temp\\ipykernel_17544\\1890306692.py:176: DeprecationWarning: DataFrameGroupBy.apply operated on the grouping columns. This behavior is deprecated, and in a future version of pandas the grouping columns will be excluded from the operation. Either pass `include_groups=False` to exclude the groupings or explicitly select the grouping columns after groupby to silence this warning.\n",
      "  val_returns = val_trade_df.groupby('DateTime').apply(\n",
      "C:\\Users\\jopbr\\AppData\\Local\\Temp\\ipykernel_17544\\1890306692.py:203: DeprecationWarning: DataFrameGroupBy.apply operated on the grouping columns. This behavior is deprecated, and in a future version of pandas the grouping columns will be excluded from the operation. Either pass `include_groups=False` to exclude the groupings or explicitly select the grouping columns after groupby to silence this warning.\n",
      "  grouped_returns = test_trade_df.groupby('DateTime').apply(\n",
      "C:\\Users\\jopbr\\AppData\\Local\\Temp\\ipykernel_17544\\1890306692.py:176: DeprecationWarning: DataFrameGroupBy.apply operated on the grouping columns. This behavior is deprecated, and in a future version of pandas the grouping columns will be excluded from the operation. Either pass `include_groups=False` to exclude the groupings or explicitly select the grouping columns after groupby to silence this warning.\n",
      "  val_returns = val_trade_df.groupby('DateTime').apply(\n",
      "C:\\Users\\jopbr\\AppData\\Local\\Temp\\ipykernel_17544\\1890306692.py:176: DeprecationWarning: DataFrameGroupBy.apply operated on the grouping columns. This behavior is deprecated, and in a future version of pandas the grouping columns will be excluded from the operation. Either pass `include_groups=False` to exclude the groupings or explicitly select the grouping columns after groupby to silence this warning.\n",
      "  val_returns = val_trade_df.groupby('DateTime').apply(\n",
      "C:\\Users\\jopbr\\AppData\\Local\\Temp\\ipykernel_17544\\1890306692.py:176: DeprecationWarning: DataFrameGroupBy.apply operated on the grouping columns. This behavior is deprecated, and in a future version of pandas the grouping columns will be excluded from the operation. Either pass `include_groups=False` to exclude the groupings or explicitly select the grouping columns after groupby to silence this warning.\n",
      "  val_returns = val_trade_df.groupby('DateTime').apply(\n",
      "C:\\Users\\jopbr\\AppData\\Local\\Temp\\ipykernel_17544\\1890306692.py:203: DeprecationWarning: DataFrameGroupBy.apply operated on the grouping columns. This behavior is deprecated, and in a future version of pandas the grouping columns will be excluded from the operation. Either pass `include_groups=False` to exclude the groupings or explicitly select the grouping columns after groupby to silence this warning.\n",
      "  grouped_returns = test_trade_df.groupby('DateTime').apply(\n",
      "C:\\Users\\jopbr\\AppData\\Local\\Temp\\ipykernel_17544\\1890306692.py:176: DeprecationWarning: DataFrameGroupBy.apply operated on the grouping columns. This behavior is deprecated, and in a future version of pandas the grouping columns will be excluded from the operation. Either pass `include_groups=False` to exclude the groupings or explicitly select the grouping columns after groupby to silence this warning.\n",
      "  val_returns = val_trade_df.groupby('DateTime').apply(\n",
      "C:\\Users\\jopbr\\AppData\\Local\\Temp\\ipykernel_17544\\1890306692.py:176: DeprecationWarning: DataFrameGroupBy.apply operated on the grouping columns. This behavior is deprecated, and in a future version of pandas the grouping columns will be excluded from the operation. Either pass `include_groups=False` to exclude the groupings or explicitly select the grouping columns after groupby to silence this warning.\n",
      "  val_returns = val_trade_df.groupby('DateTime').apply(\n",
      "C:\\Users\\jopbr\\AppData\\Local\\Temp\\ipykernel_17544\\1890306692.py:176: DeprecationWarning: DataFrameGroupBy.apply operated on the grouping columns. This behavior is deprecated, and in a future version of pandas the grouping columns will be excluded from the operation. Either pass `include_groups=False` to exclude the groupings or explicitly select the grouping columns after groupby to silence this warning.\n",
      "  val_returns = val_trade_df.groupby('DateTime').apply(\n",
      "C:\\Users\\jopbr\\AppData\\Local\\Temp\\ipykernel_17544\\1890306692.py:203: DeprecationWarning: DataFrameGroupBy.apply operated on the grouping columns. This behavior is deprecated, and in a future version of pandas the grouping columns will be excluded from the operation. Either pass `include_groups=False` to exclude the groupings or explicitly select the grouping columns after groupby to silence this warning.\n",
      "  grouped_returns = test_trade_df.groupby('DateTime').apply(\n",
      "C:\\Users\\jopbr\\AppData\\Local\\Temp\\ipykernel_17544\\1890306692.py:176: DeprecationWarning: DataFrameGroupBy.apply operated on the grouping columns. This behavior is deprecated, and in a future version of pandas the grouping columns will be excluded from the operation. Either pass `include_groups=False` to exclude the groupings or explicitly select the grouping columns after groupby to silence this warning.\n",
      "  val_returns = val_trade_df.groupby('DateTime').apply(\n",
      "C:\\Users\\jopbr\\AppData\\Local\\Temp\\ipykernel_17544\\1890306692.py:176: DeprecationWarning: DataFrameGroupBy.apply operated on the grouping columns. This behavior is deprecated, and in a future version of pandas the grouping columns will be excluded from the operation. Either pass `include_groups=False` to exclude the groupings or explicitly select the grouping columns after groupby to silence this warning.\n",
      "  val_returns = val_trade_df.groupby('DateTime').apply(\n",
      "C:\\Users\\jopbr\\AppData\\Local\\Temp\\ipykernel_17544\\1890306692.py:176: DeprecationWarning: DataFrameGroupBy.apply operated on the grouping columns. This behavior is deprecated, and in a future version of pandas the grouping columns will be excluded from the operation. Either pass `include_groups=False` to exclude the groupings or explicitly select the grouping columns after groupby to silence this warning.\n",
      "  val_returns = val_trade_df.groupby('DateTime').apply(\n",
      "C:\\Users\\jopbr\\AppData\\Local\\Temp\\ipykernel_17544\\1890306692.py:203: DeprecationWarning: DataFrameGroupBy.apply operated on the grouping columns. This behavior is deprecated, and in a future version of pandas the grouping columns will be excluded from the operation. Either pass `include_groups=False` to exclude the groupings or explicitly select the grouping columns after groupby to silence this warning.\n",
      "  grouped_returns = test_trade_df.groupby('DateTime').apply(\n",
      "C:\\Users\\jopbr\\AppData\\Local\\Temp\\ipykernel_17544\\1890306692.py:176: DeprecationWarning: DataFrameGroupBy.apply operated on the grouping columns. This behavior is deprecated, and in a future version of pandas the grouping columns will be excluded from the operation. Either pass `include_groups=False` to exclude the groupings or explicitly select the grouping columns after groupby to silence this warning.\n",
      "  val_returns = val_trade_df.groupby('DateTime').apply(\n",
      "C:\\Users\\jopbr\\AppData\\Local\\Temp\\ipykernel_17544\\1890306692.py:176: DeprecationWarning: DataFrameGroupBy.apply operated on the grouping columns. This behavior is deprecated, and in a future version of pandas the grouping columns will be excluded from the operation. Either pass `include_groups=False` to exclude the groupings or explicitly select the grouping columns after groupby to silence this warning.\n",
      "  val_returns = val_trade_df.groupby('DateTime').apply(\n",
      "C:\\Users\\jopbr\\AppData\\Local\\Temp\\ipykernel_17544\\1890306692.py:176: DeprecationWarning: DataFrameGroupBy.apply operated on the grouping columns. This behavior is deprecated, and in a future version of pandas the grouping columns will be excluded from the operation. Either pass `include_groups=False` to exclude the groupings or explicitly select the grouping columns after groupby to silence this warning.\n",
      "  val_returns = val_trade_df.groupby('DateTime').apply(\n",
      "C:\\Users\\jopbr\\AppData\\Local\\Temp\\ipykernel_17544\\1890306692.py:203: DeprecationWarning: DataFrameGroupBy.apply operated on the grouping columns. This behavior is deprecated, and in a future version of pandas the grouping columns will be excluded from the operation. Either pass `include_groups=False` to exclude the groupings or explicitly select the grouping columns after groupby to silence this warning.\n",
      "  grouped_returns = test_trade_df.groupby('DateTime').apply(\n",
      "C:\\Users\\jopbr\\AppData\\Local\\Temp\\ipykernel_17544\\1890306692.py:176: DeprecationWarning: DataFrameGroupBy.apply operated on the grouping columns. This behavior is deprecated, and in a future version of pandas the grouping columns will be excluded from the operation. Either pass `include_groups=False` to exclude the groupings or explicitly select the grouping columns after groupby to silence this warning.\n",
      "  val_returns = val_trade_df.groupby('DateTime').apply(\n",
      "C:\\Users\\jopbr\\AppData\\Local\\Temp\\ipykernel_17544\\1890306692.py:176: DeprecationWarning: DataFrameGroupBy.apply operated on the grouping columns. This behavior is deprecated, and in a future version of pandas the grouping columns will be excluded from the operation. Either pass `include_groups=False` to exclude the groupings or explicitly select the grouping columns after groupby to silence this warning.\n",
      "  val_returns = val_trade_df.groupby('DateTime').apply(\n",
      "C:\\Users\\jopbr\\AppData\\Local\\Temp\\ipykernel_17544\\1890306692.py:176: DeprecationWarning: DataFrameGroupBy.apply operated on the grouping columns. This behavior is deprecated, and in a future version of pandas the grouping columns will be excluded from the operation. Either pass `include_groups=False` to exclude the groupings or explicitly select the grouping columns after groupby to silence this warning.\n",
      "  val_returns = val_trade_df.groupby('DateTime').apply(\n",
      "C:\\Users\\jopbr\\AppData\\Local\\Temp\\ipykernel_17544\\1890306692.py:203: DeprecationWarning: DataFrameGroupBy.apply operated on the grouping columns. This behavior is deprecated, and in a future version of pandas the grouping columns will be excluded from the operation. Either pass `include_groups=False` to exclude the groupings or explicitly select the grouping columns after groupby to silence this warning.\n",
      "  grouped_returns = test_trade_df.groupby('DateTime').apply(\n",
      "C:\\Users\\jopbr\\AppData\\Local\\Temp\\ipykernel_17544\\1890306692.py:176: DeprecationWarning: DataFrameGroupBy.apply operated on the grouping columns. This behavior is deprecated, and in a future version of pandas the grouping columns will be excluded from the operation. Either pass `include_groups=False` to exclude the groupings or explicitly select the grouping columns after groupby to silence this warning.\n",
      "  val_returns = val_trade_df.groupby('DateTime').apply(\n",
      "C:\\Users\\jopbr\\AppData\\Local\\Temp\\ipykernel_17544\\1890306692.py:176: DeprecationWarning: DataFrameGroupBy.apply operated on the grouping columns. This behavior is deprecated, and in a future version of pandas the grouping columns will be excluded from the operation. Either pass `include_groups=False` to exclude the groupings or explicitly select the grouping columns after groupby to silence this warning.\n",
      "  val_returns = val_trade_df.groupby('DateTime').apply(\n",
      "C:\\Users\\jopbr\\AppData\\Local\\Temp\\ipykernel_17544\\1890306692.py:176: DeprecationWarning: DataFrameGroupBy.apply operated on the grouping columns. This behavior is deprecated, and in a future version of pandas the grouping columns will be excluded from the operation. Either pass `include_groups=False` to exclude the groupings or explicitly select the grouping columns after groupby to silence this warning.\n",
      "  val_returns = val_trade_df.groupby('DateTime').apply(\n",
      "C:\\Users\\jopbr\\AppData\\Local\\Temp\\ipykernel_17544\\1890306692.py:203: DeprecationWarning: DataFrameGroupBy.apply operated on the grouping columns. This behavior is deprecated, and in a future version of pandas the grouping columns will be excluded from the operation. Either pass `include_groups=False` to exclude the groupings or explicitly select the grouping columns after groupby to silence this warning.\n",
      "  grouped_returns = test_trade_df.groupby('DateTime').apply(\n",
      "C:\\Users\\jopbr\\AppData\\Local\\Temp\\ipykernel_17544\\1890306692.py:176: DeprecationWarning: DataFrameGroupBy.apply operated on the grouping columns. This behavior is deprecated, and in a future version of pandas the grouping columns will be excluded from the operation. Either pass `include_groups=False` to exclude the groupings or explicitly select the grouping columns after groupby to silence this warning.\n",
      "  val_returns = val_trade_df.groupby('DateTime').apply(\n",
      "C:\\Users\\jopbr\\AppData\\Local\\Temp\\ipykernel_17544\\1890306692.py:176: DeprecationWarning: DataFrameGroupBy.apply operated on the grouping columns. This behavior is deprecated, and in a future version of pandas the grouping columns will be excluded from the operation. Either pass `include_groups=False` to exclude the groupings or explicitly select the grouping columns after groupby to silence this warning.\n",
      "  val_returns = val_trade_df.groupby('DateTime').apply(\n",
      "C:\\Users\\jopbr\\AppData\\Local\\Temp\\ipykernel_17544\\1890306692.py:176: DeprecationWarning: DataFrameGroupBy.apply operated on the grouping columns. This behavior is deprecated, and in a future version of pandas the grouping columns will be excluded from the operation. Either pass `include_groups=False` to exclude the groupings or explicitly select the grouping columns after groupby to silence this warning.\n",
      "  val_returns = val_trade_df.groupby('DateTime').apply(\n",
      "C:\\Users\\jopbr\\AppData\\Local\\Temp\\ipykernel_17544\\1890306692.py:203: DeprecationWarning: DataFrameGroupBy.apply operated on the grouping columns. This behavior is deprecated, and in a future version of pandas the grouping columns will be excluded from the operation. Either pass `include_groups=False` to exclude the groupings or explicitly select the grouping columns after groupby to silence this warning.\n",
      "  grouped_returns = test_trade_df.groupby('DateTime').apply(\n",
      "C:\\Users\\jopbr\\AppData\\Local\\Temp\\ipykernel_17544\\1890306692.py:176: DeprecationWarning: DataFrameGroupBy.apply operated on the grouping columns. This behavior is deprecated, and in a future version of pandas the grouping columns will be excluded from the operation. Either pass `include_groups=False` to exclude the groupings or explicitly select the grouping columns after groupby to silence this warning.\n",
      "  val_returns = val_trade_df.groupby('DateTime').apply(\n",
      "C:\\Users\\jopbr\\AppData\\Local\\Temp\\ipykernel_17544\\1890306692.py:176: DeprecationWarning: DataFrameGroupBy.apply operated on the grouping columns. This behavior is deprecated, and in a future version of pandas the grouping columns will be excluded from the operation. Either pass `include_groups=False` to exclude the groupings or explicitly select the grouping columns after groupby to silence this warning.\n",
      "  val_returns = val_trade_df.groupby('DateTime').apply(\n",
      "C:\\Users\\jopbr\\AppData\\Local\\Temp\\ipykernel_17544\\1890306692.py:176: DeprecationWarning: DataFrameGroupBy.apply operated on the grouping columns. This behavior is deprecated, and in a future version of pandas the grouping columns will be excluded from the operation. Either pass `include_groups=False` to exclude the groupings or explicitly select the grouping columns after groupby to silence this warning.\n",
      "  val_returns = val_trade_df.groupby('DateTime').apply(\n",
      "C:\\Users\\jopbr\\AppData\\Local\\Temp\\ipykernel_17544\\1890306692.py:203: DeprecationWarning: DataFrameGroupBy.apply operated on the grouping columns. This behavior is deprecated, and in a future version of pandas the grouping columns will be excluded from the operation. Either pass `include_groups=False` to exclude the groupings or explicitly select the grouping columns after groupby to silence this warning.\n",
      "  grouped_returns = test_trade_df.groupby('DateTime').apply(\n",
      "C:\\Users\\jopbr\\AppData\\Local\\Temp\\ipykernel_17544\\1890306692.py:176: DeprecationWarning: DataFrameGroupBy.apply operated on the grouping columns. This behavior is deprecated, and in a future version of pandas the grouping columns will be excluded from the operation. Either pass `include_groups=False` to exclude the groupings or explicitly select the grouping columns after groupby to silence this warning.\n",
      "  val_returns = val_trade_df.groupby('DateTime').apply(\n",
      "C:\\Users\\jopbr\\AppData\\Local\\Temp\\ipykernel_17544\\1890306692.py:176: DeprecationWarning: DataFrameGroupBy.apply operated on the grouping columns. This behavior is deprecated, and in a future version of pandas the grouping columns will be excluded from the operation. Either pass `include_groups=False` to exclude the groupings or explicitly select the grouping columns after groupby to silence this warning.\n",
      "  val_returns = val_trade_df.groupby('DateTime').apply(\n",
      "C:\\Users\\jopbr\\AppData\\Local\\Temp\\ipykernel_17544\\1890306692.py:176: DeprecationWarning: DataFrameGroupBy.apply operated on the grouping columns. This behavior is deprecated, and in a future version of pandas the grouping columns will be excluded from the operation. Either pass `include_groups=False` to exclude the groupings or explicitly select the grouping columns after groupby to silence this warning.\n",
      "  val_returns = val_trade_df.groupby('DateTime').apply(\n",
      "C:\\Users\\jopbr\\AppData\\Local\\Temp\\ipykernel_17544\\1890306692.py:203: DeprecationWarning: DataFrameGroupBy.apply operated on the grouping columns. This behavior is deprecated, and in a future version of pandas the grouping columns will be excluded from the operation. Either pass `include_groups=False` to exclude the groupings or explicitly select the grouping columns after groupby to silence this warning.\n",
      "  grouped_returns = test_trade_df.groupby('DateTime').apply(\n",
      "C:\\Users\\jopbr\\AppData\\Local\\Temp\\ipykernel_17544\\1890306692.py:176: DeprecationWarning: DataFrameGroupBy.apply operated on the grouping columns. This behavior is deprecated, and in a future version of pandas the grouping columns will be excluded from the operation. Either pass `include_groups=False` to exclude the groupings or explicitly select the grouping columns after groupby to silence this warning.\n",
      "  val_returns = val_trade_df.groupby('DateTime').apply(\n",
      "C:\\Users\\jopbr\\AppData\\Local\\Temp\\ipykernel_17544\\1890306692.py:176: DeprecationWarning: DataFrameGroupBy.apply operated on the grouping columns. This behavior is deprecated, and in a future version of pandas the grouping columns will be excluded from the operation. Either pass `include_groups=False` to exclude the groupings or explicitly select the grouping columns after groupby to silence this warning.\n",
      "  val_returns = val_trade_df.groupby('DateTime').apply(\n",
      "C:\\Users\\jopbr\\AppData\\Local\\Temp\\ipykernel_17544\\1890306692.py:176: DeprecationWarning: DataFrameGroupBy.apply operated on the grouping columns. This behavior is deprecated, and in a future version of pandas the grouping columns will be excluded from the operation. Either pass `include_groups=False` to exclude the groupings or explicitly select the grouping columns after groupby to silence this warning.\n",
      "  val_returns = val_trade_df.groupby('DateTime').apply(\n",
      "C:\\Users\\jopbr\\AppData\\Local\\Temp\\ipykernel_17544\\1890306692.py:203: DeprecationWarning: DataFrameGroupBy.apply operated on the grouping columns. This behavior is deprecated, and in a future version of pandas the grouping columns will be excluded from the operation. Either pass `include_groups=False` to exclude the groupings or explicitly select the grouping columns after groupby to silence this warning.\n",
      "  grouped_returns = test_trade_df.groupby('DateTime').apply(\n"
     ]
    },
    {
     "data": {
      "image/png": "[encoded data removed]",
      "text/plain": [
       "<Figure size 1200x600 with 1 Axes>"
      ]
     },
     "metadata": {},
     "output_type": "display_data"
    },
    {
     "name": "stdout",
     "output_type": "stream",
     "text": [
      "Final Cumulative Compounded Return: 1239.07%\n",
      "\n",
      "Overall Test Accuracy : 52.40%\n",
      "Overall Precision     : 34.92%\n",
      "Overall Recall        : 36.02%\n",
      "Overall F1 Score      : 35.46%\n",
      "Overall ROC AUC       : 55.66%\n",
      "\n",
      "Average Fold Test Return : 0.03723%\n",
      "\n",
      "Standard Deviation of All Test Returns (Aggregated Daily): 0.27748%\n",
      "\n",
      "Minimum Return (Aggregated Daily): -0.86097%\n",
      "\n",
      "Optimal Horizon Counts:\n",
      "(40 min)    17\n",
      "Name: count, dtype: int64\n",
      "\n",
      "Test Set Position Counts:\n",
      "Neutral (0): 12\n",
      "Long (1): 9010\n",
      "Short (2): 8226\n"
     ]
    }
   ],
   "source": [
    "import os\n",
    "os.environ['OMP_NUM_THREADS'] = '1'\n",
    "os.environ['OPENBLAS_NUM_THREADS'] = '1'\n",
    "os.environ['MKL_NUM_THREADS'] = '1'\n",
    "os.environ['VECLIB_MAXIMUM_THREADS'] = '1'\n",
    "os.environ['NUMEXPR_NUM_THREADS'] = '1'\n",
    "os.environ['PYTHONHASHSEED'] = '0'\n",
    "\n",
    "from sklearn.ensemble import RandomForestClassifier\n",
    "import matplotlib.pyplot as plt\n",
    "from sklearn.preprocessing import StandardScaler\n",
    "from sklearn.metrics import (\n",
    "    accuracy_score,\n",
    "    f1_score,\n",
    "    roc_auc_score,\n",
    "    precision_score,\n",
    "    recall_score\n",
    ")\n",
    "import numpy as np\n",
    "import pandas as pd\n",
    "import random\n",
    "\n",
    "# feature_cols = all columns except 'DateTime' and the last 6 columns and also print out feature_cols and number of features\n",
    "feature_cols = df_ml.columns[:-6].tolist()\n",
    "feature_cols.remove('DateTime')\n",
    "print(\"Feature Columns:\", feature_cols)\n",
    "print(\"Number of Features:\", len(feature_cols))\n",
    "\n",
    "\n",
    "# --- Configuration ---\n",
    "horizons = [' (20 min)', ' (10 min)', ' (40 min)']\n",
    "\n",
    "# --- Data Prep ---\n",
    "df_ml = df_ml.dropna(subset=['Surprise']).sort_values('DateTime')\n",
    "min_date = df_ml['DateTime'].min()\n",
    "max_date = df_ml['DateTime'].max()\n",
    "\n",
    "# --- Calculate Initial 30% Training Period ---\n",
    "total_duration = max_date - min_date\n",
    "initial_train_duration = total_duration * 0.3\n",
    "train_end_date = min_date + initial_train_duration\n",
    "\n",
    "# --- Tracking containers ---\n",
    "results = []\n",
    "all_test_returns = []\n",
    "all_dates = []\n",
    "all_test_preds = []\n",
    "all_test_truths = []\n",
    "all_test_probas = []\n",
    "fold_mean_returns = []\n",
    "best_horizons_list = []\n",
    "\n",
    "def calculate_grouped_returns(df_group, horizon, stop_loss=None):\n",
    "    \"\"\"Calculate returns with position sizing and stop loss\"\"\"\n",
    "    active_trades = df_group[df_group['pred'] != 0]\n",
    "    if active_trades.empty:\n",
    "        return 0.0\n",
    "\n",
    "    # Create copies with reset index\n",
    "    longs = active_trades[active_trades['pred'] == 1].copy().reset_index(drop=True)\n",
    "    shorts = active_trades[active_trades['pred'] == 2].copy().reset_index(drop=True)\n",
    "\n",
    "    total_confidence = longs['proba'].sum() + shorts['proba'].sum()\n",
    "    if total_confidence == 0:\n",
    "        return 0.0\n",
    "\n",
    "    num_trades = len(longs) + len(shorts)\n",
    "\n",
    "    long_returns = 0.0\n",
    "    short_returns = 0.0\n",
    "\n",
    "    # Process longs with reset index\n",
    "    if not longs.empty:\n",
    "        long_weights = longs['proba'] / total_confidence\n",
    "        for idx in longs.index:\n",
    "            raw_return = longs.loc[idx, f'Forward Return{horizon}']\n",
    "            capped_raw = max(stop_loss, raw_return) if stop_loss is not None else raw_return\n",
    "            long_returns += capped_raw * long_weights.loc[idx]\n",
    "\n",
    "    # Process shorts with reset index\n",
    "    if not shorts.empty:\n",
    "        short_weights = shorts['proba'] / total_confidence\n",
    "        for idx in shorts.index:\n",
    "            raw_return = -shorts.loc[idx, f'Forward Return{horizon}']\n",
    "            capped_raw = max(stop_loss, raw_return) if stop_loss is not None else raw_return\n",
    "            short_returns += capped_raw * short_weights.loc[idx]\n",
    "\n",
    "    net_return = (long_returns + short_returns)\n",
    "    return net_return\n",
    "\n",
    "# --- Main Loop ---\n",
    "while True:\n",
    "    val_start_date = train_end_date + pd.DateOffset(days=1)\n",
    "    val_end_date = val_start_date + pd.DateOffset(years=1)\n",
    "    test_start_date = val_end_date + pd.DateOffset(days=1)\n",
    "    test_end_date = test_start_date + pd.DateOffset(years=1)\n",
    "\n",
    "    if val_end_date > max_date or test_end_date > max_date:\n",
    "        break\n",
    "\n",
    "    train_mask = df_ml['DateTime'] <= train_end_date\n",
    "    val_mask = (df_ml['DateTime'] >= val_start_date) & (df_ml['DateTime'] <= val_end_date)\n",
    "    test_mask = (df_ml['DateTime'] >= test_start_date) & (df_ml['DateTime'] <= test_end_date)\n",
    "\n",
    "    train_data = df_ml[train_mask]\n",
    "    val_data = df_ml[val_mask]\n",
    "    test_data = df_ml[test_mask]\n",
    "\n",
    "    if val_data.empty or test_data.empty:\n",
    "        print(f\"Skipping period {val_start_date.date()} to {test_end_date.date()} (no data)\")\n",
    "        train_end_date += pd.DateOffset(years=1)\n",
    "        continue\n",
    "\n",
    "    # --- Horizon Optimization ---\n",
    "    best_horizon, best_model, best_stop_loss = None, None, None\n",
    "    best_val_return = -np.inf\n",
    "\n",
    "    for horizon in horizons:\n",
    "        # Feature scaling\n",
    "        scaler = StandardScaler()\n",
    "        X_train = scaler.fit_transform(train_data[feature_cols])\n",
    "        X_val = scaler.transform(val_data[feature_cols])\n",
    "        y_train = train_data[f'Target Signal{horizon}']\n",
    "        y_val = val_data[f'Target Signal{horizon}']\n",
    "\n",
    "        # Train model\n",
    "        model = RandomForestClassifier(\n",
    "            n_estimators=100,\n",
    "            criterion='gini',\n",
    "            min_samples_leaf=4,\n",
    "            random_state=42\n",
    "        )\n",
    "        model.fit(X_train, y_train)\n",
    "\n",
    "        # Get class probabilities\n",
    "        train_preds = model.predict(X_train)\n",
    "        train_probas = model.predict_proba(X_train)\n",
    "        class_map = {cls: idx for idx, cls in enumerate(model.classes_)}\n",
    "\n",
    "        # Training stop loss calculation\n",
    "        train_trade_df = pd.DataFrame({\n",
    "            'DateTime': train_data['DateTime'],\n",
    "            'pred': train_preds,\n",
    "            'proba': [proba[class_map[pred]] for pred, proba in zip(train_preds, train_probas)],\n",
    "            f'Forward Return{horizon}': train_data[f'Forward Return{horizon}']\n",
    "        })\n",
    "\n",
    "        train_raw_returns = []\n",
    "        for _, row in train_trade_df.iterrows():\n",
    "            if row['pred'] == 1:\n",
    "                train_raw_returns.append(row[f'Forward Return{horizon}'])\n",
    "            elif row['pred'] == 2:\n",
    "                train_raw_returns.append(-row[f'Forward Return{horizon}'])\n",
    "        stop_loss_train = np.percentile(train_raw_returns, 5) if train_raw_returns else None\n",
    "\n",
    "        # Validation predictions\n",
    "        val_preds = model.predict(X_val)\n",
    "        val_probas = model.predict_proba(X_val)\n",
    "        val_trade_df = pd.DataFrame({\n",
    "            'DateTime': val_data['DateTime'],\n",
    "            'pred': val_preds,\n",
    "            'proba': [proba[class_map[pred]] for pred, proba in zip(val_preds, val_probas)],\n",
    "            f'Forward Return{horizon}': val_data[f'Forward Return{horizon}']\n",
    "        })\n",
    "\n",
    "        # Validation stop loss calculation (for test set)\n",
    "        val_raw_returns = []\n",
    "        for _, row in val_trade_df.iterrows():\n",
    "            if row['pred'] == 1:\n",
    "                val_raw_returns.append(row[f'Forward Return{horizon}'])\n",
    "            elif row['pred'] == 2:\n",
    "                val_raw_returns.append(-row[f'Forward Return{horizon}'])\n",
    "        stop_loss_val = np.percentile(val_raw_returns, 5) if val_raw_returns else None\n",
    "\n",
    "        # Validate using training stop loss\n",
    "        val_returns = val_trade_df.groupby('DateTime').apply(\n",
    "            lambda x: calculate_grouped_returns(x, horizon, stop_loss_train)\n",
    "        ).values\n",
    "\n",
    "        total_val_return = (1 + val_returns).prod() - 1\n",
    "\n",
    "        if total_val_return > best_val_return:\n",
    "            best_val_return = total_val_return\n",
    "            best_horizon = horizon\n",
    "            best_model = model\n",
    "            best_stop_loss = stop_loss_val\n",
    "\n",
    "    # --- Test Best Model ---\n",
    "    if best_model and best_stop_loss is not None:\n",
    "        X_test = scaler.transform(test_data[feature_cols])\n",
    "        test_preds = best_model.predict(X_test)\n",
    "        test_probas = best_model.predict_proba(X_test)\n",
    "        y_test = test_data[f'Target Signal{best_horizon}'].values\n",
    "\n",
    "        class_map = {cls: idx for idx, cls in enumerate(best_model.classes_)}\n",
    "        test_trade_df = pd.DataFrame({\n",
    "            'DateTime': test_data['DateTime'],\n",
    "            'pred': test_preds,\n",
    "            'proba': [proba[class_map[pred]] for pred, proba in zip(test_preds, test_probas)],\n",
    "            f'Forward Return{best_horizon}': test_data[f'Forward Return{best_horizon}']\n",
    "        })\n",
    "\n",
    "        grouped_returns = test_trade_df.groupby('DateTime').apply(\n",
    "            lambda x: calculate_grouped_returns(x, best_horizon, best_stop_loss)\n",
    "        ).values\n",
    "\n",
    "        all_test_returns.extend(grouped_returns)\n",
    "        all_dates.extend(test_trade_df['DateTime'].unique().tolist())\n",
    "        all_test_preds.extend(test_preds)\n",
    "        all_test_truths.extend(y_test)\n",
    "        all_test_probas.append(test_probas)\n",
    "        fold_mean_returns.append(np.mean(grouped_returns))\n",
    "        best_horizons_list.append(best_horizon or 'standard')\n",
    "\n",
    "    train_end_date += pd.DateOffset(years=1)\n",
    "\n",
    "# --- Results ---\n",
    "if all_test_returns:\n",
    "    cumulative_returns = (1 + np.array(all_test_returns)).cumprod() - 1\n",
    "    std_dev_individual = np.std(all_test_returns) * 100\n",
    "    min_return = np.nanmin(all_test_returns) * 100 if all_test_returns else 0.0\n",
    "\n",
    "    plt.figure(figsize=(12, 6))\n",
    "    plt.plot(all_dates, cumulative_returns * 100)\n",
    "    plt.title('Cumulative Returns (Random Forest with Stop Loss)')\n",
    "    plt.xlabel('Date')\n",
    "    plt.ylabel('Cumulative Return (%)')\n",
    "    plt.grid(True)\n",
    "    plt.show()\n",
    "\n",
    "    print(f\"Final Cumulative Compounded Return: {cumulative_returns[-1]*100:.2f}%\")\n",
    "    print(f\"\\nOverall Test Accuracy : {accuracy_score(all_test_truths, all_test_preds)*100:.2f}%\")\n",
    "    print(f\"Overall Precision     : {precision_score(all_test_truths, all_test_preds, average='macro', zero_division=0)*100:.2f}%\")\n",
    "    print(f\"Overall Recall        : {recall_score(all_test_truths, all_test_preds, average='macro', zero_division=0)*100:.2f}%\")\n",
    "    print(f\"Overall F1 Score      : {f1_score(all_test_truths, all_test_preds, average='macro', zero_division=0)*100:.2f}%\")\n",
    "    print(f\"Overall ROC AUC       : {roc_auc_score(all_test_truths, np.vstack(all_test_probas), multi_class='ovo', average='macro')*100:.2f}%\")\n",
    "    print(f\"\\nAverage Fold Test Return : {np.mean(fold_mean_returns)*100:.5f}%\")\n",
    "    print(f\"\\nStandard Deviation of All Test Returns (Aggregated Daily): {std_dev_individual:.5f}%\")\n",
    "    print(f\"\\nMinimum Return (Aggregated Daily): {min_return:.5f}%\")\n",
    "    print(\"\\nOptimal Horizon Counts:\")\n",
    "    print(pd.Series(best_horizons_list).value_counts())\n",
    "    print(\"\\nTest Set Position Counts:\")\n",
    "    counts = pd.Series(all_test_preds).value_counts().sort_index()\n",
    "    print(f\"Neutral (0): {counts.get(0, 0)}\")\n",
    "    print(f\"Long (1): {counts.get(1, 0)}\")\n",
    "    print(f\"Short (2): {counts.get(2, 0)}\")\n",
    "\n",
    "else:\n",
    "    print(\"No valid test periods found\")"
   ]
  },
  {
   "cell_type": "code",
   "execution_count": 10,
   "id": "3e2bd656",
   "metadata": {},
   "outputs": [
    {
     "name": "stdout",
     "output_type": "stream",
     "text": [
      "\n",
      "Confusion Matrix:\n",
      "                    Pred Neutral (0)  Pred Long (1)  Pred Short (2)\n",
      "Actual Neutral (0)                 0            258             282\n",
      "Actual Long (1)                    4           4824            3730\n",
      "Actual Short (2)                   8           3928            4214\n",
      "\n",
      "Classification Report:\n",
      "              precision    recall  f1-score   support\n",
      "\n",
      " Neutral (0)       0.00      0.00      0.00       540\n",
      "    Long (1)       0.54      0.56      0.55      8558\n",
      "   Short (2)       0.51      0.52      0.51      8150\n",
      "\n",
      "    accuracy                           0.52     17248\n",
      "   macro avg       0.35      0.36      0.35     17248\n",
      "weighted avg       0.51      0.52      0.52     17248\n",
      "\n"
     ]
    }
   ],
   "source": [
    "# LR confusion matrix\n",
    "from sklearn.metrics import confusion_matrix, classification_report\n",
    "\n",
    "# Add this after your existing print statements\n",
    "print(\"\\nConfusion Matrix:\")\n",
    "cm = confusion_matrix(all_test_truths, all_test_preds)\n",
    "cm_df = pd.DataFrame(cm,\n",
    "                    index=['Actual Neutral (0)', 'Actual Long (1)', 'Actual Short (2)'],\n",
    "                    columns=['Pred Neutral (0)', 'Pred Long (1)', 'Pred Short (2)'])\n",
    "print(cm_df)\n",
    "\n",
    "print(\"\\nClassification Report:\")\n",
    "print(classification_report(all_test_truths, all_test_preds,\n",
    "                           target_names=['Neutral (0)', 'Long (1)', 'Short (2)']))"
   ]
  },
  {
   "cell_type": "markdown",
   "id": "fc0f6f12",
   "metadata": {},
   "source": [
    "Logistic Regression USA - Transaction Cost"
   ]
  },
  {
   "cell_type": "code",
   "execution_count": 11,
   "id": "7ccb580f",
   "metadata": {},
   "outputs": [
    {
     "name": "stdout",
     "output_type": "stream",
     "text": [
      "Feature Columns: ['ACNFCOMF Index_Surprise', 'ADP CHNG Index_Surprise', 'AHE MOM% Index_Surprise', 'AHE YOY% Index_Surprise', 'AMSPPACE Index_Surprise', 'AWH TOTL Index_Surprise', 'CFNAI Index_Surprise', 'CGNOXAI% Index_Surprise', 'CGSHXAI% Index_Surprise', 'CHPMINDX Index_Surprise', 'CICRTOT Index_Surprise', 'CNSTTMOM Index_Surprise', 'COMFCOMF Index_Surprise', 'CONCCONF Index_Surprise', 'CONSCURR Index_Surprise', 'CONSEXP Index_Surprise', 'CONSP5MD Index_Surprise', 'CONSPXMD Index_Surprise', 'CONSSENT Index_Surprise', 'COSTNFR% Index_Surprise', 'CPI CHNG Index_Surprise', 'CPI XYOY Index_Surprise', 'CPI YOY Index_Surprise', 'CPTICHNG Index_Surprise', 'CPUPAXFE Index_Surprise', 'CPUPXCHG Index_Surprise', 'CPURNSA Index_Surprise', 'DFEDGBA Index_Surprise', 'DGNOCHNG Index_Surprise', 'DGNOXTCH Index_Surprise', 'DOTDLTMD Index_Surprise', 'DOTDY0MD Index_Surprise', 'DOTDY1MD Index_Surprise', 'DOTDY2MD Index_Surprise', 'DSERGBCC Index_Surprise', 'ECI SA% Index_Surprise', 'ECONUSIB Index_Surprise', 'EHSLSL Index_Surprise', 'EMPRGBCI Index_Surprise', 'ETSLMOM Index_Surprise', 'ETSLTOTL Index_Surprise', 'EXP1CMOM Index_Surprise', 'EXP1CYOY Index_Surprise', 'FDDSSD Index_Surprise', 'FDEBTY Index_Surprise', 'FDIDFDMO Index_Surprise', 'FDIDSGMO Index_Surprise', 'FDIDSGUM Index_Surprise', 'FDIUFDYO Index_Surprise', 'FDIUSGUY Index_Surprise', 'FDIUSGYO Index_Surprise', 'FDTR Index_Surprise', 'FDTRFTRL Index_Surprise', 'FRNTTNET Index_Surprise', 'FRNTTOTL Index_Surprise', 'GDP CQOQ Index_Surprise', 'GDP DCHG Index_Surprise', 'GDP PIQQ Index_Surprise', 'GDPCPCEC Index_Surprise', 'GDPCTOT% Index_Surprise', 'HPI PURQ Index_Surprise', 'HPI QOQ% Index_Surprise', 'HPIMMOM% Index_Surprise', 'IMP1CHNG Index_Surprise', 'IMP1XPM% Index_Surprise', 'IMP1YOY% Index_Surprise', 'INJCJC Index_Surprise', 'INJCSP Index_Surprise', 'IP CHNG Index_Surprise', 'IPMGCHNG Index_Surprise', 'IRRBIOER Index_Surprise', 'JOLTTOTL Index_Surprise', 'KCLSSACI Index_Surprise', 'LEI CHNG Index_Surprise', 'LHWANWPA Index_Surprise', 'LMCILMCC Index_Surprise', 'MAPMINDX Index_Surprise', 'MBAVCHNG Index_Surprise', 'MBRXYOY Index_Surprise', 'MBRXYOYW Index_Surprise', 'MPMIUSCA Index_Surprise', 'MPMIUSMA Index_Surprise', 'MPMIUSSA Index_Surprise', 'MTIBCHNG Index_Surprise', 'MWINCHNG Index_Surprise', 'MWSLCHNG Index_Surprise', 'NAPMEMPL Index_Surprise', 'NAPMNEMP Index_Surprise', 'NAPMNEWO Index_Surprise', 'NAPMNMAN Index_Surprise', 'NAPMNMI Index_Surprise', 'NAPMNNO Index_Surprise', 'NAPMNPRC Index_Surprise', 'NAPMPMI Index_Surprise', 'NAPMPRIC Index_Surprise', 'NFP CPYC Index_Surprise', 'NFP PCH Index_Surprise', 'NFP TCH Index_Surprise', 'NHCHATCH Index_Surprise', 'NHCHSTCH Index_Surprise', 'NHSLCHNG Index_Surprise', 'NHSLTOT Index_Surprise', 'NHSPATOT Index_Surprise', 'NHSPSTOT Index_Surprise', 'NYBLCNBA Index_Surprise', 'NYCNM1IR Index_Surprise', 'NYPMCURR Index_Surprise', 'OUTFGAF Index_Surprise', 'PCE CHNC Index_Surprise', 'PCE CMOM Index_Surprise', 'PCE CRCH Index_Surprise', 'PCE CYOY Index_Surprise', 'PCE DEFM Index_Surprise', 'PCE DEFY Index_Surprise', 'PHUCTOT Index_Surprise', 'PITLCHNG Index_Surprise', 'PNMARADI Index_Surprise', 'PPI CHNG Index_Surprise', 'PPI XYOY Index_Surprise', 'PPI YOY Index_Surprise', 'PRODNFR% Index_Surprise', 'PRUSTOT Index_Surprise', 'PXFECHNG Index_Surprise', 'RCHSINDX Index_Surprise', 'REALRAWE Index_Surprise', 'REALYRAE Index_Surprise', 'RSRSTMOM Index_Surprise', 'RSTAMOM Index_Surprise', 'RSTAXAG% Index_Surprise', 'RSTAXAGM Index_Surprise', 'RSTAXMOM Index_Surprise', 'RTSDCHNG Index_Surprise', 'RTSDXCHG Index_Surprise', 'SAARDTOT Index_Surprise', 'SAARTOTL Index_Surprise', 'SBOITOTL Index_Surprise', 'SPCS20 Index_Surprise', 'SPCS20SM Index_Surprise', 'SPCS20Y% Index_Surprise', 'SPCSUSA Index_Surprise', 'SPCSUSAY Index_Surprise', 'SPCSUSQS Index_Surprise', 'TMNOCHNG Index_Surprise', 'TMNOXTM% Index_Surprise', 'TREFAMSP Index_Surprise', 'TREFPACE Index_Surprise', 'USCABAL Index_Surprise', 'USEMNCHG Index_Surprise', 'USHBMIDX Index_Surprise', 'USHETOT% Index_Surprise', 'USHEYOY Index_Surprise', 'USMMMNCH Index_Surprise', 'USPHTMOM Index_Surprise', 'USPHTYOY Index_Surprise', 'USTBTOT Index_Surprise', 'USTGTTCB Index_Surprise', 'USUDMAER Index_Surprise', 'USURTOT Index_Surprise', 'USWHMANS Index_Surprise', 'USWHTOT Index_Surprise', 'VNCCCMOM Index_Surprise', 'SMA5', 'SMA10', 'SMA15', 'SMA20', 'SMA50', 'SMA100', 'SMA200', 'SMA5Cross', 'SMA10Cross', 'SMA15Cross', 'SMA20Cross', 'SMA50Cross', 'SMA100Cross', 'SMA200Cross', 'UpDown10', 'UpDown15', 'UpDown50', 'last_gdp_gr', 'last_vix', 'R', 'Volume_L1', 'Surprise', 'Std Dev']\n",
      "Number of Features: 184\n"
     ]
    },
    {
     "name": "stderr",
     "output_type": "stream",
     "text": [
      "c:\\Users\\jopbr\\miniconda3\\envs\\intel_env\\lib\\site-packages\\sklearn\\linear_model\\_logistic.py:1247: FutureWarning: 'multi_class' was deprecated in version 1.5 and will be removed in 1.7. From then on, it will always use 'multinomial'. Leave it to its default value to avoid this warning.\n",
      "  warnings.warn(\n",
      "c:\\Users\\jopbr\\miniconda3\\envs\\intel_env\\lib\\site-packages\\sklearn\\linear_model\\_sag.py:348: ConvergenceWarning: The max_iter was reached which means the coef_ did not converge\n",
      "  warnings.warn(\n",
      "C:\\Users\\jopbr\\AppData\\Local\\Temp\\ipykernel_17544\\38239846.py:169: DeprecationWarning: DataFrameGroupBy.apply operated on the grouping columns. This behavior is deprecated, and in a future version of pandas the grouping columns will be excluded from the operation. Either pass `include_groups=False` to exclude the groupings or explicitly select the grouping columns after groupby to silence this warning.\n",
      "  val_returns = val_trade_df.groupby('DateTime').apply(\n",
      "c:\\Users\\jopbr\\miniconda3\\envs\\intel_env\\lib\\site-packages\\sklearn\\linear_model\\_logistic.py:1247: FutureWarning: 'multi_class' was deprecated in version 1.5 and will be removed in 1.7. From then on, it will always use 'multinomial'. Leave it to its default value to avoid this warning.\n",
      "  warnings.warn(\n",
      "c:\\Users\\jopbr\\miniconda3\\envs\\intel_env\\lib\\site-packages\\sklearn\\linear_model\\_sag.py:348: ConvergenceWarning: The max_iter was reached which means the coef_ did not converge\n",
      "  warnings.warn(\n",
      "C:\\Users\\jopbr\\AppData\\Local\\Temp\\ipykernel_17544\\38239846.py:169: DeprecationWarning: DataFrameGroupBy.apply operated on the grouping columns. This behavior is deprecated, and in a future version of pandas the grouping columns will be excluded from the operation. Either pass `include_groups=False` to exclude the groupings or explicitly select the grouping columns after groupby to silence this warning.\n",
      "  val_returns = val_trade_df.groupby('DateTime').apply(\n",
      "c:\\Users\\jopbr\\miniconda3\\envs\\intel_env\\lib\\site-packages\\sklearn\\linear_model\\_logistic.py:1247: FutureWarning: 'multi_class' was deprecated in version 1.5 and will be removed in 1.7. From then on, it will always use 'multinomial'. Leave it to its default value to avoid this warning.\n",
      "  warnings.warn(\n",
      "c:\\Users\\jopbr\\miniconda3\\envs\\intel_env\\lib\\site-packages\\sklearn\\linear_model\\_sag.py:348: ConvergenceWarning: The max_iter was reached which means the coef_ did not converge\n",
      "  warnings.warn(\n",
      "C:\\Users\\jopbr\\AppData\\Local\\Temp\\ipykernel_17544\\38239846.py:169: DeprecationWarning: DataFrameGroupBy.apply operated on the grouping columns. This behavior is deprecated, and in a future version of pandas the grouping columns will be excluded from the operation. Either pass `include_groups=False` to exclude the groupings or explicitly select the grouping columns after groupby to silence this warning.\n",
      "  val_returns = val_trade_df.groupby('DateTime').apply(\n",
      "C:\\Users\\jopbr\\AppData\\Local\\Temp\\ipykernel_17544\\38239846.py:196: DeprecationWarning: DataFrameGroupBy.apply operated on the grouping columns. This behavior is deprecated, and in a future version of pandas the grouping columns will be excluded from the operation. Either pass `include_groups=False` to exclude the groupings or explicitly select the grouping columns after groupby to silence this warning.\n",
      "  grouped_returns = test_trade_df.groupby('DateTime').apply(\n",
      "c:\\Users\\jopbr\\miniconda3\\envs\\intel_env\\lib\\site-packages\\sklearn\\linear_model\\_logistic.py:1247: FutureWarning: 'multi_class' was deprecated in version 1.5 and will be removed in 1.7. From then on, it will always use 'multinomial'. Leave it to its default value to avoid this warning.\n",
      "  warnings.warn(\n",
      "c:\\Users\\jopbr\\miniconda3\\envs\\intel_env\\lib\\site-packages\\sklearn\\linear_model\\_sag.py:348: ConvergenceWarning: The max_iter was reached which means the coef_ did not converge\n",
      "  warnings.warn(\n",
      "C:\\Users\\jopbr\\AppData\\Local\\Temp\\ipykernel_17544\\38239846.py:169: DeprecationWarning: DataFrameGroupBy.apply operated on the grouping columns. This behavior is deprecated, and in a future version of pandas the grouping columns will be excluded from the operation. Either pass `include_groups=False` to exclude the groupings or explicitly select the grouping columns after groupby to silence this warning.\n",
      "  val_returns = val_trade_df.groupby('DateTime').apply(\n",
      "c:\\Users\\jopbr\\miniconda3\\envs\\intel_env\\lib\\site-packages\\sklearn\\linear_model\\_logistic.py:1247: FutureWarning: 'multi_class' was deprecated in version 1.5 and will be removed in 1.7. From then on, it will always use 'multinomial'. Leave it to its default value to avoid this warning.\n",
      "  warnings.warn(\n",
      "c:\\Users\\jopbr\\miniconda3\\envs\\intel_env\\lib\\site-packages\\sklearn\\linear_model\\_sag.py:348: ConvergenceWarning: The max_iter was reached which means the coef_ did not converge\n",
      "  warnings.warn(\n",
      "C:\\Users\\jopbr\\AppData\\Local\\Temp\\ipykernel_17544\\38239846.py:169: DeprecationWarning: DataFrameGroupBy.apply operated on the grouping columns. This behavior is deprecated, and in a future version of pandas the grouping columns will be excluded from the operation. Either pass `include_groups=False` to exclude the groupings or explicitly select the grouping columns after groupby to silence this warning.\n",
      "  val_returns = val_trade_df.groupby('DateTime').apply(\n",
      "c:\\Users\\jopbr\\miniconda3\\envs\\intel_env\\lib\\site-packages\\sklearn\\linear_model\\_logistic.py:1247: FutureWarning: 'multi_class' was deprecated in version 1.5 and will be removed in 1.7. From then on, it will always use 'multinomial'. Leave it to its default value to avoid this warning.\n",
      "  warnings.warn(\n",
      "c:\\Users\\jopbr\\miniconda3\\envs\\intel_env\\lib\\site-packages\\sklearn\\linear_model\\_sag.py:348: ConvergenceWarning: The max_iter was reached which means the coef_ did not converge\n",
      "  warnings.warn(\n",
      "C:\\Users\\jopbr\\AppData\\Local\\Temp\\ipykernel_17544\\38239846.py:169: DeprecationWarning: DataFrameGroupBy.apply operated on the grouping columns. This behavior is deprecated, and in a future version of pandas the grouping columns will be excluded from the operation. Either pass `include_groups=False` to exclude the groupings or explicitly select the grouping columns after groupby to silence this warning.\n",
      "  val_returns = val_trade_df.groupby('DateTime').apply(\n",
      "C:\\Users\\jopbr\\AppData\\Local\\Temp\\ipykernel_17544\\38239846.py:196: DeprecationWarning: DataFrameGroupBy.apply operated on the grouping columns. This behavior is deprecated, and in a future version of pandas the grouping columns will be excluded from the operation. Either pass `include_groups=False` to exclude the groupings or explicitly select the grouping columns after groupby to silence this warning.\n",
      "  grouped_returns = test_trade_df.groupby('DateTime').apply(\n",
      "c:\\Users\\jopbr\\miniconda3\\envs\\intel_env\\lib\\site-packages\\sklearn\\linear_model\\_logistic.py:1247: FutureWarning: 'multi_class' was deprecated in version 1.5 and will be removed in 1.7. From then on, it will always use 'multinomial'. Leave it to its default value to avoid this warning.\n",
      "  warnings.warn(\n",
      "c:\\Users\\jopbr\\miniconda3\\envs\\intel_env\\lib\\site-packages\\sklearn\\linear_model\\_sag.py:348: ConvergenceWarning: The max_iter was reached which means the coef_ did not converge\n",
      "  warnings.warn(\n",
      "C:\\Users\\jopbr\\AppData\\Local\\Temp\\ipykernel_17544\\38239846.py:169: DeprecationWarning: DataFrameGroupBy.apply operated on the grouping columns. This behavior is deprecated, and in a future version of pandas the grouping columns will be excluded from the operation. Either pass `include_groups=False` to exclude the groupings or explicitly select the grouping columns after groupby to silence this warning.\n",
      "  val_returns = val_trade_df.groupby('DateTime').apply(\n",
      "c:\\Users\\jopbr\\miniconda3\\envs\\intel_env\\lib\\site-packages\\sklearn\\linear_model\\_logistic.py:1247: FutureWarning: 'multi_class' was deprecated in version 1.5 and will be removed in 1.7. From then on, it will always use 'multinomial'. Leave it to its default value to avoid this warning.\n",
      "  warnings.warn(\n",
      "c:\\Users\\jopbr\\miniconda3\\envs\\intel_env\\lib\\site-packages\\sklearn\\linear_model\\_sag.py:348: ConvergenceWarning: The max_iter was reached which means the coef_ did not converge\n",
      "  warnings.warn(\n",
      "C:\\Users\\jopbr\\AppData\\Local\\Temp\\ipykernel_17544\\38239846.py:169: DeprecationWarning: DataFrameGroupBy.apply operated on the grouping columns. This behavior is deprecated, and in a future version of pandas the grouping columns will be excluded from the operation. Either pass `include_groups=False` to exclude the groupings or explicitly select the grouping columns after groupby to silence this warning.\n",
      "  val_returns = val_trade_df.groupby('DateTime').apply(\n",
      "c:\\Users\\jopbr\\miniconda3\\envs\\intel_env\\lib\\site-packages\\sklearn\\linear_model\\_logistic.py:1247: FutureWarning: 'multi_class' was deprecated in version 1.5 and will be removed in 1.7. From then on, it will always use 'multinomial'. Leave it to its default value to avoid this warning.\n",
      "  warnings.warn(\n",
      "c:\\Users\\jopbr\\miniconda3\\envs\\intel_env\\lib\\site-packages\\sklearn\\linear_model\\_sag.py:348: ConvergenceWarning: The max_iter was reached which means the coef_ did not converge\n",
      "  warnings.warn(\n",
      "C:\\Users\\jopbr\\AppData\\Local\\Temp\\ipykernel_17544\\38239846.py:169: DeprecationWarning: DataFrameGroupBy.apply operated on the grouping columns. This behavior is deprecated, and in a future version of pandas the grouping columns will be excluded from the operation. Either pass `include_groups=False` to exclude the groupings or explicitly select the grouping columns after groupby to silence this warning.\n",
      "  val_returns = val_trade_df.groupby('DateTime').apply(\n",
      "C:\\Users\\jopbr\\AppData\\Local\\Temp\\ipykernel_17544\\38239846.py:196: DeprecationWarning: DataFrameGroupBy.apply operated on the grouping columns. This behavior is deprecated, and in a future version of pandas the grouping columns will be excluded from the operation. Either pass `include_groups=False` to exclude the groupings or explicitly select the grouping columns after groupby to silence this warning.\n",
      "  grouped_returns = test_trade_df.groupby('DateTime').apply(\n",
      "c:\\Users\\jopbr\\miniconda3\\envs\\intel_env\\lib\\site-packages\\sklearn\\linear_model\\_logistic.py:1247: FutureWarning: 'multi_class' was deprecated in version 1.5 and will be removed in 1.7. From then on, it will always use 'multinomial'. Leave it to its default value to avoid this warning.\n",
      "  warnings.warn(\n",
      "c:\\Users\\jopbr\\miniconda3\\envs\\intel_env\\lib\\site-packages\\sklearn\\linear_model\\_sag.py:348: ConvergenceWarning: The max_iter was reached which means the coef_ did not converge\n",
      "  warnings.warn(\n",
      "C:\\Users\\jopbr\\AppData\\Local\\Temp\\ipykernel_17544\\38239846.py:169: DeprecationWarning: DataFrameGroupBy.apply operated on the grouping columns. This behavior is deprecated, and in a future version of pandas the grouping columns will be excluded from the operation. Either pass `include_groups=False` to exclude the groupings or explicitly select the grouping columns after groupby to silence this warning.\n",
      "  val_returns = val_trade_df.groupby('DateTime').apply(\n",
      "c:\\Users\\jopbr\\miniconda3\\envs\\intel_env\\lib\\site-packages\\sklearn\\linear_model\\_logistic.py:1247: FutureWarning: 'multi_class' was deprecated in version 1.5 and will be removed in 1.7. From then on, it will always use 'multinomial'. Leave it to its default value to avoid this warning.\n",
      "  warnings.warn(\n",
      "c:\\Users\\jopbr\\miniconda3\\envs\\intel_env\\lib\\site-packages\\sklearn\\linear_model\\_sag.py:348: ConvergenceWarning: The max_iter was reached which means the coef_ did not converge\n",
      "  warnings.warn(\n",
      "C:\\Users\\jopbr\\AppData\\Local\\Temp\\ipykernel_17544\\38239846.py:169: DeprecationWarning: DataFrameGroupBy.apply operated on the grouping columns. This behavior is deprecated, and in a future version of pandas the grouping columns will be excluded from the operation. Either pass `include_groups=False` to exclude the groupings or explicitly select the grouping columns after groupby to silence this warning.\n",
      "  val_returns = val_trade_df.groupby('DateTime').apply(\n",
      "c:\\Users\\jopbr\\miniconda3\\envs\\intel_env\\lib\\site-packages\\sklearn\\linear_model\\_logistic.py:1247: FutureWarning: 'multi_class' was deprecated in version 1.5 and will be removed in 1.7. From then on, it will always use 'multinomial'. Leave it to its default value to avoid this warning.\n",
      "  warnings.warn(\n",
      "c:\\Users\\jopbr\\miniconda3\\envs\\intel_env\\lib\\site-packages\\sklearn\\linear_model\\_sag.py:348: ConvergenceWarning: The max_iter was reached which means the coef_ did not converge\n",
      "  warnings.warn(\n",
      "C:\\Users\\jopbr\\AppData\\Local\\Temp\\ipykernel_17544\\38239846.py:169: DeprecationWarning: DataFrameGroupBy.apply operated on the grouping columns. This behavior is deprecated, and in a future version of pandas the grouping columns will be excluded from the operation. Either pass `include_groups=False` to exclude the groupings or explicitly select the grouping columns after groupby to silence this warning.\n",
      "  val_returns = val_trade_df.groupby('DateTime').apply(\n",
      "C:\\Users\\jopbr\\AppData\\Local\\Temp\\ipykernel_17544\\38239846.py:196: DeprecationWarning: DataFrameGroupBy.apply operated on the grouping columns. This behavior is deprecated, and in a future version of pandas the grouping columns will be excluded from the operation. Either pass `include_groups=False` to exclude the groupings or explicitly select the grouping columns after groupby to silence this warning.\n",
      "  grouped_returns = test_trade_df.groupby('DateTime').apply(\n",
      "c:\\Users\\jopbr\\miniconda3\\envs\\intel_env\\lib\\site-packages\\sklearn\\linear_model\\_logistic.py:1247: FutureWarning: 'multi_class' was deprecated in version 1.5 and will be removed in 1.7. From then on, it will always use 'multinomial'. Leave it to its default value to avoid this warning.\n",
      "  warnings.warn(\n",
      "c:\\Users\\jopbr\\miniconda3\\envs\\intel_env\\lib\\site-packages\\sklearn\\linear_model\\_sag.py:348: ConvergenceWarning: The max_iter was reached which means the coef_ did not converge\n",
      "  warnings.warn(\n",
      "C:\\Users\\jopbr\\AppData\\Local\\Temp\\ipykernel_17544\\38239846.py:169: DeprecationWarning: DataFrameGroupBy.apply operated on the grouping columns. This behavior is deprecated, and in a future version of pandas the grouping columns will be excluded from the operation. Either pass `include_groups=False` to exclude the groupings or explicitly select the grouping columns after groupby to silence this warning.\n",
      "  val_returns = val_trade_df.groupby('DateTime').apply(\n",
      "c:\\Users\\jopbr\\miniconda3\\envs\\intel_env\\lib\\site-packages\\sklearn\\linear_model\\_logistic.py:1247: FutureWarning: 'multi_class' was deprecated in version 1.5 and will be removed in 1.7. From then on, it will always use 'multinomial'. Leave it to its default value to avoid this warning.\n",
      "  warnings.warn(\n",
      "c:\\Users\\jopbr\\miniconda3\\envs\\intel_env\\lib\\site-packages\\sklearn\\linear_model\\_sag.py:348: ConvergenceWarning: The max_iter was reached which means the coef_ did not converge\n",
      "  warnings.warn(\n",
      "C:\\Users\\jopbr\\AppData\\Local\\Temp\\ipykernel_17544\\38239846.py:169: DeprecationWarning: DataFrameGroupBy.apply operated on the grouping columns. This behavior is deprecated, and in a future version of pandas the grouping columns will be excluded from the operation. Either pass `include_groups=False` to exclude the groupings or explicitly select the grouping columns after groupby to silence this warning.\n",
      "  val_returns = val_trade_df.groupby('DateTime').apply(\n",
      "c:\\Users\\jopbr\\miniconda3\\envs\\intel_env\\lib\\site-packages\\sklearn\\linear_model\\_logistic.py:1247: FutureWarning: 'multi_class' was deprecated in version 1.5 and will be removed in 1.7. From then on, it will always use 'multinomial'. Leave it to its default value to avoid this warning.\n",
      "  warnings.warn(\n",
      "c:\\Users\\jopbr\\miniconda3\\envs\\intel_env\\lib\\site-packages\\sklearn\\linear_model\\_sag.py:348: ConvergenceWarning: The max_iter was reached which means the coef_ did not converge\n",
      "  warnings.warn(\n",
      "C:\\Users\\jopbr\\AppData\\Local\\Temp\\ipykernel_17544\\38239846.py:169: DeprecationWarning: DataFrameGroupBy.apply operated on the grouping columns. This behavior is deprecated, and in a future version of pandas the grouping columns will be excluded from the operation. Either pass `include_groups=False` to exclude the groupings or explicitly select the grouping columns after groupby to silence this warning.\n",
      "  val_returns = val_trade_df.groupby('DateTime').apply(\n",
      "C:\\Users\\jopbr\\AppData\\Local\\Temp\\ipykernel_17544\\38239846.py:196: DeprecationWarning: DataFrameGroupBy.apply operated on the grouping columns. This behavior is deprecated, and in a future version of pandas the grouping columns will be excluded from the operation. Either pass `include_groups=False` to exclude the groupings or explicitly select the grouping columns after groupby to silence this warning.\n",
      "  grouped_returns = test_trade_df.groupby('DateTime').apply(\n",
      "c:\\Users\\jopbr\\miniconda3\\envs\\intel_env\\lib\\site-packages\\sklearn\\linear_model\\_logistic.py:1247: FutureWarning: 'multi_class' was deprecated in version 1.5 and will be removed in 1.7. From then on, it will always use 'multinomial'. Leave it to its default value to avoid this warning.\n",
      "  warnings.warn(\n",
      "c:\\Users\\jopbr\\miniconda3\\envs\\intel_env\\lib\\site-packages\\sklearn\\linear_model\\_sag.py:348: ConvergenceWarning: The max_iter was reached which means the coef_ did not converge\n",
      "  warnings.warn(\n",
      "C:\\Users\\jopbr\\AppData\\Local\\Temp\\ipykernel_17544\\38239846.py:169: DeprecationWarning: DataFrameGroupBy.apply operated on the grouping columns. This behavior is deprecated, and in a future version of pandas the grouping columns will be excluded from the operation. Either pass `include_groups=False` to exclude the groupings or explicitly select the grouping columns after groupby to silence this warning.\n",
      "  val_returns = val_trade_df.groupby('DateTime').apply(\n",
      "c:\\Users\\jopbr\\miniconda3\\envs\\intel_env\\lib\\site-packages\\sklearn\\linear_model\\_logistic.py:1247: FutureWarning: 'multi_class' was deprecated in version 1.5 and will be removed in 1.7. From then on, it will always use 'multinomial'. Leave it to its default value to avoid this warning.\n",
      "  warnings.warn(\n",
      "c:\\Users\\jopbr\\miniconda3\\envs\\intel_env\\lib\\site-packages\\sklearn\\linear_model\\_sag.py:348: ConvergenceWarning: The max_iter was reached which means the coef_ did not converge\n",
      "  warnings.warn(\n",
      "C:\\Users\\jopbr\\AppData\\Local\\Temp\\ipykernel_17544\\38239846.py:169: DeprecationWarning: DataFrameGroupBy.apply operated on the grouping columns. This behavior is deprecated, and in a future version of pandas the grouping columns will be excluded from the operation. Either pass `include_groups=False` to exclude the groupings or explicitly select the grouping columns after groupby to silence this warning.\n",
      "  val_returns = val_trade_df.groupby('DateTime').apply(\n",
      "c:\\Users\\jopbr\\miniconda3\\envs\\intel_env\\lib\\site-packages\\sklearn\\linear_model\\_logistic.py:1247: FutureWarning: 'multi_class' was deprecated in version 1.5 and will be removed in 1.7. From then on, it will always use 'multinomial'. Leave it to its default value to avoid this warning.\n",
      "  warnings.warn(\n",
      "c:\\Users\\jopbr\\miniconda3\\envs\\intel_env\\lib\\site-packages\\sklearn\\linear_model\\_sag.py:348: ConvergenceWarning: The max_iter was reached which means the coef_ did not converge\n",
      "  warnings.warn(\n",
      "C:\\Users\\jopbr\\AppData\\Local\\Temp\\ipykernel_17544\\38239846.py:169: DeprecationWarning: DataFrameGroupBy.apply operated on the grouping columns. This behavior is deprecated, and in a future version of pandas the grouping columns will be excluded from the operation. Either pass `include_groups=False` to exclude the groupings or explicitly select the grouping columns after groupby to silence this warning.\n",
      "  val_returns = val_trade_df.groupby('DateTime').apply(\n",
      "C:\\Users\\jopbr\\AppData\\Local\\Temp\\ipykernel_17544\\38239846.py:196: DeprecationWarning: DataFrameGroupBy.apply operated on the grouping columns. This behavior is deprecated, and in a future version of pandas the grouping columns will be excluded from the operation. Either pass `include_groups=False` to exclude the groupings or explicitly select the grouping columns after groupby to silence this warning.\n",
      "  grouped_returns = test_trade_df.groupby('DateTime').apply(\n",
      "c:\\Users\\jopbr\\miniconda3\\envs\\intel_env\\lib\\site-packages\\sklearn\\linear_model\\_logistic.py:1247: FutureWarning: 'multi_class' was deprecated in version 1.5 and will be removed in 1.7. From then on, it will always use 'multinomial'. Leave it to its default value to avoid this warning.\n",
      "  warnings.warn(\n",
      "c:\\Users\\jopbr\\miniconda3\\envs\\intel_env\\lib\\site-packages\\sklearn\\linear_model\\_sag.py:348: ConvergenceWarning: The max_iter was reached which means the coef_ did not converge\n",
      "  warnings.warn(\n",
      "C:\\Users\\jopbr\\AppData\\Local\\Temp\\ipykernel_17544\\38239846.py:169: DeprecationWarning: DataFrameGroupBy.apply operated on the grouping columns. This behavior is deprecated, and in a future version of pandas the grouping columns will be excluded from the operation. Either pass `include_groups=False` to exclude the groupings or explicitly select the grouping columns after groupby to silence this warning.\n",
      "  val_returns = val_trade_df.groupby('DateTime').apply(\n",
      "c:\\Users\\jopbr\\miniconda3\\envs\\intel_env\\lib\\site-packages\\sklearn\\linear_model\\_logistic.py:1247: FutureWarning: 'multi_class' was deprecated in version 1.5 and will be removed in 1.7. From then on, it will always use 'multinomial'. Leave it to its default value to avoid this warning.\n",
      "  warnings.warn(\n",
      "c:\\Users\\jopbr\\miniconda3\\envs\\intel_env\\lib\\site-packages\\sklearn\\linear_model\\_sag.py:348: ConvergenceWarning: The max_iter was reached which means the coef_ did not converge\n",
      "  warnings.warn(\n",
      "C:\\Users\\jopbr\\AppData\\Local\\Temp\\ipykernel_17544\\38239846.py:169: DeprecationWarning: DataFrameGroupBy.apply operated on the grouping columns. This behavior is deprecated, and in a future version of pandas the grouping columns will be excluded from the operation. Either pass `include_groups=False` to exclude the groupings or explicitly select the grouping columns after groupby to silence this warning.\n",
      "  val_returns = val_trade_df.groupby('DateTime').apply(\n",
      "c:\\Users\\jopbr\\miniconda3\\envs\\intel_env\\lib\\site-packages\\sklearn\\linear_model\\_logistic.py:1247: FutureWarning: 'multi_class' was deprecated in version 1.5 and will be removed in 1.7. From then on, it will always use 'multinomial'. Leave it to its default value to avoid this warning.\n",
      "  warnings.warn(\n",
      "c:\\Users\\jopbr\\miniconda3\\envs\\intel_env\\lib\\site-packages\\sklearn\\linear_model\\_sag.py:348: ConvergenceWarning: The max_iter was reached which means the coef_ did not converge\n",
      "  warnings.warn(\n",
      "C:\\Users\\jopbr\\AppData\\Local\\Temp\\ipykernel_17544\\38239846.py:169: DeprecationWarning: DataFrameGroupBy.apply operated on the grouping columns. This behavior is deprecated, and in a future version of pandas the grouping columns will be excluded from the operation. Either pass `include_groups=False` to exclude the groupings or explicitly select the grouping columns after groupby to silence this warning.\n",
      "  val_returns = val_trade_df.groupby('DateTime').apply(\n",
      "C:\\Users\\jopbr\\AppData\\Local\\Temp\\ipykernel_17544\\38239846.py:196: DeprecationWarning: DataFrameGroupBy.apply operated on the grouping columns. This behavior is deprecated, and in a future version of pandas the grouping columns will be excluded from the operation. Either pass `include_groups=False` to exclude the groupings or explicitly select the grouping columns after groupby to silence this warning.\n",
      "  grouped_returns = test_trade_df.groupby('DateTime').apply(\n",
      "c:\\Users\\jopbr\\miniconda3\\envs\\intel_env\\lib\\site-packages\\sklearn\\linear_model\\_logistic.py:1247: FutureWarning: 'multi_class' was deprecated in version 1.5 and will be removed in 1.7. From then on, it will always use 'multinomial'. Leave it to its default value to avoid this warning.\n",
      "  warnings.warn(\n",
      "c:\\Users\\jopbr\\miniconda3\\envs\\intel_env\\lib\\site-packages\\sklearn\\linear_model\\_sag.py:348: ConvergenceWarning: The max_iter was reached which means the coef_ did not converge\n",
      "  warnings.warn(\n",
      "C:\\Users\\jopbr\\AppData\\Local\\Temp\\ipykernel_17544\\38239846.py:169: DeprecationWarning: DataFrameGroupBy.apply operated on the grouping columns. This behavior is deprecated, and in a future version of pandas the grouping columns will be excluded from the operation. Either pass `include_groups=False` to exclude the groupings or explicitly select the grouping columns after groupby to silence this warning.\n",
      "  val_returns = val_trade_df.groupby('DateTime').apply(\n",
      "c:\\Users\\jopbr\\miniconda3\\envs\\intel_env\\lib\\site-packages\\sklearn\\linear_model\\_logistic.py:1247: FutureWarning: 'multi_class' was deprecated in version 1.5 and will be removed in 1.7. From then on, it will always use 'multinomial'. Leave it to its default value to avoid this warning.\n",
      "  warnings.warn(\n",
      "c:\\Users\\jopbr\\miniconda3\\envs\\intel_env\\lib\\site-packages\\sklearn\\linear_model\\_sag.py:348: ConvergenceWarning: The max_iter was reached which means the coef_ did not converge\n",
      "  warnings.warn(\n",
      "C:\\Users\\jopbr\\AppData\\Local\\Temp\\ipykernel_17544\\38239846.py:169: DeprecationWarning: DataFrameGroupBy.apply operated on the grouping columns. This behavior is deprecated, and in a future version of pandas the grouping columns will be excluded from the operation. Either pass `include_groups=False` to exclude the groupings or explicitly select the grouping columns after groupby to silence this warning.\n",
      "  val_returns = val_trade_df.groupby('DateTime').apply(\n",
      "c:\\Users\\jopbr\\miniconda3\\envs\\intel_env\\lib\\site-packages\\sklearn\\linear_model\\_logistic.py:1247: FutureWarning: 'multi_class' was deprecated in version 1.5 and will be removed in 1.7. From then on, it will always use 'multinomial'. Leave it to its default value to avoid this warning.\n",
      "  warnings.warn(\n",
      "c:\\Users\\jopbr\\miniconda3\\envs\\intel_env\\lib\\site-packages\\sklearn\\linear_model\\_sag.py:348: ConvergenceWarning: The max_iter was reached which means the coef_ did not converge\n",
      "  warnings.warn(\n",
      "C:\\Users\\jopbr\\AppData\\Local\\Temp\\ipykernel_17544\\38239846.py:169: DeprecationWarning: DataFrameGroupBy.apply operated on the grouping columns. This behavior is deprecated, and in a future version of pandas the grouping columns will be excluded from the operation. Either pass `include_groups=False` to exclude the groupings or explicitly select the grouping columns after groupby to silence this warning.\n",
      "  val_returns = val_trade_df.groupby('DateTime').apply(\n",
      "C:\\Users\\jopbr\\AppData\\Local\\Temp\\ipykernel_17544\\38239846.py:196: DeprecationWarning: DataFrameGroupBy.apply operated on the grouping columns. This behavior is deprecated, and in a future version of pandas the grouping columns will be excluded from the operation. Either pass `include_groups=False` to exclude the groupings or explicitly select the grouping columns after groupby to silence this warning.\n",
      "  grouped_returns = test_trade_df.groupby('DateTime').apply(\n",
      "c:\\Users\\jopbr\\miniconda3\\envs\\intel_env\\lib\\site-packages\\sklearn\\linear_model\\_logistic.py:1247: FutureWarning: 'multi_class' was deprecated in version 1.5 and will be removed in 1.7. From then on, it will always use 'multinomial'. Leave it to its default value to avoid this warning.\n",
      "  warnings.warn(\n",
      "c:\\Users\\jopbr\\miniconda3\\envs\\intel_env\\lib\\site-packages\\sklearn\\linear_model\\_sag.py:348: ConvergenceWarning: The max_iter was reached which means the coef_ did not converge\n",
      "  warnings.warn(\n",
      "C:\\Users\\jopbr\\AppData\\Local\\Temp\\ipykernel_17544\\38239846.py:169: DeprecationWarning: DataFrameGroupBy.apply operated on the grouping columns. This behavior is deprecated, and in a future version of pandas the grouping columns will be excluded from the operation. Either pass `include_groups=False` to exclude the groupings or explicitly select the grouping columns after groupby to silence this warning.\n",
      "  val_returns = val_trade_df.groupby('DateTime').apply(\n",
      "c:\\Users\\jopbr\\miniconda3\\envs\\intel_env\\lib\\site-packages\\sklearn\\linear_model\\_logistic.py:1247: FutureWarning: 'multi_class' was deprecated in version 1.5 and will be removed in 1.7. From then on, it will always use 'multinomial'. Leave it to its default value to avoid this warning.\n",
      "  warnings.warn(\n",
      "c:\\Users\\jopbr\\miniconda3\\envs\\intel_env\\lib\\site-packages\\sklearn\\linear_model\\_sag.py:348: ConvergenceWarning: The max_iter was reached which means the coef_ did not converge\n",
      "  warnings.warn(\n",
      "C:\\Users\\jopbr\\AppData\\Local\\Temp\\ipykernel_17544\\38239846.py:169: DeprecationWarning: DataFrameGroupBy.apply operated on the grouping columns. This behavior is deprecated, and in a future version of pandas the grouping columns will be excluded from the operation. Either pass `include_groups=False` to exclude the groupings or explicitly select the grouping columns after groupby to silence this warning.\n",
      "  val_returns = val_trade_df.groupby('DateTime').apply(\n",
      "c:\\Users\\jopbr\\miniconda3\\envs\\intel_env\\lib\\site-packages\\sklearn\\linear_model\\_logistic.py:1247: FutureWarning: 'multi_class' was deprecated in version 1.5 and will be removed in 1.7. From then on, it will always use 'multinomial'. Leave it to its default value to avoid this warning.\n",
      "  warnings.warn(\n",
      "c:\\Users\\jopbr\\miniconda3\\envs\\intel_env\\lib\\site-packages\\sklearn\\linear_model\\_sag.py:348: ConvergenceWarning: The max_iter was reached which means the coef_ did not converge\n",
      "  warnings.warn(\n",
      "C:\\Users\\jopbr\\AppData\\Local\\Temp\\ipykernel_17544\\38239846.py:169: DeprecationWarning: DataFrameGroupBy.apply operated on the grouping columns. This behavior is deprecated, and in a future version of pandas the grouping columns will be excluded from the operation. Either pass `include_groups=False` to exclude the groupings or explicitly select the grouping columns after groupby to silence this warning.\n",
      "  val_returns = val_trade_df.groupby('DateTime').apply(\n",
      "C:\\Users\\jopbr\\AppData\\Local\\Temp\\ipykernel_17544\\38239846.py:196: DeprecationWarning: DataFrameGroupBy.apply operated on the grouping columns. This behavior is deprecated, and in a future version of pandas the grouping columns will be excluded from the operation. Either pass `include_groups=False` to exclude the groupings or explicitly select the grouping columns after groupby to silence this warning.\n",
      "  grouped_returns = test_trade_df.groupby('DateTime').apply(\n",
      "c:\\Users\\jopbr\\miniconda3\\envs\\intel_env\\lib\\site-packages\\sklearn\\linear_model\\_logistic.py:1247: FutureWarning: 'multi_class' was deprecated in version 1.5 and will be removed in 1.7. From then on, it will always use 'multinomial'. Leave it to its default value to avoid this warning.\n",
      "  warnings.warn(\n",
      "c:\\Users\\jopbr\\miniconda3\\envs\\intel_env\\lib\\site-packages\\sklearn\\linear_model\\_sag.py:348: ConvergenceWarning: The max_iter was reached which means the coef_ did not converge\n",
      "  warnings.warn(\n",
      "C:\\Users\\jopbr\\AppData\\Local\\Temp\\ipykernel_17544\\38239846.py:169: DeprecationWarning: DataFrameGroupBy.apply operated on the grouping columns. This behavior is deprecated, and in a future version of pandas the grouping columns will be excluded from the operation. Either pass `include_groups=False` to exclude the groupings or explicitly select the grouping columns after groupby to silence this warning.\n",
      "  val_returns = val_trade_df.groupby('DateTime').apply(\n",
      "c:\\Users\\jopbr\\miniconda3\\envs\\intel_env\\lib\\site-packages\\sklearn\\linear_model\\_logistic.py:1247: FutureWarning: 'multi_class' was deprecated in version 1.5 and will be removed in 1.7. From then on, it will always use 'multinomial'. Leave it to its default value to avoid this warning.\n",
      "  warnings.warn(\n",
      "c:\\Users\\jopbr\\miniconda3\\envs\\intel_env\\lib\\site-packages\\sklearn\\linear_model\\_sag.py:348: ConvergenceWarning: The max_iter was reached which means the coef_ did not converge\n",
      "  warnings.warn(\n",
      "C:\\Users\\jopbr\\AppData\\Local\\Temp\\ipykernel_17544\\38239846.py:169: DeprecationWarning: DataFrameGroupBy.apply operated on the grouping columns. This behavior is deprecated, and in a future version of pandas the grouping columns will be excluded from the operation. Either pass `include_groups=False` to exclude the groupings or explicitly select the grouping columns after groupby to silence this warning.\n",
      "  val_returns = val_trade_df.groupby('DateTime').apply(\n",
      "c:\\Users\\jopbr\\miniconda3\\envs\\intel_env\\lib\\site-packages\\sklearn\\linear_model\\_logistic.py:1247: FutureWarning: 'multi_class' was deprecated in version 1.5 and will be removed in 1.7. From then on, it will always use 'multinomial'. Leave it to its default value to avoid this warning.\n",
      "  warnings.warn(\n",
      "c:\\Users\\jopbr\\miniconda3\\envs\\intel_env\\lib\\site-packages\\sklearn\\linear_model\\_sag.py:348: ConvergenceWarning: The max_iter was reached which means the coef_ did not converge\n",
      "  warnings.warn(\n",
      "C:\\Users\\jopbr\\AppData\\Local\\Temp\\ipykernel_17544\\38239846.py:169: DeprecationWarning: DataFrameGroupBy.apply operated on the grouping columns. This behavior is deprecated, and in a future version of pandas the grouping columns will be excluded from the operation. Either pass `include_groups=False` to exclude the groupings or explicitly select the grouping columns after groupby to silence this warning.\n",
      "  val_returns = val_trade_df.groupby('DateTime').apply(\n",
      "C:\\Users\\jopbr\\AppData\\Local\\Temp\\ipykernel_17544\\38239846.py:196: DeprecationWarning: DataFrameGroupBy.apply operated on the grouping columns. This behavior is deprecated, and in a future version of pandas the grouping columns will be excluded from the operation. Either pass `include_groups=False` to exclude the groupings or explicitly select the grouping columns after groupby to silence this warning.\n",
      "  grouped_returns = test_trade_df.groupby('DateTime').apply(\n",
      "c:\\Users\\jopbr\\miniconda3\\envs\\intel_env\\lib\\site-packages\\sklearn\\linear_model\\_logistic.py:1247: FutureWarning: 'multi_class' was deprecated in version 1.5 and will be removed in 1.7. From then on, it will always use 'multinomial'. Leave it to its default value to avoid this warning.\n",
      "  warnings.warn(\n",
      "c:\\Users\\jopbr\\miniconda3\\envs\\intel_env\\lib\\site-packages\\sklearn\\linear_model\\_sag.py:348: ConvergenceWarning: The max_iter was reached which means the coef_ did not converge\n",
      "  warnings.warn(\n",
      "C:\\Users\\jopbr\\AppData\\Local\\Temp\\ipykernel_17544\\38239846.py:169: DeprecationWarning: DataFrameGroupBy.apply operated on the grouping columns. This behavior is deprecated, and in a future version of pandas the grouping columns will be excluded from the operation. Either pass `include_groups=False` to exclude the groupings or explicitly select the grouping columns after groupby to silence this warning.\n",
      "  val_returns = val_trade_df.groupby('DateTime').apply(\n",
      "c:\\Users\\jopbr\\miniconda3\\envs\\intel_env\\lib\\site-packages\\sklearn\\linear_model\\_logistic.py:1247: FutureWarning: 'multi_class' was deprecated in version 1.5 and will be removed in 1.7. From then on, it will always use 'multinomial'. Leave it to its default value to avoid this warning.\n",
      "  warnings.warn(\n",
      "c:\\Users\\jopbr\\miniconda3\\envs\\intel_env\\lib\\site-packages\\sklearn\\linear_model\\_sag.py:348: ConvergenceWarning: The max_iter was reached which means the coef_ did not converge\n",
      "  warnings.warn(\n",
      "C:\\Users\\jopbr\\AppData\\Local\\Temp\\ipykernel_17544\\38239846.py:169: DeprecationWarning: DataFrameGroupBy.apply operated on the grouping columns. This behavior is deprecated, and in a future version of pandas the grouping columns will be excluded from the operation. Either pass `include_groups=False` to exclude the groupings or explicitly select the grouping columns after groupby to silence this warning.\n",
      "  val_returns = val_trade_df.groupby('DateTime').apply(\n",
      "c:\\Users\\jopbr\\miniconda3\\envs\\intel_env\\lib\\site-packages\\sklearn\\linear_model\\_logistic.py:1247: FutureWarning: 'multi_class' was deprecated in version 1.5 and will be removed in 1.7. From then on, it will always use 'multinomial'. Leave it to its default value to avoid this warning.\n",
      "  warnings.warn(\n",
      "c:\\Users\\jopbr\\miniconda3\\envs\\intel_env\\lib\\site-packages\\sklearn\\linear_model\\_sag.py:348: ConvergenceWarning: The max_iter was reached which means the coef_ did not converge\n",
      "  warnings.warn(\n",
      "C:\\Users\\jopbr\\AppData\\Local\\Temp\\ipykernel_17544\\38239846.py:169: DeprecationWarning: DataFrameGroupBy.apply operated on the grouping columns. This behavior is deprecated, and in a future version of pandas the grouping columns will be excluded from the operation. Either pass `include_groups=False` to exclude the groupings or explicitly select the grouping columns after groupby to silence this warning.\n",
      "  val_returns = val_trade_df.groupby('DateTime').apply(\n",
      "C:\\Users\\jopbr\\AppData\\Local\\Temp\\ipykernel_17544\\38239846.py:196: DeprecationWarning: DataFrameGroupBy.apply operated on the grouping columns. This behavior is deprecated, and in a future version of pandas the grouping columns will be excluded from the operation. Either pass `include_groups=False` to exclude the groupings or explicitly select the grouping columns after groupby to silence this warning.\n",
      "  grouped_returns = test_trade_df.groupby('DateTime').apply(\n",
      "c:\\Users\\jopbr\\miniconda3\\envs\\intel_env\\lib\\site-packages\\sklearn\\linear_model\\_logistic.py:1247: FutureWarning: 'multi_class' was deprecated in version 1.5 and will be removed in 1.7. From then on, it will always use 'multinomial'. Leave it to its default value to avoid this warning.\n",
      "  warnings.warn(\n",
      "c:\\Users\\jopbr\\miniconda3\\envs\\intel_env\\lib\\site-packages\\sklearn\\linear_model\\_sag.py:348: ConvergenceWarning: The max_iter was reached which means the coef_ did not converge\n",
      "  warnings.warn(\n",
      "C:\\Users\\jopbr\\AppData\\Local\\Temp\\ipykernel_17544\\38239846.py:169: DeprecationWarning: DataFrameGroupBy.apply operated on the grouping columns. This behavior is deprecated, and in a future version of pandas the grouping columns will be excluded from the operation. Either pass `include_groups=False` to exclude the groupings or explicitly select the grouping columns after groupby to silence this warning.\n",
      "  val_returns = val_trade_df.groupby('DateTime').apply(\n",
      "c:\\Users\\jopbr\\miniconda3\\envs\\intel_env\\lib\\site-packages\\sklearn\\linear_model\\_logistic.py:1247: FutureWarning: 'multi_class' was deprecated in version 1.5 and will be removed in 1.7. From then on, it will always use 'multinomial'. Leave it to its default value to avoid this warning.\n",
      "  warnings.warn(\n",
      "c:\\Users\\jopbr\\miniconda3\\envs\\intel_env\\lib\\site-packages\\sklearn\\linear_model\\_sag.py:348: ConvergenceWarning: The max_iter was reached which means the coef_ did not converge\n",
      "  warnings.warn(\n",
      "C:\\Users\\jopbr\\AppData\\Local\\Temp\\ipykernel_17544\\38239846.py:169: DeprecationWarning: DataFrameGroupBy.apply operated on the grouping columns. This behavior is deprecated, and in a future version of pandas the grouping columns will be excluded from the operation. Either pass `include_groups=False` to exclude the groupings or explicitly select the grouping columns after groupby to silence this warning.\n",
      "  val_returns = val_trade_df.groupby('DateTime').apply(\n",
      "c:\\Users\\jopbr\\miniconda3\\envs\\intel_env\\lib\\site-packages\\sklearn\\linear_model\\_logistic.py:1247: FutureWarning: 'multi_class' was deprecated in version 1.5 and will be removed in 1.7. From then on, it will always use 'multinomial'. Leave it to its default value to avoid this warning.\n",
      "  warnings.warn(\n",
      "c:\\Users\\jopbr\\miniconda3\\envs\\intel_env\\lib\\site-packages\\sklearn\\linear_model\\_sag.py:348: ConvergenceWarning: The max_iter was reached which means the coef_ did not converge\n",
      "  warnings.warn(\n",
      "C:\\Users\\jopbr\\AppData\\Local\\Temp\\ipykernel_17544\\38239846.py:169: DeprecationWarning: DataFrameGroupBy.apply operated on the grouping columns. This behavior is deprecated, and in a future version of pandas the grouping columns will be excluded from the operation. Either pass `include_groups=False` to exclude the groupings or explicitly select the grouping columns after groupby to silence this warning.\n",
      "  val_returns = val_trade_df.groupby('DateTime').apply(\n",
      "C:\\Users\\jopbr\\AppData\\Local\\Temp\\ipykernel_17544\\38239846.py:196: DeprecationWarning: DataFrameGroupBy.apply operated on the grouping columns. This behavior is deprecated, and in a future version of pandas the grouping columns will be excluded from the operation. Either pass `include_groups=False` to exclude the groupings or explicitly select the grouping columns after groupby to silence this warning.\n",
      "  grouped_returns = test_trade_df.groupby('DateTime').apply(\n",
      "c:\\Users\\jopbr\\miniconda3\\envs\\intel_env\\lib\\site-packages\\sklearn\\linear_model\\_logistic.py:1247: FutureWarning: 'multi_class' was deprecated in version 1.5 and will be removed in 1.7. From then on, it will always use 'multinomial'. Leave it to its default value to avoid this warning.\n",
      "  warnings.warn(\n",
      "c:\\Users\\jopbr\\miniconda3\\envs\\intel_env\\lib\\site-packages\\sklearn\\linear_model\\_sag.py:348: ConvergenceWarning: The max_iter was reached which means the coef_ did not converge\n",
      "  warnings.warn(\n",
      "C:\\Users\\jopbr\\AppData\\Local\\Temp\\ipykernel_17544\\38239846.py:169: DeprecationWarning: DataFrameGroupBy.apply operated on the grouping columns. This behavior is deprecated, and in a future version of pandas the grouping columns will be excluded from the operation. Either pass `include_groups=False` to exclude the groupings or explicitly select the grouping columns after groupby to silence this warning.\n",
      "  val_returns = val_trade_df.groupby('DateTime').apply(\n",
      "c:\\Users\\jopbr\\miniconda3\\envs\\intel_env\\lib\\site-packages\\sklearn\\linear_model\\_logistic.py:1247: FutureWarning: 'multi_class' was deprecated in version 1.5 and will be removed in 1.7. From then on, it will always use 'multinomial'. Leave it to its default value to avoid this warning.\n",
      "  warnings.warn(\n",
      "c:\\Users\\jopbr\\miniconda3\\envs\\intel_env\\lib\\site-packages\\sklearn\\linear_model\\_sag.py:348: ConvergenceWarning: The max_iter was reached which means the coef_ did not converge\n",
      "  warnings.warn(\n",
      "C:\\Users\\jopbr\\AppData\\Local\\Temp\\ipykernel_17544\\38239846.py:169: DeprecationWarning: DataFrameGroupBy.apply operated on the grouping columns. This behavior is deprecated, and in a future version of pandas the grouping columns will be excluded from the operation. Either pass `include_groups=False` to exclude the groupings or explicitly select the grouping columns after groupby to silence this warning.\n",
      "  val_returns = val_trade_df.groupby('DateTime').apply(\n",
      "c:\\Users\\jopbr\\miniconda3\\envs\\intel_env\\lib\\site-packages\\sklearn\\linear_model\\_logistic.py:1247: FutureWarning: 'multi_class' was deprecated in version 1.5 and will be removed in 1.7. From then on, it will always use 'multinomial'. Leave it to its default value to avoid this warning.\n",
      "  warnings.warn(\n",
      "c:\\Users\\jopbr\\miniconda3\\envs\\intel_env\\lib\\site-packages\\sklearn\\linear_model\\_sag.py:348: ConvergenceWarning: The max_iter was reached which means the coef_ did not converge\n",
      "  warnings.warn(\n",
      "C:\\Users\\jopbr\\AppData\\Local\\Temp\\ipykernel_17544\\38239846.py:169: DeprecationWarning: DataFrameGroupBy.apply operated on the grouping columns. This behavior is deprecated, and in a future version of pandas the grouping columns will be excluded from the operation. Either pass `include_groups=False` to exclude the groupings or explicitly select the grouping columns after groupby to silence this warning.\n",
      "  val_returns = val_trade_df.groupby('DateTime').apply(\n",
      "C:\\Users\\jopbr\\AppData\\Local\\Temp\\ipykernel_17544\\38239846.py:196: DeprecationWarning: DataFrameGroupBy.apply operated on the grouping columns. This behavior is deprecated, and in a future version of pandas the grouping columns will be excluded from the operation. Either pass `include_groups=False` to exclude the groupings or explicitly select the grouping columns after groupby to silence this warning.\n",
      "  grouped_returns = test_trade_df.groupby('DateTime').apply(\n",
      "c:\\Users\\jopbr\\miniconda3\\envs\\intel_env\\lib\\site-packages\\sklearn\\linear_model\\_logistic.py:1247: FutureWarning: 'multi_class' was deprecated in version 1.5 and will be removed in 1.7. From then on, it will always use 'multinomial'. Leave it to its default value to avoid this warning.\n",
      "  warnings.warn(\n",
      "c:\\Users\\jopbr\\miniconda3\\envs\\intel_env\\lib\\site-packages\\sklearn\\linear_model\\_sag.py:348: ConvergenceWarning: The max_iter was reached which means the coef_ did not converge\n",
      "  warnings.warn(\n",
      "C:\\Users\\jopbr\\AppData\\Local\\Temp\\ipykernel_17544\\38239846.py:169: DeprecationWarning: DataFrameGroupBy.apply operated on the grouping columns. This behavior is deprecated, and in a future version of pandas the grouping columns will be excluded from the operation. Either pass `include_groups=False` to exclude the groupings or explicitly select the grouping columns after groupby to silence this warning.\n",
      "  val_returns = val_trade_df.groupby('DateTime').apply(\n",
      "c:\\Users\\jopbr\\miniconda3\\envs\\intel_env\\lib\\site-packages\\sklearn\\linear_model\\_logistic.py:1247: FutureWarning: 'multi_class' was deprecated in version 1.5 and will be removed in 1.7. From then on, it will always use 'multinomial'. Leave it to its default value to avoid this warning.\n",
      "  warnings.warn(\n",
      "c:\\Users\\jopbr\\miniconda3\\envs\\intel_env\\lib\\site-packages\\sklearn\\linear_model\\_sag.py:348: ConvergenceWarning: The max_iter was reached which means the coef_ did not converge\n",
      "  warnings.warn(\n",
      "C:\\Users\\jopbr\\AppData\\Local\\Temp\\ipykernel_17544\\38239846.py:169: DeprecationWarning: DataFrameGroupBy.apply operated on the grouping columns. This behavior is deprecated, and in a future version of pandas the grouping columns will be excluded from the operation. Either pass `include_groups=False` to exclude the groupings or explicitly select the grouping columns after groupby to silence this warning.\n",
      "  val_returns = val_trade_df.groupby('DateTime').apply(\n",
      "c:\\Users\\jopbr\\miniconda3\\envs\\intel_env\\lib\\site-packages\\sklearn\\linear_model\\_logistic.py:1247: FutureWarning: 'multi_class' was deprecated in version 1.5 and will be removed in 1.7. From then on, it will always use 'multinomial'. Leave it to its default value to avoid this warning.\n",
      "  warnings.warn(\n",
      "c:\\Users\\jopbr\\miniconda3\\envs\\intel_env\\lib\\site-packages\\sklearn\\linear_model\\_sag.py:348: ConvergenceWarning: The max_iter was reached which means the coef_ did not converge\n",
      "  warnings.warn(\n",
      "C:\\Users\\jopbr\\AppData\\Local\\Temp\\ipykernel_17544\\38239846.py:169: DeprecationWarning: DataFrameGroupBy.apply operated on the grouping columns. This behavior is deprecated, and in a future version of pandas the grouping columns will be excluded from the operation. Either pass `include_groups=False` to exclude the groupings or explicitly select the grouping columns after groupby to silence this warning.\n",
      "  val_returns = val_trade_df.groupby('DateTime').apply(\n",
      "C:\\Users\\jopbr\\AppData\\Local\\Temp\\ipykernel_17544\\38239846.py:196: DeprecationWarning: DataFrameGroupBy.apply operated on the grouping columns. This behavior is deprecated, and in a future version of pandas the grouping columns will be excluded from the operation. Either pass `include_groups=False` to exclude the groupings or explicitly select the grouping columns after groupby to silence this warning.\n",
      "  grouped_returns = test_trade_df.groupby('DateTime').apply(\n",
      "c:\\Users\\jopbr\\miniconda3\\envs\\intel_env\\lib\\site-packages\\sklearn\\linear_model\\_logistic.py:1247: FutureWarning: 'multi_class' was deprecated in version 1.5 and will be removed in 1.7. From then on, it will always use 'multinomial'. Leave it to its default value to avoid this warning.\n",
      "  warnings.warn(\n",
      "c:\\Users\\jopbr\\miniconda3\\envs\\intel_env\\lib\\site-packages\\sklearn\\linear_model\\_sag.py:348: ConvergenceWarning: The max_iter was reached which means the coef_ did not converge\n",
      "  warnings.warn(\n",
      "C:\\Users\\jopbr\\AppData\\Local\\Temp\\ipykernel_17544\\38239846.py:169: DeprecationWarning: DataFrameGroupBy.apply operated on the grouping columns. This behavior is deprecated, and in a future version of pandas the grouping columns will be excluded from the operation. Either pass `include_groups=False` to exclude the groupings or explicitly select the grouping columns after groupby to silence this warning.\n",
      "  val_returns = val_trade_df.groupby('DateTime').apply(\n",
      "c:\\Users\\jopbr\\miniconda3\\envs\\intel_env\\lib\\site-packages\\sklearn\\linear_model\\_logistic.py:1247: FutureWarning: 'multi_class' was deprecated in version 1.5 and will be removed in 1.7. From then on, it will always use 'multinomial'. Leave it to its default value to avoid this warning.\n",
      "  warnings.warn(\n",
      "c:\\Users\\jopbr\\miniconda3\\envs\\intel_env\\lib\\site-packages\\sklearn\\linear_model\\_sag.py:348: ConvergenceWarning: The max_iter was reached which means the coef_ did not converge\n",
      "  warnings.warn(\n",
      "C:\\Users\\jopbr\\AppData\\Local\\Temp\\ipykernel_17544\\38239846.py:169: DeprecationWarning: DataFrameGroupBy.apply operated on the grouping columns. This behavior is deprecated, and in a future version of pandas the grouping columns will be excluded from the operation. Either pass `include_groups=False` to exclude the groupings or explicitly select the grouping columns after groupby to silence this warning.\n",
      "  val_returns = val_trade_df.groupby('DateTime').apply(\n",
      "c:\\Users\\jopbr\\miniconda3\\envs\\intel_env\\lib\\site-packages\\sklearn\\linear_model\\_logistic.py:1247: FutureWarning: 'multi_class' was deprecated in version 1.5 and will be removed in 1.7. From then on, it will always use 'multinomial'. Leave it to its default value to avoid this warning.\n",
      "  warnings.warn(\n",
      "c:\\Users\\jopbr\\miniconda3\\envs\\intel_env\\lib\\site-packages\\sklearn\\linear_model\\_sag.py:348: ConvergenceWarning: The max_iter was reached which means the coef_ did not converge\n",
      "  warnings.warn(\n",
      "C:\\Users\\jopbr\\AppData\\Local\\Temp\\ipykernel_17544\\38239846.py:169: DeprecationWarning: DataFrameGroupBy.apply operated on the grouping columns. This behavior is deprecated, and in a future version of pandas the grouping columns will be excluded from the operation. Either pass `include_groups=False` to exclude the groupings or explicitly select the grouping columns after groupby to silence this warning.\n",
      "  val_returns = val_trade_df.groupby('DateTime').apply(\n",
      "C:\\Users\\jopbr\\AppData\\Local\\Temp\\ipykernel_17544\\38239846.py:196: DeprecationWarning: DataFrameGroupBy.apply operated on the grouping columns. This behavior is deprecated, and in a future version of pandas the grouping columns will be excluded from the operation. Either pass `include_groups=False` to exclude the groupings or explicitly select the grouping columns after groupby to silence this warning.\n",
      "  grouped_returns = test_trade_df.groupby('DateTime').apply(\n",
      "c:\\Users\\jopbr\\miniconda3\\envs\\intel_env\\lib\\site-packages\\sklearn\\linear_model\\_logistic.py:1247: FutureWarning: 'multi_class' was deprecated in version 1.5 and will be removed in 1.7. From then on, it will always use 'multinomial'. Leave it to its default value to avoid this warning.\n",
      "  warnings.warn(\n",
      "c:\\Users\\jopbr\\miniconda3\\envs\\intel_env\\lib\\site-packages\\sklearn\\linear_model\\_sag.py:348: ConvergenceWarning: The max_iter was reached which means the coef_ did not converge\n",
      "  warnings.warn(\n",
      "C:\\Users\\jopbr\\AppData\\Local\\Temp\\ipykernel_17544\\38239846.py:169: DeprecationWarning: DataFrameGroupBy.apply operated on the grouping columns. This behavior is deprecated, and in a future version of pandas the grouping columns will be excluded from the operation. Either pass `include_groups=False` to exclude the groupings or explicitly select the grouping columns after groupby to silence this warning.\n",
      "  val_returns = val_trade_df.groupby('DateTime').apply(\n",
      "c:\\Users\\jopbr\\miniconda3\\envs\\intel_env\\lib\\site-packages\\sklearn\\linear_model\\_logistic.py:1247: FutureWarning: 'multi_class' was deprecated in version 1.5 and will be removed in 1.7. From then on, it will always use 'multinomial'. Leave it to its default value to avoid this warning.\n",
      "  warnings.warn(\n",
      "c:\\Users\\jopbr\\miniconda3\\envs\\intel_env\\lib\\site-packages\\sklearn\\linear_model\\_sag.py:348: ConvergenceWarning: The max_iter was reached which means the coef_ did not converge\n",
      "  warnings.warn(\n",
      "C:\\Users\\jopbr\\AppData\\Local\\Temp\\ipykernel_17544\\38239846.py:169: DeprecationWarning: DataFrameGroupBy.apply operated on the grouping columns. This behavior is deprecated, and in a future version of pandas the grouping columns will be excluded from the operation. Either pass `include_groups=False` to exclude the groupings or explicitly select the grouping columns after groupby to silence this warning.\n",
      "  val_returns = val_trade_df.groupby('DateTime').apply(\n",
      "c:\\Users\\jopbr\\miniconda3\\envs\\intel_env\\lib\\site-packages\\sklearn\\linear_model\\_logistic.py:1247: FutureWarning: 'multi_class' was deprecated in version 1.5 and will be removed in 1.7. From then on, it will always use 'multinomial'. Leave it to its default value to avoid this warning.\n",
      "  warnings.warn(\n",
      "c:\\Users\\jopbr\\miniconda3\\envs\\intel_env\\lib\\site-packages\\sklearn\\linear_model\\_sag.py:348: ConvergenceWarning: The max_iter was reached which means the coef_ did not converge\n",
      "  warnings.warn(\n",
      "C:\\Users\\jopbr\\AppData\\Local\\Temp\\ipykernel_17544\\38239846.py:169: DeprecationWarning: DataFrameGroupBy.apply operated on the grouping columns. This behavior is deprecated, and in a future version of pandas the grouping columns will be excluded from the operation. Either pass `include_groups=False` to exclude the groupings or explicitly select the grouping columns after groupby to silence this warning.\n",
      "  val_returns = val_trade_df.groupby('DateTime').apply(\n",
      "C:\\Users\\jopbr\\AppData\\Local\\Temp\\ipykernel_17544\\38239846.py:196: DeprecationWarning: DataFrameGroupBy.apply operated on the grouping columns. This behavior is deprecated, and in a future version of pandas the grouping columns will be excluded from the operation. Either pass `include_groups=False` to exclude the groupings or explicitly select the grouping columns after groupby to silence this warning.\n",
      "  grouped_returns = test_trade_df.groupby('DateTime').apply(\n",
      "c:\\Users\\jopbr\\miniconda3\\envs\\intel_env\\lib\\site-packages\\sklearn\\linear_model\\_logistic.py:1247: FutureWarning: 'multi_class' was deprecated in version 1.5 and will be removed in 1.7. From then on, it will always use 'multinomial'. Leave it to its default value to avoid this warning.\n",
      "  warnings.warn(\n",
      "c:\\Users\\jopbr\\miniconda3\\envs\\intel_env\\lib\\site-packages\\sklearn\\linear_model\\_sag.py:348: ConvergenceWarning: The max_iter was reached which means the coef_ did not converge\n",
      "  warnings.warn(\n",
      "C:\\Users\\jopbr\\AppData\\Local\\Temp\\ipykernel_17544\\38239846.py:169: DeprecationWarning: DataFrameGroupBy.apply operated on the grouping columns. This behavior is deprecated, and in a future version of pandas the grouping columns will be excluded from the operation. Either pass `include_groups=False` to exclude the groupings or explicitly select the grouping columns after groupby to silence this warning.\n",
      "  val_returns = val_trade_df.groupby('DateTime').apply(\n",
      "c:\\Users\\jopbr\\miniconda3\\envs\\intel_env\\lib\\site-packages\\sklearn\\linear_model\\_logistic.py:1247: FutureWarning: 'multi_class' was deprecated in version 1.5 and will be removed in 1.7. From then on, it will always use 'multinomial'. Leave it to its default value to avoid this warning.\n",
      "  warnings.warn(\n",
      "c:\\Users\\jopbr\\miniconda3\\envs\\intel_env\\lib\\site-packages\\sklearn\\linear_model\\_sag.py:348: ConvergenceWarning: The max_iter was reached which means the coef_ did not converge\n",
      "  warnings.warn(\n",
      "C:\\Users\\jopbr\\AppData\\Local\\Temp\\ipykernel_17544\\38239846.py:169: DeprecationWarning: DataFrameGroupBy.apply operated on the grouping columns. This behavior is deprecated, and in a future version of pandas the grouping columns will be excluded from the operation. Either pass `include_groups=False` to exclude the groupings or explicitly select the grouping columns after groupby to silence this warning.\n",
      "  val_returns = val_trade_df.groupby('DateTime').apply(\n",
      "c:\\Users\\jopbr\\miniconda3\\envs\\intel_env\\lib\\site-packages\\sklearn\\linear_model\\_logistic.py:1247: FutureWarning: 'multi_class' was deprecated in version 1.5 and will be removed in 1.7. From then on, it will always use 'multinomial'. Leave it to its default value to avoid this warning.\n",
      "  warnings.warn(\n",
      "c:\\Users\\jopbr\\miniconda3\\envs\\intel_env\\lib\\site-packages\\sklearn\\linear_model\\_sag.py:348: ConvergenceWarning: The max_iter was reached which means the coef_ did not converge\n",
      "  warnings.warn(\n",
      "C:\\Users\\jopbr\\AppData\\Local\\Temp\\ipykernel_17544\\38239846.py:169: DeprecationWarning: DataFrameGroupBy.apply operated on the grouping columns. This behavior is deprecated, and in a future version of pandas the grouping columns will be excluded from the operation. Either pass `include_groups=False` to exclude the groupings or explicitly select the grouping columns after groupby to silence this warning.\n",
      "  val_returns = val_trade_df.groupby('DateTime').apply(\n",
      "C:\\Users\\jopbr\\AppData\\Local\\Temp\\ipykernel_17544\\38239846.py:196: DeprecationWarning: DataFrameGroupBy.apply operated on the grouping columns. This behavior is deprecated, and in a future version of pandas the grouping columns will be excluded from the operation. Either pass `include_groups=False` to exclude the groupings or explicitly select the grouping columns after groupby to silence this warning.\n",
      "  grouped_returns = test_trade_df.groupby('DateTime').apply(\n"
     ]
    },
    {
     "data": {
      "image/png": "[encoded data removed]",
      "text/plain": [
       "<Figure size 1200x600 with 1 Axes>"
      ]
     },
     "metadata": {},
     "output_type": "display_data"
    },
    {
     "name": "stdout",
     "output_type": "stream",
     "text": [
      "Final Cumulative Compounded Return: 1211.60%\n",
      "\n",
      "Overall Test Accuracy : 54.17%\n",
      "Overall Precision     : 38.26%\n",
      "Overall Recall        : 37.93%\n",
      "Overall F1 Score      : 37.52%\n",
      "Overall ROC AUC       : 57.94%\n",
      "\n",
      "Average Fold Test Return : 0.03678%\n",
      "\n",
      "Standard Deviation of All Test Returns (Aggregated Daily): 0.25499%\n",
      "\n",
      "Minimum Return (Aggregated Daily): -0.81072%\n",
      "\n",
      "Optimal Horizon Counts:\n",
      "(40 min)    8\n",
      "(10 min)    5\n",
      "(20 min)    4\n",
      "Name: count, dtype: int64\n",
      "\n",
      "Test Set Position Counts:\n",
      "Neutral (0): 141\n",
      "Long (1): 9432\n",
      "Short (2): 7675\n"
     ]
    }
   ],
   "source": [
    "from sklearn.linear_model import LogisticRegression\n",
    "import matplotlib.pyplot as plt\n",
    "from sklearn.preprocessing import StandardScaler\n",
    "from sklearn.metrics import (\n",
    "    accuracy_score,\n",
    "    f1_score,\n",
    "    roc_auc_score,\n",
    "    precision_score,\n",
    "    recall_score\n",
    ")\n",
    "import numpy as np\n",
    "import pandas as pd\n",
    "import os, random\n",
    "\n",
    "# Set seeds for reproducibility\n",
    "random.seed(42)\n",
    "np.random.seed(42)\n",
    "\n",
    "# feature_cols = all columns except 'DateTime' and the last 6 columns and also print out feature_cols and number of features\n",
    "feature_cols = df_ml.columns[:-6].tolist()\n",
    "feature_cols.remove('DateTime')\n",
    "print(\"Feature Columns:\", feature_cols)\n",
    "print(\"Number of Features:\", len(feature_cols))\n",
    "\n",
    "\n",
    "# --- Configuration ---\n",
    "horizons = [' (20 min)', ' (10 min)', ' (40 min)']\n",
    "\n",
    "# --- Data Prep ---\n",
    "df_ml = df_ml.dropna(subset=['Surprise']).sort_values('DateTime')\n",
    "min_date = df_ml['DateTime'].min()\n",
    "max_date = df_ml['DateTime'].max()\n",
    "\n",
    "# --- Calculate Initial 30% Training Period ---\n",
    "total_duration = max_date - min_date\n",
    "initial_train_duration = total_duration * 0.3\n",
    "train_end_date = min_date + initial_train_duration\n",
    "\n",
    "# --- Tracking containers ---\n",
    "all_test_returns = []\n",
    "all_dates = []\n",
    "all_test_preds = []\n",
    "all_test_truths = []\n",
    "all_test_probas = []\n",
    "fold_mean_returns = []\n",
    "best_horizons_list = []\n",
    "\n",
    "def calculate_grouped_returns(df_group, horizon, stop_loss=None):\n",
    "    \"\"\"Calculate returns with position sizing and stop loss\"\"\"\n",
    "    active_trades = df_group[df_group['pred'] != 0]\n",
    "    if active_trades.empty:\n",
    "        return 0.0\n",
    "\n",
    "    # Create copies with reset index\n",
    "    longs = active_trades[active_trades['pred'] == 1].copy().reset_index(drop=True)\n",
    "    shorts = active_trades[active_trades['pred'] == 2].copy().reset_index(drop=True)\n",
    "\n",
    "    total_confidence = longs['proba'].sum() + shorts['proba'].sum()\n",
    "    if total_confidence == 0:\n",
    "        return 0.0\n",
    "\n",
    "    num_trades = len(longs) + len(shorts)\n",
    "\n",
    "    long_returns = 0.0\n",
    "    short_returns = 0.0\n",
    "\n",
    "    # Process longs with capping\n",
    "    if not longs.empty:\n",
    "        long_weights = longs['proba'] / total_confidence\n",
    "        for idx in longs.index:\n",
    "            raw_return = longs.loc[idx, f'Forward Return{horizon}']\n",
    "            capped_raw = max(stop_loss, raw_return) if stop_loss is not None else raw_return\n",
    "            long_returns += capped_raw * long_weights.loc[idx]\n",
    "\n",
    "    # Process shorts with capping\n",
    "    if not shorts.empty:\n",
    "        short_weights = shorts['proba'] / total_confidence\n",
    "        for idx in shorts.index:\n",
    "            raw_return = -shorts.loc[idx, f'Forward Return{horizon}']\n",
    "            capped_raw = max(stop_loss, raw_return) if stop_loss is not None else raw_return\n",
    "            short_returns += capped_raw * short_weights.loc[idx]\n",
    "\n",
    "    net_return = (long_returns + short_returns)\n",
    "    return net_return\n",
    "\n",
    "# --- Main Loop ---\n",
    "while True:\n",
    "    val_start_date = train_end_date + pd.DateOffset(days=1)\n",
    "    val_end_date = val_start_date + pd.DateOffset(years=1)\n",
    "    test_start_date = val_end_date + pd.DateOffset(days=1)\n",
    "    test_end_date = test_start_date + pd.DateOffset(years=1)\n",
    "\n",
    "    if val_end_date > max_date or test_end_date > max_date:\n",
    "        break\n",
    "\n",
    "    train_mask = df_ml['DateTime'] <= train_end_date\n",
    "    val_mask = (df_ml['DateTime'] >= val_start_date) & (df_ml['DateTime'] <= val_end_date)\n",
    "    test_mask = (df_ml['DateTime'] >= test_start_date) & (df_ml['DateTime'] <= test_end_date)\n",
    "\n",
    "    train_data = df_ml[train_mask]\n",
    "    val_data = df_ml[val_mask]\n",
    "    test_data = df_ml[test_mask]\n",
    "\n",
    "    if val_data.empty or test_data.empty:\n",
    "        print(f\"Skipping period {val_start_date.date()} to {test_end_date.date()} (no data)\")\n",
    "        train_end_date += pd.DateOffset(years=1)\n",
    "        continue\n",
    "\n",
    "    # --- Horizon Optimization ---\n",
    "    best_horizon, best_model, best_stop_loss = None, None, None\n",
    "    best_val_return = -np.inf\n",
    "\n",
    "    for horizon in horizons:\n",
    "        # Feature scaling\n",
    "        scaler = StandardScaler()\n",
    "        X_train = scaler.fit_transform(train_data[feature_cols])\n",
    "        X_val = scaler.transform(val_data[feature_cols])\n",
    "        y_train = train_data[f'Target Signal{horizon}']\n",
    "        y_val = val_data[f'Target Signal{horizon}']\n",
    "\n",
    "        # Train Logistic Regression\n",
    "        model = LogisticRegression(\n",
    "            multi_class='multinomial',\n",
    "            solver='saga',\n",
    "            max_iter=100,\n",
    "            random_state=42\n",
    "        )\n",
    "        model.fit(X_train, y_train)\n",
    "\n",
    "        # Training stop loss calculation\n",
    "        train_preds = model.predict(X_train)\n",
    "        train_probas = model.predict_proba(X_train)\n",
    "        class_map = {cls: idx for idx, cls in enumerate(model.classes_)}\n",
    "\n",
    "        train_trade_df = pd.DataFrame({\n",
    "            'DateTime': train_data['DateTime'],\n",
    "            'pred': train_preds,\n",
    "            'proba': [proba[class_map[pred]] for pred, proba in zip(train_preds, train_probas)],\n",
    "            f'Forward Return{horizon}': train_data[f'Forward Return{horizon}']\n",
    "        })\n",
    "\n",
    "        train_raw_returns = []\n",
    "        for _, row in train_trade_df.iterrows():\n",
    "            if row['pred'] == 1:\n",
    "                train_raw_returns.append(row[f'Forward Return{horizon}'])\n",
    "            elif row['pred'] == 2:\n",
    "                train_raw_returns.append(-row[f'Forward Return{horizon}'])\n",
    "        stop_loss_train = np.percentile(train_raw_returns, 5) if train_raw_returns else None\n",
    "\n",
    "        # Validation predictions and stop loss\n",
    "        val_preds = model.predict(X_val)\n",
    "        val_probas = model.predict_proba(X_val)\n",
    "        val_trade_df = pd.DataFrame({\n",
    "            'DateTime': val_data['DateTime'],\n",
    "            'pred': val_preds,\n",
    "            'proba': [proba[class_map[pred]] for pred, proba in zip(val_preds, val_probas)],\n",
    "            f'Forward Return{horizon}': val_data[f'Forward Return{horizon}']\n",
    "        })\n",
    "\n",
    "        val_raw_returns = []\n",
    "        for _, row in val_trade_df.iterrows():\n",
    "            if row['pred'] == 1:\n",
    "                val_raw_returns.append(row[f'Forward Return{horizon}'])\n",
    "            elif row['pred'] == 2:\n",
    "                val_raw_returns.append(-row[f'Forward Return{horizon}'])\n",
    "        stop_loss_val = np.percentile(val_raw_returns, 5) if val_raw_returns else None\n",
    "\n",
    "        # Validate using training stop loss\n",
    "        val_returns = val_trade_df.groupby('DateTime').apply(\n",
    "            lambda x: calculate_grouped_returns(x, horizon, stop_loss_train)\n",
    "        ).values\n",
    "\n",
    "        total_val_return = (1 + val_returns).prod() - 1\n",
    "\n",
    "        if total_val_return > best_val_return:\n",
    "            best_val_return = total_val_return\n",
    "            best_horizon = horizon\n",
    "            best_model = model\n",
    "            best_stop_loss = stop_loss_val\n",
    "\n",
    "    # --- Test Best Model ---\n",
    "    if best_model and best_stop_loss is not None:\n",
    "        X_test = scaler.transform(test_data[feature_cols])\n",
    "        test_preds = best_model.predict(X_test)\n",
    "        test_probas = best_model.predict_proba(X_test)\n",
    "        y_test = test_data[f'Target Signal{best_horizon}'].values\n",
    "\n",
    "        class_map = {cls: idx for idx, cls in enumerate(best_model.classes_)}\n",
    "        test_trade_df = pd.DataFrame({\n",
    "            'DateTime': test_data['DateTime'],\n",
    "            'pred': test_preds,\n",
    "            'proba': [proba[class_map[pred]] for pred, proba in zip(test_preds, test_probas)],\n",
    "            f'Forward Return{best_horizon}': test_data[f'Forward Return{best_horizon}']\n",
    "        })\n",
    "\n",
    "        grouped_returns = test_trade_df.groupby('DateTime').apply(\n",
    "            lambda x: calculate_grouped_returns(x, best_horizon, best_stop_loss)\n",
    "        ).values\n",
    "\n",
    "        all_test_returns.extend(grouped_returns)\n",
    "        all_dates.extend(test_trade_df['DateTime'].unique().tolist())\n",
    "        all_test_preds.extend(test_preds)\n",
    "        all_test_truths.extend(y_test)\n",
    "        all_test_probas.append(test_probas)\n",
    "        fold_mean_returns.append(np.mean(grouped_returns))\n",
    "        best_horizons_list.append(best_horizon or 'standard')\n",
    "\n",
    "    train_end_date += pd.DateOffset(years=1)\n",
    "\n",
    "# --- Results ---\n",
    "if all_test_returns:\n",
    "    cumulative_returns = (1 + np.array(all_test_returns)).cumprod() - 1\n",
    "    std_dev_individual = np.std(all_test_returns) * 100\n",
    "    min_return = np.nanmin(all_test_returns) * 100 if all_test_returns else 0.0\n",
    "\n",
    "    plt.figure(figsize=(12, 6))\n",
    "    plt.plot(all_dates, cumulative_returns * 100)\n",
    "    plt.title('Cumulative Returns (Logistic Regression with Stop Loss)')\n",
    "    plt.xlabel('Date')\n",
    "    plt.ylabel('Cumulative Return (%)')\n",
    "    plt.grid(True)\n",
    "    plt.show()\n",
    "\n",
    "    print(f\"Final Cumulative Compounded Return: {cumulative_returns[-1]*100:.2f}%\")\n",
    "    print(f\"\\nOverall Test Accuracy : {accuracy_score(all_test_truths, all_test_preds)*100:.2f}%\")\n",
    "    print(f\"Overall Precision     : {precision_score(all_test_truths, all_test_preds, average='macro', zero_division=0)*100:.2f}%\")\n",
    "    print(f\"Overall Recall        : {recall_score(all_test_truths, all_test_preds, average='macro', zero_division=0)*100:.2f}%\")\n",
    "    print(f\"Overall F1 Score      : {f1_score(all_test_truths, all_test_preds, average='macro', zero_division=0)*100:.2f}%\")\n",
    "    print(f\"Overall ROC AUC       : {roc_auc_score(all_test_truths, np.vstack(all_test_probas), multi_class='ovo', average='macro')*100:.2f}%\")\n",
    "    print(f\"\\nAverage Fold Test Return : {np.mean(fold_mean_returns)*100:.5f}%\")\n",
    "    print(f\"\\nStandard Deviation of All Test Returns (Aggregated Daily): {std_dev_individual:.5f}%\")\n",
    "    print(f\"\\nMinimum Return (Aggregated Daily): {min_return:.5f}%\")\n",
    "    print(\"\\nOptimal Horizon Counts:\")\n",
    "    print(pd.Series(best_horizons_list).value_counts())\n",
    "    print(\"\\nTest Set Position Counts:\")\n",
    "    counts = pd.Series(all_test_preds).value_counts().sort_index()\n",
    "    print(f\"Neutral (0): {counts.get(0, 0)}\")\n",
    "    print(f\"Long (1): {counts.get(1, 0)}\")\n",
    "    print(f\"Short (2): {counts.get(2, 0)}\")\n",
    "\n",
    "else:\n",
    "    print(\"No valid test periods found\")"
   ]
  },
  {
   "cell_type": "code",
   "execution_count": 12,
   "id": "bd4893cb",
   "metadata": {},
   "outputs": [
    {
     "name": "stdout",
     "output_type": "stream",
     "text": [
      "\n",
      "Confusion Matrix:\n",
      "                    Pred Neutral (0)  Pred Long (1)  Pred Short (2)\n",
      "Actual Neutral (0)                 8            385             308\n",
      "Actual Long (1)                   69           5162            3194\n",
      "Actual Short (2)                  64           3885            4173\n",
      "\n",
      "Classification Report:\n",
      "              precision    recall  f1-score   support\n",
      "\n",
      " Neutral (0)       0.06      0.01      0.02       701\n",
      "    Long (1)       0.55      0.61      0.58      8425\n",
      "   Short (2)       0.54      0.51      0.53      8122\n",
      "\n",
      "    accuracy                           0.54     17248\n",
      "   macro avg       0.38      0.38      0.38     17248\n",
      "weighted avg       0.53      0.54      0.53     17248\n",
      "\n"
     ]
    }
   ],
   "source": [
    "# LR confusion matrix\n",
    "from sklearn.metrics import confusion_matrix, classification_report\n",
    "\n",
    "# Add this after your existing print statements\n",
    "print(\"\\nConfusion Matrix:\")\n",
    "cm = confusion_matrix(all_test_truths, all_test_preds)\n",
    "cm_df = pd.DataFrame(cm,\n",
    "                    index=['Actual Neutral (0)', 'Actual Long (1)', 'Actual Short (2)'],\n",
    "                    columns=['Pred Neutral (0)', 'Pred Long (1)', 'Pred Short (2)'])\n",
    "print(cm_df)\n",
    "\n",
    "print(\"\\nClassification Report:\")\n",
    "print(classification_report(all_test_truths, all_test_preds,\n",
    "                           target_names=['Neutral (0)', 'Long (1)', 'Short (2)']))"
   ]
  },
  {
   "cell_type": "code",
   "execution_count": 13,
   "id": "fc049e97",
   "metadata": {},
   "outputs": [
    {
     "name": "stdout",
     "output_type": "stream",
     "text": [
      "First test set date: 2007-01-30\n",
      "Last test set date: 2024-01-29\n"
     ]
    }
   ],
   "source": [
    "sorted_dates = sorted(all_dates)\n",
    "print(f\"First test set date: {sorted_dates[0].date()}\")\n",
    "print(f\"Last test set date: {sorted_dates[-1].date()}\")\n",
    "\n",
    "# So can see overall that our models have roughly 17 years worth of test observations  except the statistical model which doesn't trade in the past 2 years\n",
    "# This is important for the annual compounded return calculation in our tables"
   ]
  }
 ],
 "metadata": {
  "kernelspec": {
   "display_name": "Python 3",
   "language": "python",
   "name": "python3"
  },
  "language_info": {
   "codemirror_mode": {
    "name": "ipython",
    "version": 3
   },
   "file_extension": ".py",
   "mimetype": "text/x-python",
   "name": "python",
   "nbconvert_exporter": "python",
   "pygments_lexer": "ipython3",
   "version": "3.11.1"
  }
 },
 "nbformat": 4,
 "nbformat_minor": 5
}
